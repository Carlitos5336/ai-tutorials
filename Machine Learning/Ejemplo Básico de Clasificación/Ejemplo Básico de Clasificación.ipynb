{
 "cells": [
  {
   "cell_type": "markdown",
   "metadata": {
    "id": "DmX00sYorMwU"
   },
   "source": [
    "# Importar librerías"
   ]
  },
  {
   "cell_type": "code",
   "execution_count": 15,
   "metadata": {
    "id": "hN3VxejqnQYd"
   },
   "outputs": [],
   "source": [
    "import pandas as pd\n",
    "import numpy as np\n",
    "import matplotlib.pyplot as plt\n",
    "import seaborn as sns\n",
    "\n",
    "from sklearn.model_selection import train_test_split\n",
    "from sklearn.metrics import confusion_matrix, classification_report, accuracy_score\n",
    "\n",
    "from sklearn.preprocessing import LabelEncoder, MinMaxScaler\n",
    "from sklearn.neighbors import KNeighborsClassifier\n",
    "from sklearn.naive_bayes import GaussianNB\n",
    "from sklearn.ensemble import RandomForestClassifier\n",
    "\n",
    "from sklearn.utils import resample"
   ]
  },
  {
   "cell_type": "markdown",
   "metadata": {
    "id": "GqZp3pumrWIt"
   },
   "source": [
    "# Recolectar datos"
   ]
  },
  {
   "cell_type": "code",
   "execution_count": 16,
   "metadata": {
    "id": "QtW5v72KruoM"
   },
   "outputs": [],
   "source": [
    "df = pd.read_csv(\"pokemon.csv\")"
   ]
  },
  {
   "cell_type": "code",
   "execution_count": 17,
   "metadata": {
    "colab": {
     "base_uri": "https://localhost:8080/",
     "height": 574
    },
    "executionInfo": {
     "elapsed": 5,
     "status": "ok",
     "timestamp": 1674599350407,
     "user": {
      "displayName": "Carlos Bienvenido Ogando Montás (Carlitos5336)",
      "userId": "10505299496410393010"
     },
     "user_tz": 240
    },
    "id": "7LsoLGFs5jF-",
    "outputId": "fb49b38d-37bb-437e-b9fd-1be068ea1bea"
   },
   "outputs": [
    {
     "data": {
      "text/html": [
       "<div>\n",
       "<style scoped>\n",
       "    .dataframe tbody tr th:only-of-type {\n",
       "        vertical-align: middle;\n",
       "    }\n",
       "\n",
       "    .dataframe tbody tr th {\n",
       "        vertical-align: top;\n",
       "    }\n",
       "\n",
       "    .dataframe thead th {\n",
       "        text-align: right;\n",
       "    }\n",
       "</style>\n",
       "<table border=\"1\" class=\"dataframe\">\n",
       "  <thead>\n",
       "    <tr style=\"text-align: right;\">\n",
       "      <th></th>\n",
       "      <th>#</th>\n",
       "      <th>Name</th>\n",
       "      <th>Type 1</th>\n",
       "      <th>Type 2</th>\n",
       "      <th>Total</th>\n",
       "      <th>HP</th>\n",
       "      <th>Attack</th>\n",
       "      <th>Defense</th>\n",
       "      <th>Sp. Atk</th>\n",
       "      <th>Sp. Def</th>\n",
       "      <th>Speed</th>\n",
       "      <th>Generation</th>\n",
       "      <th>Legendary</th>\n",
       "    </tr>\n",
       "  </thead>\n",
       "  <tbody>\n",
       "    <tr>\n",
       "      <th>0</th>\n",
       "      <td>1</td>\n",
       "      <td>Bulbasaur</td>\n",
       "      <td>Grass</td>\n",
       "      <td>Poison</td>\n",
       "      <td>318</td>\n",
       "      <td>45</td>\n",
       "      <td>49</td>\n",
       "      <td>49</td>\n",
       "      <td>65</td>\n",
       "      <td>65</td>\n",
       "      <td>45</td>\n",
       "      <td>1</td>\n",
       "      <td>False</td>\n",
       "    </tr>\n",
       "    <tr>\n",
       "      <th>1</th>\n",
       "      <td>2</td>\n",
       "      <td>Ivysaur</td>\n",
       "      <td>Grass</td>\n",
       "      <td>Poison</td>\n",
       "      <td>405</td>\n",
       "      <td>60</td>\n",
       "      <td>62</td>\n",
       "      <td>63</td>\n",
       "      <td>80</td>\n",
       "      <td>80</td>\n",
       "      <td>60</td>\n",
       "      <td>1</td>\n",
       "      <td>False</td>\n",
       "    </tr>\n",
       "    <tr>\n",
       "      <th>2</th>\n",
       "      <td>3</td>\n",
       "      <td>Venusaur</td>\n",
       "      <td>Grass</td>\n",
       "      <td>Poison</td>\n",
       "      <td>525</td>\n",
       "      <td>80</td>\n",
       "      <td>82</td>\n",
       "      <td>83</td>\n",
       "      <td>100</td>\n",
       "      <td>100</td>\n",
       "      <td>80</td>\n",
       "      <td>1</td>\n",
       "      <td>False</td>\n",
       "    </tr>\n",
       "    <tr>\n",
       "      <th>3</th>\n",
       "      <td>3</td>\n",
       "      <td>VenusaurMega Venusaur</td>\n",
       "      <td>Grass</td>\n",
       "      <td>Poison</td>\n",
       "      <td>625</td>\n",
       "      <td>80</td>\n",
       "      <td>100</td>\n",
       "      <td>123</td>\n",
       "      <td>122</td>\n",
       "      <td>120</td>\n",
       "      <td>80</td>\n",
       "      <td>1</td>\n",
       "      <td>False</td>\n",
       "    </tr>\n",
       "    <tr>\n",
       "      <th>4</th>\n",
       "      <td>4</td>\n",
       "      <td>Charmander</td>\n",
       "      <td>Fire</td>\n",
       "      <td>NaN</td>\n",
       "      <td>309</td>\n",
       "      <td>39</td>\n",
       "      <td>52</td>\n",
       "      <td>43</td>\n",
       "      <td>60</td>\n",
       "      <td>50</td>\n",
       "      <td>65</td>\n",
       "      <td>1</td>\n",
       "      <td>False</td>\n",
       "    </tr>\n",
       "    <tr>\n",
       "      <th>...</th>\n",
       "      <td>...</td>\n",
       "      <td>...</td>\n",
       "      <td>...</td>\n",
       "      <td>...</td>\n",
       "      <td>...</td>\n",
       "      <td>...</td>\n",
       "      <td>...</td>\n",
       "      <td>...</td>\n",
       "      <td>...</td>\n",
       "      <td>...</td>\n",
       "      <td>...</td>\n",
       "      <td>...</td>\n",
       "      <td>...</td>\n",
       "    </tr>\n",
       "    <tr>\n",
       "      <th>795</th>\n",
       "      <td>719</td>\n",
       "      <td>Diancie</td>\n",
       "      <td>Rock</td>\n",
       "      <td>Fairy</td>\n",
       "      <td>600</td>\n",
       "      <td>50</td>\n",
       "      <td>100</td>\n",
       "      <td>150</td>\n",
       "      <td>100</td>\n",
       "      <td>150</td>\n",
       "      <td>50</td>\n",
       "      <td>6</td>\n",
       "      <td>True</td>\n",
       "    </tr>\n",
       "    <tr>\n",
       "      <th>796</th>\n",
       "      <td>719</td>\n",
       "      <td>DiancieMega Diancie</td>\n",
       "      <td>Rock</td>\n",
       "      <td>Fairy</td>\n",
       "      <td>700</td>\n",
       "      <td>50</td>\n",
       "      <td>160</td>\n",
       "      <td>110</td>\n",
       "      <td>160</td>\n",
       "      <td>110</td>\n",
       "      <td>110</td>\n",
       "      <td>6</td>\n",
       "      <td>True</td>\n",
       "    </tr>\n",
       "    <tr>\n",
       "      <th>797</th>\n",
       "      <td>720</td>\n",
       "      <td>HoopaHoopa Confined</td>\n",
       "      <td>Psychic</td>\n",
       "      <td>Ghost</td>\n",
       "      <td>600</td>\n",
       "      <td>80</td>\n",
       "      <td>110</td>\n",
       "      <td>60</td>\n",
       "      <td>150</td>\n",
       "      <td>130</td>\n",
       "      <td>70</td>\n",
       "      <td>6</td>\n",
       "      <td>True</td>\n",
       "    </tr>\n",
       "    <tr>\n",
       "      <th>798</th>\n",
       "      <td>720</td>\n",
       "      <td>HoopaHoopa Unbound</td>\n",
       "      <td>Psychic</td>\n",
       "      <td>Dark</td>\n",
       "      <td>680</td>\n",
       "      <td>80</td>\n",
       "      <td>160</td>\n",
       "      <td>60</td>\n",
       "      <td>170</td>\n",
       "      <td>130</td>\n",
       "      <td>80</td>\n",
       "      <td>6</td>\n",
       "      <td>True</td>\n",
       "    </tr>\n",
       "    <tr>\n",
       "      <th>799</th>\n",
       "      <td>721</td>\n",
       "      <td>Volcanion</td>\n",
       "      <td>Fire</td>\n",
       "      <td>Water</td>\n",
       "      <td>600</td>\n",
       "      <td>80</td>\n",
       "      <td>110</td>\n",
       "      <td>120</td>\n",
       "      <td>130</td>\n",
       "      <td>90</td>\n",
       "      <td>70</td>\n",
       "      <td>6</td>\n",
       "      <td>True</td>\n",
       "    </tr>\n",
       "  </tbody>\n",
       "</table>\n",
       "<p>800 rows × 13 columns</p>\n",
       "</div>"
      ],
      "text/plain": [
       "       #                   Name   Type 1  Type 2  Total  HP  Attack  Defense  \\\n",
       "0      1              Bulbasaur    Grass  Poison    318  45      49       49   \n",
       "1      2                Ivysaur    Grass  Poison    405  60      62       63   \n",
       "2      3               Venusaur    Grass  Poison    525  80      82       83   \n",
       "3      3  VenusaurMega Venusaur    Grass  Poison    625  80     100      123   \n",
       "4      4             Charmander     Fire     NaN    309  39      52       43   \n",
       "..   ...                    ...      ...     ...    ...  ..     ...      ...   \n",
       "795  719                Diancie     Rock   Fairy    600  50     100      150   \n",
       "796  719    DiancieMega Diancie     Rock   Fairy    700  50     160      110   \n",
       "797  720    HoopaHoopa Confined  Psychic   Ghost    600  80     110       60   \n",
       "798  720     HoopaHoopa Unbound  Psychic    Dark    680  80     160       60   \n",
       "799  721              Volcanion     Fire   Water    600  80     110      120   \n",
       "\n",
       "     Sp. Atk  Sp. Def  Speed  Generation  Legendary  \n",
       "0         65       65     45           1      False  \n",
       "1         80       80     60           1      False  \n",
       "2        100      100     80           1      False  \n",
       "3        122      120     80           1      False  \n",
       "4         60       50     65           1      False  \n",
       "..       ...      ...    ...         ...        ...  \n",
       "795      100      150     50           6       True  \n",
       "796      160      110    110           6       True  \n",
       "797      150      130     70           6       True  \n",
       "798      170      130     80           6       True  \n",
       "799      130       90     70           6       True  \n",
       "\n",
       "[800 rows x 13 columns]"
      ]
     },
     "execution_count": 17,
     "metadata": {},
     "output_type": "execute_result"
    }
   ],
   "source": [
    "df"
   ]
  },
  {
   "cell_type": "code",
   "execution_count": 18,
   "metadata": {
    "colab": {
     "base_uri": "https://localhost:8080/"
    },
    "executionInfo": {
     "elapsed": 189,
     "status": "ok",
     "timestamp": 1656509390563,
     "user": {
      "displayName": "Carlos Bienvenido Ogando Montás",
      "userId": "10505299496410393010"
     },
     "user_tz": 240
    },
    "id": "8FD2rQwEvscq",
    "outputId": "b1968626-d011-4600-86de-f0e8efd50306"
   },
   "outputs": [
    {
     "data": {
      "text/plain": [
       "Legendary\n",
       "False    735\n",
       "True      65\n",
       "Name: count, dtype: int64"
      ]
     },
     "execution_count": 18,
     "metadata": {},
     "output_type": "execute_result"
    }
   ],
   "source": [
    "df[\"Legendary\"].value_counts()"
   ]
  },
  {
   "cell_type": "markdown",
   "metadata": {
    "id": "f0q75CWsuw-o"
   },
   "source": [
    "# Preprocesar datos"
   ]
  },
  {
   "cell_type": "markdown",
   "metadata": {
    "id": "gZLO96vPvUJ3"
   },
   "source": [
    "##Limpieza de los datos"
   ]
  },
  {
   "cell_type": "code",
   "execution_count": 19,
   "metadata": {
    "id": "oSATbytRvAZ7"
   },
   "outputs": [],
   "source": [
    "df[\"Type 2\"] = df[\"Type 2\"].fillna(\"None\")"
   ]
  },
  {
   "cell_type": "markdown",
   "metadata": {
    "id": "TJnY9O3WvOTu"
   },
   "source": [
    "## Ingeniería de características"
   ]
  },
  {
   "cell_type": "code",
   "execution_count": 20,
   "metadata": {
    "colab": {
     "base_uri": "https://localhost:8080/"
    },
    "executionInfo": {
     "elapsed": 7,
     "status": "ok",
     "timestamp": 1656509127221,
     "user": {
      "displayName": "Carlos Bienvenido Ogando Montás",
      "userId": "10505299496410393010"
     },
     "user_tz": 240
    },
    "id": "vqebDk3b6pU7",
    "outputId": "482c97c6-7aa6-4247-e98d-57a372bad7f5"
   },
   "outputs": [
    {
     "data": {
      "text/plain": [
       "Generation\n",
       "1    166\n",
       "5    165\n",
       "3    160\n",
       "4    121\n",
       "2    106\n",
       "6     82\n",
       "Name: count, dtype: int64"
      ]
     },
     "execution_count": 20,
     "metadata": {},
     "output_type": "execute_result"
    }
   ],
   "source": [
    "df[\"Generation\"].value_counts()"
   ]
  },
  {
   "cell_type": "code",
   "execution_count": 21,
   "metadata": {
    "id": "ELGQnfNN6-G2"
   },
   "outputs": [],
   "source": [
    "sections = []\n",
    "for category in df[\"Generation\"].unique():\n",
    "  sections.append(resample(df[df['Generation'] == category], replace=False, random_state=2, n_samples=82))\n",
    "\n",
    "df = pd.concat(sections)"
   ]
  },
  {
   "cell_type": "code",
   "execution_count": 22,
   "metadata": {
    "executionInfo": {
     "elapsed": 149,
     "status": "ok",
     "timestamp": 1674607022939,
     "user": {
      "displayName": "Carlos Bienvenido Ogando Montás (Carlitos5336)",
      "userId": "10505299496410393010"
     },
     "user_tz": 240
    },
    "id": "3rovWMdHv744"
   },
   "outputs": [],
   "source": [
    "df = df[['Type 1', 'Type 2', 'HP', 'Attack', 'Defense',\n",
    "       'Sp. Atk', 'Sp. Def', 'Speed', 'Legendary', 'Generation']]"
   ]
  },
  {
   "cell_type": "code",
   "execution_count": 23,
   "metadata": {
    "colab": {
     "base_uri": "https://localhost:8080/",
     "height": 424
    },
    "executionInfo": {
     "elapsed": 6,
     "status": "ok",
     "timestamp": 1656509127222,
     "user": {
      "displayName": "Carlos Bienvenido Ogando Montás",
      "userId": "10505299496410393010"
     },
     "user_tz": 240
    },
    "id": "Q7d8XiUlvC1b",
    "outputId": "416932bb-5bcd-485b-a42e-7bc88f0622eb"
   },
   "outputs": [
    {
     "data": {
      "text/html": [
       "<div>\n",
       "<style scoped>\n",
       "    .dataframe tbody tr th:only-of-type {\n",
       "        vertical-align: middle;\n",
       "    }\n",
       "\n",
       "    .dataframe tbody tr th {\n",
       "        vertical-align: top;\n",
       "    }\n",
       "\n",
       "    .dataframe thead th {\n",
       "        text-align: right;\n",
       "    }\n",
       "</style>\n",
       "<table border=\"1\" class=\"dataframe\">\n",
       "  <thead>\n",
       "    <tr style=\"text-align: right;\">\n",
       "      <th></th>\n",
       "      <th>Type 1</th>\n",
       "      <th>Type 2</th>\n",
       "      <th>HP</th>\n",
       "      <th>Attack</th>\n",
       "      <th>Defense</th>\n",
       "      <th>Sp. Atk</th>\n",
       "      <th>Sp. Def</th>\n",
       "      <th>Speed</th>\n",
       "      <th>Legendary</th>\n",
       "      <th>Generation</th>\n",
       "    </tr>\n",
       "  </thead>\n",
       "  <tbody>\n",
       "    <tr>\n",
       "      <th>42</th>\n",
       "      <td>Fire</td>\n",
       "      <td>None</td>\n",
       "      <td>38</td>\n",
       "      <td>41</td>\n",
       "      <td>40</td>\n",
       "      <td>50</td>\n",
       "      <td>65</td>\n",
       "      <td>65</td>\n",
       "      <td>False</td>\n",
       "      <td>1</td>\n",
       "    </tr>\n",
       "    <tr>\n",
       "      <th>23</th>\n",
       "      <td>Normal</td>\n",
       "      <td>Flying</td>\n",
       "      <td>83</td>\n",
       "      <td>80</td>\n",
       "      <td>80</td>\n",
       "      <td>135</td>\n",
       "      <td>80</td>\n",
       "      <td>121</td>\n",
       "      <td>False</td>\n",
       "      <td>1</td>\n",
       "    </tr>\n",
       "    <tr>\n",
       "      <th>44</th>\n",
       "      <td>Normal</td>\n",
       "      <td>Fairy</td>\n",
       "      <td>115</td>\n",
       "      <td>45</td>\n",
       "      <td>20</td>\n",
       "      <td>45</td>\n",
       "      <td>25</td>\n",
       "      <td>20</td>\n",
       "      <td>False</td>\n",
       "      <td>1</td>\n",
       "    </tr>\n",
       "    <tr>\n",
       "      <th>156</th>\n",
       "      <td>Ice</td>\n",
       "      <td>Flying</td>\n",
       "      <td>90</td>\n",
       "      <td>85</td>\n",
       "      <td>100</td>\n",
       "      <td>95</td>\n",
       "      <td>125</td>\n",
       "      <td>85</td>\n",
       "      <td>True</td>\n",
       "      <td>1</td>\n",
       "    </tr>\n",
       "    <tr>\n",
       "      <th>13</th>\n",
       "      <td>Bug</td>\n",
       "      <td>None</td>\n",
       "      <td>45</td>\n",
       "      <td>30</td>\n",
       "      <td>35</td>\n",
       "      <td>20</td>\n",
       "      <td>20</td>\n",
       "      <td>45</td>\n",
       "      <td>False</td>\n",
       "      <td>1</td>\n",
       "    </tr>\n",
       "    <tr>\n",
       "      <th>...</th>\n",
       "      <td>...</td>\n",
       "      <td>...</td>\n",
       "      <td>...</td>\n",
       "      <td>...</td>\n",
       "      <td>...</td>\n",
       "      <td>...</td>\n",
       "      <td>...</td>\n",
       "      <td>...</td>\n",
       "      <td>...</td>\n",
       "      <td>...</td>\n",
       "    </tr>\n",
       "    <tr>\n",
       "      <th>761</th>\n",
       "      <td>Poison</td>\n",
       "      <td>Dragon</td>\n",
       "      <td>65</td>\n",
       "      <td>75</td>\n",
       "      <td>90</td>\n",
       "      <td>97</td>\n",
       "      <td>123</td>\n",
       "      <td>44</td>\n",
       "      <td>False</td>\n",
       "      <td>6</td>\n",
       "    </tr>\n",
       "    <tr>\n",
       "      <th>740</th>\n",
       "      <td>Grass</td>\n",
       "      <td>None</td>\n",
       "      <td>66</td>\n",
       "      <td>65</td>\n",
       "      <td>48</td>\n",
       "      <td>62</td>\n",
       "      <td>57</td>\n",
       "      <td>52</td>\n",
       "      <td>False</td>\n",
       "      <td>6</td>\n",
       "    </tr>\n",
       "    <tr>\n",
       "      <th>790</th>\n",
       "      <td>Flying</td>\n",
       "      <td>Dragon</td>\n",
       "      <td>40</td>\n",
       "      <td>30</td>\n",
       "      <td>35</td>\n",
       "      <td>45</td>\n",
       "      <td>40</td>\n",
       "      <td>55</td>\n",
       "      <td>False</td>\n",
       "      <td>6</td>\n",
       "    </tr>\n",
       "    <tr>\n",
       "      <th>733</th>\n",
       "      <td>Bug</td>\n",
       "      <td>None</td>\n",
       "      <td>45</td>\n",
       "      <td>22</td>\n",
       "      <td>60</td>\n",
       "      <td>27</td>\n",
       "      <td>30</td>\n",
       "      <td>29</td>\n",
       "      <td>False</td>\n",
       "      <td>6</td>\n",
       "    </tr>\n",
       "    <tr>\n",
       "      <th>758</th>\n",
       "      <td>Rock</td>\n",
       "      <td>Water</td>\n",
       "      <td>42</td>\n",
       "      <td>52</td>\n",
       "      <td>67</td>\n",
       "      <td>39</td>\n",
       "      <td>56</td>\n",
       "      <td>50</td>\n",
       "      <td>False</td>\n",
       "      <td>6</td>\n",
       "    </tr>\n",
       "  </tbody>\n",
       "</table>\n",
       "<p>492 rows × 10 columns</p>\n",
       "</div>"
      ],
      "text/plain": [
       "     Type 1  Type 2   HP  Attack  Defense  Sp. Atk  Sp. Def  Speed  Legendary  \\\n",
       "42     Fire    None   38      41       40       50       65     65      False   \n",
       "23   Normal  Flying   83      80       80      135       80    121      False   \n",
       "44   Normal   Fairy  115      45       20       45       25     20      False   \n",
       "156     Ice  Flying   90      85      100       95      125     85       True   \n",
       "13      Bug    None   45      30       35       20       20     45      False   \n",
       "..      ...     ...  ...     ...      ...      ...      ...    ...        ...   \n",
       "761  Poison  Dragon   65      75       90       97      123     44      False   \n",
       "740   Grass    None   66      65       48       62       57     52      False   \n",
       "790  Flying  Dragon   40      30       35       45       40     55      False   \n",
       "733     Bug    None   45      22       60       27       30     29      False   \n",
       "758    Rock   Water   42      52       67       39       56     50      False   \n",
       "\n",
       "     Generation  \n",
       "42            1  \n",
       "23            1  \n",
       "44            1  \n",
       "156           1  \n",
       "13            1  \n",
       "..          ...  \n",
       "761           6  \n",
       "740           6  \n",
       "790           6  \n",
       "733           6  \n",
       "758           6  \n",
       "\n",
       "[492 rows x 10 columns]"
      ]
     },
     "execution_count": 23,
     "metadata": {},
     "output_type": "execute_result"
    }
   ],
   "source": [
    "df"
   ]
  },
  {
   "cell_type": "markdown",
   "metadata": {
    "id": "PxeokbSZvH89"
   },
   "source": [
    "## Codificación"
   ]
  },
  {
   "cell_type": "code",
   "execution_count": 24,
   "metadata": {
    "executionInfo": {
     "elapsed": 156,
     "status": "ok",
     "timestamp": 1674608018577,
     "user": {
      "displayName": "Carlos Bienvenido Ogando Montás (Carlitos5336)",
      "userId": "10505299496410393010"
     },
     "user_tz": 240
    },
    "id": "EO48vwqy75oQ"
   },
   "outputs": [],
   "source": [
    "x = df.iloc[:, :-1]\n",
    "y = df.iloc[:, -1]"
   ]
  },
  {
   "cell_type": "code",
   "execution_count": 25,
   "metadata": {
    "executionInfo": {
     "elapsed": 12,
     "status": "ok",
     "timestamp": 1674608019093,
     "user": {
      "displayName": "Carlos Bienvenido Ogando Montás (Carlitos5336)",
      "userId": "10505299496410393010"
     },
     "user_tz": 240
    },
    "id": "yxrXNh2d71HX"
   },
   "outputs": [],
   "source": [
    "numerical_columns = list(x.columns[(x.dtypes == \"float64\") | (x.dtypes == \"int64\")])\n",
    "categorical_columns = list(x.columns[(x.dtypes == \"object\") | (x.dtypes == \"bool\")])\n",
    "all_columns = x.columns"
   ]
  },
  {
   "cell_type": "code",
   "execution_count": 26,
   "metadata": {
    "executionInfo": {
     "elapsed": 148,
     "status": "ok",
     "timestamp": 1674607048872,
     "user": {
      "displayName": "Carlos Bienvenido Ogando Montás (Carlitos5336)",
      "userId": "10505299496410393010"
     },
     "user_tz": 240
    },
    "id": "RCMNhzyFpldX"
   },
   "outputs": [],
   "source": [
    "# Codificación cruda\n",
    "\n",
    "#raw_encodings = {}\n",
    "\n",
    "#for col in categorical_columns:\n",
    "  #dict_ = {val: i for i, val in enumerate(list(x[col].unique()))}\n",
    "  #raw_encodings[col] = dict_\n",
    "  #x[col] = x[col].map(dict_)\n"
   ]
  },
  {
   "cell_type": "code",
   "execution_count": 27,
   "metadata": {
    "executionInfo": {
     "elapsed": 214,
     "status": "ok",
     "timestamp": 1674607593953,
     "user": {
      "displayName": "Carlos Bienvenido Ogando Montás (Carlitos5336)",
      "userId": "10505299496410393010"
     },
     "user_tz": 240
    },
    "id": "AUNBEUyix8yD"
   },
   "outputs": [],
   "source": [
    "# Codificación con scikit-learn\n",
    "\n",
    "encodings = {col: LabelEncoder() for col in categorical_columns}\n",
    "\n",
    "for col in categorical_columns:\n",
    "  x[col] = encodings[col].fit_transform(x[col])\n"
   ]
  },
  {
   "cell_type": "code",
   "execution_count": 28,
   "metadata": {
    "colab": {
     "base_uri": "https://localhost:8080/",
     "height": 326
    },
    "executionInfo": {
     "elapsed": 1521,
     "status": "ok",
     "timestamp": 1674608032415,
     "user": {
      "displayName": "Carlos Bienvenido Ogando Montás (Carlitos5336)",
      "userId": "10505299496410393010"
     },
     "user_tz": 240
    },
    "id": "EFmeUGB6yoIZ",
    "outputId": "940c1de0-aeac-4c5a-a4d9-d12ea1c9f0b0"
   },
   "outputs": [
    {
     "data": {
      "text/plain": [
       "<Axes: xlabel='Type 1', ylabel='Speed'>"
      ]
     },
     "execution_count": 28,
     "metadata": {},
     "output_type": "execute_result"
    },
    {
     "data": {
      "image/png": "[encoded data removed]",
      "text/plain": [
       "<Figure size 640x480 with 1 Axes>"
      ]
     },
     "metadata": {},
     "output_type": "display_data"
    }
   ],
   "source": [
    "plt.xticks(rotation=90)\n",
    "sns.lineplot(data=df, x=\"Type 1\", y=\"Speed\")"
   ]
  },
  {
   "cell_type": "code",
   "execution_count": 29,
   "metadata": {
    "id": "Ervf19r5-b3g"
   },
   "outputs": [],
   "source": [
    "minmaxsc = MinMaxScaler()\n",
    "x = minmaxsc.fit_transform(x)"
   ]
  },
  {
   "cell_type": "markdown",
   "metadata": {
    "id": "0C2D_5F6-SoP"
   },
   "source": [
    "#Entrenamiento + Evaluación"
   ]
  },
  {
   "cell_type": "code",
   "execution_count": 30,
   "metadata": {
    "id": "OThvMG_i7C3D"
   },
   "outputs": [],
   "source": [
    "X_train, X_test, y_train, y_test = train_test_split(x, y, random_state=2, test_size=0.2)"
   ]
  },
  {
   "cell_type": "code",
   "execution_count": 31,
   "metadata": {
    "colab": {
     "base_uri": "https://localhost:8080/"
    },
    "executionInfo": {
     "elapsed": 4,
     "status": "ok",
     "timestamp": 1656509128139,
     "user": {
      "displayName": "Carlos Bienvenido Ogando Montás",
      "userId": "10505299496410393010"
     },
     "user_tz": 240
    },
    "id": "qOo9mwrbAx-Q",
    "outputId": "81658de8-69c9-45bc-d5ea-cdfddf20e353"
   },
   "outputs": [
    {
     "name": "stdout",
     "output_type": "stream",
     "text": [
      "              precision    recall  f1-score   support\n",
      "\n",
      "           1       0.10      0.18      0.13        17\n",
      "           2       0.06      0.08      0.07        13\n",
      "           3       0.38      0.29      0.32        21\n",
      "           4       0.00      0.00      0.00        17\n",
      "           5       0.33      0.31      0.32        13\n",
      "           6       0.44      0.39      0.41        18\n",
      "\n",
      "    accuracy                           0.21        99\n",
      "   macro avg       0.22      0.21      0.21        99\n",
      "weighted avg       0.23      0.21      0.22        99\n",
      "\n",
      "[[3 5 2 3 2 2]\n",
      " [5 1 3 1 1 2]\n",
      " [6 3 6 3 2 1]\n",
      " [7 3 2 0 2 3]\n",
      " [4 2 2 0 4 1]\n",
      " [4 3 1 2 1 7]]\n",
      "0.21212121212121213\n"
     ]
    }
   ],
   "source": [
    "knn_clf = KNeighborsClassifier(n_neighbors=7)\n",
    "knn_clf.fit(X_train, y_train)\n",
    "\n",
    "y_pred = knn_clf.predict(X_test)\n",
    "\n",
    "print(classification_report(y_test, y_pred))\n",
    "print(confusion_matrix(y_test, y_pred))\n",
    "print(accuracy_score(y_test, y_pred))"
   ]
  },
  {
   "cell_type": "code",
   "execution_count": 32,
   "metadata": {
    "colab": {
     "base_uri": "https://localhost:8080/"
    },
    "executionInfo": {
     "elapsed": 12,
     "status": "ok",
     "timestamp": 1656509128433,
     "user": {
      "displayName": "Carlos Bienvenido Ogando Montás",
      "userId": "10505299496410393010"
     },
     "user_tz": 240
    },
    "id": "bujLEh1oHPXi",
    "outputId": "30a0099b-50a2-4817-8d63-f7ae592f51ca"
   },
   "outputs": [
    {
     "name": "stdout",
     "output_type": "stream",
     "text": [
      "              precision    recall  f1-score   support\n",
      "\n",
      "           1       0.33      0.24      0.28        17\n",
      "           2       0.26      0.38      0.31        13\n",
      "           3       0.20      0.14      0.17        21\n",
      "           4       0.19      0.18      0.18        17\n",
      "           5       0.37      0.54      0.44        13\n",
      "           6       0.39      0.39      0.39        18\n",
      "\n",
      "    accuracy                           0.29        99\n",
      "   macro avg       0.29      0.31      0.29        99\n",
      "weighted avg       0.29      0.29      0.28        99\n",
      "\n",
      "[[4 2 4 2 3 2]\n",
      " [1 5 1 1 1 4]\n",
      " [2 5 3 3 6 2]\n",
      " [2 4 4 3 1 3]\n",
      " [1 1 1 3 7 0]\n",
      " [2 2 2 4 1 7]]\n",
      "0.29292929292929293\n"
     ]
    }
   ],
   "source": [
    "rfc_clf = RandomForestClassifier()\n",
    "rfc_clf.fit(X_train, y_train)\n",
    "\n",
    "y_pred = rfc_clf.predict(X_test)\n",
    "\n",
    "print(classification_report(y_test, y_pred))\n",
    "print(confusion_matrix(y_test, y_pred))\n",
    "print(accuracy_score(y_test, y_pred))"
   ]
  },
  {
   "cell_type": "code",
   "execution_count": 33,
   "metadata": {
    "colab": {
     "base_uri": "https://localhost:8080/"
    },
    "executionInfo": {
     "elapsed": 11,
     "status": "ok",
     "timestamp": 1656509128433,
     "user": {
      "displayName": "Carlos Bienvenido Ogando Montás",
      "userId": "10505299496410393010"
     },
     "user_tz": 240
    },
    "id": "5u1VC_JHHwKo",
    "outputId": "e11847fe-31df-4192-fb8f-74bfc30e903c"
   },
   "outputs": [
    {
     "name": "stdout",
     "output_type": "stream",
     "text": [
      "              precision    recall  f1-score   support\n",
      "\n",
      "           1       0.28      0.65      0.39        17\n",
      "           2       0.25      0.23      0.24        13\n",
      "           3       0.09      0.05      0.06        21\n",
      "           4       0.00      0.00      0.00        17\n",
      "           5       0.19      0.23      0.21        13\n",
      "           6       0.13      0.11      0.12        18\n",
      "\n",
      "    accuracy                           0.20        99\n",
      "   macro avg       0.16      0.21      0.17        99\n",
      "weighted avg       0.15      0.20      0.16        99\n",
      "\n",
      "[[11  2  1  0  3  0]\n",
      " [ 3  3  1  0  3  3]\n",
      " [ 8  2  1  2  4  4]\n",
      " [ 7  1  3  0  2  4]\n",
      " [ 5  2  1  0  3  2]\n",
      " [ 5  2  4  4  1  2]]\n",
      "0.20202020202020202\n"
     ]
    }
   ],
   "source": [
    "gnb_clf = GaussianNB()\n",
    "gnb_clf.fit(X_train, y_train)\n",
    "\n",
    "y_pred = gnb_clf.predict(X_test)\n",
    "\n",
    "print(classification_report(y_test, y_pred))\n",
    "print(confusion_matrix(y_test, y_pred))\n",
    "print(accuracy_score(y_test, y_pred))"
   ]
  },
  {
   "cell_type": "markdown",
   "metadata": {
    "id": "RRtaLkqd_xy1"
   },
   "source": [
    "#Predicciones"
   ]
  },
  {
   "cell_type": "code",
   "execution_count": 34,
   "metadata": {
    "id": "INNDO5EUIVvs"
   },
   "outputs": [],
   "source": [
    "new_pokemons = pd.DataFrame([\n",
    "                             [\n",
    "                              \"Rock\",\t\"Fairy\",\t60,\t110,\t140,\t90,\t120,\t50,\tTrue\n",
    "                             ],\n",
    "                             [\n",
    "                              \"Water\", \"None\",\t45,\t45,\t45,\t50,\t60,\t55,\tFalse\n",
    "                             ],\n",
    "                             [\n",
    "                              \"Dragon\",\t\"Flying\",\t105,\t140,\t80,\t160,\t100,\t95,\tTrue\n",
    "                             ],\n",
    "                             [\n",
    "                              \"Dragon\",\t\"Psychic\",\t80,\t90,\t80,\t130,\t110,\t110,\tFalse\n",
    "                             ]\n",
    "], columns=all_columns)"
   ]
  },
  {
   "cell_type": "code",
   "execution_count": 35,
   "metadata": {
    "colab": {
     "base_uri": "https://localhost:8080/",
     "height": 175
    },
    "executionInfo": {
     "elapsed": 7,
     "status": "ok",
     "timestamp": 1656509128662,
     "user": {
      "displayName": "Carlos Bienvenido Ogando Montás",
      "userId": "10505299496410393010"
     },
     "user_tz": 240
    },
    "id": "OBiscZ4tMKwP",
    "outputId": "1e6153eb-6b8f-43ce-9b5f-b990a00784aa"
   },
   "outputs": [
    {
     "data": {
      "text/html": [
       "<div>\n",
       "<style scoped>\n",
       "    .dataframe tbody tr th:only-of-type {\n",
       "        vertical-align: middle;\n",
       "    }\n",
       "\n",
       "    .dataframe tbody tr th {\n",
       "        vertical-align: top;\n",
       "    }\n",
       "\n",
       "    .dataframe thead th {\n",
       "        text-align: right;\n",
       "    }\n",
       "</style>\n",
       "<table border=\"1\" class=\"dataframe\">\n",
       "  <thead>\n",
       "    <tr style=\"text-align: right;\">\n",
       "      <th></th>\n",
       "      <th>Type 1</th>\n",
       "      <th>Type 2</th>\n",
       "      <th>HP</th>\n",
       "      <th>Attack</th>\n",
       "      <th>Defense</th>\n",
       "      <th>Sp. Atk</th>\n",
       "      <th>Sp. Def</th>\n",
       "      <th>Speed</th>\n",
       "      <th>Legendary</th>\n",
       "    </tr>\n",
       "  </thead>\n",
       "  <tbody>\n",
       "    <tr>\n",
       "      <th>0</th>\n",
       "      <td>Rock</td>\n",
       "      <td>Fairy</td>\n",
       "      <td>60</td>\n",
       "      <td>110</td>\n",
       "      <td>140</td>\n",
       "      <td>90</td>\n",
       "      <td>120</td>\n",
       "      <td>50</td>\n",
       "      <td>True</td>\n",
       "    </tr>\n",
       "    <tr>\n",
       "      <th>1</th>\n",
       "      <td>Water</td>\n",
       "      <td>None</td>\n",
       "      <td>45</td>\n",
       "      <td>45</td>\n",
       "      <td>45</td>\n",
       "      <td>50</td>\n",
       "      <td>60</td>\n",
       "      <td>55</td>\n",
       "      <td>False</td>\n",
       "    </tr>\n",
       "    <tr>\n",
       "      <th>2</th>\n",
       "      <td>Dragon</td>\n",
       "      <td>Flying</td>\n",
       "      <td>105</td>\n",
       "      <td>140</td>\n",
       "      <td>80</td>\n",
       "      <td>160</td>\n",
       "      <td>100</td>\n",
       "      <td>95</td>\n",
       "      <td>True</td>\n",
       "    </tr>\n",
       "    <tr>\n",
       "      <th>3</th>\n",
       "      <td>Dragon</td>\n",
       "      <td>Psychic</td>\n",
       "      <td>80</td>\n",
       "      <td>90</td>\n",
       "      <td>80</td>\n",
       "      <td>130</td>\n",
       "      <td>110</td>\n",
       "      <td>110</td>\n",
       "      <td>False</td>\n",
       "    </tr>\n",
       "  </tbody>\n",
       "</table>\n",
       "</div>"
      ],
      "text/plain": [
       "   Type 1   Type 2   HP  Attack  Defense  Sp. Atk  Sp. Def  Speed  Legendary\n",
       "0    Rock    Fairy   60     110      140       90      120     50       True\n",
       "1   Water     None   45      45       45       50       60     55      False\n",
       "2  Dragon   Flying  105     140       80      160      100     95       True\n",
       "3  Dragon  Psychic   80      90       80      130      110    110      False"
      ]
     },
     "execution_count": 35,
     "metadata": {},
     "output_type": "execute_result"
    }
   ],
   "source": [
    "new_pokemons"
   ]
  },
  {
   "cell_type": "code",
   "execution_count": 36,
   "metadata": {
    "id": "5pNq_jntLVyf"
   },
   "outputs": [],
   "source": [
    "for feature, encoding in encodings.items():\n",
    "  dict_ = {val: idx for idx, val in enumerate(encoding.classes_)}\n",
    "  new_pokemons[feature] = new_pokemons[feature].apply(lambda x: dict_.get(x))"
   ]
  },
  {
   "cell_type": "code",
   "execution_count": 37,
   "metadata": {
    "id": "2DDXg3-sMulR"
   },
   "outputs": [],
   "source": [
    "new_pokemons = minmaxsc.fit_transform(new_pokemons)"
   ]
  },
  {
   "cell_type": "code",
   "execution_count": 38,
   "metadata": {
    "colab": {
     "base_uri": "https://localhost:8080/"
    },
    "executionInfo": {
     "elapsed": 5,
     "status": "ok",
     "timestamp": 1656509128662,
     "user": {
      "displayName": "Carlos Bienvenido Ogando Montás",
      "userId": "10505299496410393010"
     },
     "user_tz": 240
    },
    "id": "Sdz6Y2SQNDNH",
    "outputId": "3771ac3e-bbca-4a8b-afa2-9cecaa37ebd4"
   },
   "outputs": [
    {
     "name": "stdout",
     "output_type": "stream",
     "text": [
      "[3 3 5 1]\n"
     ]
    }
   ],
   "source": [
    "print(knn_clf.predict(new_pokemons))"
   ]
  }
 ],
 "metadata": {
  "colab": {
   "authorship_tag": "ABX9TyMb4jXvHsnt4svwoATDc/rC",
   "provenance": []
  },
  "kernelspec": {
   "display_name": "sandbox",
   "language": "python",
   "name": "python3"
  },
  "language_info": {
   "codemirror_mode": {
    "name": "ipython",
    "version": 3
   },
   "file_extension": ".py",
   "mimetype": "text/x-python",
   "name": "python",
   "nbconvert_exporter": "python",
   "pygments_lexer": "ipython3",
   "version": "3.11.7"
  }
 },
 "nbformat": 4,
 "nbformat_minor": 0
}
