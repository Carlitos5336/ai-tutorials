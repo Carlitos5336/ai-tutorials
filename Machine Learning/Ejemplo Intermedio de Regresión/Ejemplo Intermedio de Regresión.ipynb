{
 "cells": [
  {
   "cell_type": "markdown",
   "metadata": {
    "id": "DmX00sYorMwU"
   },
   "source": [
    "# Importar librerías"
   ]
  },
  {
   "cell_type": "code",
   "execution_count": 1,
   "metadata": {
    "executionInfo": {
     "elapsed": 2900,
     "status": "ok",
     "timestamp": 1692305028667,
     "user": {
      "displayName": "Carlos Bienvenido Ogando Montás (Carlitos5336)",
      "userId": "10505299496410393010"
     },
     "user_tz": 240
    },
    "id": "hN3VxejqnQYd"
   },
   "outputs": [],
   "source": [
    "import pandas as pd\n",
    "import numpy as np\n",
    "import matplotlib.pyplot as plt\n",
    "import seaborn as sns\n",
    "\n",
    "from sklearn.pipeline import make_pipeline\n",
    "from sklearn.preprocessing import OneHotEncoder, StandardScaler\n",
    "from sklearn.compose import make_column_transformer\n",
    "from sklearn.model_selection import train_test_split, cross_val_score\n",
    "\n",
    "from sklearn.neighbors import KNeighborsRegressor\n",
    "from sklearn.ensemble import RandomForestRegressor\n",
    "from sklearn.svm import SVR\n",
    "from sklearn.linear_model import LinearRegression, Ridge, Lasso, BayesianRidge\n",
    "\n",
    "from sklearn.utils import resample\n",
    "\n",
    "import pickle"
   ]
  },
  {
   "cell_type": "markdown",
   "metadata": {
    "id": "GqZp3pumrWIt"
   },
   "source": [
    "# Recolectar datos"
   ]
  },
  {
   "cell_type": "code",
   "execution_count": 2,
   "metadata": {
    "executionInfo": {
     "elapsed": 26440,
     "status": "ok",
     "timestamp": 1692305074763,
     "user": {
      "displayName": "Carlos Bienvenido Ogando Montás (Carlitos5336)",
      "userId": "10505299496410393010"
     },
     "user_tz": 240
    },
    "id": "QtW5v72KruoM"
   },
   "outputs": [],
   "source": [
    "df = pd.read_csv(\"vehicles.csv\")"
   ]
  },
  {
   "cell_type": "code",
   "execution_count": 3,
   "metadata": {
    "colab": {
     "base_uri": "https://localhost:8080/",
     "height": 738
    },
    "executionInfo": {
     "elapsed": 503,
     "status": "ok",
     "timestamp": 1692305075264,
     "user": {
      "displayName": "Carlos Bienvenido Ogando Montás (Carlitos5336)",
      "userId": "10505299496410393010"
     },
     "user_tz": 240
    },
    "id": "8FD2rQwEvscq",
    "outputId": "243f36e8-b389-4bf4-c406-1ef55e84539c"
   },
   "outputs": [
    {
     "data": {
      "text/html": [
       "<div>\n",
       "<style scoped>\n",
       "    .dataframe tbody tr th:only-of-type {\n",
       "        vertical-align: middle;\n",
       "    }\n",
       "\n",
       "    .dataframe tbody tr th {\n",
       "        vertical-align: top;\n",
       "    }\n",
       "\n",
       "    .dataframe thead th {\n",
       "        text-align: right;\n",
       "    }\n",
       "</style>\n",
       "<table border=\"1\" class=\"dataframe\">\n",
       "  <thead>\n",
       "    <tr style=\"text-align: right;\">\n",
       "      <th></th>\n",
       "      <th>Unnamed: 0</th>\n",
       "      <th>id</th>\n",
       "      <th>url</th>\n",
       "      <th>region</th>\n",
       "      <th>region_url</th>\n",
       "      <th>price</th>\n",
       "      <th>year</th>\n",
       "      <th>manufacturer</th>\n",
       "      <th>model</th>\n",
       "      <th>condition</th>\n",
       "      <th>...</th>\n",
       "      <th>size</th>\n",
       "      <th>type</th>\n",
       "      <th>paint_color</th>\n",
       "      <th>image_url</th>\n",
       "      <th>description</th>\n",
       "      <th>county</th>\n",
       "      <th>state</th>\n",
       "      <th>lat</th>\n",
       "      <th>long</th>\n",
       "      <th>posting_date</th>\n",
       "    </tr>\n",
       "  </thead>\n",
       "  <tbody>\n",
       "    <tr>\n",
       "      <th>0</th>\n",
       "      <td>0</td>\n",
       "      <td>7313014409</td>\n",
       "      <td>https://cincinnati.craigslist.org/cto/d/hamilt...</td>\n",
       "      <td>cincinnati</td>\n",
       "      <td>https://cincinnati.craigslist.org</td>\n",
       "      <td>4350</td>\n",
       "      <td>2004.0</td>\n",
       "      <td>ford</td>\n",
       "      <td>f-150</td>\n",
       "      <td>good</td>\n",
       "      <td>...</td>\n",
       "      <td>full-size</td>\n",
       "      <td>truck</td>\n",
       "      <td>grey</td>\n",
       "      <td>https://images.craigslist.org/00T0T_icF3NMyUsf...</td>\n",
       "      <td>Rust Free Rockers !!...4.6..v8 ...Aggressive O...</td>\n",
       "      <td>NaN</td>\n",
       "      <td>oh</td>\n",
       "      <td>39.375200</td>\n",
       "      <td>-84.549300</td>\n",
       "      <td>2021-04-26T16:33:54-0400</td>\n",
       "    </tr>\n",
       "    <tr>\n",
       "      <th>1</th>\n",
       "      <td>1</td>\n",
       "      <td>7301652750</td>\n",
       "      <td>https://desmoines.craigslist.org/cto/d/des-moi...</td>\n",
       "      <td>des moines</td>\n",
       "      <td>https://desmoines.craigslist.org</td>\n",
       "      <td>4000</td>\n",
       "      <td>2008.0</td>\n",
       "      <td>ford</td>\n",
       "      <td>taurus x</td>\n",
       "      <td>excellent</td>\n",
       "      <td>...</td>\n",
       "      <td>NaN</td>\n",
       "      <td>SUV</td>\n",
       "      <td>NaN</td>\n",
       "      <td>https://images.craigslist.org/00i0i_2w0modFyZC...</td>\n",
       "      <td>2008 Ford Taurus X 3.5 motor 188k highway mile...</td>\n",
       "      <td>NaN</td>\n",
       "      <td>ia</td>\n",
       "      <td>41.625500</td>\n",
       "      <td>-93.673600</td>\n",
       "      <td>2021-04-04T09:57:38-0500</td>\n",
       "    </tr>\n",
       "    <tr>\n",
       "      <th>2</th>\n",
       "      <td>2</td>\n",
       "      <td>7307910032</td>\n",
       "      <td>https://bend.craigslist.org/ctd/d/portland-201...</td>\n",
       "      <td>bend</td>\n",
       "      <td>https://bend.craigslist.org</td>\n",
       "      <td>0</td>\n",
       "      <td>2011.0</td>\n",
       "      <td>chevrolet</td>\n",
       "      <td>silverado 1500 crew c</td>\n",
       "      <td>NaN</td>\n",
       "      <td>...</td>\n",
       "      <td>NaN</td>\n",
       "      <td>truck</td>\n",
       "      <td>NaN</td>\n",
       "      <td>https://images.craigslist.org/00D0D_4gcINez5Os...</td>\n",
       "      <td>2011 Chevrolet Silverado 1500 Crew Cab LT Pick...</td>\n",
       "      <td>NaN</td>\n",
       "      <td>or</td>\n",
       "      <td>45.425821</td>\n",
       "      <td>-122.633035</td>\n",
       "      <td>2021-04-16T13:11:16-0700</td>\n",
       "    </tr>\n",
       "    <tr>\n",
       "      <th>3</th>\n",
       "      <td>3</td>\n",
       "      <td>7316694316</td>\n",
       "      <td>https://detroit.craigslist.org/okl/ctd/d/flint...</td>\n",
       "      <td>detroit metro</td>\n",
       "      <td>https://detroit.craigslist.org</td>\n",
       "      <td>22995</td>\n",
       "      <td>2007.0</td>\n",
       "      <td>ram</td>\n",
       "      <td>3500</td>\n",
       "      <td>good</td>\n",
       "      <td>...</td>\n",
       "      <td>full-size</td>\n",
       "      <td>truck</td>\n",
       "      <td>blue</td>\n",
       "      <td>https://images.craigslist.org/00t0t_bz7qoSQwqF...</td>\n",
       "      <td>2007 Dodge Ram 3500 Laramie Mega Cab 4WD DRW -...</td>\n",
       "      <td>NaN</td>\n",
       "      <td>mi</td>\n",
       "      <td>43.050600</td>\n",
       "      <td>-83.615120</td>\n",
       "      <td>2021-05-04T10:16:37-0400</td>\n",
       "    </tr>\n",
       "    <tr>\n",
       "      <th>4</th>\n",
       "      <td>4</td>\n",
       "      <td>7306305187</td>\n",
       "      <td>https://oklahomacity.craigslist.org/ctd/d/norm...</td>\n",
       "      <td>oklahoma city</td>\n",
       "      <td>https://oklahomacity.craigslist.org</td>\n",
       "      <td>13588</td>\n",
       "      <td>2015.0</td>\n",
       "      <td>gmc</td>\n",
       "      <td>terrain</td>\n",
       "      <td>like new</td>\n",
       "      <td>...</td>\n",
       "      <td>NaN</td>\n",
       "      <td>NaN</td>\n",
       "      <td>NaN</td>\n",
       "      <td>https://images.craigslist.org/00C0C_88sTwhpZvs...</td>\n",
       "      <td>THIS 2015 GMC TERRAIN WAS JUST TRADED IN LAST ...</td>\n",
       "      <td>NaN</td>\n",
       "      <td>ok</td>\n",
       "      <td>35.199000</td>\n",
       "      <td>-97.484100</td>\n",
       "      <td>2021-04-13T14:05:59-0500</td>\n",
       "    </tr>\n",
       "    <tr>\n",
       "      <th>...</th>\n",
       "      <td>...</td>\n",
       "      <td>...</td>\n",
       "      <td>...</td>\n",
       "      <td>...</td>\n",
       "      <td>...</td>\n",
       "      <td>...</td>\n",
       "      <td>...</td>\n",
       "      <td>...</td>\n",
       "      <td>...</td>\n",
       "      <td>...</td>\n",
       "      <td>...</td>\n",
       "      <td>...</td>\n",
       "      <td>...</td>\n",
       "      <td>...</td>\n",
       "      <td>...</td>\n",
       "      <td>...</td>\n",
       "      <td>...</td>\n",
       "      <td>...</td>\n",
       "      <td>...</td>\n",
       "      <td>...</td>\n",
       "      <td>...</td>\n",
       "    </tr>\n",
       "    <tr>\n",
       "      <th>24995</th>\n",
       "      <td>24995</td>\n",
       "      <td>7312161807</td>\n",
       "      <td>https://humboldt.craigslist.org/cto/d/eureka-1...</td>\n",
       "      <td>humboldt county</td>\n",
       "      <td>https://humboldt.craigslist.org</td>\n",
       "      <td>5500</td>\n",
       "      <td>1973.0</td>\n",
       "      <td>dodge</td>\n",
       "      <td>b300</td>\n",
       "      <td>fair</td>\n",
       "      <td>...</td>\n",
       "      <td>full-size</td>\n",
       "      <td>van</td>\n",
       "      <td>white</td>\n",
       "      <td>https://images.craigslist.org/00U0U_kdBKVayu5g...</td>\n",
       "      <td>Interior size of a sprinter with a fraction of...</td>\n",
       "      <td>NaN</td>\n",
       "      <td>ca</td>\n",
       "      <td>40.793800</td>\n",
       "      <td>-124.157300</td>\n",
       "      <td>2021-04-24T17:26:59-0700</td>\n",
       "    </tr>\n",
       "    <tr>\n",
       "      <th>24996</th>\n",
       "      <td>24996</td>\n",
       "      <td>7316687582</td>\n",
       "      <td>https://modesto.craigslist.org/ctd/d/stockton-...</td>\n",
       "      <td>modesto</td>\n",
       "      <td>https://modesto.craigslist.org</td>\n",
       "      <td>0</td>\n",
       "      <td>2005.0</td>\n",
       "      <td>gmc</td>\n",
       "      <td>sierra 1500 hybrid sle</td>\n",
       "      <td>NaN</td>\n",
       "      <td>...</td>\n",
       "      <td>NaN</td>\n",
       "      <td>NaN</td>\n",
       "      <td>NaN</td>\n",
       "      <td>https://images.craigslist.org/00000_eOfLbz8hdv...</td>\n",
       "      <td>209 Trucks NO HAGGLE / NO HASSLE PRICING!STOCK...</td>\n",
       "      <td>NaN</td>\n",
       "      <td>ca</td>\n",
       "      <td>38.017870</td>\n",
       "      <td>-121.268904</td>\n",
       "      <td>2021-05-04T07:04:15-0700</td>\n",
       "    </tr>\n",
       "    <tr>\n",
       "      <th>24997</th>\n",
       "      <td>24997</td>\n",
       "      <td>7314948487</td>\n",
       "      <td>https://honolulu.craigslist.org/oah/ctd/d/car-...</td>\n",
       "      <td>hawaii</td>\n",
       "      <td>https://honolulu.craigslist.org</td>\n",
       "      <td>500</td>\n",
       "      <td>2012.0</td>\n",
       "      <td>NaN</td>\n",
       "      <td>accord  civic</td>\n",
       "      <td>new</td>\n",
       "      <td>...</td>\n",
       "      <td>NaN</td>\n",
       "      <td>NaN</td>\n",
       "      <td>NaN</td>\n",
       "      <td>https://images.craigslist.org/01010_8HbWUnavb4...</td>\n",
       "      <td>HAWAII YELLOW MOPED AND CAR RENTAL , LLC   Aff...</td>\n",
       "      <td>NaN</td>\n",
       "      <td>hi</td>\n",
       "      <td>21.348800</td>\n",
       "      <td>-157.875900</td>\n",
       "      <td>2021-04-30T08:54:32-1000</td>\n",
       "    </tr>\n",
       "    <tr>\n",
       "      <th>24998</th>\n",
       "      <td>24998</td>\n",
       "      <td>7314733895</td>\n",
       "      <td>https://washingtondc.craigslist.org/doc/ctd/d/...</td>\n",
       "      <td>washington, DC</td>\n",
       "      <td>https://washingtondc.craigslist.org</td>\n",
       "      <td>4900</td>\n",
       "      <td>2007.0</td>\n",
       "      <td>jeep</td>\n",
       "      <td>grand cherokee</td>\n",
       "      <td>NaN</td>\n",
       "      <td>...</td>\n",
       "      <td>NaN</td>\n",
       "      <td>SUV</td>\n",
       "      <td>blue</td>\n",
       "      <td>https://images.craigslist.org/00A0A_3e1qbqoYSa...</td>\n",
       "      <td>2007 *Jeep* *Grand Cherokee* 4WD 4dr Limited S...</td>\n",
       "      <td>NaN</td>\n",
       "      <td>dc</td>\n",
       "      <td>38.663556</td>\n",
       "      <td>-77.251230</td>\n",
       "      <td>2021-04-30T08:20:41-0400</td>\n",
       "    </tr>\n",
       "    <tr>\n",
       "      <th>24999</th>\n",
       "      <td>24999</td>\n",
       "      <td>7314997106</td>\n",
       "      <td>https://tallahassee.craigslist.org/ctd/d/talla...</td>\n",
       "      <td>tallahassee</td>\n",
       "      <td>https://tallahassee.craigslist.org</td>\n",
       "      <td>7492</td>\n",
       "      <td>2013.0</td>\n",
       "      <td>hyundai</td>\n",
       "      <td>tucson gls</td>\n",
       "      <td>good</td>\n",
       "      <td>...</td>\n",
       "      <td>compact</td>\n",
       "      <td>SUV</td>\n",
       "      <td>brown</td>\n",
       "      <td>https://images.craigslist.org/00V0V_cew7eVzqaD...</td>\n",
       "      <td>Find more cars at... http://lighthousechildren...</td>\n",
       "      <td>NaN</td>\n",
       "      <td>fl</td>\n",
       "      <td>30.487614</td>\n",
       "      <td>-84.146261</td>\n",
       "      <td>2021-04-30T16:17:59-0400</td>\n",
       "    </tr>\n",
       "  </tbody>\n",
       "</table>\n",
       "<p>25000 rows × 27 columns</p>\n",
       "</div>"
      ],
      "text/plain": [
       "       Unnamed: 0          id  \\\n",
       "0               0  7313014409   \n",
       "1               1  7301652750   \n",
       "2               2  7307910032   \n",
       "3               3  7316694316   \n",
       "4               4  7306305187   \n",
       "...           ...         ...   \n",
       "24995       24995  7312161807   \n",
       "24996       24996  7316687582   \n",
       "24997       24997  7314948487   \n",
       "24998       24998  7314733895   \n",
       "24999       24999  7314997106   \n",
       "\n",
       "                                                     url           region  \\\n",
       "0      https://cincinnati.craigslist.org/cto/d/hamilt...       cincinnati   \n",
       "1      https://desmoines.craigslist.org/cto/d/des-moi...       des moines   \n",
       "2      https://bend.craigslist.org/ctd/d/portland-201...             bend   \n",
       "3      https://detroit.craigslist.org/okl/ctd/d/flint...    detroit metro   \n",
       "4      https://oklahomacity.craigslist.org/ctd/d/norm...    oklahoma city   \n",
       "...                                                  ...              ...   \n",
       "24995  https://humboldt.craigslist.org/cto/d/eureka-1...  humboldt county   \n",
       "24996  https://modesto.craigslist.org/ctd/d/stockton-...          modesto   \n",
       "24997  https://honolulu.craigslist.org/oah/ctd/d/car-...           hawaii   \n",
       "24998  https://washingtondc.craigslist.org/doc/ctd/d/...   washington, DC   \n",
       "24999  https://tallahassee.craigslist.org/ctd/d/talla...      tallahassee   \n",
       "\n",
       "                                region_url  price    year manufacturer  \\\n",
       "0        https://cincinnati.craigslist.org   4350  2004.0         ford   \n",
       "1         https://desmoines.craigslist.org   4000  2008.0         ford   \n",
       "2              https://bend.craigslist.org      0  2011.0    chevrolet   \n",
       "3           https://detroit.craigslist.org  22995  2007.0          ram   \n",
       "4      https://oklahomacity.craigslist.org  13588  2015.0          gmc   \n",
       "...                                    ...    ...     ...          ...   \n",
       "24995      https://humboldt.craigslist.org   5500  1973.0        dodge   \n",
       "24996       https://modesto.craigslist.org      0  2005.0          gmc   \n",
       "24997      https://honolulu.craigslist.org    500  2012.0          NaN   \n",
       "24998  https://washingtondc.craigslist.org   4900  2007.0         jeep   \n",
       "24999   https://tallahassee.craigslist.org   7492  2013.0      hyundai   \n",
       "\n",
       "                        model  condition  ...       size   type  paint_color  \\\n",
       "0                       f-150       good  ...  full-size  truck         grey   \n",
       "1                    taurus x  excellent  ...        NaN    SUV          NaN   \n",
       "2       silverado 1500 crew c        NaN  ...        NaN  truck          NaN   \n",
       "3                        3500       good  ...  full-size  truck         blue   \n",
       "4                     terrain   like new  ...        NaN    NaN          NaN   \n",
       "...                       ...        ...  ...        ...    ...          ...   \n",
       "24995                    b300       fair  ...  full-size    van        white   \n",
       "24996  sierra 1500 hybrid sle        NaN  ...        NaN    NaN          NaN   \n",
       "24997           accord  civic        new  ...        NaN    NaN          NaN   \n",
       "24998          grand cherokee        NaN  ...        NaN    SUV         blue   \n",
       "24999              tucson gls       good  ...    compact    SUV        brown   \n",
       "\n",
       "                                               image_url  \\\n",
       "0      https://images.craigslist.org/00T0T_icF3NMyUsf...   \n",
       "1      https://images.craigslist.org/00i0i_2w0modFyZC...   \n",
       "2      https://images.craigslist.org/00D0D_4gcINez5Os...   \n",
       "3      https://images.craigslist.org/00t0t_bz7qoSQwqF...   \n",
       "4      https://images.craigslist.org/00C0C_88sTwhpZvs...   \n",
       "...                                                  ...   \n",
       "24995  https://images.craigslist.org/00U0U_kdBKVayu5g...   \n",
       "24996  https://images.craigslist.org/00000_eOfLbz8hdv...   \n",
       "24997  https://images.craigslist.org/01010_8HbWUnavb4...   \n",
       "24998  https://images.craigslist.org/00A0A_3e1qbqoYSa...   \n",
       "24999  https://images.craigslist.org/00V0V_cew7eVzqaD...   \n",
       "\n",
       "                                             description county state  \\\n",
       "0      Rust Free Rockers !!...4.6..v8 ...Aggressive O...    NaN    oh   \n",
       "1      2008 Ford Taurus X 3.5 motor 188k highway mile...    NaN    ia   \n",
       "2      2011 Chevrolet Silverado 1500 Crew Cab LT Pick...    NaN    or   \n",
       "3      2007 Dodge Ram 3500 Laramie Mega Cab 4WD DRW -...    NaN    mi   \n",
       "4      THIS 2015 GMC TERRAIN WAS JUST TRADED IN LAST ...    NaN    ok   \n",
       "...                                                  ...    ...   ...   \n",
       "24995  Interior size of a sprinter with a fraction of...    NaN    ca   \n",
       "24996  209 Trucks NO HAGGLE / NO HASSLE PRICING!STOCK...    NaN    ca   \n",
       "24997  HAWAII YELLOW MOPED AND CAR RENTAL , LLC   Aff...    NaN    hi   \n",
       "24998  2007 *Jeep* *Grand Cherokee* 4WD 4dr Limited S...    NaN    dc   \n",
       "24999  Find more cars at... http://lighthousechildren...    NaN    fl   \n",
       "\n",
       "             lat        long              posting_date  \n",
       "0      39.375200  -84.549300  2021-04-26T16:33:54-0400  \n",
       "1      41.625500  -93.673600  2021-04-04T09:57:38-0500  \n",
       "2      45.425821 -122.633035  2021-04-16T13:11:16-0700  \n",
       "3      43.050600  -83.615120  2021-05-04T10:16:37-0400  \n",
       "4      35.199000  -97.484100  2021-04-13T14:05:59-0500  \n",
       "...          ...         ...                       ...  \n",
       "24995  40.793800 -124.157300  2021-04-24T17:26:59-0700  \n",
       "24996  38.017870 -121.268904  2021-05-04T07:04:15-0700  \n",
       "24997  21.348800 -157.875900  2021-04-30T08:54:32-1000  \n",
       "24998  38.663556  -77.251230  2021-04-30T08:20:41-0400  \n",
       "24999  30.487614  -84.146261  2021-04-30T16:17:59-0400  \n",
       "\n",
       "[25000 rows x 27 columns]"
      ]
     },
     "execution_count": 3,
     "metadata": {},
     "output_type": "execute_result"
    }
   ],
   "source": [
    "df"
   ]
  },
  {
   "cell_type": "markdown",
   "metadata": {
    "id": "f0q75CWsuw-o"
   },
   "source": [
    "# Preprocesar datos"
   ]
  },
  {
   "cell_type": "markdown",
   "metadata": {
    "id": "gZLO96vPvUJ3"
   },
   "source": [
    "##Limpieza de los datos + Ingeniería de características"
   ]
  },
  {
   "cell_type": "code",
   "execution_count": 4,
   "metadata": {
    "executionInfo": {
     "elapsed": 2,
     "status": "ok",
     "timestamp": 1692305075264,
     "user": {
      "displayName": "Carlos Bienvenido Ogando Montás (Carlitos5336)",
      "userId": "10505299496410393010"
     },
     "user_tz": 240
    },
    "id": "j7S40AnIQ7e-"
   },
   "outputs": [],
   "source": [
    "df = df[['year', 'manufacturer', 'model', 'condition', 'cylinders', 'fuel',\n",
    "         'odometer', 'title_status', 'transmission', 'drive', 'size', 'type',\n",
    "         'paint_color', 'price']]"
   ]
  },
  {
   "cell_type": "code",
   "execution_count": 5,
   "metadata": {
    "colab": {
     "base_uri": "https://localhost:8080/"
    },
    "executionInfo": {
     "elapsed": 732,
     "status": "ok",
     "timestamp": 1692305075995,
     "user": {
      "displayName": "Carlos Bienvenido Ogando Montás (Carlitos5336)",
      "userId": "10505299496410393010"
     },
     "user_tz": 240
    },
    "id": "AZOx9YXzTleH",
    "outputId": "ce7ea356-59d5-49b7-b43d-d3834981926e"
   },
   "outputs": [
    {
     "data": {
      "text/plain": [
       "year               84\n",
       "manufacturer     1015\n",
       "model             301\n",
       "condition       10287\n",
       "cylinders       10479\n",
       "fuel              186\n",
       "odometer          243\n",
       "title_status      459\n",
       "transmission      135\n",
       "drive            7649\n",
       "size            17896\n",
       "type             5409\n",
       "paint_color      7636\n",
       "price               0\n",
       "dtype: int64"
      ]
     },
     "execution_count": 5,
     "metadata": {},
     "output_type": "execute_result"
    }
   ],
   "source": [
    "df.isna().sum()"
   ]
  },
  {
   "cell_type": "code",
   "execution_count": 6,
   "metadata": {
    "executionInfo": {
     "elapsed": 596,
     "status": "ok",
     "timestamp": 1692305076590,
     "user": {
      "displayName": "Carlos Bienvenido Ogando Montás (Carlitos5336)",
      "userId": "10505299496410393010"
     },
     "user_tz": 240
    },
    "id": "001Od-CTSTrC"
   },
   "outputs": [],
   "source": [
    "fillable_nan_cols = df.columns[df.isna().sum() > 20000]\n",
    "dropable_nan_cols = [col for col in df.columns if col not in fillable_nan_cols]"
   ]
  },
  {
   "cell_type": "code",
   "execution_count": 7,
   "metadata": {
    "executionInfo": {
     "elapsed": 733,
     "status": "ok",
     "timestamp": 1692305077322,
     "user": {
      "displayName": "Carlos Bienvenido Ogando Montás (Carlitos5336)",
      "userId": "10505299496410393010"
     },
     "user_tz": 240
    },
    "id": "Cm-i8hmbT50C"
   },
   "outputs": [],
   "source": [
    "for col in dropable_nan_cols:\n",
    "  df = df[df[col].notna()]"
   ]
  },
  {
   "cell_type": "code",
   "execution_count": 8,
   "metadata": {
    "executionInfo": {
     "elapsed": 716,
     "status": "ok",
     "timestamp": 1692305078036,
     "user": {
      "displayName": "Carlos Bienvenido Ogando Montás (Carlitos5336)",
      "userId": "10505299496410393010"
     },
     "user_tz": 240
    },
    "id": "LoK_j4V5VW4g"
   },
   "outputs": [],
   "source": [
    "df = df.fillna('Unkown')"
   ]
  },
  {
   "cell_type": "code",
   "execution_count": 11,
   "metadata": {
    "colab": {
     "base_uri": "https://localhost:8080/",
     "height": 467
    },
    "executionInfo": {
     "elapsed": 491,
     "status": "ok",
     "timestamp": 1692305078526,
     "user": {
      "displayName": "Carlos Bienvenido Ogando Montás (Carlitos5336)",
      "userId": "10505299496410393010"
     },
     "user_tz": 240
    },
    "id": "zhC3L3-Zy2td",
    "outputId": "fd63373c-be11-4e9e-8900-11f682bde3e9"
   },
   "outputs": [
    {
     "data": {
      "text/plain": [
       "<Axes: >"
      ]
     },
     "execution_count": 11,
     "metadata": {},
     "output_type": "execute_result"
    },
    {
     "data": {
      "image/png": "[encoded data removed]",
      "text/plain": [
       "<Figure size 640x480 with 1 Axes>"
      ]
     },
     "metadata": {},
     "output_type": "display_data"
    }
   ],
   "source": [
    "df[\"price\"].sample(1000).hist()"
   ]
  },
  {
   "cell_type": "code",
   "execution_count": 12,
   "metadata": {
    "colab": {
     "base_uri": "https://localhost:8080/",
     "height": 565
    },
    "executionInfo": {
     "elapsed": 1122,
     "status": "ok",
     "timestamp": 1692305079647,
     "user": {
      "displayName": "Carlos Bienvenido Ogando Montás (Carlitos5336)",
      "userId": "10505299496410393010"
     },
     "user_tz": 240
    },
    "id": "-3wIio-iYBhx",
    "outputId": "2697cad0-cfb9-4c91-eadb-79177fccb015"
   },
   "outputs": [
    {
     "data": {
      "text/plain": [
       "<Axes: xlabel='manufacturer', ylabel='price'>"
      ]
     },
     "execution_count": 12,
     "metadata": {},
     "output_type": "execute_result"
    },
    {
     "data": {
      "image/png": "[encoded data removed]",
      "text/plain": [
       "<Figure size 640x480 with 1 Axes>"
      ]
     },
     "metadata": {},
     "output_type": "display_data"
    }
   ],
   "source": [
    "plt.xticks(rotation=90)\n",
    "sns.boxplot(x=\"manufacturer\", y=\"price\", data=df.sample(1000))"
   ]
  },
  {
   "cell_type": "code",
   "execution_count": 15,
   "metadata": {
    "colab": {
     "base_uri": "https://localhost:8080/",
     "height": 488
    },
    "executionInfo": {
     "elapsed": 2839,
     "status": "ok",
     "timestamp": 1692305082485,
     "user": {
      "displayName": "Carlos Bienvenido Ogando Montás (Carlitos5336)",
      "userId": "10505299496410393010"
     },
     "user_tz": 240
    },
    "id": "68uovnKRZRHF",
    "outputId": "f8504e09-bfaf-4fb3-ef7a-b60f72e8fb14"
   },
   "outputs": [
    {
     "data": {
      "text/plain": [
       "<Axes: xlabel='year', ylabel='price'>"
      ]
     },
     "execution_count": 15,
     "metadata": {},
     "output_type": "execute_result"
    },
    {
     "data": {
      "image/png": "[encoded data removed]",
      "text/plain": [
       "<Figure size 640x480 with 1 Axes>"
      ]
     },
     "metadata": {},
     "output_type": "display_data"
    }
   ],
   "source": [
    "plt.xticks(rotation=45)\n",
    "sns.lineplot(x=\"year\", y=\"price\", data=df.sample(1000))"
   ]
  },
  {
   "cell_type": "code",
   "execution_count": 16,
   "metadata": {
    "colab": {
     "base_uri": "https://localhost:8080/",
     "height": 516
    },
    "executionInfo": {
     "elapsed": 2094,
     "status": "ok",
     "timestamp": 1692305084575,
     "user": {
      "displayName": "Carlos Bienvenido Ogando Montás (Carlitos5336)",
      "userId": "10505299496410393010"
     },
     "user_tz": 240
    },
    "id": "G8-V0hIBb_a-",
    "outputId": "a286a8b2-cb75-481e-fd41-353fcd4a77ea"
   },
   "outputs": [
    {
     "data": {
      "text/plain": [
       "<Axes: xlabel='odometer', ylabel='price'>"
      ]
     },
     "execution_count": 16,
     "metadata": {},
     "output_type": "execute_result"
    },
    {
     "data": {
      "image/png": "[encoded data removed]",
      "text/plain": [
       "<Figure size 640x480 with 1 Axes>"
      ]
     },
     "metadata": {},
     "output_type": "display_data"
    }
   ],
   "source": [
    "plt.xticks(rotation=45)\n",
    "sns.lineplot(x=\"odometer\", y=\"price\", data=df.sample(1000))"
   ]
  },
  {
   "cell_type": "code",
   "execution_count": 18,
   "metadata": {
    "colab": {
     "base_uri": "https://localhost:8080/",
     "height": 500
    },
    "executionInfo": {
     "elapsed": 808,
     "status": "ok",
     "timestamp": 1692305085378,
     "user": {
      "displayName": "Carlos Bienvenido Ogando Montás (Carlitos5336)",
      "userId": "10505299496410393010"
     },
     "user_tz": 240
    },
    "id": "YBlbSUaXasac",
    "outputId": "a9d7d420-72b2-4892-89a9-b9135962cebd"
   },
   "outputs": [
    {
     "data": {
      "text/plain": [
       "<Axes: xlabel='fuel', ylabel='price'>"
      ]
     },
     "execution_count": 18,
     "metadata": {},
     "output_type": "execute_result"
    },
    {
     "data": {
      "image/png": "[encoded data removed]",
      "text/plain": [
       "<Figure size 640x480 with 1 Axes>"
      ]
     },
     "metadata": {},
     "output_type": "display_data"
    }
   ],
   "source": [
    "plt.xticks(rotation=45)\n",
    "sns.barplot(x=\"fuel\", y=\"price\", data=df.sample(1000))"
   ]
  },
  {
   "cell_type": "code",
   "execution_count": 21,
   "metadata": {
    "colab": {
     "base_uri": "https://localhost:8080/",
     "height": 513
    },
    "executionInfo": {
     "elapsed": 486,
     "status": "ok",
     "timestamp": 1692305085860,
     "user": {
      "displayName": "Carlos Bienvenido Ogando Montás (Carlitos5336)",
      "userId": "10505299496410393010"
     },
     "user_tz": 240
    },
    "id": "QtjAxKbnbCEW",
    "outputId": "c89a1c87-5504-4c7d-9609-e245ba27a4f5"
   },
   "outputs": [
    {
     "data": {
      "text/plain": [
       "<Axes: xlabel='title_status', ylabel='price'>"
      ]
     },
     "execution_count": 21,
     "metadata": {},
     "output_type": "execute_result"
    },
    {
     "data": {
      "image/png": "[encoded data removed]",
      "text/plain": [
       "<Figure size 640x480 with 1 Axes>"
      ]
     },
     "metadata": {},
     "output_type": "display_data"
    }
   ],
   "source": [
    "plt.xticks(rotation=45)\n",
    "sns.barplot(x=\"title_status\", y=\"price\", data=df.sample(1000))"
   ]
  },
  {
   "cell_type": "markdown",
   "metadata": {
    "id": "PxeokbSZvH89"
   },
   "source": [
    "## Codificación"
   ]
  },
  {
   "cell_type": "code",
   "execution_count": 22,
   "metadata": {
    "executionInfo": {
     "elapsed": 226,
     "status": "ok",
     "timestamp": 1692305086082,
     "user": {
      "displayName": "Carlos Bienvenido Ogando Montás (Carlitos5336)",
      "userId": "10505299496410393010"
     },
     "user_tz": 240
    },
    "id": "PLujh2WzX68x"
   },
   "outputs": [],
   "source": [
    "df = df.sample(2000)"
   ]
  },
  {
   "cell_type": "code",
   "execution_count": 23,
   "metadata": {
    "executionInfo": {
     "elapsed": 2,
     "status": "ok",
     "timestamp": 1692305086082,
     "user": {
      "displayName": "Carlos Bienvenido Ogando Montás (Carlitos5336)",
      "userId": "10505299496410393010"
     },
     "user_tz": 240
    },
    "id": "iLlnFAVRoaDd"
   },
   "outputs": [],
   "source": [
    "x = df.iloc[:, :-1]\n",
    "y = df.iloc[:, -1]"
   ]
  },
  {
   "cell_type": "code",
   "execution_count": 24,
   "metadata": {
    "executionInfo": {
     "elapsed": 3,
     "status": "ok",
     "timestamp": 1692305086083,
     "user": {
      "displayName": "Carlos Bienvenido Ogando Montás (Carlitos5336)",
      "userId": "10505299496410393010"
     },
     "user_tz": 240
    },
    "id": "3r4-x8t2q7ne"
   },
   "outputs": [],
   "source": [
    "numerical_columns = x.columns[(x.dtypes == \"float64\") | (x.dtypes == \"int64\")]\n",
    "categorical_columns = x.columns[(x.dtypes == \"object\")]"
   ]
  },
  {
   "cell_type": "code",
   "execution_count": 25,
   "metadata": {
    "executionInfo": {
     "elapsed": 3,
     "status": "ok",
     "timestamp": 1692305086083,
     "user": {
      "displayName": "Carlos Bienvenido Ogando Montás (Carlitos5336)",
      "userId": "10505299496410393010"
     },
     "user_tz": 240
    },
    "id": "AUNBEUyix8yD"
   },
   "outputs": [],
   "source": [
    "col_transf = make_column_transformer(\n",
    "    (OneHotEncoder(handle_unknown='ignore'), categorical_columns),\n",
    "    (StandardScaler(), numerical_columns),\n",
    "    remainder=\"passthrough\"\n",
    ")"
   ]
  },
  {
   "cell_type": "markdown",
   "metadata": {
    "id": "F_QdmhprsSKK"
   },
   "source": [
    "#Entrenamiento + Evaluación"
   ]
  },
  {
   "cell_type": "code",
   "execution_count": 26,
   "metadata": {
    "executionInfo": {
     "elapsed": 3,
     "status": "ok",
     "timestamp": 1692305086083,
     "user": {
      "displayName": "Carlos Bienvenido Ogando Montás (Carlitos5336)",
      "userId": "10505299496410393010"
     },
     "user_tz": 240
    },
    "id": "OThvMG_i7C3D"
   },
   "outputs": [],
   "source": [
    "X_train, X_test, y_train, y_test = train_test_split(x, y, random_state=2, test_size=0.2)"
   ]
  },
  {
   "cell_type": "code",
   "execution_count": 27,
   "metadata": {
    "executionInfo": {
     "elapsed": 193,
     "status": "ok",
     "timestamp": 1692305123929,
     "user": {
      "displayName": "Carlos Bienvenido Ogando Montás (Carlitos5336)",
      "userId": "10505299496410393010"
     },
     "user_tz": 240
    },
    "id": "I3QdDQHp8IxX"
   },
   "outputs": [],
   "source": [
    "models = []\n",
    "models.append((\"KNN\", KNeighborsRegressor()))\n",
    "models.append((\"LR\", LinearRegression()))\n",
    "#models.append((\"RR\", Ridge())),\n",
    "#models.append((\"LASSOR\", Lasso()))\n",
    "#models.append((\"BR\", BayesianRidge()))\n",
    "models.append((\"RF\", RandomForestRegressor()))\n",
    "models.append((\"SVR\", SVR()))"
   ]
  },
  {
   "cell_type": "code",
   "execution_count": 28,
   "metadata": {
    "executionInfo": {
     "elapsed": 205,
     "status": "ok",
     "timestamp": 1692305125247,
     "user": {
      "displayName": "Carlos Bienvenido Ogando Montás (Carlitos5336)",
      "userId": "10505299496410393010"
     },
     "user_tz": 240
    },
    "id": "cH7GR9zquxEV"
   },
   "outputs": [],
   "source": [
    "pipelines = {name: make_pipeline(col_transf, model) for name, model in models}"
   ]
  },
  {
   "cell_type": "code",
   "execution_count": 29,
   "metadata": {
    "executionInfo": {
     "elapsed": 28392,
     "status": "ok",
     "timestamp": 1692305154648,
     "user": {
      "displayName": "Carlos Bienvenido Ogando Montás (Carlitos5336)",
      "userId": "10505299496410393010"
     },
     "user_tz": 240
    },
    "id": "qOo9mwrbAx-Q"
   },
   "outputs": [],
   "source": [
    "results = []\n",
    "scoring = 'r2'\n",
    "kfolds = 5\n",
    "\n",
    "for name, pipeline in pipelines.items():\n",
    "\tcv_results = cross_val_score(pipeline, X_train, y_train, cv=kfolds, scoring=scoring)\n",
    "\tresults.append({name: cv_results})"
   ]
  },
  {
   "cell_type": "code",
   "execution_count": 30,
   "metadata": {
    "colab": {
     "base_uri": "https://localhost:8080/"
    },
    "executionInfo": {
     "elapsed": 4,
     "status": "ok",
     "timestamp": 1692305154649,
     "user": {
      "displayName": "Carlos Bienvenido Ogando Montás (Carlitos5336)",
      "userId": "10505299496410393010"
     },
     "user_tz": 240
    },
    "id": "SVsnTjUXwUuM",
    "outputId": "b61ad7b1-6a07-4713-89ea-10ad0863b8bd"
   },
   "outputs": [
    {
     "data": {
      "text/plain": [
       "[{'KNN': array([0.31135716, 0.19416259, 0.35682979, 0.51116893, 0.51192883])},\n",
       " {'LR': array([ 0.10800754, -0.18507852, -0.01497264,  0.23002449, -3.79458187])},\n",
       " {'RF': array([0.57430813, 0.25376342, 0.55692203, 0.56886261, 0.59957625])},\n",
       " {'SVR': array([-0.13508424, -0.05178133, -0.07840059, -0.11721954, -0.10899303])}]"
      ]
     },
     "execution_count": 30,
     "metadata": {},
     "output_type": "execute_result"
    }
   ],
   "source": [
    "results"
   ]
  },
  {
   "cell_type": "code",
   "execution_count": 31,
   "metadata": {
    "executionInfo": {
     "elapsed": 3,
     "status": "ok",
     "timestamp": 1692305154649,
     "user": {
      "displayName": "Carlos Bienvenido Ogando Montás (Carlitos5336)",
      "userId": "10505299496410393010"
     },
     "user_tz": 240
    },
    "id": "XMShNhOV3L33"
   },
   "outputs": [],
   "source": [
    "best_model = sorted(results, key=lambda x: list(x.values())[0].mean(), reverse=True)[0]\n",
    "best_pipeline = pipelines[list(best_model.keys())[0]]"
   ]
  },
  {
   "cell_type": "code",
   "execution_count": 32,
   "metadata": {
    "colab": {
     "base_uri": "https://localhost:8080/",
     "height": 445
    },
    "executionInfo": {
     "elapsed": 264,
     "status": "ok",
     "timestamp": 1692305154910,
     "user": {
      "displayName": "Carlos Bienvenido Ogando Montás (Carlitos5336)",
      "userId": "10505299496410393010"
     },
     "user_tz": 240
    },
    "id": "wY4r71PUvsh9",
    "outputId": "dccf2885-8d44-472b-83d5-36f692e225db"
   },
   "outputs": [
    {
     "data": {
      "image/png": "[encoded data removed]",
      "text/plain": [
       "<Figure size 640x480 with 1 Axes>"
      ]
     },
     "metadata": {},
     "output_type": "display_data"
    }
   ],
   "source": [
    "fig = plt.figure()\n",
    "ax = fig.add_subplot(111)\n",
    "plt.boxplot([list(dict_.values())[0] for dict_ in results])\n",
    "ax.set_xticklabels([list(dict_.keys())[0] for dict_ in results])\n",
    "plt.show()"
   ]
  },
  {
   "cell_type": "markdown",
   "metadata": {
    "id": "bHvp0WlC2XTR"
   },
   "source": [
    "#Predicciones"
   ]
  },
  {
   "cell_type": "code",
   "execution_count": 33,
   "metadata": {
    "colab": {
     "base_uri": "https://localhost:8080/"
    },
    "executionInfo": {
     "elapsed": 647,
     "status": "ok",
     "timestamp": 1692305155551,
     "user": {
      "displayName": "Carlos Bienvenido Ogando Montás (Carlitos5336)",
      "userId": "10505299496410393010"
     },
     "user_tz": 240
    },
    "id": "Iwof_SMg2hyY",
    "outputId": "870abc7d-7cd6-4784-c2d6-25b4675d0085"
   },
   "outputs": [
    {
     "data": {
      "text/plain": [
       "array([ 4801.9       ,  7146.9       ,  3845.83      ,  8095.24      ,\n",
       "       18149.        ,  6769.61      , 21339.14      ,  3651.21      ,\n",
       "       17796.36      , 27664.35      ,  7219.14      ,  8380.82      ,\n",
       "        9113.08      ,  5136.64      , 17487.83      ,  6606.82      ,\n",
       "       11454.19      ,  3242.05      , 10964.33      , 24229.64      ,\n",
       "       13308.6       , 32342.97      ,  7741.32      ,  4420.38      ,\n",
       "       13158.22      ,  3689.67      , 16774.17      ,  7232.1       ,\n",
       "        6550.19      ,  8352.8       , 13628.01      , 20630.97      ,\n",
       "        6216.71      , 16845.38      ,  5385.53      , 16953.3       ,\n",
       "       13473.26      ,  7538.36      , 15881.28      ,  8378.62      ,\n",
       "       18725.67      ,  6776.46      ,  5128.07      , 10152.3       ,\n",
       "        6049.53      , 22738.71      , 12428.26      ,  4585.53      ,\n",
       "        8215.83      ,  6655.64      , 25008.16      , 14121.95      ,\n",
       "       15757.44      ,  3693.16      , 10592.01      , 24009.14      ,\n",
       "        4921.41      , 16030.86      , 21787.23      , 27264.99      ,\n",
       "        9246.51      ,  7949.84      ,  6331.67      ,  7924.35      ,\n",
       "        6767.2       , 22967.12      ,  5967.33      ,  4403.19      ,\n",
       "        2389.73      ,  4623.18      , 13373.44      , 10371.82      ,\n",
       "       25770.81      , 17039.58      ,  4334.03      ,  6110.11      ,\n",
       "       17584.82      , 16796.69      , 11445.98      , 15158.53      ,\n",
       "       19974.91      , 15710.9       , 23135.5       ,  6205.86      ,\n",
       "       57229.55666667,  9197.25      ,  4803.27      , 11198.7       ,\n",
       "        4237.93      ,  6848.61      , 21830.79      ,  9130.36      ,\n",
       "       64801.2       , 19110.58      , 34437.86      ,  6113.4       ,\n",
       "       34721.19      , 21261.22333333, 15312.64      , 29674.43      ,\n",
       "        6773.49      ,  6803.5       , 18680.7       , 21218.49      ,\n",
       "       28920.48      , 20116.19      ,  4738.23      ,  6102.8       ,\n",
       "       20034.02      , 22705.31      ,  9016.56      , 18288.35      ,\n",
       "       17763.59      ,  6057.16      , 10541.42      ,  3465.08      ,\n",
       "       26157.94      ,  6384.8       ,  3719.37      ,  8376.02      ,\n",
       "        9537.96      , 11243.12      , 22628.58      ,  8782.29      ,\n",
       "       13704.37      , 14271.37      , 37767.32      ,  3926.31      ,\n",
       "        4287.1       ,  5325.26      ,  5887.4       ,  8555.35      ,\n",
       "        8818.6       ,  7797.64      ,  5099.84      , 22367.74      ,\n",
       "       22258.48      ,  4403.33      ,  3086.31      ,  3217.85      ,\n",
       "       16471.07      , 11987.3       ,  4830.26      , 14582.33      ,\n",
       "       18436.48      , 34921.01      ,  7159.4       , 17230.66      ,\n",
       "        7408.02      ,  6526.79      , 15685.3       , 24302.61      ,\n",
       "        6496.7       , 10729.68      , 11917.48      ,  6333.28      ,\n",
       "       13108.65      , 15692.81      ,  6461.03      ,  4815.97      ,\n",
       "       24587.62      ,  8439.66      , 15343.65      , 14804.93      ,\n",
       "        6843.02      ,  8255.87      , 21431.91      ,  4403.33      ,\n",
       "       13373.43      , 12999.12      ,  5194.59      ,  7680.92      ,\n",
       "        2631.94      ,  4557.12      ,  9923.4       ,  6694.53      ,\n",
       "       13989.65      , 25358.32      ,  6785.63      , 12809.87      ,\n",
       "        5903.77      , 17318.29      ,  5715.8       ,  3826.65      ,\n",
       "        4625.05      , 15392.44      ,  6847.77      ,  5696.13      ,\n",
       "        5085.28      ,  7057.35      ,  3558.07      , 17006.14      ,\n",
       "        7736.96      ,  5531.3       ,  8512.29      ,  6144.45      ,\n",
       "       21736.51      , 26096.78666667,  8135.69      , 23603.24      ,\n",
       "       14688.77      , 14674.77      , 26061.2       ,  6005.6       ,\n",
       "       26874.95      ,  7740.45      ,  4478.75      , 17420.38      ,\n",
       "       13536.62      , 15176.33      ,  6583.01      , 19960.8       ,\n",
       "        9727.38      ,  6795.96      ,  3315.2       , 22902.88      ,\n",
       "       12177.83      ,  7674.14      , 24806.3       ,  6598.16      ,\n",
       "       10615.19      ,  8271.7       ,  3407.36      ,  6360.1       ,\n",
       "        4406.08      , 23944.31      , 19606.22      ,  4762.33      ,\n",
       "        8250.11      , 33281.63      , 11462.48      ,  2851.8       ,\n",
       "       32046.73      ,  4193.73      ,  5773.53      , 13381.4       ,\n",
       "       18135.36      ,  7060.51      ,  8655.25      ,  5505.61      ,\n",
       "        6960.32      , 14675.48      ,  9986.1       , 36721.56      ,\n",
       "        7889.02      ,  6794.34      ,  3128.96      , 13863.99      ,\n",
       "        4723.91      ,  8102.72      , 20338.31      , 17024.8       ,\n",
       "        3025.43      ,  6959.67      , 12250.38      , 15343.65      ,\n",
       "       19047.51      , 54718.31666667, 11924.04      ,  7521.34      ,\n",
       "        5352.49      ,  7524.92      , 10710.17      ,  5077.94      ,\n",
       "        3731.92      ,  4843.61      ,  6395.88      ,  6807.36      ,\n",
       "       11762.6       , 11926.16      ,  9304.51      ,  2103.3       ,\n",
       "       23357.29      , 13953.32      , 26879.34      ,  2525.98      ,\n",
       "        7418.23      ,  7756.37      , 13448.68      ,  7514.45      ,\n",
       "       10328.5       , 16241.33      ,  6698.54      ,  9952.01      ,\n",
       "        6334.66      , 12224.59      , 10277.74      , 17026.79      ,\n",
       "       23957.85      , 26250.74      , 10732.29      , 11238.94      ,\n",
       "       22789.72      , 22174.25      ,  9039.26      ,  4120.63      ,\n",
       "        3502.33      , 14676.82      ,  6166.32      ,  6867.92      ,\n",
       "        7055.21      ,  7587.37      , 21153.22      ,  6527.25      ,\n",
       "       11165.24      ,  8398.11      ,  7820.76      , 43375.5       ,\n",
       "        4820.44      ,  7417.23      , 11315.39      , 38107.9       ,\n",
       "       20638.25      ,  5470.07      ,  7958.        , 32594.73      ,\n",
       "        8152.15      ,  6828.35      ,  6705.24      ,  9342.3       ,\n",
       "        5711.75      , 14085.89      , 12381.85      ,  9800.14      ,\n",
       "       19693.67      ,  6180.45      ,  5859.66      ,  4219.17      ,\n",
       "        4311.02      , 12032.4       ,  4643.54      , 21172.03      ,\n",
       "       10618.62      ,  6527.46      , 19430.29      , 21284.23      ,\n",
       "        6415.87      ,  8678.65      ,  6970.75      ,  6405.5       ,\n",
       "        7474.98      ,  4202.05      ,  2737.43      , 20453.06      ,\n",
       "       38807.46      ,  8429.44      ,  5530.82      ,  9175.35      ,\n",
       "       12470.72      , 24359.83      , 12877.77      ,  3690.76      ,\n",
       "        8836.43      , 10615.19      ,  2592.07      , 33733.36333333,\n",
       "        6170.97      ,  9645.48      ,  4988.98      ,  4916.25      ,\n",
       "       19809.17      ,  8185.59      , 11044.83      , 26458.96      ,\n",
       "        3877.38      ,  8852.44      ,  9152.94      , 21970.39      ,\n",
       "       28941.17      ,  6124.37      ,  7868.83      , 34328.08      ,\n",
       "       12374.78      , 17509.88      ,  7221.65      , 10126.08      ,\n",
       "        7250.46      , 26824.97      , 12334.03      ,  5777.29      ,\n",
       "        4590.91      , 25912.36      ,  4893.99      , 11784.72      ,\n",
       "       16157.67      ,  9220.76      ,  9364.56      ,  7271.84      ,\n",
       "       11531.03      , 10689.39      , 15360.17      , 16949.74      ,\n",
       "       18030.03      ,  6605.23      , 13859.9       ,  9525.23      ,\n",
       "        8496.32      , 12859.18      ,  4767.32      ,  4071.75      ])"
      ]
     },
     "execution_count": 33,
     "metadata": {},
     "output_type": "execute_result"
    }
   ],
   "source": [
    "best_pipeline.fit(X_train, y_train)\n",
    "best_pipeline.predict(X_test)"
   ]
  },
  {
   "cell_type": "markdown",
   "metadata": {
    "id": "7GZkymUU5JPb"
   },
   "source": [
    "#Exportación del modelo"
   ]
  },
  {
   "cell_type": "code",
   "execution_count": 34,
   "metadata": {
    "executionInfo": {
     "elapsed": 3,
     "status": "ok",
     "timestamp": 1692305155552,
     "user": {
      "displayName": "Carlos Bienvenido Ogando Montás (Carlitos5336)",
      "userId": "10505299496410393010"
     },
     "user_tz": 240
    },
    "id": "cOSZxJ0Y5MgT"
   },
   "outputs": [],
   "source": [
    "filename = 'vehicle_price_estimator.pkl'\n",
    "pickle.dump(best_pipeline, open(filename, 'wb'))"
   ]
  }
 ],
 "metadata": {
  "colab": {
   "authorship_tag": "ABX9TyPHyILAYiCW0xhj+/Xn+HCd",
   "provenance": [
    {
     "file_id": "1vN4DNc5rGhkxwlPV3vfr_NWv3LMvpHgm",
     "timestamp": 1656549259826
    },
    {
     "file_id": "1LrrOFu7gfTvHSCe111cXvd6IK6qiUtPf",
     "timestamp": 1656027274950
    }
   ]
  },
  "kernelspec": {
   "display_name": "sandbox",
   "language": "python",
   "name": "python3"
  },
  "language_info": {
   "codemirror_mode": {
    "name": "ipython",
    "version": 3
   },
   "file_extension": ".py",
   "mimetype": "text/x-python",
   "name": "python",
   "nbconvert_exporter": "python",
   "pygments_lexer": "ipython3",
   "version": "3.11.7"
  }
 },
 "nbformat": 4,
 "nbformat_minor": 0
}
