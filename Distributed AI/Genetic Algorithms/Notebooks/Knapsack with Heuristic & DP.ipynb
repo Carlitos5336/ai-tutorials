{
  "nbformat": 4,
  "nbformat_minor": 0,
  "metadata": {
    "colab": {
      "provenance": []
    },
    "kernelspec": {
      "name": "python3",
      "display_name": "Python 3"
    },
    "language_info": {
      "name": "python"
    }
  },
  "cells": [
    {
      "cell_type": "code",
      "execution_count": null,
      "metadata": {
        "id": "IWHXOLWMpZfL"
      },
      "outputs": [],
      "source": [
        "memo = {}\n",
        "def fib(n):\n",
        "  if n == 0 or n == 1: return n\n",
        "  if n in memo: return memo[n]\n",
        "  memo[n] = fib(n-1) + fib(n-2)\n",
        "  return memo[n]"
      ]
    },
    {
      "cell_type": "code",
      "source": [
        "import random"
      ],
      "metadata": {
        "id": "9h6a4Uvgq4LG"
      },
      "execution_count": null,
      "outputs": []
    },
    {
      "cell_type": "code",
      "source": [
        "class Item:\n",
        "\n",
        "  def __init__(self, weight, value):\n",
        "    self.weight = weight\n",
        "    self.value = value\n",
        "\n",
        "  def get_ratio_vw(self):\n",
        "    return self.value/self.weight\n",
        "\n",
        "  def __str__(self):\n",
        "    return f\"<W: {self.weight} kg, V: RD${self.value}>\"\n",
        "\n",
        "  def __repr__(self):\n",
        "    return str(self)"
      ],
      "metadata": {
        "id": "r6a3kOlQpoMu"
      },
      "execution_count": null,
      "outputs": []
    },
    {
      "cell_type": "code",
      "source": [
        "class Backpack:\n",
        "\n",
        "  def __init__(self, items_=None):\n",
        "    self.backpack = []\n",
        "    if items_: self.backpack += items_\n",
        "\n",
        "  def add_item(self, item):\n",
        "    self.backpack.append(item)\n",
        "\n",
        "  def get_total_weight(self):\n",
        "    return sum([item.weight for item in self.backpack])\n",
        "\n",
        "  def get_total_value(self):\n",
        "    return sum([item.value for item in self.backpack])\n",
        "\n",
        "  def get_backpack_withouth_first_item(self):\n",
        "    return Backpack(self.backpack[1:])\n",
        "\n",
        "  def get_first_item(self):\n",
        "    return self.backpack[0]\n",
        "\n",
        "  def is_empty(self):\n",
        "    return len(self.backpack) == 0\n",
        "\n",
        "  def __str__(self):\n",
        "    return str(self.backpack)\n",
        "\n",
        "  def __repr__(self):\n",
        "    return str(self)"
      ],
      "metadata": {
        "id": "_ZNcbbIttPGc"
      },
      "execution_count": null,
      "outputs": []
    },
    {
      "cell_type": "code",
      "source": [
        "class KnapsackSolver:\n",
        "\n",
        "  def __init__(self, items, capacity):\n",
        "    self.items = items\n",
        "    self.capacity = capacity\n",
        "\n",
        "  def __add_objects_to_backpack_sequentially(self, sorted_items):\n",
        "    curr_weight = 0\n",
        "    backpack = Backpack()\n",
        "    for item in sorted_items:\n",
        "      if item.weight + curr_weight <= self.capacity:\n",
        "        backpack.add_item(item)\n",
        "        curr_weight += item.weight\n",
        "    return backpack\n",
        "\n",
        "  def solve_prioritizing_lighter_items(self):\n",
        "    sorted_items = sorted(self.items, key= lambda x: x.weight)\n",
        "    return self.__add_objects_to_backpack_sequentially(sorted_items)\n",
        "\n",
        "  def solve_prioritizing_more_expensive_items(self):\n",
        "    sorted_items = sorted(self.items, key= lambda x: x.value, reverse=True)\n",
        "    return self.__add_objects_to_backpack_sequentially(sorted_items)\n",
        "\n",
        "  def solve_prioritizing_best_vw_items(self):\n",
        "    sorted_items = sorted(self.items, key= lambda x: x.get_ratio_vw(), reverse=True)\n",
        "    return self.__add_objects_to_backpack_sequentially(sorted_items)\n",
        "\n",
        "  def __knapsack_dp(self, capacity, backpack):\n",
        "    if backpack.is_empty(): return 0\n",
        "    answer = self.__knapsack_dp(capacity, backpack.get_backpack_withouth_first_item())  # Caso en donde NO lo escojo\n",
        "    item = backpack.get_first_item()\n",
        "    if capacity - item.weight >= 0:\n",
        "      answer = max(\n",
        "          answer,\n",
        "          self.__knapsack_dp(capacity - item.weight, backpack.get_backpack_withouth_first_item()) + item.value # Caso en donde SI lo escojo\n",
        "      )\n",
        "    return answer\n",
        "\n",
        "  def solve_with_dp(self):\n",
        "    return self.__knapsack_dp(self.capacity, Backpack(self.items))\n"
      ],
      "metadata": {
        "id": "BBjXSD7hrmQh"
      },
      "execution_count": null,
      "outputs": []
    },
    {
      "cell_type": "code",
      "source": [
        "items = [Item(random.randint(1, 100), random.randint(100, 1000)) for i in range(10)]"
      ],
      "metadata": {
        "id": "_zUxrcFEqz4q"
      },
      "execution_count": null,
      "outputs": []
    },
    {
      "cell_type": "code",
      "source": [
        "items"
      ],
      "metadata": {
        "colab": {
          "base_uri": "https://localhost:8080/"
        },
        "id": "SFfbSKVJrC8r",
        "outputId": "0ba1913a-91da-4346-86cd-2612f3fa36d1"
      },
      "execution_count": null,
      "outputs": [
        {
          "output_type": "execute_result",
          "data": {
            "text/plain": [
              "[<W: 58 kg, V: RD$740>,\n",
              " <W: 76 kg, V: RD$625>,\n",
              " <W: 65 kg, V: RD$973>,\n",
              " <W: 3 kg, V: RD$994>,\n",
              " <W: 68 kg, V: RD$837>,\n",
              " <W: 66 kg, V: RD$176>,\n",
              " <W: 84 kg, V: RD$955>,\n",
              " <W: 61 kg, V: RD$340>,\n",
              " <W: 83 kg, V: RD$801>,\n",
              " <W: 4 kg, V: RD$734>]"
            ]
          },
          "metadata": {},
          "execution_count": 63
        }
      ]
    },
    {
      "cell_type": "code",
      "source": [
        "solver = KnapsackSolver(items, 200)\n",
        "backpack_solution = solver.solve_prioritizing_lighter_items()\n",
        "backpack_solution2 = solver.solve_prioritizing_more_expensive_items()\n",
        "backpack_solution3 = solver.solve_prioritizing_best_vw_items()\n",
        "backpack_solution4 = solver.solve_with_dp()\n",
        "print(\n",
        "    backpack_solution.get_total_value(),\n",
        "    backpack_solution2.get_total_value(),\n",
        "    backpack_solution3.get_total_value(),\n",
        "    backpack_solution4\n",
        ")"
      ],
      "metadata": {
        "colab": {
          "base_uri": "https://localhost:8080/"
        },
        "id": "OvrI3gwDs7K4",
        "outputId": "b1989b68-3ae7-47aa-fa70-6baeb9eb6e97"
      },
      "execution_count": null,
      "outputs": [
        {
          "output_type": "stream",
          "name": "stdout",
          "text": [
            "3781 3656 4278 4278\n"
          ]
        }
      ]
    },
    {
      "cell_type": "code",
      "source": [],
      "metadata": {
        "id": "vKIb_iS9p0Ud"
      },
      "execution_count": null,
      "outputs": []
    }
  ]
}