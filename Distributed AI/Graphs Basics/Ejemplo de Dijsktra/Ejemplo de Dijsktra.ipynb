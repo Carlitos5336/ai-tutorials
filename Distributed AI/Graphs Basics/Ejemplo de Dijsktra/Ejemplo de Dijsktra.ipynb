{
  "nbformat": 4,
  "nbformat_minor": 0,
  "metadata": {
    "colab": {
      "provenance": []
    },
    "kernelspec": {
      "name": "python3",
      "display_name": "Python 3"
    },
    "language_info": {
      "name": "python"
    }
  },
  "cells": [
    {
      "cell_type": "markdown",
      "source": [
        "Pseudocódigo de algoritmo de Dijsktra a implementar\n",
        "```\n",
        "1   function Dijkstra(Graph, source):\n",
        "2       create vertex priority queue Q\n",
        "3\n",
        "4       dist[source] ← 0                          // Initialization\n",
        "5       Q.add_with_priority(source, 0)            // associated priority equals dist[·]\n",
        "6\n",
        "7       for each vertex v in Graph.Vertices:\n",
        "8           if v ≠ source\n",
        "9               prev[v] ← UNDEFINED               // Predecessor of v\n",
        "10              dist[v] ← INFINITY                // Unknown distance from source to v\n",
        "11              Q.add_with_priority(v, INFINITY)\n",
        "12\n",
        "13\n",
        "14      while Q is not empty:                     // The main loop\n",
        "15          u ← Q.extract_min()                   // Remove and return best vertex\n",
        "16          for each neighbor v of u:             // Go through all v neighbors of u\n",
        "17              alt ← dist[u] + Graph.Edges(u, v)\n",
        "18              if alt < dist[v]:\n",
        "19                  prev[v] ← u\n",
        "20                  dist[v] ← alt\n",
        "21                  Q.decrease_priority(v, alt)\n",
        "22\n",
        "23      return dist, prev\n",
        "```\n",
        "\n"
      ],
      "metadata": {
        "id": "SnuwWAHSpwx9"
      }
    },
    {
      "cell_type": "markdown",
      "source": [
        "\n",
        "\n",
        "*   Crear una clase PriorityQueue\n",
        "*   Crear una clase Grafo\n",
        "*   Crear una clase Nodo\n",
        "*   Crear una clase DijsktraSolver\n",
        "\n",
        "\n",
        "\n"
      ],
      "metadata": {
        "id": "peJBQWY8qJLO"
      }
    },
    {
      "cell_type": "code",
      "execution_count": null,
      "metadata": {
        "id": "w8v6MYxpprib"
      },
      "outputs": [],
      "source": [
        "class PriorityQueue():\n",
        "\n",
        "  def __init__(self):\n",
        "    self.queue = []\n",
        "\n",
        "  def push(self, item, priority):\n",
        "    self.queue.append((item, priority))\n",
        "\n",
        "  def __sort(self):\n",
        "    self.queue = sorted(self.queue, key=lambda x:x[1])\n",
        "\n",
        "  def pop(self):\n",
        "    self.__sort()\n",
        "    return self.queue.pop(0)[0]\n",
        "\n",
        "  def decrease_priority(self, search_item, new_priority):\n",
        "    for idx, pack in enumerate(self.queue):\n",
        "      item, priority = pack\n",
        "      if item == search_item and priority > new_priority:\n",
        "        self.queue[idx] = (item, new_priority)\n",
        "        break\n",
        "\n",
        "  def is_empty(self):\n",
        "    return len(self.queue) == 0"
      ]
    },
    {
      "cell_type": "code",
      "source": [
        "class Node():\n",
        "\n",
        "  def __init__(self, name):\n",
        "    self.name = name\n",
        "\n",
        "  def __str__(self):\n",
        "    return self.name\n",
        "\n",
        "  def __repr__(self):\n",
        "    return self.__str__()\n",
        "\n",
        "class Graph():\n",
        "\n",
        "  def __init__(self, from_filepath=None):\n",
        "    self.nodes = []\n",
        "    self.edges = {}\n",
        "    if from_filepath:\n",
        "      self.build_from_file(from_filepath)\n",
        "\n",
        "  def build_from_file(self, filepath):\n",
        "\n",
        "    with open(filepath, \"r\") as f:\n",
        "      lines = f.readlines()\n",
        "\n",
        "    for line in lines:\n",
        "      node1, node2, weight = line.split(\" \")\n",
        "      node1 = Node(node1)\n",
        "      node2 = Node(node2)\n",
        "      weight = int(weight)\n",
        "      self.add_node(node1)\n",
        "      self.add_node(node2)\n",
        "      self.add_edge(node1, node2, weight)\n",
        "\n",
        "  def add_node(self, node, debug=False):\n",
        "    if node.name in self.edges:\n",
        "      if debug: print(\"WARNING: Node already created, skipping...\")\n",
        "      return\n",
        "    self.nodes.append(node)\n",
        "    self.edges[node.name] = {}\n",
        "\n",
        "  def add_edge(self, node1, node2, weight=1, dir=False):\n",
        "    if not dir:\n",
        "      self.edges[node2.name][node1.name] = weight\n",
        "    self.edges[node1.name][node2.name] = weight\n",
        "\n",
        "  def get_weight(self, node1_name, node2_name):\n",
        "    return self.edges[node1_name][node2_name]"
      ],
      "metadata": {
        "id": "wXjGjLz-t2kf"
      },
      "execution_count": null,
      "outputs": []
    },
    {
      "cell_type": "code",
      "source": [
        "class DijsktraSolver():\n",
        "\n",
        "  @staticmethod\n",
        "  def solve(graph: Graph, source: Node) -> dict:\n",
        "\n",
        "    q = PriorityQueue()\n",
        "    dist = {}\n",
        "    prev = {}\n",
        "\n",
        "    dist[source.name] = 0\n",
        "    q.push(source.name, 0)\n",
        "\n",
        "    for node in graph.nodes:\n",
        "      if node.name != source.name:\n",
        "        dist[node.name] = float('inf')\n",
        "        prev[node.name] = None\n",
        "        q.push(node.name, float('inf'))\n",
        "\n",
        "    while not q.is_empty():\n",
        "      curr_node = q.pop()\n",
        "      for neighbor in graph.edges[curr_node]:\n",
        "        alt = dist[curr_node] + graph.get_weight(curr_node, neighbor)\n",
        "        if alt < dist[neighbor]:\n",
        "          prev[neighbor] = curr_node\n",
        "          dist[neighbor] = alt\n",
        "          q.decrease_priority(neighbor, alt)\n",
        "\n",
        "    return dist, prev\n",
        "\n",
        "  @staticmethod\n",
        "  def get_path(tree, source, target):\n",
        "    path = []\n",
        "    while target != source:\n",
        "      path.append(target)\n",
        "      target = tree[target]\n",
        "    path.append(source)\n",
        "    return path[::-1]"
      ],
      "metadata": {
        "id": "RVJI2q8Xv2vl"
      },
      "execution_count": null,
      "outputs": []
    },
    {
      "cell_type": "code",
      "source": [
        "graph = Graph(\"graph.txt\")"
      ],
      "metadata": {
        "id": "4gy6eLJiuzRu"
      },
      "execution_count": null,
      "outputs": []
    },
    {
      "cell_type": "code",
      "source": [
        "graph.nodes[0]"
      ],
      "metadata": {
        "colab": {
          "base_uri": "https://localhost:8080/"
        },
        "id": "-M9zlzGO3MoV",
        "outputId": "d6ec4631-2dfa-46eb-b8e4-59419d275b60"
      },
      "execution_count": null,
      "outputs": [
        {
          "output_type": "execute_result",
          "data": {
            "text/plain": [
              "a"
            ]
          },
          "metadata": {},
          "execution_count": 72
        }
      ]
    },
    {
      "cell_type": "code",
      "source": [
        "dist, tree = DijsktraSolver.solve(graph, graph.nodes[0])\n",
        "dist"
      ],
      "metadata": {
        "colab": {
          "base_uri": "https://localhost:8080/"
        },
        "id": "zUQuJcJpu-yf",
        "outputId": "4d2e244f-9f9d-4572-d8b2-45938c363e85"
      },
      "execution_count": null,
      "outputs": [
        {
          "output_type": "execute_result",
          "data": {
            "text/plain": [
              "{'a': 0, 'b': 2, 'c': 3, 'd': 4, 'e': 2, 'f': 4}"
            ]
          },
          "metadata": {},
          "execution_count": 73
        }
      ]
    },
    {
      "cell_type": "code",
      "source": [
        "for node in tree.keys():\n",
        "  print(node, DijsktraSolver.get_path(tree, 'a', node))"
      ],
      "metadata": {
        "colab": {
          "base_uri": "https://localhost:8080/"
        },
        "id": "Xl5oMTrh5ICL",
        "outputId": "4f883d3e-507f-470f-f205-66bf3adbbcf3"
      },
      "execution_count": null,
      "outputs": [
        {
          "output_type": "stream",
          "name": "stdout",
          "text": [
            "b ['a', 'b']\n",
            "c ['a', 'e', 'c']\n",
            "d ['a', 'e', 'd']\n",
            "e ['a', 'e']\n",
            "f ['a', 'f']\n"
          ]
        }
      ]
    }
  ]
}