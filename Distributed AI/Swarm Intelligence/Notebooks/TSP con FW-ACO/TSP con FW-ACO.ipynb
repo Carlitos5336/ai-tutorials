{
 "cells": [
  {
   "cell_type": "code",
   "execution_count": null,
   "metadata": {
    "id": "_TXQStfxuyqA"
   },
   "outputs": [],
   "source": [
    "import numpy as np\n",
    "\n",
    "class Graph():\n",
    "\n",
    "  def __init__(self):\n",
    "    self.nodes = {}\n",
    "    self.adj_list = {}\n",
    "\n",
    "  def get_nodes_names(self):\n",
    "    return list(self.nodes.keys())\n",
    "\n",
    "  def add_node(self, n):\n",
    "    self.nodes[n] = len(self.nodes)\n",
    "    self.adj_list[n] = {}\n",
    "\n",
    "  def add_edge(self, a, b, d=1, dir=False):\n",
    "    if a not in self.get_nodes_names(): self.add_node(a)\n",
    "    if b not in self.get_nodes_names(): self.add_node(b)\n",
    "    self.adj_list[a][b] = d\n",
    "    if not dir: self.adj_list[b][a] = d\n",
    "\n",
    "  @staticmethod\n",
    "  def floyd_washall_reduction(dm):\n",
    "    distance_matrix = np.copy(dm)\n",
    "    n = distance_matrix.shape[0]\n",
    "    for i in range(n):\n",
    "      distance_matrix[i][i] = 0\n",
    "    for k in range(n):\n",
    "      for j in range(n):\n",
    "        for i in range(n):\n",
    "          distance_matrix[i][j] = min(\n",
    "              distance_matrix[i][j],\n",
    "              distance_matrix[i][k] + distance_matrix[k][j]\n",
    "          )\n",
    "    return distance_matrix\n",
    "\n",
    "  def as_distance_matrix(self, fw=False):\n",
    "    n = len(self.nodes)\n",
    "    distance_matrix = np.full((n,n), np.inf)\n",
    "    for node_a, neighbors in self.adj_list.items():\n",
    "      for node_b, distance in neighbors.items():\n",
    "        distance_matrix[self.nodes[node_a]][self.nodes[node_b]] = distance\n",
    "    if fw: distance_matrix = Graph.floyd_washall_reduction(distance_matrix)\n",
    "    return distance_matrix\n",
    "\n",
    "  @staticmethod\n",
    "  def from_edge_list(edge_list, dir=False):\n",
    "    g = Graph()\n",
    "    for a, b, d in edge_list:\n",
    "      g.add_edge(a, b, d, dir=dir)\n",
    "    return g\n"
   ]
  },
  {
   "cell_type": "code",
   "execution_count": null,
   "metadata": {
    "colab": {
     "base_uri": "https://localhost:8080/"
    },
    "executionInfo": {
     "elapsed": 5,
     "status": "ok",
     "timestamp": 1708896123807,
     "user": {
      "displayName": "Carlos Bienvenido Ogando Montás (Carlitos5336)",
      "userId": "10505299496410393010"
     },
     "user_tz": 240
    },
    "id": "j40DI9PyFkYN",
    "outputId": "c5d93de3-5269-4199-91ef-882a8b5b737f"
   },
   "outputs": [
    {
     "data": {
      "text/plain": [
       "<__main__.Graph at 0x78c2a5b57dc0>"
      ]
     },
     "execution_count": 43,
     "metadata": {},
     "output_type": "execute_result"
    }
   ],
   "source": [
    "with open(\"test.txt\") as f:\n",
    "  g = Graph.from_edge_list([line.split() for line in f.readlines()])\n",
    "g"
   ]
  },
  {
   "cell_type": "code",
   "execution_count": null,
   "metadata": {
    "colab": {
     "base_uri": "https://localhost:8080/"
    },
    "executionInfo": {
     "elapsed": 4,
     "status": "ok",
     "timestamp": 1708896123807,
     "user": {
      "displayName": "Carlos Bienvenido Ogando Montás (Carlitos5336)",
      "userId": "10505299496410393010"
     },
     "user_tz": 240
    },
    "id": "Gu2rIQH-IwCt",
    "outputId": "c84baab3-0811-433f-cedc-5cdcda76b2bd"
   },
   "outputs": [
    {
     "data": {
      "text/plain": [
       "array([[0., 1., 3., 4.],\n",
       "       [1., 0., 2., 5.],\n",
       "       [3., 2., 0., 3.],\n",
       "       [4., 5., 3., 0.]])"
      ]
     },
     "execution_count": 44,
     "metadata": {},
     "output_type": "execute_result"
    }
   ],
   "source": [
    "Graph.floyd_washall_reduction(g.as_distance_matrix())"
   ]
  },
  {
   "cell_type": "code",
   "execution_count": null,
   "metadata": {
    "colab": {
     "base_uri": "https://localhost:8080/"
    },
    "executionInfo": {
     "elapsed": 5,
     "status": "ok",
     "timestamp": 1708896634174,
     "user": {
      "displayName": "Carlos Bienvenido Ogando Montás (Carlitos5336)",
      "userId": "10505299496410393010"
     },
     "user_tz": 240
    },
    "id": "OO1-mZ9rKAs0",
    "outputId": "0eceba62-93e4-4ede-a5a4-7eb95bcc4e9f"
   },
   "outputs": [
    {
     "data": {
      "text/plain": [
       "<networkx.classes.graph.Graph at 0x78c2a5a54d30>"
      ]
     },
     "execution_count": 61,
     "metadata": {},
     "output_type": "execute_result"
    }
   ],
   "source": [
    "import networkx as nx\n",
    "with open(\"test.txt\") as f:\n",
    "  gx = nx.read_weighted_edgelist(f)\n",
    "gx"
   ]
  },
  {
   "cell_type": "code",
   "execution_count": null,
   "metadata": {
    "colab": {
     "base_uri": "https://localhost:8080/"
    },
    "executionInfo": {
     "elapsed": 3,
     "status": "ok",
     "timestamp": 1708896665348,
     "user": {
      "displayName": "Carlos Bienvenido Ogando Montás (Carlitos5336)",
      "userId": "10505299496410393010"
     },
     "user_tz": 240
    },
    "id": "SuL_2DPJKZag",
    "outputId": "4213c95f-7ac7-49d4-de19-d23cf5c163ff"
   },
   "outputs": [
    {
     "data": {
      "text/plain": [
       "array([[0., 1., 3., 4.],\n",
       "       [1., 0., 2., 5.],\n",
       "       [3., 2., 0., 3.],\n",
       "       [4., 5., 3., 0.]])"
      ]
     },
     "execution_count": 64,
     "metadata": {},
     "output_type": "execute_result"
    }
   ],
   "source": [
    "nx.floyd_warshall_numpy(gx)"
   ]
  },
  {
   "cell_type": "code",
   "execution_count": null,
   "metadata": {
    "colab": {
     "base_uri": "https://localhost:8080/",
     "height": 424
    },
    "executionInfo": {
     "elapsed": 988,
     "status": "ok",
     "timestamp": 1708896920766,
     "user": {
      "displayName": "Carlos Bienvenido Ogando Montás (Carlitos5336)",
      "userId": "10505299496410393010"
     },
     "user_tz": 240
    },
    "id": "UsYIHrhjLedH",
    "outputId": "34d6cc8c-5b92-4eee-aa02-c0c50e20ae93"
   },
   "outputs": [
    {
     "name": "stdout",
     "output_type": "stream",
     "text": [
      "\n"
     ]
    },
    {
     "data": {
      "image/png": "[encoded data removed]",
      "text/plain": [
       "<Figure size 640x480 with 1 Axes>"
      ]
     },
     "metadata": {},
     "output_type": "display_data"
    }
   ],
   "source": [
    "pos = nx.spring_layout(gx)\n",
    "labels = nx.get_edge_attributes(gx, 'weight')\n",
    "nx.draw_networkx(gx, pos=pos, with_labels=True)\n",
    "nx.draw_networkx_edge_labels(gx, pos, edge_labels=labels)\n",
    "print()"
   ]
  }
 ],
 "metadata": {
  "colab": {
   "authorship_tag": "ABX9TyMATPqWzQXmBYrfwy9psNHm",
   "provenance": []
  },
  "kernelspec": {
   "display_name": "base",
   "language": "python",
   "name": "python3"
  },
  "language_info": {
   "name": "python",
   "version": "3.8.8"
  }
 },
 "nbformat": 4,
 "nbformat_minor": 0
}
