{
 "cells": [
  {
   "cell_type": "code",
   "execution_count": 27,
   "metadata": {
    "executionInfo": {
     "elapsed": 3,
     "status": "ok",
     "timestamp": 1751738562976,
     "user": {
      "displayName": "Carlos Bienvenido Ogando Montás",
      "userId": "10505299496410393010"
     },
     "user_tz": 240
    },
    "id": "JJ26c0G9TjHG"
   },
   "outputs": [],
   "source": [
    "import numpy as np\n",
    "import matplotlib.pyplot as plt\n",
    "import random"
   ]
  },
  {
   "cell_type": "code",
   "execution_count": 28,
   "metadata": {
    "executionInfo": {
     "elapsed": 64,
     "status": "ok",
     "timestamp": 1751738563045,
     "user": {
      "displayName": "Carlos Bienvenido Ogando Montás",
      "userId": "10505299496410393010"
     },
     "user_tz": 240
    },
    "id": "ocB2Rq7aU4Jh"
   },
   "outputs": [],
   "source": [
    "class Node():\n",
    "\n",
    "  def __init__(self, x, y, demand):\n",
    "    self.x = x\n",
    "    self.y = y\n",
    "    self.demand = demand"
   ]
  },
  {
   "cell_type": "code",
   "execution_count": 29,
   "metadata": {
    "executionInfo": {
     "elapsed": 6,
     "status": "ok",
     "timestamp": 1751738563046,
     "user": {
      "displayName": "Carlos Bienvenido Ogando Montás",
      "userId": "10505299496410393010"
     },
     "user_tz": 240
    },
    "id": "NhDD38qGio4z"
   },
   "outputs": [],
   "source": [
    "class COPKMeans():\n",
    "\n",
    "  def __init__(self):\n",
    "    pass\n",
    "\n",
    "  @staticmethod\n",
    "  def euclidean_distance(x1, y1, x2, y2):\n",
    "    return np.sqrt((x2-x1)**2 + (y2-y1)**2)\n",
    "\n",
    "  def clusterize(self, nodes, n_clusters=5, n_iters=10, capacity=None):\n",
    "\n",
    "    self.n_clusters = n_clusters\n",
    "    self.n_nodes = len(nodes)\n",
    "    centroids = random.sample(nodes, n_clusters)\n",
    "    self.x, self.y = np.array([node.x for node in nodes]), np.array([node.y for node in nodes])\n",
    "    self.cx, self.cy = np.array([node.x for node in centroids]), np.array([node.y for node in centroids])\n",
    "\n",
    "    for _ in range(n_iters):\n",
    "      if capacity is None: center_asig = self.__iteration_step()\n",
    "      else: center_asig = self.__iteration_step_constrained(nodes, capacity)\n",
    "\n",
    "    self.__plot(center_asig, nodes)\n",
    "\n",
    "    return center_asig\n",
    "\n",
    "  def __iteration_step(self):\n",
    "    distances = np.full((self.n_nodes, self.n_clusters), np.inf)\n",
    "    for i in range(self.n_nodes):\n",
    "      for j in range(self.n_clusters):\n",
    "        distances[i][j] = COPKMeans.euclidean_distance(self.x[i], self.y[i], self.cx[j], self.cy[j])\n",
    "    cent_asig = np.argmin(distances, axis=1)\n",
    "    for i in range(self.n_clusters):\n",
    "      self.cx[i] = np.mean(self.x[cent_asig == i])\n",
    "      self.cy[i] = np.mean(self.y[cent_asig == i])\n",
    "    return cent_asig\n",
    "\n",
    "  def __iteration_step_constrained(self, nodes, capacity):\n",
    "    distances = np.full((self.n_nodes, self.n_clusters), np.inf)\n",
    "    demand = np.zeros((self.n_nodes, self.n_clusters))\n",
    "    for i in range(self.n_nodes):\n",
    "      for j in range(self.n_clusters):\n",
    "        distances[i][j] = COPKMeans.euclidean_distance(self.x[i], self.y[i], self.cx[j], self.cy[j])\n",
    "    cent_asig = np.argmin(distances, axis=1)\n",
    "    for i in range(self.n_clusters):\n",
    "      self.cx[i] = np.mean(self.x[cent_asig == i])\n",
    "      self.cy[i] = np.mean(self.y[cent_asig == i])\n",
    "    return cent_asig\n",
    "\n",
    "  def __plot(self, cent_asig, nodes):\n",
    "    plt.scatter(self.cx, self.cy, c=[i for i in range(self.n_clusters)], marker=\"x\")\n",
    "    plt.scatter(self.x, self.y, c=cent_asig)\n",
    "    for i, txt in enumerate([node.demand for node in nodes]):\n",
    "        plt.annotate(txt, (self.x[i], self.y[i]))\n",
    "    plt.show()"
   ]
  },
  {
   "cell_type": "code",
   "execution_count": 30,
   "metadata": {
    "executionInfo": {
     "elapsed": 5,
     "status": "ok",
     "timestamp": 1751738563047,
     "user": {
      "displayName": "Carlos Bienvenido Ogando Montás",
      "userId": "10505299496410393010"
     },
     "user_tz": 240
    },
    "id": "2MJZ45IbU_Kq"
   },
   "outputs": [],
   "source": [
    "minv = 0\n",
    "maxv = 100\n",
    "cnt = 20\n",
    "capacity = 200\n",
    "nodes = [Node(random.randint(minv, maxv), random.randint(minv, maxv), random.randint(minv, maxv)) for i in range(cnt)]\n",
    "depot = Node(50, 50, 0)"
   ]
  },
  {
   "cell_type": "code",
   "execution_count": 31,
   "metadata": {
    "colab": {
     "base_uri": "https://localhost:8080/",
     "height": 430
    },
    "executionInfo": {
     "elapsed": 175,
     "status": "ok",
     "timestamp": 1751738563223,
     "user": {
      "displayName": "Carlos Bienvenido Ogando Montás",
      "userId": "10505299496410393010"
     },
     "user_tz": 240
    },
    "id": "q7e5tXaIyihI",
    "outputId": "31a94e15-2946-4bee-e1e3-e9f7d7b8a534"
   },
   "outputs": [
    {
     "data": {
      "image/png": "[encoded data removed]",
      "text/plain": [
       "<Figure size 640x480 with 1 Axes>"
      ]
     },
     "metadata": {},
     "output_type": "display_data"
    }
   ],
   "source": [
    "clusterizer = COPKMeans()\n",
    "clusters = clusterizer.clusterize(nodes, capacity=capacity)"
   ]
  }
 ],
 "metadata": {
  "colab": {
   "authorship_tag": "ABX9TyMJTnTFAJy0l2ScHSsQl4hb",
   "provenance": []
  },
  "kernelspec": {
   "display_name": "Python 3",
   "name": "python3"
  },
  "language_info": {
   "name": "python"
  }
 },
 "nbformat": 4,
 "nbformat_minor": 0
}
