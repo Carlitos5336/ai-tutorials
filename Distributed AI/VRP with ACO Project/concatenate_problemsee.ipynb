{
 "cells": [
  {
   "cell_type": "code",
   "execution_count": 1,
   "metadata": {},
   "outputs": [],
   "source": [
    "import pandas as pd"
   ]
  },
  {
   "cell_type": "code",
   "execution_count": 2,
   "metadata": {},
   "outputs": [],
   "source": [
    "df_bf = pd.read_parquet(\"results_bf.parquet\")\n",
    "df_aco = pd.read_parquet(\"results_aco.parquet\")\n",
    "df_cw = pd.read_parquet(\"results_cw.parquet\")"
   ]
  },
  {
   "cell_type": "code",
   "execution_count": 8,
   "metadata": {},
   "outputs": [],
   "source": [
    "df_problemset = pd.read_excel(\"raw_problemset.xlsx\")"
   ]
  },
  {
   "cell_type": "code",
   "execution_count": 19,
   "metadata": {},
   "outputs": [],
   "source": [
    "df_new = pd.concat([\n",
    "    df_problemset.iloc[:, 1:],\n",
    "    df_bf.iloc[:, -3:],\n",
    "    df_cw.iloc[:, -3:],\n",
    "    df_aco.iloc[:, -3:]\n",
    "], axis=1)\n",
    "df_new.to_excel(\"problemset/problemset.xlsx\", index=False)"
   ]
  }
 ],
 "metadata": {
  "kernelspec": {
   "display_name": "sandbox",
   "language": "python",
   "name": "python3"
  },
  "language_info": {
   "codemirror_mode": {
    "name": "ipython",
    "version": 3
   },
   "file_extension": ".py",
   "mimetype": "text/x-python",
   "name": "python",
   "nbconvert_exporter": "python",
   "pygments_lexer": "ipython3",
   "version": "3.11.7"
  }
 },
 "nbformat": 4,
 "nbformat_minor": 2
}
