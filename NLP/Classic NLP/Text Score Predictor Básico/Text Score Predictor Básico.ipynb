{
 "cells": [
  {
   "cell_type": "code",
   "execution_count": null,
   "metadata": {
    "colab": {
     "base_uri": "https://localhost:8080/"
    },
    "executionInfo": {
     "elapsed": 7593,
     "status": "ok",
     "timestamp": 1700178013375,
     "user": {
      "displayName": "Carlos Bienvenido Ogando Montás (Carlitos5336)",
      "userId": "10505299496410393010"
     },
     "user_tz": 240
    },
    "id": "JhfbvJNSdkCp",
    "outputId": "699ffb77-a61e-426d-bedf-f806d667f8a6"
   },
   "outputs": [],
   "source": [
    "!pip install py3langid"
   ]
  },
  {
   "cell_type": "code",
   "execution_count": null,
   "metadata": {
    "executionInfo": {
     "elapsed": 2,
     "status": "ok",
     "timestamp": 1700178916444,
     "user": {
      "displayName": "Carlos Bienvenido Ogando Montás (Carlitos5336)",
      "userId": "10505299496410393010"
     },
     "user_tz": 240
    },
    "id": "KY7RH8sJL8pj"
   },
   "outputs": [],
   "source": [
    "import pandas as pd\n",
    "import nltk\n",
    "import py3langid as langid\n",
    "from nltk.tokenize import word_tokenize\n",
    "from nltk.stem import WordNetLemmatizer\n",
    "from nltk.stem import PorterStemmer\n",
    "from nltk.tag import pos_tag\n",
    "from nltk.probability import FreqDist\n",
    "import pickle\n",
    "\n",
    "import numpy as np\n",
    "import matplotlib.pyplot as plt"
   ]
  },
  {
   "cell_type": "code",
   "execution_count": null,
   "metadata": {
    "colab": {
     "base_uri": "https://localhost:8080/"
    },
    "executionInfo": {
     "elapsed": 1582,
     "status": "ok",
     "timestamp": 1700178017267,
     "user": {
      "displayName": "Carlos Bienvenido Ogando Montás (Carlitos5336)",
      "userId": "10505299496410393010"
     },
     "user_tz": 240
    },
    "id": "DSLtOc4yYziJ",
    "outputId": "0a095a46-98b7-497d-b0d1-53b39d376d89"
   },
   "outputs": [],
   "source": [
    "nltk.download(\"stopwords\")\n",
    "nltk.download(\"punkt\")\n",
    "nltk.download(\"names\")\n",
    "nltk.download(\"wordnet\")\n",
    "nltk.download('averaged_perceptron_tagger')\n",
    "nltk.download('averaged_perceptron_tagger_eng')\n",
    "nltk.download('tagsets')\n",
    "nltk.download('tagsets_json')\n",
    "nltk.download('punkt_tab')"
   ]
  },
  {
   "cell_type": "code",
   "execution_count": null,
   "metadata": {
    "executionInfo": {
     "elapsed": 178,
     "status": "ok",
     "timestamp": 1700178019142,
     "user": {
      "displayName": "Carlos Bienvenido Ogando Montás (Carlitos5336)",
      "userId": "10505299496410393010"
     },
     "user_tz": 240
    },
    "id": "fMkizd30Z9Np"
   },
   "outputs": [],
   "source": [
    "stopwords = nltk.corpus.stopwords.words(\"english\")\n",
    "names = nltk.corpus.names.words()"
   ]
  },
  {
   "cell_type": "code",
   "execution_count": null,
   "metadata": {
    "colab": {
     "base_uri": "https://localhost:8080/",
     "height": 614
    },
    "executionInfo": {
     "elapsed": 202,
     "status": "ok",
     "timestamp": 1700182429804,
     "user": {
      "displayName": "Carlos Bienvenido Ogando Montás (Carlitos5336)",
      "userId": "10505299496410393010"
     },
     "user_tz": 240
    },
    "id": "JNk5zSZvYBJV",
    "outputId": "40889641-34c4-4881-b66d-b91e449aafd6"
   },
   "outputs": [],
   "source": [
    "df = pd.read_csv(\"restaurant_reviews.csv\")\n",
    "df"
   ]
  },
  {
   "cell_type": "code",
   "execution_count": null,
   "metadata": {
    "executionInfo": {
     "elapsed": 1,
     "status": "ok",
     "timestamp": 1700182433134,
     "user": {
      "displayName": "Carlos Bienvenido Ogando Montás (Carlitos5336)",
      "userId": "10505299496410393010"
     },
     "user_tz": 240
    },
    "id": "d5DudGkDgwZ3"
   },
   "outputs": [],
   "source": [
    "df = df[df[\"Rating\"] != \"Like\"]"
   ]
  },
  {
   "cell_type": "code",
   "execution_count": null,
   "metadata": {
    "executionInfo": {
     "elapsed": 1,
     "status": "ok",
     "timestamp": 1700182435366,
     "user": {
      "displayName": "Carlos Bienvenido Ogando Montás (Carlitos5336)",
      "userId": "10505299496410393010"
     },
     "user_tz": 240
    },
    "id": "WCssr_oGhI0i"
   },
   "outputs": [],
   "source": [
    "df = df[[\"Review\", \"Rating\", \"Time\"]]"
   ]
  },
  {
   "cell_type": "code",
   "execution_count": null,
   "metadata": {
    "executionInfo": {
     "elapsed": 167,
     "status": "ok",
     "timestamp": 1700182437840,
     "user": {
      "displayName": "Carlos Bienvenido Ogando Montás (Carlitos5336)",
      "userId": "10505299496410393010"
     },
     "user_tz": 240
    },
    "id": "374KZoWthMiR"
   },
   "outputs": [],
   "source": [
    "df[\"Rating\"] = df[\"Rating\"].astype(\"float64\")"
   ]
  },
  {
   "cell_type": "code",
   "execution_count": null,
   "metadata": {
    "executionInfo": {
     "elapsed": 1,
     "status": "ok",
     "timestamp": 1700182440468,
     "user": {
      "displayName": "Carlos Bienvenido Ogando Montás (Carlitos5336)",
      "userId": "10505299496410393010"
     },
     "user_tz": 240
    },
    "id": "uRme7pkHiAkV"
   },
   "outputs": [],
   "source": [
    "df = df[~df[\"Review\"].isna()]"
   ]
  },
  {
   "cell_type": "code",
   "execution_count": null,
   "metadata": {
    "colab": {
     "base_uri": "https://localhost:8080/"
    },
    "executionInfo": {
     "elapsed": 303,
     "status": "ok",
     "timestamp": 1700182441786,
     "user": {
      "displayName": "Carlos Bienvenido Ogando Montás (Carlitos5336)",
      "userId": "10505299496410393010"
     },
     "user_tz": 240
    },
    "id": "mudkdVF-hAJQ",
    "outputId": "164f4f2b-7d72-4544-9351-01f6a5d2e5d0"
   },
   "outputs": [],
   "source": [
    "df.info()"
   ]
  },
  {
   "cell_type": "code",
   "execution_count": null,
   "metadata": {
    "colab": {
     "base_uri": "https://localhost:8080/",
     "height": 451
    },
    "executionInfo": {
     "elapsed": 474,
     "status": "ok",
     "timestamp": 1700178250252,
     "user": {
      "displayName": "Carlos Bienvenido Ogando Montás (Carlitos5336)",
      "userId": "10505299496410393010"
     },
     "user_tz": 240
    },
    "id": "Kh4Fe3M7gp2e",
    "outputId": "d34b4178-8bf9-4610-8e1d-789a8a6f04a5"
   },
   "outputs": [],
   "source": [
    "df[\"Rating\"].hist()"
   ]
  },
  {
   "cell_type": "code",
   "execution_count": null,
   "metadata": {
    "executionInfo": {
     "elapsed": 1701,
     "status": "ok",
     "timestamp": 1700182528211,
     "user": {
      "displayName": "Carlos Bienvenido Ogando Montás (Carlitos5336)",
      "userId": "10505299496410393010"
     },
     "user_tz": 240
    },
    "id": "ymB_E1sHw8GW"
   },
   "outputs": [],
   "source": [
    "df[\"Time\"] = pd.to_datetime(df[\"Time\"])"
   ]
  },
  {
   "cell_type": "code",
   "execution_count": null,
   "metadata": {
    "executionInfo": {
     "elapsed": 180,
     "status": "ok",
     "timestamp": 1700182766144,
     "user": {
      "displayName": "Carlos Bienvenido Ogando Montás (Carlitos5336)",
      "userId": "10505299496410393010"
     },
     "user_tz": 240
    },
    "id": "GosY7-2KxpJD"
   },
   "outputs": [],
   "source": [
    "df[\"Hour\"] = df[\"Time\"].dt.hour"
   ]
  },
  {
   "cell_type": "code",
   "execution_count": null,
   "metadata": {
    "executionInfo": {
     "elapsed": 169,
     "status": "ok",
     "timestamp": 1700182811983,
     "user": {
      "displayName": "Carlos Bienvenido Ogando Montás (Carlitos5336)",
      "userId": "10505299496410393010"
     },
     "user_tz": 240
    },
    "id": "1qLH_ZWmykZg"
   },
   "outputs": [],
   "source": [
    "df[\"Weekday\"] = df[\"Time\"].dt.weekday"
   ]
  },
  {
   "cell_type": "code",
   "execution_count": null,
   "metadata": {
    "executionInfo": {
     "elapsed": 1,
     "status": "ok",
     "timestamp": 1700183070705,
     "user": {
      "displayName": "Carlos Bienvenido Ogando Montás (Carlitos5336)",
      "userId": "10505299496410393010"
     },
     "user_tz": 240
    },
    "id": "mBy57vrAzqbI"
   },
   "outputs": [],
   "source": [
    "df[\"Month\"] = df[\"Time\"].dt.month"
   ]
  },
  {
   "cell_type": "code",
   "execution_count": null,
   "metadata": {
    "colab": {
     "base_uri": "https://localhost:8080/",
     "height": 423
    },
    "executionInfo": {
     "elapsed": 4,
     "status": "ok",
     "timestamp": 1700183071697,
     "user": {
      "displayName": "Carlos Bienvenido Ogando Montás (Carlitos5336)",
      "userId": "10505299496410393010"
     },
     "user_tz": 240
    },
    "id": "IbJ890uNyjqh",
    "outputId": "9440af2a-122f-4cf9-f7c6-964498bc3be6"
   },
   "outputs": [],
   "source": [
    "df"
   ]
  },
  {
   "cell_type": "code",
   "execution_count": null,
   "metadata": {
    "colab": {
     "base_uri": "https://localhost:8080/",
     "height": 496
    },
    "executionInfo": {
     "elapsed": 1409,
     "status": "ok",
     "timestamp": 1700183079103,
     "user": {
      "displayName": "Carlos Bienvenido Ogando Montás (Carlitos5336)",
      "userId": "10505299496410393010"
     },
     "user_tz": 240
    },
    "id": "AXi8RrXzzGZk",
    "outputId": "71da954a-da1c-49bd-e109-15f6cdc90db1"
   },
   "outputs": [],
   "source": [
    "df.boxplot(\"Rating\", by=\"Month\")"
   ]
  },
  {
   "cell_type": "code",
   "execution_count": null,
   "metadata": {
    "colab": {
     "base_uri": "https://localhost:8080/",
     "height": 423
    },
    "executionInfo": {
     "elapsed": 4700,
     "status": "ok",
     "timestamp": 1700178440376,
     "user": {
      "displayName": "Carlos Bienvenido Ogando Montás (Carlitos5336)",
      "userId": "10505299496410393010"
     },
     "user_tz": 240
    },
    "id": "eRGQ2qjUYHXo",
    "outputId": "811b0272-e233-4fcb-9a57-6d3caa54fa4e"
   },
   "outputs": [],
   "source": [
    "df[\"Language\"] = df[\"Review\"].apply(lambda x: langid.classify(x)[0])\n",
    "df"
   ]
  },
  {
   "cell_type": "code",
   "execution_count": null,
   "metadata": {
    "colab": {
     "base_uri": "https://localhost:8080/",
     "height": 423
    },
    "executionInfo": {
     "elapsed": 197,
     "status": "ok",
     "timestamp": 1700178482869,
     "user": {
      "displayName": "Carlos Bienvenido Ogando Montás (Carlitos5336)",
      "userId": "10505299496410393010"
     },
     "user_tz": 240
    },
    "id": "Qlg8i23HjkpC",
    "outputId": "2c0619d1-72e8-444b-d32b-ab143869c8f2"
   },
   "outputs": [],
   "source": [
    "df = df[df[\"Language\"] == \"en\"]\n",
    "df"
   ]
  },
  {
   "cell_type": "code",
   "execution_count": null,
   "metadata": {
    "colab": {
     "base_uri": "https://localhost:8080/"
    },
    "executionInfo": {
     "elapsed": 216,
     "status": "ok",
     "timestamp": 1700179504336,
     "user": {
      "displayName": "Carlos Bienvenido Ogando Montás (Carlitos5336)",
      "userId": "10505299496410393010"
     },
     "user_tz": 240
    },
    "id": "SfMO6Y2jlyF4",
    "outputId": "d86ea10a-f1d6-4678-9593-9cff1e729bf3"
   },
   "outputs": [],
   "source": [
    "df[\"Rank\"] = df[\"Rating\"].rank(method=\"first\")"
   ]
  },
  {
   "cell_type": "code",
   "execution_count": null,
   "metadata": {
    "colab": {
     "base_uri": "https://localhost:8080/"
    },
    "executionInfo": {
     "elapsed": 190,
     "status": "ok",
     "timestamp": 1700180391648,
     "user": {
      "displayName": "Carlos Bienvenido Ogando Montás (Carlitos5336)",
      "userId": "10505299496410393010"
     },
     "user_tz": 240
    },
    "id": "ePae-jzOlZSD",
    "outputId": "33253f5d-26c0-4d8e-80fb-d8ab71a4a3d4"
   },
   "outputs": [],
   "source": [
    "df[\"Quartile\"] = pd.qcut(df[\"Rank\"], 4, labels=[1, 2, 3, 4])"
   ]
  },
  {
   "cell_type": "code",
   "execution_count": null,
   "metadata": {
    "executionInfo": {
     "elapsed": 175,
     "status": "ok",
     "timestamp": 1700178485976,
     "user": {
      "displayName": "Carlos Bienvenido Ogando Montás (Carlitos5336)",
      "userId": "10505299496410393010"
     },
     "user_tz": 240
    },
    "id": "n8oe91TdhxoN"
   },
   "outputs": [],
   "source": [
    "lemmatizer = WordNetLemmatizer()\n",
    "stemmer = PorterStemmer()"
   ]
  },
  {
   "cell_type": "code",
   "execution_count": null,
   "metadata": {
    "executionInfo": {
     "elapsed": 763,
     "status": "ok",
     "timestamp": 1700178552730,
     "user": {
      "displayName": "Carlos Bienvenido Ogando Montás (Carlitos5336)",
      "userId": "10505299496410393010"
     },
     "user_tz": 240
    },
    "id": "eFqRrZTKoLU5"
   },
   "outputs": [],
   "source": [
    "tokens_unwanted = []"
   ]
  },
  {
   "cell_type": "code",
   "execution_count": null,
   "metadata": {
    "executionInfo": {
     "elapsed": 1,
     "status": "ok",
     "timestamp": 1700178553939,
     "user": {
      "displayName": "Carlos Bienvenido Ogando Montás (Carlitos5336)",
      "userId": "10505299496410393010"
     },
     "user_tz": 240
    },
    "id": "pG-oMAB_aG5a"
   },
   "outputs": [],
   "source": [
    "def get_tokens(text):\n",
    "\n",
    "  tokens = word_tokenize(text)\n",
    "  cleaned_tokens = []\n",
    "\n",
    "  for token in tokens:\n",
    "    if token in stopwords: continue\n",
    "    if token in names: continue\n",
    "    if not token.isalpha(): continue\n",
    "    if token in tokens_unwanted: continue\n",
    "    token = token.lower()\n",
    "    token = lemmatizer.lemmatize(token)\n",
    "    cleaned_tokens.append(token)\n",
    "\n",
    "  cleaned_tokens = [i[0] for i in pos_tag(cleaned_tokens) if i[1][:2] in [\"NN\", \"VB\", \"RB\", \"JJ\"]]\n",
    "\n",
    "  return cleaned_tokens\n"
   ]
  },
  {
   "cell_type": "code",
   "execution_count": null,
   "metadata": {
    "executionInfo": {
     "elapsed": 89597,
     "status": "ok",
     "timestamp": 1700180730809,
     "user": {
      "displayName": "Carlos Bienvenido Ogando Montás (Carlitos5336)",
      "userId": "10505299496410393010"
     },
     "user_tz": 240
    },
    "id": "dEnipyYpm6F3"
   },
   "outputs": [],
   "source": [
    "full_vocabulary = []\n",
    "vocabulary = {category:[] for category in df[\"Quartile\"].unique()}\n",
    "for _, row in df.iterrows():\n",
    "  tokens = get_tokens(row[\"Review\"])\n",
    "  full_vocabulary += tokens\n",
    "  vocabulary[row[\"Quartile\"]] += tokens"
   ]
  },
  {
   "cell_type": "code",
   "execution_count": null,
   "metadata": {
    "colab": {
     "base_uri": "https://localhost:8080/"
    },
    "executionInfo": {
     "elapsed": 418,
     "status": "ok",
     "timestamp": 1700180786353,
     "user": {
      "displayName": "Carlos Bienvenido Ogando Montás (Carlitos5336)",
      "userId": "10505299496410393010"
     },
     "user_tz": 240
    },
    "id": "HGjXdgmkqLHz",
    "outputId": "50a563cd-9ab5-410d-b99b-0e9f6a495eb2"
   },
   "outputs": [],
   "source": [
    "FreqDist(full_vocabulary).most_common(20)"
   ]
  },
  {
   "cell_type": "code",
   "execution_count": null,
   "metadata": {
    "colab": {
     "base_uri": "https://localhost:8080/"
    },
    "executionInfo": {
     "elapsed": 187,
     "status": "ok",
     "timestamp": 1700180821731,
     "user": {
      "displayName": "Carlos Bienvenido Ogando Montás (Carlitos5336)",
      "userId": "10505299496410393010"
     },
     "user_tz": 240
    },
    "id": "fBQGbl4npgG7",
    "outputId": "65d97b12-cfad-4179-a8f4-65de6b1a38d6"
   },
   "outputs": [],
   "source": [
    "FreqDist(vocabulary[4]).most_common(20)"
   ]
  },
  {
   "cell_type": "code",
   "execution_count": null,
   "metadata": {
    "executionInfo": {
     "elapsed": 982,
     "status": "ok",
     "timestamp": 1700181144703,
     "user": {
      "displayName": "Carlos Bienvenido Ogando Montás (Carlitos5336)",
      "userId": "10505299496410393010"
     },
     "user_tz": 240
    },
    "id": "T5GGUueHn0bd"
   },
   "outputs": [],
   "source": [
    "most_common_tokens = set()\n",
    "\n",
    "for quartile in df[\"Quartile\"].unique():\n",
    "  most_common_quartile_tokens = [i[0] for i in FreqDist(vocabulary[quartile]).most_common(250)]\n",
    "  most_common_tokens = most_common_tokens.union(set(most_common_quartile_tokens))"
   ]
  },
  {
   "cell_type": "code",
   "execution_count": null,
   "metadata": {
    "colab": {
     "base_uri": "https://localhost:8080/"
    },
    "executionInfo": {
     "elapsed": 206,
     "status": "ok",
     "timestamp": 1700181145747,
     "user": {
      "displayName": "Carlos Bienvenido Ogando Montás (Carlitos5336)",
      "userId": "10505299496410393010"
     },
     "user_tz": 240
    },
    "id": "fht8jqkzwHaG",
    "outputId": "e578c0f2-d971-4ddc-f33d-1e74643c1a57"
   },
   "outputs": [],
   "source": [
    "print(len(list(most_common_tokens)))"
   ]
  },
  {
   "cell_type": "code",
   "execution_count": null,
   "metadata": {
    "executionInfo": {
     "elapsed": 178,
     "status": "ok",
     "timestamp": 1700181950937,
     "user": {
      "displayName": "Carlos Bienvenido Ogando Montás (Carlitos5336)",
      "userId": "10505299496410393010"
     },
     "user_tz": 240
    },
    "id": "nT5GwXTJvW0E"
   },
   "outputs": [],
   "source": [
    "with open(f\"most_common.tokens\", \"wb\") as file:\n",
    "  pickle.dump(most_common_tokens, file)"
   ]
  },
  {
   "cell_type": "code",
   "execution_count": null,
   "metadata": {
    "executionInfo": {
     "elapsed": 175,
     "status": "ok",
     "timestamp": 1700181174839,
     "user": {
      "displayName": "Carlos Bienvenido Ogando Montás (Carlitos5336)",
      "userId": "10505299496410393010"
     },
     "user_tz": 240
    },
    "id": "dvRPfe6Wv0DL"
   },
   "outputs": [],
   "source": [
    "def get_tokens_training(text):\n",
    "\n",
    "  tokens = word_tokenize(text)\n",
    "  cleaned_tokens = []\n",
    "\n",
    "  for token in tokens:\n",
    "    if token in stopwords: continue\n",
    "    if token in names: continue\n",
    "    if not token.isalpha(): continue\n",
    "    token = token.lower()\n",
    "    token = lemmatizer.lemmatize(token)\n",
    "    if token not in most_common_tokens: continue\n",
    "    cleaned_tokens.append(token)\n",
    "\n",
    "  return \" \".join(cleaned_tokens)\n"
   ]
  },
  {
   "cell_type": "code",
   "execution_count": null,
   "metadata": {
    "executionInfo": {
     "elapsed": 175,
     "status": "ok",
     "timestamp": 1700181181958,
     "user": {
      "displayName": "Carlos Bienvenido Ogando Montás (Carlitos5336)",
      "userId": "10505299496410393010"
     },
     "user_tz": 240
    },
    "id": "pAwBkl5uygA0"
   },
   "outputs": [],
   "source": [
    "from sklearn.feature_extraction.text import TfidfVectorizer"
   ]
  },
  {
   "cell_type": "code",
   "execution_count": null,
   "metadata": {
    "executionInfo": {
     "elapsed": 181,
     "status": "ok",
     "timestamp": 1700181185801,
     "user": {
      "displayName": "Carlos Bienvenido Ogando Montás (Carlitos5336)",
      "userId": "10505299496410393010"
     },
     "user_tz": 240
    },
    "id": "gs32VMDfzHkJ"
   },
   "outputs": [],
   "source": [
    "df = df.reset_index(drop=True)"
   ]
  },
  {
   "cell_type": "code",
   "execution_count": null,
   "metadata": {
    "colab": {
     "base_uri": "https://localhost:8080/",
     "height": 597
    },
    "executionInfo": {
     "elapsed": 77329,
     "status": "ok",
     "timestamp": 1700181281759,
     "user": {
      "displayName": "Carlos Bienvenido Ogando Montás (Carlitos5336)",
      "userId": "10505299496410393010"
     },
     "user_tz": 240
    },
    "id": "p0dPU4-vysd1",
    "outputId": "41c07e7e-a946-45ee-b18a-95a0057e9e67"
   },
   "outputs": [],
   "source": [
    "df[\"Tokens String\"] = df[\"Review\"].apply(lambda x: get_tokens_training(x))\n",
    "df"
   ]
  },
  {
   "cell_type": "code",
   "execution_count": null,
   "metadata": {
    "executionInfo": {
     "elapsed": 364,
     "status": "ok",
     "timestamp": 1700181291133,
     "user": {
      "displayName": "Carlos Bienvenido Ogando Montás (Carlitos5336)",
      "userId": "10505299496410393010"
     },
     "user_tz": 240
    },
    "id": "CeYvvioryoet"
   },
   "outputs": [],
   "source": [
    "vectorizer = TfidfVectorizer(vocabulary=most_common_tokens)\n",
    "X = vectorizer.fit_transform(df[\"Tokens String\"])"
   ]
  },
  {
   "cell_type": "code",
   "execution_count": null,
   "metadata": {
    "executionInfo": {
     "elapsed": 183,
     "status": "ok",
     "timestamp": 1700181755620,
     "user": {
      "displayName": "Carlos Bienvenido Ogando Montás (Carlitos5336)",
      "userId": "10505299496410393010"
     },
     "user_tz": 240
    },
    "id": "lJ2aOlOWujXW"
   },
   "outputs": [],
   "source": [
    "with open(\"vectorizer.pkl\", \"wb\") as file:\n",
    "  pickle.dump(vectorizer, file)"
   ]
  },
  {
   "cell_type": "code",
   "execution_count": null,
   "metadata": {
    "executionInfo": {
     "elapsed": 182,
     "status": "ok",
     "timestamp": 1700181308484,
     "user": {
      "displayName": "Carlos Bienvenido Ogando Montás (Carlitos5336)",
      "userId": "10505299496410393010"
     },
     "user_tz": 240
    },
    "id": "127zv69czZFy"
   },
   "outputs": [],
   "source": [
    "y = df[\"Rating\"]"
   ]
  },
  {
   "cell_type": "code",
   "execution_count": null,
   "metadata": {
    "executionInfo": {
     "elapsed": 186,
     "status": "ok",
     "timestamp": 1700181390974,
     "user": {
      "displayName": "Carlos Bienvenido Ogando Montás (Carlitos5336)",
      "userId": "10505299496410393010"
     },
     "user_tz": 240
    },
    "id": "1qkr7RxU0CGI"
   },
   "outputs": [],
   "source": [
    "from sklearn.ensemble import AdaBoostRegressor\n",
    "from sklearn.model_selection import train_test_split\n",
    "from sklearn.metrics import mean_squared_error, mean_absolute_error, r2_score"
   ]
  },
  {
   "cell_type": "code",
   "execution_count": null,
   "metadata": {
    "executionInfo": {
     "elapsed": 169,
     "status": "ok",
     "timestamp": 1700181407774,
     "user": {
      "displayName": "Carlos Bienvenido Ogando Montás (Carlitos5336)",
      "userId": "10505299496410393010"
     },
     "user_tz": 240
    },
    "id": "t9Hkm8NO0G_v"
   },
   "outputs": [],
   "source": [
    "X_train, X_test, y_train, y_test = train_test_split(X, y, test_size=0.2, random_state=0)"
   ]
  },
  {
   "cell_type": "code",
   "execution_count": null,
   "metadata": {
    "colab": {
     "base_uri": "https://localhost:8080/"
    },
    "executionInfo": {
     "elapsed": 191,
     "status": "ok",
     "timestamp": 1700181409409,
     "user": {
      "displayName": "Carlos Bienvenido Ogando Montás (Carlitos5336)",
      "userId": "10505299496410393010"
     },
     "user_tz": 240
    },
    "id": "56sr9YtY1fYS",
    "outputId": "66ddf93d-7243-4a65-f1cc-67409eafaa78"
   },
   "outputs": [],
   "source": [
    "X_train"
   ]
  },
  {
   "cell_type": "code",
   "execution_count": null,
   "metadata": {
    "executionInfo": {
     "elapsed": 169,
     "status": "ok",
     "timestamp": 1700181424294,
     "user": {
      "displayName": "Carlos Bienvenido Ogando Montás (Carlitos5336)",
      "userId": "10505299496410393010"
     },
     "user_tz": 240
    },
    "id": "uZaVXdM3oTqv"
   },
   "outputs": [],
   "source": [
    "model = AdaBoostRegressor()"
   ]
  },
  {
   "cell_type": "code",
   "execution_count": null,
   "metadata": {
    "colab": {
     "base_uri": "https://localhost:8080/",
     "height": 74
    },
    "executionInfo": {
     "elapsed": 4810,
     "status": "ok",
     "timestamp": 1700181432985,
     "user": {
      "displayName": "Carlos Bienvenido Ogando Montás (Carlitos5336)",
      "userId": "10505299496410393010"
     },
     "user_tz": 240
    },
    "id": "azrgcWTkpC41",
    "outputId": "119a3535-b9d0-4d44-ce1a-aea3dde7e436"
   },
   "outputs": [],
   "source": [
    "model.fit(X_train.toarray(), y_train)"
   ]
  },
  {
   "cell_type": "code",
   "execution_count": null,
   "metadata": {
    "colab": {
     "base_uri": "https://localhost:8080/"
    },
    "executionInfo": {
     "elapsed": 2,
     "status": "ok",
     "timestamp": 1700181432985,
     "user": {
      "displayName": "Carlos Bienvenido Ogando Montás (Carlitos5336)",
      "userId": "10505299496410393010"
     },
     "user_tz": 240
    },
    "id": "hxj5I3qdrN5s",
    "outputId": "9f94a46d-ef19-4269-85d6-f1c6c32523aa"
   },
   "outputs": [],
   "source": [
    "model.predict(X_test.toarray())"
   ]
  },
  {
   "cell_type": "code",
   "execution_count": null,
   "metadata": {
    "colab": {
     "base_uri": "https://localhost:8080/"
    },
    "executionInfo": {
     "elapsed": 202,
     "status": "ok",
     "timestamp": 1700181446183,
     "user": {
      "displayName": "Carlos Bienvenido Ogando Montás (Carlitos5336)",
      "userId": "10505299496410393010"
     },
     "user_tz": 240
    },
    "id": "1w66FmhCsWnz",
    "outputId": "5442d936-229f-4657-bc76-3ed87f6a179e"
   },
   "outputs": [],
   "source": [
    "mean_absolute_error(y_test, model.predict(X_test.toarray()))\n",
    "\n",
    "# MAE = 1.19 then in average model garantees to differ by +- 1.19\n",
    "# For example: 5 has a lower bound 3.81 and an upper bound 6.19"
   ]
  },
  {
   "cell_type": "code",
   "execution_count": null,
   "metadata": {
    "colab": {
     "base_uri": "https://localhost:8080/"
    },
    "executionInfo": {
     "elapsed": 201,
     "status": "ok",
     "timestamp": 1700181607588,
     "user": {
      "displayName": "Carlos Bienvenido Ogando Montás (Carlitos5336)",
      "userId": "10505299496410393010"
     },
     "user_tz": 240
    },
    "id": "liBaKLxOtGmw",
    "outputId": "a67aba18-3251-4615-fb17-6ce79b106d0e"
   },
   "outputs": [],
   "source": [
    "mean_squared_error(y_test, model.predict(X_test.toarray()))"
   ]
  },
  {
   "cell_type": "code",
   "execution_count": null,
   "metadata": {
    "colab": {
     "base_uri": "https://localhost:8080/"
    },
    "executionInfo": {
     "elapsed": 179,
     "status": "ok",
     "timestamp": 1700181646750,
     "user": {
      "displayName": "Carlos Bienvenido Ogando Montás (Carlitos5336)",
      "userId": "10505299496410393010"
     },
     "user_tz": 240
    },
    "id": "u7HVqN8PuQCB",
    "outputId": "722ccf82-c2cf-4a16-cab4-80a7e47e397b"
   },
   "outputs": [],
   "source": [
    "r2_score(y_test, model.predict(X_test.toarray()))"
   ]
  },
  {
   "cell_type": "code",
   "execution_count": null,
   "metadata": {
    "executionInfo": {
     "elapsed": 167,
     "status": "ok",
     "timestamp": 1700181692157,
     "user": {
      "displayName": "Carlos Bienvenido Ogando Montás (Carlitos5336)",
      "userId": "10505299496410393010"
     },
     "user_tz": 240
    },
    "id": "WvGL3PqZvmE5"
   },
   "outputs": [],
   "source": [
    "with open(\"model.pkl\", \"wb\") as file:\n",
    "  pickle.dump(model, file)"
   ]
  },
  {
   "cell_type": "markdown",
   "metadata": {
    "id": "jukiO7Huv6fL"
   },
   "source": [
    "##\"Modelo en producción\""
   ]
  },
  {
   "cell_type": "code",
   "execution_count": null,
   "metadata": {
    "executionInfo": {
     "elapsed": 178,
     "status": "ok",
     "timestamp": 1700181778194,
     "user": {
      "displayName": "Carlos Bienvenido Ogando Montás (Carlitos5336)",
      "userId": "10505299496410393010"
     },
     "user_tz": 240
    },
    "id": "8ahS7a8awKAF"
   },
   "outputs": [],
   "source": [
    "import pandas as pd\n",
    "import nltk\n",
    "import py3langid as langid\n",
    "from nltk.tokenize import word_tokenize\n",
    "from nltk.stem import WordNetLemmatizer\n",
    "from nltk.stem import PorterStemmer\n",
    "from nltk.tag import pos_tag\n",
    "from nltk.probability import FreqDist\n",
    "import pickle\n",
    "from sklearn.ensemble import AdaBoostRegressor"
   ]
  },
  {
   "cell_type": "code",
   "execution_count": null,
   "metadata": {
    "executionInfo": {
     "elapsed": 196,
     "status": "ok",
     "timestamp": 1700181974982,
     "user": {
      "displayName": "Carlos Bienvenido Ogando Montás (Carlitos5336)",
      "userId": "10505299496410393010"
     },
     "user_tz": 240
    },
    "id": "RSNF9Z_Qv5_D"
   },
   "outputs": [],
   "source": [
    "with open(\"model.pkl\", \"rb\") as file:\n",
    "  loaded_model = pickle.load(file)\n",
    "\n",
    "with open(\"vectorizer.pkl\", \"rb\") as file:\n",
    "  loaded_vectorizer = pickle.load(file)\n",
    "\n",
    "with open(\"most_common.tokens\", \"rb\") as file:\n",
    "  loaded_mct = pickle.load(file)"
   ]
  },
  {
   "cell_type": "code",
   "execution_count": null,
   "metadata": {
    "colab": {
     "base_uri": "https://localhost:8080/"
    },
    "executionInfo": {
     "elapsed": 178,
     "status": "ok",
     "timestamp": 1700182001155,
     "user": {
      "displayName": "Carlos Bienvenido Ogando Montás (Carlitos5336)",
      "userId": "10505299496410393010"
     },
     "user_tz": 240
    },
    "id": "c_O_Y9K2xde-",
    "outputId": "52fed9df-0777-456c-c4b8-8432dd55219f"
   },
   "outputs": [],
   "source": [
    "nltk.download(\"stopwords\")\n",
    "nltk.download(\"names\")"
   ]
  },
  {
   "cell_type": "code",
   "execution_count": null,
   "metadata": {
    "executionInfo": {
     "elapsed": 194,
     "status": "ok",
     "timestamp": 1700182017612,
     "user": {
      "displayName": "Carlos Bienvenido Ogando Montás (Carlitos5336)",
      "userId": "10505299496410393010"
     },
     "user_tz": 240
    },
    "id": "srbcHtyaxCu7"
   },
   "outputs": [],
   "source": [
    "lemmatizer = WordNetLemmatizer()\n",
    "stopwords = nltk.corpus.stopwords.words(\"english\")\n",
    "names = nltk.corpus.names.words()"
   ]
  },
  {
   "cell_type": "code",
   "execution_count": null,
   "metadata": {
    "executionInfo": {
     "elapsed": 1,
     "status": "ok",
     "timestamp": 1700182029036,
     "user": {
      "displayName": "Carlos Bienvenido Ogando Montás (Carlitos5336)",
      "userId": "10505299496410393010"
     },
     "user_tz": 240
    },
    "id": "mdH_la95wyG5"
   },
   "outputs": [],
   "source": [
    "def get_tokens_predict(text):\n",
    "\n",
    "  tokens = word_tokenize(text)\n",
    "  cleaned_tokens = []\n",
    "\n",
    "  for token in tokens:\n",
    "    if token in stopwords: continue\n",
    "    if token in names: continue\n",
    "    if not token.isalpha(): continue\n",
    "    token = token.lower()\n",
    "    token = lemmatizer.lemmatize(token)\n",
    "    if token not in loaded_mct: continue\n",
    "    cleaned_tokens.append(token)\n",
    "\n",
    "  return \" \".join(cleaned_tokens)\n"
   ]
  },
  {
   "cell_type": "code",
   "execution_count": null,
   "metadata": {
    "executionInfo": {
     "elapsed": 180,
     "status": "ok",
     "timestamp": 1700182036647,
     "user": {
      "displayName": "Carlos Bienvenido Ogando Montás (Carlitos5336)",
      "userId": "10505299496410393010"
     },
     "user_tz": 240
    },
    "id": "6DfGr70xwod4"
   },
   "outputs": [],
   "source": [
    "predict_df = pd.read_csv(\"restaurant_reviews.csv\")"
   ]
  },
  {
   "cell_type": "code",
   "execution_count": null,
   "metadata": {
    "executionInfo": {
     "elapsed": 181,
     "status": "ok",
     "timestamp": 1700182323456,
     "user": {
      "displayName": "Carlos Bienvenido Ogando Montás (Carlitos5336)",
      "userId": "10505299496410393010"
     },
     "user_tz": 240
    },
    "id": "QKj7Cah6wEfh"
   },
   "outputs": [],
   "source": [
    "predict_df = predict_df[~predict_df[\"Review\"].isna()]\n",
    "predict_df = predict_df.reset_index()"
   ]
  },
  {
   "cell_type": "code",
   "execution_count": null,
   "metadata": {
    "executionInfo": {
     "elapsed": 65048,
     "status": "ok",
     "timestamp": 1700182390856,
     "user": {
      "displayName": "Carlos Bienvenido Ogando Montás (Carlitos5336)",
      "userId": "10505299496410393010"
     },
     "user_tz": 240
    },
    "id": "kgcqfRfUx1jg"
   },
   "outputs": [],
   "source": [
    "predict_df[\"Tokens String\"] = predict_df[\"Review\"].apply(lambda x: get_tokens_predict(x))"
   ]
  },
  {
   "cell_type": "code",
   "execution_count": null,
   "metadata": {
    "executionInfo": {
     "elapsed": 2,
     "status": "ok",
     "timestamp": 1700182390857,
     "user": {
      "displayName": "Carlos Bienvenido Ogando Montás (Carlitos5336)",
      "userId": "10505299496410393010"
     },
     "user_tz": 240
    },
    "id": "UFJTRoD-x0BY"
   },
   "outputs": [],
   "source": [
    "X = loaded_vectorizer.transform(predict_df[\"Tokens String\"])"
   ]
  },
  {
   "cell_type": "code",
   "execution_count": null,
   "metadata": {
    "executionInfo": {
     "elapsed": 247,
     "status": "ok",
     "timestamp": 1700182391103,
     "user": {
      "displayName": "Carlos Bienvenido Ogando Montás (Carlitos5336)",
      "userId": "10505299496410393010"
     },
     "user_tz": 240
    },
    "id": "CAQ9pJn1yMHq"
   },
   "outputs": [],
   "source": [
    "predictions = loaded_model.predict(X.toarray())"
   ]
  },
  {
   "cell_type": "code",
   "execution_count": null,
   "metadata": {
    "colab": {
     "base_uri": "https://localhost:8080/",
     "height": 1000
    },
    "executionInfo": {
     "elapsed": 214,
     "status": "ok",
     "timestamp": 1700182391315,
     "user": {
      "displayName": "Carlos Bienvenido Ogando Montás (Carlitos5336)",
      "userId": "10505299496410393010"
     },
     "user_tz": 240
    },
    "id": "oSOvyt3hyjUB",
    "outputId": "01b6ffc8-579c-4ccd-808a-f330f2fcb254"
   },
   "outputs": [],
   "source": [
    "pd.concat([predict_df, pd.Series(predictions, name=\"Prediction\")], axis=1)"
   ]
  }
 ],
 "metadata": {
  "colab": {
   "authorship_tag": "ABX9TyNnL4QdHr4ESbZQpKedRM8H",
   "provenance": [
    {
     "file_id": "1wxRTJRRilI43qLo1AAIdWH7XRv67YG8i",
     "timestamp": 1700177155207
    }
   ]
  },
  "kernelspec": {
   "display_name": "sandbox",
   "language": "python",
   "name": "python3"
  },
  "language_info": {
   "codemirror_mode": {
    "name": "ipython",
    "version": 3
   },
   "file_extension": ".py",
   "mimetype": "text/x-python",
   "name": "python",
   "nbconvert_exporter": "python",
   "pygments_lexer": "ipython3",
   "version": "undefined.undefined.undefined"
  }
 },
 "nbformat": 4,
 "nbformat_minor": 0
}
