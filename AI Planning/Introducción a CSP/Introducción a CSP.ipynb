{
 "cells": [
  {
   "cell_type": "code",
   "execution_count": 1,
   "metadata": {
    "executionInfo": {
     "elapsed": 161,
     "status": "ok",
     "timestamp": 1674526381459,
     "user": {
      "displayName": "Carlos Bienvenido Ogando Montás (Carlitos5336)",
      "userId": "10505299496410393010"
     },
     "user_tz": 240
    },
    "id": "s7haQyaZx9GC"
   },
   "outputs": [],
   "source": [
    "import random\n",
    "\n",
    "class CSP:\n",
    "\n",
    "  def __init__(self, X, D, C):\n",
    "    \"\"\"\n",
    "    X: grafo (variables)\n",
    "    D: lista de valores de posibles que acepta cada nodo\n",
    "    C: una lista de funciones restrictivas\n",
    "    \"\"\"\n",
    "    self.X = X\n",
    "    self.D = D\n",
    "    self.C = C\n",
    "    for node in self.X.get_nodes():\n",
    "      node.domain = D.copy()\n",
    "\n",
    "  def is_complete(self):\n",
    "    return all([node.is_assigned() for node in self.X.get_nodes()])\n",
    "\n",
    "  def get_unassigned_variables(self):\n",
    "    return [node for node in self.X.get_nodes() if not node.is_assigned()]\n",
    "\n",
    "  def get_assigned_variables(self):\n",
    "    return [node for node in self.X.get_nodes() if node.is_assigned()]\n",
    "\n",
    "  def select_unassigned_variable(self):\n",
    "    return random.choice(self.get_unassigned_variables())\n",
    "\n",
    "  def is_arc_consistent(self, var_i, var_j):\n",
    "    return all([constraint(var_i, var_j) for constraint in self.C])\n",
    "\n",
    "  def is_var_consistent(self, var):\n",
    "    return all([self.is_arc_consistent(var, neigh) for neigh in self.X.get_neighbors_of(var.name) if neigh.is_assigned()])\n",
    "\n",
    "  def get_variables_values(self):\n",
    "    return {node.name: node.value for node in self.X.get_nodes()}\n",
    "    "
   ]
  },
  {
   "cell_type": "code",
   "execution_count": 2,
   "metadata": {
    "executionInfo": {
     "elapsed": 181,
     "status": "ok",
     "timestamp": 1674526384075,
     "user": {
      "displayName": "Carlos Bienvenido Ogando Montás (Carlitos5336)",
      "userId": "10505299496410393010"
     },
     "user_tz": 240
    },
    "id": "9vEBuIlg6rAH"
   },
   "outputs": [],
   "source": [
    "class MapColoringCSP(CSP):\n",
    "\n",
    "  def __init__(self, X, D):\n",
    "    super().__init__(X, D, [self.is_pair_different])\n",
    "\n",
    "  @staticmethod\n",
    "  def is_pair_different(var_i, var_j):\n",
    "    return var_i.value != var_j.value"
   ]
  },
  {
   "cell_type": "code",
   "execution_count": 3,
   "metadata": {
    "executionInfo": {
     "elapsed": 183,
     "status": "ok",
     "timestamp": 1674526385188,
     "user": {
      "displayName": "Carlos Bienvenido Ogando Montás (Carlitos5336)",
      "userId": "10505299496410393010"
     },
     "user_tz": 240
    },
    "id": "NOTf8Nu8QcXN"
   },
   "outputs": [],
   "source": [
    "class SudokuCSP(CSP):\n",
    "\n",
    "  def __init__(self):\n",
    "    self.columns = [\"A\", \"B\", \"C\", \"D\", \"E\", \"F\", \"G\", \"H\", \"I\"]\n",
    "    self.rows = [\"1\", \"2\", \"3\", \"4\", \"5\", \"6\", \"7\", \"8\", \"9\"]\n",
    "    super().__init__(self.create_board(), [str(i) for i in range(1, 10)], [self.is_pair_different])\n",
    "\n",
    "  def create_board(self): \n",
    "    g = Graph()\n",
    "    for cell_name in self.get_all_possible_cell_names():\n",
    "      g.add_node(cell_name)\n",
    "    for node in g.get_nodes():\n",
    "      # Row neighbors\n",
    "      for neigh in self.get_row_neighbors(node.name):\n",
    "        g.add_vertex(node.name, neigh)\n",
    "      # Column neighbors\n",
    "      for neigh in self.get_column_neighbors(node.name):\n",
    "        g.add_vertex(node.name, neigh)\n",
    "      # Box neighbors\n",
    "      for neigh in self.get_box_neighbors(node.name):\n",
    "        g.add_vertex(node.name, neigh)\n",
    "    return g\n",
    "\n",
    "  def get_all_possible_cell_names(self):\n",
    "    cells = []\n",
    "    for column in self.columns:\n",
    "      for row in self.rows:\n",
    "        cells.append(column + row)\n",
    "    return cells\n",
    "\n",
    "  def get_row_neighbors(self, name):\n",
    "    return [column + name[1] for column in self.columns if column != name[0]]\n",
    "\n",
    "  def get_column_neighbors(self, name):\n",
    "    return [name[0] + row for row in self.rows if row != name[1]]\n",
    "\n",
    "  def get_box_of(self, name):\n",
    "    col_idx = self.columns.index(name[0])\n",
    "    row_idx = self.rows.index(name[1])\n",
    "    return str(col_idx//3) + str(row_idx//3)\n",
    "\n",
    "  def get_box_neighbors(self, name):\n",
    "    box = self.get_box_of(name)\n",
    "    return [cell_name for cell_name in self.get_all_possible_cell_names() if box == self.get_box_of(cell_name) and name != cell_name]\n",
    "\n",
    "  def assign_value_to_cell(self, cell_name, value):\n",
    "    self.X.get_node_by_name(cell_name).assign(value)\n",
    "\n",
    "  def show_board(self):\n",
    "    for idx, node in enumerate(self.X.get_nodes(), 1):\n",
    "      val = str(node.value) if node.value != None else \".\"\n",
    "      print(val, \"\", end=\"\")\n",
    "      if(idx%9 == 0): print()\n",
    "      elif(idx%3 == 0): print(\"| \", end=\"\")\n",
    "      if(idx%27 == 0 and idx != 81): print(\"— \" * 11)\n",
    "\n",
    "  def read_txt(self, filename):\n",
    "    with open(filename) as file:\n",
    "      for row, line in enumerate(file.readlines()):\n",
    "        for col, val in enumerate(line.replace(\"\\n\", \"\")):\n",
    "          cell_name = self.columns[col] + self.rows[row]\n",
    "          val = val if val != \"0\" else None\n",
    "          self.assign_value_to_cell(cell_name, val)\n",
    "\n",
    "  @staticmethod\n",
    "  def is_pair_different(var_i, var_j):\n",
    "    return var_i.value != var_j.value\n"
   ]
  },
  {
   "cell_type": "code",
   "execution_count": 4,
   "metadata": {
    "executionInfo": {
     "elapsed": 166,
     "status": "ok",
     "timestamp": 1674526388425,
     "user": {
      "displayName": "Carlos Bienvenido Ogando Montás (Carlitos5336)",
      "userId": "10505299496410393010"
     },
     "user_tz": 240
    },
    "id": "5-fx9PT41B2i"
   },
   "outputs": [],
   "source": [
    "class Node:\n",
    "\n",
    "  def __init__(self, name, value=None):\n",
    "    self.name = name\n",
    "    self.value = value\n",
    "    self.domain = []\n",
    "\n",
    "  def is_assigned(self):\n",
    "    return self.value != None\n",
    "    \n",
    "  def assign(self, value):\n",
    "    self.value = value\n",
    "\n",
    "  def unassign(self):\n",
    "    self.value = None\n",
    "\n",
    "  def get_domain(self):\n",
    "    return self.domain"
   ]
  },
  {
   "cell_type": "code",
   "execution_count": 5,
   "metadata": {
    "executionInfo": {
     "elapsed": 203,
     "status": "ok",
     "timestamp": 1674526389647,
     "user": {
      "displayName": "Carlos Bienvenido Ogando Montás (Carlitos5336)",
      "userId": "10505299496410393010"
     },
     "user_tz": 240
    },
    "id": "Jjyo6p680-xq"
   },
   "outputs": [],
   "source": [
    "class Graph:\n",
    "\n",
    "  def __init__(self):\n",
    "    self.adj_list = {}\n",
    "    self.nodes = {}\n",
    "\n",
    "  def add_node(self, name, value=None):\n",
    "    self.nodes[name] = Node(name, value)\n",
    "    self.adj_list[name] = {}\n",
    "\n",
    "  def add_vertex(self, name_a, name_b, w=1, directed=False):\n",
    "    if name_a not in self.adj_list.keys(): self.add_node(name_a)\n",
    "    if name_b not in self.adj_list.keys(): self.add_node(name_b)\n",
    "    self.adj_list[name_a][name_b] = w\n",
    "    if not directed: self.adj_list[name_b][name_a] = w\n",
    "\n",
    "  def get_nodes(self):\n",
    "    return list(self.nodes.values())\n",
    "\n",
    "  def get_node_by_name(self, name):\n",
    "    return self.nodes[name]\n",
    "\n",
    "  def get_neighbors_of(self, node_name):\n",
    "    return [self.get_node_by_name(neigh_name) for neigh_name in self.adj_list[node_name].keys()]"
   ]
  },
  {
   "cell_type": "code",
   "execution_count": 6,
   "metadata": {
    "executionInfo": {
     "elapsed": 163,
     "status": "ok",
     "timestamp": 1674526391386,
     "user": {
      "displayName": "Carlos Bienvenido Ogando Montás (Carlitos5336)",
      "userId": "10505299496410393010"
     },
     "user_tz": 240
    },
    "id": "l2fhRrBg8zGt"
   },
   "outputs": [],
   "source": [
    "class BacktrackSolver:\n",
    "\n",
    "  def __init__(self, csp):\n",
    "    self.csp = csp\n",
    "\n",
    "  def solve(self):\n",
    "    return self.backtrack()\n",
    "\n",
    "  def backtrack(self):\n",
    "    if self.csp.is_complete(): return True\n",
    "    var = self.csp.select_unassigned_variable()\n",
    "    for value in var.get_domain():\n",
    "      var.assign(value)\n",
    "      if self.csp.is_var_consistent(var):\n",
    "        result = self.backtrack()\n",
    "        if result: return result\n",
    "      var.unassign()\n",
    "    return False\n"
   ]
  },
  {
   "cell_type": "code",
   "execution_count": 7,
   "metadata": {
    "executionInfo": {
     "elapsed": 170,
     "status": "ok",
     "timestamp": 1674526393374,
     "user": {
      "displayName": "Carlos Bienvenido Ogando Montás (Carlitos5336)",
      "userId": "10505299496410393010"
     },
     "user_tz": 240
    },
    "id": "GhTUGAhM6FRJ"
   },
   "outputs": [],
   "source": [
    "g = Graph()\n",
    "g.add_vertex(\"WA\", \"NT\")\n",
    "g.add_vertex(\"WA\", \"SA\")\n",
    "g.add_vertex(\"SA\", \"NT\")\n",
    "g.add_vertex(\"QLD\", \"NT\")\n",
    "g.add_vertex(\"QLD\", \"SA\")\n",
    "g.add_vertex(\"QLD\", \"NSW\")\n",
    "g.add_vertex(\"NSW\", \"SA\")\n",
    "g.add_vertex(\"VIC\", \"NSW\")\n",
    "g.add_vertex(\"VIC\", \"SA\")"
   ]
  },
  {
   "cell_type": "code",
   "execution_count": 8,
   "metadata": {
    "colab": {
     "base_uri": "https://localhost:8080/"
    },
    "executionInfo": {
     "elapsed": 180,
     "status": "ok",
     "timestamp": 1674526395332,
     "user": {
      "displayName": "Carlos Bienvenido Ogando Montás (Carlitos5336)",
      "userId": "10505299496410393010"
     },
     "user_tz": 240
    },
    "id": "hW-iumTkEHof",
    "outputId": "d4d1a2e7-c193-4236-c4b0-de4f5093ef4e"
   },
   "outputs": [
    {
     "data": {
      "text/plain": [
       "{'WA': {'NT': 1, 'SA': 1},\n",
       " 'NT': {'WA': 1, 'SA': 1, 'QLD': 1},\n",
       " 'SA': {'WA': 1, 'NT': 1, 'QLD': 1, 'NSW': 1, 'VIC': 1},\n",
       " 'QLD': {'NT': 1, 'SA': 1, 'NSW': 1},\n",
       " 'NSW': {'QLD': 1, 'SA': 1, 'VIC': 1},\n",
       " 'VIC': {'NSW': 1, 'SA': 1}}"
      ]
     },
     "execution_count": 8,
     "metadata": {},
     "output_type": "execute_result"
    }
   ],
   "source": [
    "g.adj_list"
   ]
  },
  {
   "cell_type": "code",
   "execution_count": 9,
   "metadata": {
    "colab": {
     "base_uri": "https://localhost:8080/"
    },
    "executionInfo": {
     "elapsed": 200,
     "status": "ok",
     "timestamp": 1674526407851,
     "user": {
      "displayName": "Carlos Bienvenido Ogando Montás (Carlitos5336)",
      "userId": "10505299496410393010"
     },
     "user_tz": 240
    },
    "id": "8cnSUNBKEaH6",
    "outputId": "34718676-c86f-4dac-89f3-2d097fa97f77"
   },
   "outputs": [
    {
     "data": {
      "text/plain": [
       "{'WA': None, 'NT': None, 'SA': None, 'QLD': None, 'NSW': None, 'VIC': None}"
      ]
     },
     "execution_count": 9,
     "metadata": {},
     "output_type": "execute_result"
    }
   ],
   "source": [
    "csp = MapColoringCSP(g, [\"RED\", \"BLUE\", \"GREEN\"])\n",
    "csp.get_variables_values()"
   ]
  },
  {
   "cell_type": "code",
   "execution_count": 10,
   "metadata": {
    "colab": {
     "base_uri": "https://localhost:8080/"
    },
    "executionInfo": {
     "elapsed": 1,
     "status": "ok",
     "timestamp": 1674526408504,
     "user": {
      "displayName": "Carlos Bienvenido Ogando Montás (Carlitos5336)",
      "userId": "10505299496410393010"
     },
     "user_tz": 240
    },
    "id": "Gemlvv_wEo-9",
    "outputId": "029a6ab6-3c88-4242-b3be-ad123ca2a54b"
   },
   "outputs": [
    {
     "data": {
      "text/plain": [
       "True"
      ]
     },
     "execution_count": 10,
     "metadata": {},
     "output_type": "execute_result"
    }
   ],
   "source": [
    "solver = BacktrackSolver(csp)\n",
    "solver.solve()"
   ]
  },
  {
   "cell_type": "code",
   "execution_count": 11,
   "metadata": {
    "colab": {
     "base_uri": "https://localhost:8080/"
    },
    "executionInfo": {
     "elapsed": 154,
     "status": "ok",
     "timestamp": 1674526410701,
     "user": {
      "displayName": "Carlos Bienvenido Ogando Montás (Carlitos5336)",
      "userId": "10505299496410393010"
     },
     "user_tz": 240
    },
    "id": "wClhFNB5IalL",
    "outputId": "6e5ccb01-5e10-4a3e-d4f8-3eb465c937db"
   },
   "outputs": [
    {
     "data": {
      "text/plain": [
       "{'WA': 'BLUE',\n",
       " 'NT': 'GREEN',\n",
       " 'SA': 'RED',\n",
       " 'QLD': 'BLUE',\n",
       " 'NSW': 'GREEN',\n",
       " 'VIC': 'BLUE'}"
      ]
     },
     "execution_count": 11,
     "metadata": {},
     "output_type": "execute_result"
    }
   ],
   "source": [
    "csp.get_variables_values()"
   ]
  },
  {
   "cell_type": "code",
   "execution_count": 12,
   "metadata": {
    "executionInfo": {
     "elapsed": 168,
     "status": "ok",
     "timestamp": 1674526413156,
     "user": {
      "displayName": "Carlos Bienvenido Ogando Montás (Carlitos5336)",
      "userId": "10505299496410393010"
     },
     "user_tz": 240
    },
    "id": "bl2sZM07FC1Q"
   },
   "outputs": [],
   "source": [
    "colors = list(csp.get_variables_values().values())"
   ]
  },
  {
   "cell_type": "code",
   "execution_count": 13,
   "metadata": {
    "colab": {
     "base_uri": "https://localhost:8080/"
    },
    "executionInfo": {
     "elapsed": 191,
     "status": "ok",
     "timestamp": 1674526413818,
     "user": {
      "displayName": "Carlos Bienvenido Ogando Montás (Carlitos5336)",
      "userId": "10505299496410393010"
     },
     "user_tz": 240
    },
    "id": "m2dTCipIHItn",
    "outputId": "140c548e-a5ba-4e3b-836c-f88e1237c101"
   },
   "outputs": [
    {
     "data": {
      "text/plain": [
       "['BLUE', 'GREEN', 'RED', 'BLUE', 'GREEN', 'BLUE']"
      ]
     },
     "execution_count": 13,
     "metadata": {},
     "output_type": "execute_result"
    }
   ],
   "source": [
    "colors"
   ]
  },
  {
   "cell_type": "code",
   "execution_count": 14,
   "metadata": {
    "colab": {
     "base_uri": "https://localhost:8080/"
    },
    "executionInfo": {
     "elapsed": 5090,
     "status": "ok",
     "timestamp": 1674518674322,
     "user": {
      "displayName": "Carlos Bienvenido Ogando Montás (Carlitos5336)",
      "userId": "10505299496410393010"
     },
     "user_tz": 240
    },
    "id": "sNJYwCeoFwb4",
    "outputId": "755fe870-6392-4701-d43f-66438225410d"
   },
   "outputs": [
    {
     "name": "stdout",
     "output_type": "stream",
     "text": [
      "Collecting networkx\n",
      "  Downloading networkx-3.5-py3-none-any.whl.metadata (6.3 kB)\n",
      "Downloading networkx-3.5-py3-none-any.whl (2.0 MB)\n",
      "   ---------------------------------------- 0.0/2.0 MB ? eta -:--:--\n",
      "   ---------------------------------------- 0.0/2.0 MB ? eta -:--:--\n",
      "    --------------------------------------- 0.0/2.0 MB 435.7 kB/s eta 0:00:05\n",
      "   - -------------------------------------- 0.1/2.0 MB 563.7 kB/s eta 0:00:04\n",
      "   --- ------------------------------------ 0.2/2.0 MB 952.6 kB/s eta 0:00:02\n",
      "   ------ --------------------------------- 0.3/2.0 MB 1.5 MB/s eta 0:00:02\n",
      "   ------------- -------------------------- 0.7/2.0 MB 2.5 MB/s eta 0:00:01\n",
      "   ----------------------- ---------------- 1.2/2.0 MB 3.8 MB/s eta 0:00:01\n",
      "   ---------------------------------------- 2.0/2.0 MB 5.4 MB/s eta 0:00:00\n",
      "Installing collected packages: networkx\n",
      "Successfully installed networkx-3.5\n"
     ]
    }
   ],
   "source": [
    "!pip install networkx"
   ]
  },
  {
   "cell_type": "code",
   "execution_count": 15,
   "metadata": {
    "executionInfo": {
     "elapsed": 169,
     "status": "ok",
     "timestamp": 1674526416259,
     "user": {
      "displayName": "Carlos Bienvenido Ogando Montás (Carlitos5336)",
      "userId": "10505299496410393010"
     },
     "user_tz": 240
    },
    "id": "jmdodZp5Fy0I"
   },
   "outputs": [],
   "source": [
    "import networkx as nx\n",
    "\n",
    "ng = nx.Graph()\n",
    "ng.add_edge(\"WA\", \"NT\")\n",
    "ng.add_edge(\"WA\", \"SA\")\n",
    "ng.add_edge(\"SA\", \"NT\")\n",
    "ng.add_edge(\"QLD\", \"NT\")\n",
    "ng.add_edge(\"QLD\", \"SA\")\n",
    "ng.add_edge(\"QLD\", \"NSW\")\n",
    "ng.add_edge(\"NSW\", \"SA\")\n",
    "ng.add_edge(\"VIC\", \"NSW\")\n",
    "ng.add_edge(\"VIC\", \"SA\")"
   ]
  },
  {
   "cell_type": "code",
   "execution_count": 16,
   "metadata": {
    "colab": {
     "base_uri": "https://localhost:8080/"
    },
    "executionInfo": {
     "elapsed": 159,
     "status": "ok",
     "timestamp": 1674526419502,
     "user": {
      "displayName": "Carlos Bienvenido Ogando Montás (Carlitos5336)",
      "userId": "10505299496410393010"
     },
     "user_tz": 240
    },
    "id": "RvgorvHaHUgY",
    "outputId": "c55978b9-5409-4890-e221-a77d913b9e5a"
   },
   "outputs": [
    {
     "data": {
      "text/plain": [
       "{'WA': 'BLUE',\n",
       " 'NT': 'GREEN',\n",
       " 'SA': 'RED',\n",
       " 'QLD': 'BLUE',\n",
       " 'NSW': 'GREEN',\n",
       " 'VIC': 'BLUE'}"
      ]
     },
     "execution_count": 16,
     "metadata": {},
     "output_type": "execute_result"
    }
   ],
   "source": [
    "csp.get_variables_values()"
   ]
  },
  {
   "cell_type": "code",
   "execution_count": 17,
   "metadata": {
    "colab": {
     "base_uri": "https://localhost:8080/",
     "height": 248
    },
    "executionInfo": {
     "elapsed": 426,
     "status": "ok",
     "timestamp": 1674526421744,
     "user": {
      "displayName": "Carlos Bienvenido Ogando Montás (Carlitos5336)",
      "userId": "10505299496410393010"
     },
     "user_tz": 240
    },
    "id": "j8Vtga9XGLbE",
    "outputId": "caa0a6af-4207-4102-d5dc-2562ad33a7a3"
   },
   "outputs": [
    {
     "data": {
      "image/png": "[encoded data removed]",
      "text/plain": [
       "<Figure size 640x480 with 1 Axes>"
      ]
     },
     "metadata": {},
     "output_type": "display_data"
    }
   ],
   "source": [
    "nx.draw_networkx(ng, node_color=colors, font_color=\"white\", node_size=700)"
   ]
  },
  {
   "cell_type": "code",
   "execution_count": 31,
   "metadata": {
    "executionInfo": {
     "elapsed": 150,
     "status": "ok",
     "timestamp": 1674526426571,
     "user": {
      "displayName": "Carlos Bienvenido Ogando Montás (Carlitos5336)",
      "userId": "10505299496410393010"
     },
     "user_tz": 240
    },
    "id": "NO6OS1l_TDJY"
   },
   "outputs": [],
   "source": [
    "sudoku = SudokuCSP()\n",
    "sudoku.read_txt(\"sudoku.txt\")"
   ]
  },
  {
   "cell_type": "code",
   "execution_count": 32,
   "metadata": {
    "colab": {
     "base_uri": "https://localhost:8080/"
    },
    "executionInfo": {
     "elapsed": 176,
     "status": "ok",
     "timestamp": 1674526428114,
     "user": {
      "displayName": "Carlos Bienvenido Ogando Montás (Carlitos5336)",
      "userId": "10505299496410393010"
     },
     "user_tz": 240
    },
    "id": "oja8czsiX4Ei",
    "outputId": "8a1784a5-a176-4c33-8143-056a6a2e1764"
   },
   "outputs": [
    {
     "name": "stdout",
     "output_type": "stream",
     "text": [
      ". 7 . | 5 8 3 | . 2 . \n",
      ". 5 9 | 2 . . | 3 . . \n",
      "3 4 . | . . 6 | 5 . 7 \n",
      "— — — — — — — — — — — \n",
      "7 9 5 | . . . | 6 3 2 \n",
      ". . 3 | 6 9 7 | 1 . . \n",
      "6 8 . | . . 2 | 7 . . \n",
      "— — — — — — — — — — — \n",
      "9 1 4 | 8 3 5 | . 7 6 \n",
      ". 3 . | 7 . 1 | 4 9 5 \n",
      "5 6 7 | 4 2 9 | . 1 3 \n"
     ]
    }
   ],
   "source": [
    "sudoku.show_board()"
   ]
  },
  {
   "cell_type": "code",
   "execution_count": 33,
   "metadata": {
    "colab": {
     "base_uri": "https://localhost:8080/"
    },
    "executionInfo": {
     "elapsed": 172,
     "status": "ok",
     "timestamp": 1674526432018,
     "user": {
      "displayName": "Carlos Bienvenido Ogando Montás (Carlitos5336)",
      "userId": "10505299496410393010"
     },
     "user_tz": 240
    },
    "id": "4cTblg0EbWlY",
    "outputId": "63b2d4f0-ef02-4732-c999-f962a5772047"
   },
   "outputs": [
    {
     "data": {
      "text/plain": [
       "True"
      ]
     },
     "execution_count": 33,
     "metadata": {},
     "output_type": "execute_result"
    }
   ],
   "source": [
    "solver = BacktrackSolver(sudoku)\n",
    "solver.solve()"
   ]
  },
  {
   "cell_type": "code",
   "execution_count": 34,
   "metadata": {
    "colab": {
     "base_uri": "https://localhost:8080/"
    },
    "executionInfo": {
     "elapsed": 177,
     "status": "ok",
     "timestamp": 1674526433849,
     "user": {
      "displayName": "Carlos Bienvenido Ogando Montás (Carlitos5336)",
      "userId": "10505299496410393010"
     },
     "user_tz": 240
    },
    "id": "tB-4BtcFbhVH",
    "outputId": "7209d2ce-6dec-4b81-9665-b70e74ad6f30"
   },
   "outputs": [
    {
     "name": "stdout",
     "output_type": "stream",
     "text": [
      "1 7 6 | 5 8 3 | 9 2 4 \n",
      "8 5 9 | 2 7 4 | 3 6 1 \n",
      "3 4 2 | 9 1 6 | 5 8 7 \n",
      "— — — — — — — — — — — \n",
      "7 9 5 | 1 4 8 | 6 3 2 \n",
      "4 2 3 | 6 9 7 | 1 5 8 \n",
      "6 8 1 | 3 5 2 | 7 4 9 \n",
      "— — — — — — — — — — — \n",
      "9 1 4 | 8 3 5 | 2 7 6 \n",
      "2 3 8 | 7 6 1 | 4 9 5 \n",
      "5 6 7 | 4 2 9 | 8 1 3 \n"
     ]
    }
   ],
   "source": [
    "sudoku.show_board()"
   ]
  }
 ],
 "metadata": {
  "colab": {
   "authorship_tag": "ABX9TyNTC2XTJeLwLN6MTa+6d3Cc",
   "provenance": []
  },
  "kernelspec": {
   "display_name": "sandbox",
   "language": "python",
   "name": "python3"
  },
  "language_info": {
   "codemirror_mode": {
    "name": "ipython",
    "version": 3
   },
   "file_extension": ".py",
   "mimetype": "text/x-python",
   "name": "python",
   "nbconvert_exporter": "python",
   "pygments_lexer": "ipython3",
   "version": "3.11.7"
  }
 },
 "nbformat": 4,
 "nbformat_minor": 0
}
