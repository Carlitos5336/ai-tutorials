{
 "cells": [
  {
   "cell_type": "markdown",
   "id": "OFyAjSJk__0m",
   "metadata": {
    "id": "OFyAjSJk__0m"
   },
   "source": [
    "# Caso 1: Clasificación de flores (dataset IRIS)"
   ]
  },
  {
   "cell_type": "code",
   "execution_count": 1,
   "id": "76123517",
   "metadata": {
    "_cell_guid": "8af8cfa0-0559-4d6b-bdcf-ab6b8b47a55a",
    "_uuid": "cde572a2-f445-4215-af1f-2538c6b5d0de",
    "execution": {
     "iopub.execute_input": "2021-07-20T18:25:09.333856Z",
     "iopub.status.busy": "2021-07-20T18:25:09.333105Z",
     "iopub.status.idle": "2021-07-20T18:25:10.411554Z",
     "shell.execute_reply": "2021-07-20T18:25:10.410949Z",
     "shell.execute_reply.started": "2021-07-20T18:22:50.453176Z"
    },
    "executionInfo": {
     "elapsed": 12014,
     "status": "ok",
     "timestamp": 1698978474232,
     "user": {
      "displayName": "Carlos Bienvenido Ogando Montás (Carlitos5336)",
      "userId": "10505299496410393010"
     },
     "user_tz": 240
    },
    "id": "76123517",
    "jupyter": {
     "outputs_hidden": false
    },
    "papermill": {
     "duration": 1.112622,
     "end_time": "2021-07-20T18:25:10.411683",
     "exception": false,
     "start_time": "2021-07-20T18:25:09.299061",
     "status": "completed"
    },
    "tags": []
   },
   "outputs": [],
   "source": [
    "# Importar las librerías\n",
    "\n",
    "import pandas as pd\n",
    "import numpy as np\n",
    "import torch\n",
    "import torch.nn as nn\n",
    "import matplotlib.pyplot as plt\n",
    "from sklearn.preprocessing import StandardScaler\n",
    "from sklearn import datasets"
   ]
  },
  {
   "cell_type": "code",
   "execution_count": 2,
   "id": "bedf087d",
   "metadata": {
    "_cell_guid": "079121a7-5693-454b-bfde-6177b579f2d0",
    "_uuid": "5afeabe9-2fe7-43ca-b5cb-7deb56a13737",
    "execution": {
     "iopub.execute_input": "2021-07-20T18:25:10.473951Z",
     "iopub.status.busy": "2021-07-20T18:25:10.473296Z",
     "iopub.status.idle": "2021-07-20T18:25:10.485873Z",
     "shell.execute_reply": "2021-07-20T18:25:10.485355Z",
     "shell.execute_reply.started": "2021-07-20T18:22:50.466538Z"
    },
    "executionInfo": {
     "elapsed": 205,
     "status": "ok",
     "timestamp": 1698978480636,
     "user": {
      "displayName": "Carlos Bienvenido Ogando Montás (Carlitos5336)",
      "userId": "10505299496410393010"
     },
     "user_tz": 240
    },
    "id": "bedf087d",
    "jupyter": {
     "outputs_hidden": false
    },
    "papermill": {
     "duration": 0.04584,
     "end_time": "2021-07-20T18:25:10.486019",
     "exception": false,
     "start_time": "2021-07-20T18:25:10.440179",
     "status": "completed"
    },
    "tags": []
   },
   "outputs": [],
   "source": [
    "# Descarga y lectura del DataFrame\n",
    "iris = datasets.load_iris()\n",
    "df_iris = pd.DataFrame(data= np.c_[iris['data'], iris['target']],\n",
    "                     columns= iris['feature_names'] + ['target'])"
   ]
  },
  {
   "cell_type": "code",
   "execution_count": 3,
   "id": "463266e8",
   "metadata": {
    "_cell_guid": "d4e04c7a-7753-48e2-818a-6778e2aeeded",
    "_uuid": "f38a34e0-9f1c-410b-9001-dae6ac423287",
    "colab": {
     "base_uri": "https://localhost:8080/",
     "height": 423
    },
    "execution": {
     "iopub.execute_input": "2021-07-20T18:25:10.553522Z",
     "iopub.status.busy": "2021-07-20T18:25:10.552687Z",
     "iopub.status.idle": "2021-07-20T18:25:10.583146Z",
     "shell.execute_reply": "2021-07-20T18:25:10.583642Z",
     "shell.execute_reply.started": "2021-07-20T18:22:50.490322Z"
    },
    "executionInfo": {
     "elapsed": 192,
     "status": "ok",
     "timestamp": 1698978492436,
     "user": {
      "displayName": "Carlos Bienvenido Ogando Montás (Carlitos5336)",
      "userId": "10505299496410393010"
     },
     "user_tz": 240
    },
    "id": "463266e8",
    "jupyter": {
     "outputs_hidden": false
    },
    "outputId": "1ee59086-6738-4c3e-e837-4c4946127ec2",
    "papermill": {
     "duration": 0.068823,
     "end_time": "2021-07-20T18:25:10.583803",
     "exception": false,
     "start_time": "2021-07-20T18:25:10.514980",
     "status": "completed"
    },
    "tags": []
   },
   "outputs": [
    {
     "data": {
      "text/html": [
       "<div>\n",
       "<style scoped>\n",
       "    .dataframe tbody tr th:only-of-type {\n",
       "        vertical-align: middle;\n",
       "    }\n",
       "\n",
       "    .dataframe tbody tr th {\n",
       "        vertical-align: top;\n",
       "    }\n",
       "\n",
       "    .dataframe thead th {\n",
       "        text-align: right;\n",
       "    }\n",
       "</style>\n",
       "<table border=\"1\" class=\"dataframe\">\n",
       "  <thead>\n",
       "    <tr style=\"text-align: right;\">\n",
       "      <th></th>\n",
       "      <th>sepal length (cm)</th>\n",
       "      <th>sepal width (cm)</th>\n",
       "      <th>petal length (cm)</th>\n",
       "      <th>petal width (cm)</th>\n",
       "      <th>target</th>\n",
       "    </tr>\n",
       "  </thead>\n",
       "  <tbody>\n",
       "    <tr>\n",
       "      <th>0</th>\n",
       "      <td>5.1</td>\n",
       "      <td>3.5</td>\n",
       "      <td>1.4</td>\n",
       "      <td>0.2</td>\n",
       "      <td>0.0</td>\n",
       "    </tr>\n",
       "    <tr>\n",
       "      <th>1</th>\n",
       "      <td>4.9</td>\n",
       "      <td>3.0</td>\n",
       "      <td>1.4</td>\n",
       "      <td>0.2</td>\n",
       "      <td>0.0</td>\n",
       "    </tr>\n",
       "    <tr>\n",
       "      <th>2</th>\n",
       "      <td>4.7</td>\n",
       "      <td>3.2</td>\n",
       "      <td>1.3</td>\n",
       "      <td>0.2</td>\n",
       "      <td>0.0</td>\n",
       "    </tr>\n",
       "    <tr>\n",
       "      <th>3</th>\n",
       "      <td>4.6</td>\n",
       "      <td>3.1</td>\n",
       "      <td>1.5</td>\n",
       "      <td>0.2</td>\n",
       "      <td>0.0</td>\n",
       "    </tr>\n",
       "    <tr>\n",
       "      <th>4</th>\n",
       "      <td>5.0</td>\n",
       "      <td>3.6</td>\n",
       "      <td>1.4</td>\n",
       "      <td>0.2</td>\n",
       "      <td>0.0</td>\n",
       "    </tr>\n",
       "    <tr>\n",
       "      <th>...</th>\n",
       "      <td>...</td>\n",
       "      <td>...</td>\n",
       "      <td>...</td>\n",
       "      <td>...</td>\n",
       "      <td>...</td>\n",
       "    </tr>\n",
       "    <tr>\n",
       "      <th>145</th>\n",
       "      <td>6.7</td>\n",
       "      <td>3.0</td>\n",
       "      <td>5.2</td>\n",
       "      <td>2.3</td>\n",
       "      <td>2.0</td>\n",
       "    </tr>\n",
       "    <tr>\n",
       "      <th>146</th>\n",
       "      <td>6.3</td>\n",
       "      <td>2.5</td>\n",
       "      <td>5.0</td>\n",
       "      <td>1.9</td>\n",
       "      <td>2.0</td>\n",
       "    </tr>\n",
       "    <tr>\n",
       "      <th>147</th>\n",
       "      <td>6.5</td>\n",
       "      <td>3.0</td>\n",
       "      <td>5.2</td>\n",
       "      <td>2.0</td>\n",
       "      <td>2.0</td>\n",
       "    </tr>\n",
       "    <tr>\n",
       "      <th>148</th>\n",
       "      <td>6.2</td>\n",
       "      <td>3.4</td>\n",
       "      <td>5.4</td>\n",
       "      <td>2.3</td>\n",
       "      <td>2.0</td>\n",
       "    </tr>\n",
       "    <tr>\n",
       "      <th>149</th>\n",
       "      <td>5.9</td>\n",
       "      <td>3.0</td>\n",
       "      <td>5.1</td>\n",
       "      <td>1.8</td>\n",
       "      <td>2.0</td>\n",
       "    </tr>\n",
       "  </tbody>\n",
       "</table>\n",
       "<p>150 rows × 5 columns</p>\n",
       "</div>"
      ],
      "text/plain": [
       "     sepal length (cm)  sepal width (cm)  petal length (cm)  petal width (cm)  \\\n",
       "0                  5.1               3.5                1.4               0.2   \n",
       "1                  4.9               3.0                1.4               0.2   \n",
       "2                  4.7               3.2                1.3               0.2   \n",
       "3                  4.6               3.1                1.5               0.2   \n",
       "4                  5.0               3.6                1.4               0.2   \n",
       "..                 ...               ...                ...               ...   \n",
       "145                6.7               3.0                5.2               2.3   \n",
       "146                6.3               2.5                5.0               1.9   \n",
       "147                6.5               3.0                5.2               2.0   \n",
       "148                6.2               3.4                5.4               2.3   \n",
       "149                5.9               3.0                5.1               1.8   \n",
       "\n",
       "     target  \n",
       "0       0.0  \n",
       "1       0.0  \n",
       "2       0.0  \n",
       "3       0.0  \n",
       "4       0.0  \n",
       "..      ...  \n",
       "145     2.0  \n",
       "146     2.0  \n",
       "147     2.0  \n",
       "148     2.0  \n",
       "149     2.0  \n",
       "\n",
       "[150 rows x 5 columns]"
      ]
     },
     "execution_count": 3,
     "metadata": {},
     "output_type": "execute_result"
    }
   ],
   "source": [
    "# Visualización del DataFrame\n",
    "df_iris"
   ]
  },
  {
   "cell_type": "code",
   "execution_count": 4,
   "id": "9daeed1b",
   "metadata": {
    "_cell_guid": "68331b2b-d42e-4b5b-ad34-99b0a173a37c",
    "_uuid": "9af04a79-fb61-4486-a35f-59d12fd6a213",
    "colab": {
     "base_uri": "https://localhost:8080/"
    },
    "execution": {
     "iopub.execute_input": "2021-07-20T18:25:10.728113Z",
     "iopub.status.busy": "2021-07-20T18:25:10.727078Z",
     "iopub.status.idle": "2021-07-20T18:25:10.729740Z",
     "shell.execute_reply": "2021-07-20T18:25:10.730222Z",
     "shell.execute_reply.started": "2021-07-20T18:22:50.508459Z"
    },
    "executionInfo": {
     "elapsed": 192,
     "status": "ok",
     "timestamp": 1698978516828,
     "user": {
      "displayName": "Carlos Bienvenido Ogando Montás (Carlitos5336)",
      "userId": "10505299496410393010"
     },
     "user_tz": 240
    },
    "id": "9daeed1b",
    "jupyter": {
     "outputs_hidden": false
    },
    "outputId": "64b50556-1181-40d0-efe9-27985f618963",
    "papermill": {
     "duration": 0.038504,
     "end_time": "2021-07-20T18:25:10.730384",
     "exception": false,
     "start_time": "2021-07-20T18:25:10.691880",
     "status": "completed"
    },
    "tags": []
   },
   "outputs": [
    {
     "name": "stdout",
     "output_type": "stream",
     "text": [
      "INFORMACIÓN GENERAL - \n",
      "\n",
      "<class 'pandas.core.frame.DataFrame'>\n",
      "RangeIndex: 150 entries, 0 to 149\n",
      "Data columns (total 5 columns):\n",
      " #   Column             Non-Null Count  Dtype  \n",
      "---  ------             --------------  -----  \n",
      " 0   sepal length (cm)  150 non-null    float64\n",
      " 1   sepal width (cm)   150 non-null    float64\n",
      " 2   petal length (cm)  150 non-null    float64\n",
      " 3   petal width (cm)   150 non-null    float64\n",
      " 4   target             150 non-null    float64\n",
      "dtypes: float64(5)\n",
      "memory usage: 6.0 KB\n",
      "None \n",
      "\n",
      "DATA FALTANTE - \n",
      "\n",
      "sepal length (cm)    0\n",
      "sepal width (cm)     0\n",
      "petal length (cm)    0\n",
      "petal width (cm)     0\n",
      "target               0\n",
      "dtype: int64 \n",
      "\n",
      "FORMA DEL DATAFRAME - \n",
      "\n",
      "(150, 5)\n"
     ]
    }
   ],
   "source": [
    "# Información del DataFrame\n",
    "\n",
    "print(f\"INFORMACIÓN GENERAL - \\n\")\n",
    "print(df_iris.info(),\"\\n\")\n",
    "print(f\"DATA FALTANTE - \\n\")\n",
    "print(df_iris.isnull().sum(),\"\\n\")\n",
    "print(f\"FORMA DEL DATAFRAME - \\n\")\n",
    "print(df_iris.shape)"
   ]
  },
  {
   "cell_type": "code",
   "execution_count": 5,
   "id": "ac262563",
   "metadata": {
    "_cell_guid": "f4e2d8c8-ce22-4c0f-a6ad-c86ad8d31a48",
    "_uuid": "bd32fb86-b85b-4848-af08-56148f117ab2",
    "execution": {
     "iopub.execute_input": "2021-07-20T18:25:11.297375Z",
     "iopub.status.busy": "2021-07-20T18:25:11.296780Z",
     "iopub.status.idle": "2021-07-20T18:25:11.301546Z",
     "shell.execute_reply": "2021-07-20T18:25:11.302127Z",
     "shell.execute_reply.started": "2021-07-20T18:22:50.638693Z"
    },
    "executionInfo": {
     "elapsed": 220,
     "status": "ok",
     "timestamp": 1698978534115,
     "user": {
      "displayName": "Carlos Bienvenido Ogando Montás (Carlitos5336)",
      "userId": "10505299496410393010"
     },
     "user_tz": 240
    },
    "id": "ac262563",
    "jupyter": {
     "outputs_hidden": false
    },
    "papermill": {
     "duration": 0.038931,
     "end_time": "2021-07-20T18:25:11.302296",
     "exception": false,
     "start_time": "2021-07-20T18:25:11.263365",
     "status": "completed"
    },
    "tags": []
   },
   "outputs": [],
   "source": [
    "# Separación de features y label\n",
    "\n",
    "X = df_iris.drop([\"target\"],axis=1).values\n",
    "y = df_iris[\"target\"].values"
   ]
  },
  {
   "cell_type": "code",
   "execution_count": 6,
   "id": "254d5228",
   "metadata": {
    "_cell_guid": "b780843c-d4a8-4e45-b495-a9201f1a0ea7",
    "_uuid": "702cd513-366d-4724-ba6b-c97371bc8a4f",
    "execution": {
     "iopub.execute_input": "2021-07-20T18:25:12.504852Z",
     "iopub.status.busy": "2021-07-20T18:25:12.503949Z",
     "iopub.status.idle": "2021-07-20T18:25:12.508694Z",
     "shell.execute_reply": "2021-07-20T18:25:12.509247Z",
     "shell.execute_reply.started": "2021-07-20T18:22:50.672579Z"
    },
    "executionInfo": {
     "elapsed": 177,
     "status": "ok",
     "timestamp": 1698978618071,
     "user": {
      "displayName": "Carlos Bienvenido Ogando Montás (Carlitos5336)",
      "userId": "10505299496410393010"
     },
     "user_tz": 240
    },
    "id": "254d5228",
    "jupyter": {
     "outputs_hidden": false
    },
    "papermill": {
     "duration": 0.038533,
     "end_time": "2021-07-20T18:25:12.509399",
     "exception": false,
     "start_time": "2021-07-20T18:25:12.470866",
     "status": "completed"
    },
    "tags": []
   },
   "outputs": [],
   "source": [
    "# Separación de data de entrenamiento y de testeo\n",
    "from sklearn.model_selection import train_test_split\n",
    "X_train, X_test, y_train, y_test = train_test_split(X, y, test_size=0.30, random_state=42)"
   ]
  },
  {
   "cell_type": "code",
   "execution_count": 7,
   "id": "5ef4333a",
   "metadata": {
    "_cell_guid": "3bc6f2f9-9b29-465c-b51b-2ca5a0eb4616",
    "_uuid": "2c84bc78-06dc-46b8-984f-71232cc55578",
    "execution": {
     "iopub.execute_input": "2021-07-20T18:25:12.374521Z",
     "iopub.status.busy": "2021-07-20T18:25:12.373776Z",
     "iopub.status.idle": "2021-07-20T18:25:12.376769Z",
     "shell.execute_reply": "2021-07-20T18:25:12.376317Z",
     "shell.execute_reply.started": "2021-07-20T18:22:50.660819Z"
    },
    "executionInfo": {
     "elapsed": 208,
     "status": "ok",
     "timestamp": 1698978648460,
     "user": {
      "displayName": "Carlos Bienvenido Ogando Montás (Carlitos5336)",
      "userId": "10505299496410393010"
     },
     "user_tz": 240
    },
    "id": "5ef4333a",
    "jupyter": {
     "outputs_hidden": false
    },
    "papermill": {
     "duration": 0.037499,
     "end_time": "2021-07-20T18:25:12.376900",
     "exception": false,
     "start_time": "2021-07-20T18:25:12.339401",
     "status": "completed"
    },
    "tags": []
   },
   "outputs": [],
   "source": [
    "# Entrenamiento y ejecución de normalizador\n",
    "from sklearn.preprocessing import StandardScaler\n",
    "scaler = StandardScaler()\n",
    "X_train = scaler.fit_transform(X_train)\n",
    "X_test = scaler.transform(X_test)"
   ]
  },
  {
   "cell_type": "code",
   "execution_count": 8,
   "id": "CK8XO0lgBNfb",
   "metadata": {
    "colab": {
     "base_uri": "https://localhost:8080/"
    },
    "executionInfo": {
     "elapsed": 5,
     "status": "ok",
     "timestamp": 1698978659920,
     "user": {
      "displayName": "Carlos Bienvenido Ogando Montás (Carlitos5336)",
      "userId": "10505299496410393010"
     },
     "user_tz": 240
    },
    "id": "CK8XO0lgBNfb",
    "outputId": "262f0648-a95b-40db-a408-efd102a1eb40"
   },
   "outputs": [
    {
     "data": {
      "text/plain": [
       "array([[-0.4134164 , -1.46200287, -0.09951105, -0.32339776],\n",
       "       [ 0.55122187, -0.50256349,  0.71770262,  0.35303182],\n",
       "       [ 0.67180165,  0.21701605,  0.95119225,  0.75888956],\n",
       "       [ 0.91296121, -0.02284379,  0.30909579,  0.2177459 ],\n",
       "       [ 1.63643991,  1.41631528,  1.30142668,  1.70589097],\n",
       "       [-0.17225683, -0.26270364,  0.19235097,  0.08245999],\n",
       "       [ 2.11875905, -0.02284379,  1.59328871,  1.16474731],\n",
       "       [-0.29283662, -0.02284379,  0.36746819,  0.35303182],\n",
       "       [-0.89573553,  1.17645543, -1.44207638, -1.40568508],\n",
       "       [ 2.23933883, -0.50256349,  1.65166111,  1.0294614 ],\n",
       "       [-0.05167705, -0.74242333,  0.13397857, -0.32339776],\n",
       "       [-0.77515575,  0.93659559, -1.44207638, -1.40568508],\n",
       "       [-1.01631531,  1.17645543, -1.50044878, -1.27039917],\n",
       "       [-0.89573553,  1.89603497, -1.15021435, -1.13511325],\n",
       "       [-1.01631531, -2.42144225, -0.21625586, -0.32339776],\n",
       "       [ 0.55122187, -0.74242333,  0.60095781,  0.75888956],\n",
       "       [-1.25747488,  0.93659559, -1.15021435, -1.40568508],\n",
       "       [-1.01631531, -0.02284379, -1.32533157, -1.40568508],\n",
       "       [-0.89573553,  0.69673574, -1.26695916, -0.99982734],\n",
       "       [-0.29283662, -0.74242333,  0.19235097,  0.08245999],\n",
       "       [-0.89573553,  0.93659559, -1.38370397, -1.40568508],\n",
       "       [-0.17225683, -0.02284379,  0.19235097, -0.05282593],\n",
       "       [ 2.23933883,  1.89603497,  1.65166111,  1.30003323],\n",
       "       [-1.49863445,  0.4568759 , -1.44207638, -1.40568508],\n",
       "       [ 0.43064208, -0.26270364,  0.25072338,  0.08245999],\n",
       "       [-0.17225683, -1.22214302,  0.65933022,  1.0294614 ],\n",
       "       [-0.4134164 ,  2.85547435, -1.44207638, -1.40568508],\n",
       "       [ 0.18948252, -0.02284379,  0.54258541,  0.75888956],\n",
       "       [-0.05167705, -0.74242333,  0.71770262,  0.89417548],\n",
       "       [ 0.18948252, -1.94172256,  0.07560616, -0.32339776],\n",
       "       [-0.53399618, -0.02284379,  0.36746819,  0.35303182],\n",
       "       [ 0.43064208,  0.93659559,  0.89281984,  1.43531914],\n",
       "       [-0.4134164 , -1.70186271,  0.07560616,  0.08245999],\n",
       "       [-0.53399618,  2.13589481, -1.26695916, -1.13511325],\n",
       "       [-1.01631531, -1.70186271, -0.33300068, -0.32339776],\n",
       "       [ 0.67180165, -0.74242333,  0.83444743,  0.89417548],\n",
       "       [-1.01631531,  0.69673574, -1.44207638, -1.40568508],\n",
       "       [-1.01631531,  0.4568759 , -1.55882119, -1.40568508],\n",
       "       [-0.4134164 , -1.46200287, -0.04113865, -0.18811184],\n",
       "       [ 1.033541  , -0.02284379,  0.65933022,  0.62360365],\n",
       "       [-1.1368951 ,  0.21701605, -1.38370397, -1.40568508],\n",
       "       [-0.05167705, -0.50256349,  0.71770262,  1.57060506],\n",
       "       [-1.01631531,  0.93659559, -1.38370397, -1.40568508],\n",
       "       [-1.01631531,  1.17645543, -1.32533157, -0.86454142],\n",
       "       [ 0.06890273,  0.4568759 ,  0.54258541,  0.75888956],\n",
       "       [-0.89573553, -1.22214302, -0.50811789, -0.18811184],\n",
       "       [ 1.27470056,  0.4568759 ,  1.06793706,  1.43531914],\n",
       "       [ 0.18948252, -0.74242333,  0.71770262,  0.48831773],\n",
       "       [ 0.3100623 , -0.98228318,  1.00956465,  0.2177459 ],\n",
       "       [ 2.23933883, -0.02284379,  1.30142668,  1.43531914],\n",
       "       [-0.4134164 , -1.22214302,  0.07560616,  0.08245999],\n",
       "       [-1.73979401, -0.26270364, -1.44207638, -1.40568508],\n",
       "       [-1.8603738 , -0.02284379, -1.6171936 , -1.540971  ],\n",
       "       [ 0.18948252, -1.94172256,  0.65933022,  0.35303182],\n",
       "       [ 1.63643991,  0.4568759 ,  1.24305427,  0.75888956],\n",
       "       [-1.49863445,  0.21701605, -1.38370397, -1.40568508],\n",
       "       [-0.89573553,  1.17645543, -1.44207638, -1.27039917],\n",
       "       [-1.73979401, -0.02284379, -1.50044878, -1.40568508],\n",
       "       [ 0.55122187, -1.22214302,  0.60095781,  0.35303182],\n",
       "       [ 0.55122187,  0.93659559,  1.00956465,  1.57060506],\n",
       "       [-1.49863445,  0.93659559, -1.44207638, -1.27039917],\n",
       "       [ 1.15412078, -0.02284379,  0.95119225,  1.16474731],\n",
       "       [ 0.55122187,  0.69673574,  1.24305427,  1.70589097],\n",
       "       [-1.37805466,  0.4568759 , -1.50044878, -1.40568508],\n",
       "       [ 0.3100623 , -0.26270364,  0.484213  ,  0.2177459 ],\n",
       "       [ 0.79238143, -0.50256349,  0.4258406 ,  0.35303182],\n",
       "       [ 0.43064208, -0.50256349,  0.54258541,  0.75888956],\n",
       "       [ 1.39528035,  0.4568759 ,  0.484213  ,  0.2177459 ],\n",
       "       [ 0.67180165,  0.4568759 ,  0.83444743,  1.43531914],\n",
       "       [-0.89573553,  1.89603497, -1.32533157, -1.40568508],\n",
       "       [ 1.27470056,  0.21701605,  0.89281984,  1.16474731],\n",
       "       [ 0.06890273, -0.02284379,  0.19235097,  0.35303182],\n",
       "       [ 0.79238143, -0.02284379,  0.77607503,  1.0294614 ],\n",
       "       [-0.17225683, -0.98228318, -0.21625586, -0.32339776],\n",
       "       [-0.77515575, -0.74242333,  0.01723376,  0.2177459 ],\n",
       "       [ 0.3100623 , -0.02284379,  0.4258406 ,  0.2177459 ],\n",
       "       [-1.61921423, -1.70186271, -1.50044878, -1.27039917],\n",
       "       [ 0.91296121, -0.26270364,  0.4258406 ,  0.08245999],\n",
       "       [-0.4134164 , -0.98228318,  0.30909579, -0.05282593],\n",
       "       [-0.65457597,  1.65617512, -1.38370397, -1.40568508],\n",
       "       [-0.29283662, -0.02284379,  0.13397857,  0.08245999],\n",
       "       [ 1.7570197 , -0.26270364,  1.41817149,  0.75888956],\n",
       "       [ 1.033541  ,  0.69673574,  1.06793706,  1.16474731],\n",
       "       [-0.89573553,  1.65617512, -1.38370397, -1.13511325],\n",
       "       [-1.1368951 , -1.46200287, -0.33300068, -0.32339776],\n",
       "       [ 1.033541  ,  0.69673574,  1.06793706,  1.70589097],\n",
       "       [ 1.63643991, -0.02284379,  1.12630946,  0.48831773],\n",
       "       [-1.1368951 ,  1.41631528, -1.44207638, -1.540971  ],\n",
       "       [ 1.033541  ,  0.21701605,  1.00956465,  1.57060506],\n",
       "       [-1.1368951 , -0.02284379, -1.44207638, -1.40568508],\n",
       "       [ 1.27470056,  0.21701605,  0.60095781,  0.35303182],\n",
       "       [ 1.87759948, -0.50256349,  1.30142668,  0.89417548],\n",
       "       [ 0.55122187, -0.26270364,  1.00956465,  0.75888956],\n",
       "       [-0.17225683, -0.50256349,  0.13397857,  0.08245999],\n",
       "       [ 0.79238143, -0.02284379,  0.95119225,  0.75888956],\n",
       "       [ 0.55122187, -1.70186271,  0.30909579,  0.08245999],\n",
       "       [ 0.67180165, -0.26270364,  0.25072338,  0.08245999],\n",
       "       [-0.29283662, -0.50256349,  0.60095781,  1.0294614 ],\n",
       "       [ 0.06890273, -0.02284379,  0.71770262,  0.75888956],\n",
       "       [-0.53399618,  0.93659559, -1.26695916, -1.40568508],\n",
       "       [ 0.3100623 , -0.50256349,  0.07560616,  0.08245999],\n",
       "       [-1.1368951 , -1.22214302,  0.36746819,  0.62360365],\n",
       "       [-0.05167705,  2.37575466, -1.55882119, -1.40568508],\n",
       "       [-0.05167705, -0.98228318,  0.07560616, -0.05282593],\n",
       "       [ 1.51586013, -0.02284379,  1.18468187,  1.16474731]])"
      ]
     },
     "execution_count": 8,
     "metadata": {},
     "output_type": "execute_result"
    }
   ],
   "source": [
    "# Visualización de X normalizada\n",
    "X_train"
   ]
  },
  {
   "cell_type": "code",
   "execution_count": 9,
   "id": "00a84b22",
   "metadata": {
    "_cell_guid": "8e04a541-7524-43fe-9b46-38d2e28c53bf",
    "_uuid": "ad8c9423-839f-47c6-8c95-15a511d1099d",
    "execution": {
     "iopub.execute_input": "2021-07-20T18:25:12.711543Z",
     "iopub.status.busy": "2021-07-20T18:25:12.710870Z",
     "iopub.status.idle": "2021-07-20T18:25:12.727071Z",
     "shell.execute_reply": "2021-07-20T18:25:12.726473Z",
     "shell.execute_reply.started": "2021-07-20T18:22:50.699852Z"
    },
    "executionInfo": {
     "elapsed": 198,
     "status": "ok",
     "timestamp": 1698978670815,
     "user": {
      "displayName": "Carlos Bienvenido Ogando Montás (Carlitos5336)",
      "userId": "10505299496410393010"
     },
     "user_tz": 240
    },
    "id": "00a84b22",
    "jupyter": {
     "outputs_hidden": false
    },
    "papermill": {
     "duration": 0.056827,
     "end_time": "2021-07-20T18:25:12.727196",
     "exception": false,
     "start_time": "2021-07-20T18:25:12.670369",
     "status": "completed"
    },
    "tags": []
   },
   "outputs": [],
   "source": [
    "# Conversión de datos en tensores\n",
    "\n",
    "X_train = torch.FloatTensor(X_train)\n",
    "X_test = torch.FloatTensor(X_test)\n",
    "y_train = torch.LongTensor(y_train)\n",
    "y_test = torch.LongTensor(y_test)"
   ]
  },
  {
   "cell_type": "code",
   "execution_count": 10,
   "id": "e11761e6",
   "metadata": {
    "_cell_guid": "0a4541eb-bde5-4fd7-8fbc-2d6ee529c2ba",
    "_uuid": "7be16122-048c-4dd4-8e72-bc066ac486fe",
    "execution": {
     "iopub.execute_input": "2021-07-20T18:25:12.853958Z",
     "iopub.status.busy": "2021-07-20T18:25:12.852800Z",
     "iopub.status.idle": "2021-07-20T18:25:12.855521Z",
     "shell.execute_reply": "2021-07-20T18:25:12.856013Z",
     "shell.execute_reply.started": "2021-07-20T18:22:50.711053Z"
    },
    "executionInfo": {
     "elapsed": 186,
     "status": "ok",
     "timestamp": 1698978695122,
     "user": {
      "displayName": "Carlos Bienvenido Ogando Montás (Carlitos5336)",
      "userId": "10505299496410393010"
     },
     "user_tz": 240
    },
    "id": "e11761e6",
    "jupyter": {
     "outputs_hidden": false
    },
    "papermill": {
     "duration": 0.039635,
     "end_time": "2021-07-20T18:25:12.856166",
     "exception": false,
     "start_time": "2021-07-20T18:25:12.816531",
     "status": "completed"
    },
    "tags": []
   },
   "outputs": [],
   "source": [
    "# Diseño de la arquitectura de la red neuronal\n",
    "\n",
    "class NeuralNetworkClassificationModel(nn.Module):\n",
    "\n",
    "    def __init__(self,input_dim,output_dim):\n",
    "        super(NeuralNetworkClassificationModel,self).__init__()\n",
    "        self.input_layer    = nn.Linear(input_dim,128)\n",
    "        self.hidden_layer1  = nn.Linear(128,64)\n",
    "        self.output_layer   = nn.Linear(64,output_dim)\n",
    "        self.relu = nn.ReLU()\n",
    "        self.softmax = nn.Softmax(dim=1)\n",
    "\n",
    "    def forward(self,x):\n",
    "        out =  self.relu(self.input_layer(x))\n",
    "        out =  self.relu(self.hidden_layer1(out))\n",
    "        out =  self.softmax(self.output_layer(out))\n",
    "        return out"
   ]
  },
  {
   "cell_type": "code",
   "execution_count": 11,
   "id": "30eb5237",
   "metadata": {
    "_cell_guid": "7e49f67e-a267-4b30-ae52-63bc81d3dcd5",
    "_uuid": "8c1d977d-fb09-4976-b45e-6eec4cdcf6a9",
    "execution": {
     "iopub.execute_input": "2021-07-20T18:25:13.062341Z",
     "iopub.status.busy": "2021-07-20T18:25:13.061686Z",
     "iopub.status.idle": "2021-07-20T18:25:13.068345Z",
     "shell.execute_reply": "2021-07-20T18:25:13.068779Z",
     "shell.execute_reply.started": "2021-07-20T18:22:50.746804Z"
    },
    "executionInfo": {
     "elapsed": 203,
     "status": "ok",
     "timestamp": 1698978858199,
     "user": {
      "displayName": "Carlos Bienvenido Ogando Montás (Carlitos5336)",
      "userId": "10505299496410393010"
     },
     "user_tz": 240
    },
    "id": "30eb5237",
    "jupyter": {
     "outputs_hidden": false
    },
    "papermill": {
     "duration": 0.040932,
     "end_time": "2021-07-20T18:25:13.068956",
     "exception": false,
     "start_time": "2021-07-20T18:25:13.028024",
     "status": "completed"
    },
    "tags": []
   },
   "outputs": [],
   "source": [
    "# Función de entrenamiento\n",
    "\n",
    "def train_network(model, optimizer, criterion, X_train, y_train, X_test, y_test,\n",
    "                  num_epochs, train_losses, test_losses):\n",
    "\n",
    "    for epoch in range(num_epochs):\n",
    "\n",
    "        # Limpiar los gradientes del último backpropagation de loss.backward()\n",
    "        optimizer.zero_grad()\n",
    "\n",
    "        # Forward feed: predicción el modelo\n",
    "        output_train = model(X_train)\n",
    "\n",
    "        # Cálculo de error\n",
    "        loss_train = criterion(output_train, y_train)\n",
    "        # Cálculo del gradiente por backpropagation\n",
    "        loss_train.backward()\n",
    "\n",
    "        # Actualización de pesos\n",
    "        optimizer.step()\n",
    "\n",
    "        output_test = model(X_test)\n",
    "        loss_test = criterion(output_test,y_test)\n",
    "\n",
    "        train_losses[epoch] = loss_train.item()\n",
    "        test_losses[epoch] = loss_test.item()\n",
    "\n",
    "        if (epoch + 1) % 50 == 0:\n",
    "            print(f\"Epoch {epoch+1}/{num_epochs}, Train Loss: {loss_train.item():.4f}, Test Loss: {loss_test.item():.4f}\")\n"
   ]
  },
  {
   "cell_type": "code",
   "execution_count": 12,
   "id": "81dd1cd5",
   "metadata": {
    "_cell_guid": "7d5910e3-efe5-4b33-91f2-13cad14d65fa",
    "_uuid": "066d7bca-76ee-4223-b77d-1fa5076a818e",
    "colab": {
     "base_uri": "https://localhost:8080/"
    },
    "execution": {
     "iopub.execute_input": "2021-07-20T18:25:12.923826Z",
     "iopub.status.busy": "2021-07-20T18:25:12.923247Z",
     "iopub.status.idle": "2021-07-20T18:25:12.930164Z",
     "shell.execute_reply": "2021-07-20T18:25:12.929702Z",
     "shell.execute_reply.started": "2021-07-20T18:22:50.725163Z"
    },
    "executionInfo": {
     "elapsed": 246,
     "status": "ok",
     "timestamp": 1698978818755,
     "user": {
      "displayName": "Carlos Bienvenido Ogando Montás (Carlitos5336)",
      "userId": "10505299496410393010"
     },
     "user_tz": 240
    },
    "id": "81dd1cd5",
    "jupyter": {
     "outputs_hidden": false
    },
    "outputId": "3a94f667-3164-420d-8219-c5fd719d0cac",
    "papermill": {
     "duration": 0.044541,
     "end_time": "2021-07-20T18:25:12.930315",
     "exception": false,
     "start_time": "2021-07-20T18:25:12.885774",
     "status": "completed"
    },
    "tags": []
   },
   "outputs": [
    {
     "name": "stdout",
     "output_type": "stream",
     "text": [
      "NeuralNetworkClassificationModel(\n",
      "  (input_layer): Linear(in_features=4, out_features=128, bias=True)\n",
      "  (hidden_layer1): Linear(in_features=128, out_features=64, bias=True)\n",
      "  (output_layer): Linear(in_features=64, out_features=3, bias=True)\n",
      "  (relu): ReLU()\n",
      "  (softmax): Softmax(dim=1)\n",
      ")\n"
     ]
    }
   ],
   "source": [
    "# Instanciación de modelo\n",
    "\n",
    "n_features = X_train.shape[1]\n",
    "n_classes = len(np.unique(y))\n",
    "input_dim  = n_features\n",
    "output_dim = n_classes\n",
    "\n",
    "model = NeuralNetworkClassificationModel(input_dim, output_dim)\n",
    "\n",
    "print(model)"
   ]
  },
  {
   "cell_type": "code",
   "execution_count": 13,
   "id": "f1ea0563",
   "metadata": {
    "_cell_guid": "516cd875-5679-4183-a316-402ffd58a688",
    "_uuid": "85f761ac-d238-4082-9817-f3f50f56bd3a",
    "execution": {
     "iopub.execute_input": "2021-07-20T18:25:12.995060Z",
     "iopub.status.busy": "2021-07-20T18:25:12.994399Z",
     "iopub.status.idle": "2021-07-20T18:25:12.996215Z",
     "shell.execute_reply": "2021-07-20T18:25:12.996661Z",
     "shell.execute_reply.started": "2021-07-20T18:22:50.735425Z"
    },
    "executionInfo": {
     "elapsed": 1255,
     "status": "ok",
     "timestamp": 1698978848399,
     "user": {
      "displayName": "Carlos Bienvenido Ogando Montás (Carlitos5336)",
      "userId": "10505299496410393010"
     },
     "user_tz": 240
    },
    "id": "f1ea0563",
    "jupyter": {
     "outputs_hidden": false
    },
    "papermill": {
     "duration": 0.036746,
     "end_time": "2021-07-20T18:25:12.996816",
     "exception": false,
     "start_time": "2021-07-20T18:25:12.960070",
     "status": "completed"
    },
    "tags": []
   },
   "outputs": [],
   "source": [
    "# Declaración de insumos para entrenamiento\n",
    "\n",
    "learning_rate = 0.01\n",
    "criterion = nn.CrossEntropyLoss()\n",
    "optimizer = torch.optim.Adam(model.parameters(), lr=learning_rate)\n",
    "\n",
    "num_epochs = 1000\n",
    "train_losses = np.zeros(num_epochs)\n",
    "test_losses  = np.zeros(num_epochs)"
   ]
  },
  {
   "cell_type": "code",
   "execution_count": 14,
   "id": "8ab3042a",
   "metadata": {
    "_cell_guid": "67b5f88a-b8a6-4e2e-86ac-986cc952498e",
    "_uuid": "2dbb9a3c-3d13-49b2-b978-1bd3107d72cb",
    "colab": {
     "base_uri": "https://localhost:8080/"
    },
    "execution": {
     "iopub.execute_input": "2021-07-20T18:25:13.202209Z",
     "iopub.status.busy": "2021-07-20T18:25:13.201550Z",
     "iopub.status.idle": "2021-07-20T18:25:14.981293Z",
     "shell.execute_reply": "2021-07-20T18:25:14.980769Z",
     "shell.execute_reply.started": "2021-07-20T18:22:50.774926Z"
    },
    "executionInfo": {
     "elapsed": 1955,
     "status": "ok",
     "timestamp": 1698978861831,
     "user": {
      "displayName": "Carlos Bienvenido Ogando Montás (Carlitos5336)",
      "userId": "10505299496410393010"
     },
     "user_tz": 240
    },
    "id": "8ab3042a",
    "jupyter": {
     "outputs_hidden": false
    },
    "outputId": "b2e7be76-235f-42bc-9d54-23b130085189",
    "papermill": {
     "duration": 1.814088,
     "end_time": "2021-07-20T18:25:14.981419",
     "exception": false,
     "start_time": "2021-07-20T18:25:13.167331",
     "status": "completed"
    },
    "tags": []
   },
   "outputs": [
    {
     "name": "stdout",
     "output_type": "stream",
     "text": [
      "Epoch 50/1000, Train Loss: 0.5636, Test Loss: 0.5517\n",
      "Epoch 100/1000, Train Loss: 0.5613, Test Loss: 0.5521\n",
      "Epoch 150/1000, Train Loss: 0.5611, Test Loss: 0.5519\n",
      "Epoch 200/1000, Train Loss: 0.5611, Test Loss: 0.5517\n",
      "Epoch 250/1000, Train Loss: 0.5610, Test Loss: 0.5517\n",
      "Epoch 300/1000, Train Loss: 0.5610, Test Loss: 0.5516\n",
      "Epoch 350/1000, Train Loss: 0.5610, Test Loss: 0.5516\n",
      "Epoch 400/1000, Train Loss: 0.5610, Test Loss: 0.5516\n",
      "Epoch 450/1000, Train Loss: 0.5610, Test Loss: 0.5515\n",
      "Epoch 500/1000, Train Loss: 0.5610, Test Loss: 0.5515\n",
      "Epoch 550/1000, Train Loss: 0.5610, Test Loss: 0.5515\n",
      "Epoch 600/1000, Train Loss: 0.5610, Test Loss: 0.5515\n",
      "Epoch 650/1000, Train Loss: 0.5610, Test Loss: 0.5515\n",
      "Epoch 700/1000, Train Loss: 0.5610, Test Loss: 0.5515\n",
      "Epoch 750/1000, Train Loss: 0.5610, Test Loss: 0.5515\n",
      "Epoch 800/1000, Train Loss: 0.5610, Test Loss: 0.5515\n",
      "Epoch 850/1000, Train Loss: 0.5610, Test Loss: 0.5515\n",
      "Epoch 900/1000, Train Loss: 0.5610, Test Loss: 0.5515\n",
      "Epoch 950/1000, Train Loss: 0.5610, Test Loss: 0.5515\n",
      "Epoch 1000/1000, Train Loss: 0.5610, Test Loss: 0.5515\n"
     ]
    }
   ],
   "source": [
    "# Ejecutar entrenamiento\n",
    "\n",
    "train_network(model, optimizer, criterion, X_train, y_train, X_test, y_test,\n",
    "              num_epochs, train_losses, test_losses)"
   ]
  },
  {
   "cell_type": "code",
   "execution_count": 15,
   "id": "a70f6038",
   "metadata": {
    "_cell_guid": "09514869-9b65-4631-9174-2222c3a5f460",
    "_uuid": "1e60e86d-ff1c-45d1-87e0-350260c6a601",
    "colab": {
     "base_uri": "https://localhost:8080/",
     "height": 830
    },
    "execution": {
     "iopub.execute_input": "2021-07-20T18:25:15.068405Z",
     "iopub.status.busy": "2021-07-20T18:25:15.067799Z",
     "iopub.status.idle": "2021-07-20T18:25:15.344872Z",
     "shell.execute_reply": "2021-07-20T18:25:15.344233Z",
     "shell.execute_reply.started": "2021-07-20T18:22:52.486679Z"
    },
    "executionInfo": {
     "elapsed": 781,
     "status": "ok",
     "timestamp": 1698978871612,
     "user": {
      "displayName": "Carlos Bienvenido Ogando Montás (Carlitos5336)",
      "userId": "10505299496410393010"
     },
     "user_tz": 240
    },
    "id": "a70f6038",
    "jupyter": {
     "outputs_hidden": false
    },
    "outputId": "da401da9-f3dc-419d-c5d1-31b658c51c68",
    "papermill": {
     "duration": 0.331028,
     "end_time": "2021-07-20T18:25:15.345024",
     "exception": false,
     "start_time": "2021-07-20T18:25:15.013996",
     "status": "completed"
    },
    "tags": []
   },
   "outputs": [
    {
     "data": {
      "image/png": "[encoded data removed]",
      "text/plain": [
       "<Figure size 1000x1000 with 1 Axes>"
      ]
     },
     "metadata": {},
     "output_type": "display_data"
    }
   ],
   "source": [
    "# Gráfica de análisis de error de entrenamiento vs error de testeo durante las iteraciones\n",
    "\n",
    "plt.figure(figsize=(10,10))\n",
    "plt.plot(train_losses, label='train loss')\n",
    "plt.plot(test_losses, label='test loss')\n",
    "plt.legend()\n",
    "plt.show()"
   ]
  },
  {
   "cell_type": "code",
   "execution_count": 16,
   "id": "a8afbb75",
   "metadata": {
    "_cell_guid": "d5feec25-0c3a-48f5-9372-39d68c45710d",
    "_uuid": "d7687301-5807-48da-a5a0-1bb3d6a4d93d",
    "execution": {
     "iopub.execute_input": "2021-07-20T18:25:15.416083Z",
     "iopub.status.busy": "2021-07-20T18:25:15.415388Z",
     "iopub.status.idle": "2021-07-20T18:25:15.418074Z",
     "shell.execute_reply": "2021-07-20T18:25:15.417429Z",
     "shell.execute_reply.started": "2021-07-20T18:22:52.673155Z"
    },
    "executionInfo": {
     "elapsed": 198,
     "status": "ok",
     "timestamp": 1698978902703,
     "user": {
      "displayName": "Carlos Bienvenido Ogando Montás (Carlitos5336)",
      "userId": "10505299496410393010"
     },
     "user_tz": 240
    },
    "id": "a8afbb75",
    "jupyter": {
     "outputs_hidden": false
    },
    "papermill": {
     "duration": 0.039797,
     "end_time": "2021-07-20T18:25:15.418212",
     "exception": false,
     "start_time": "2021-07-20T18:25:15.378415",
     "status": "completed"
    },
    "tags": []
   },
   "outputs": [],
   "source": [
    "# Obtención de predicciones de entrenamiento y testeo\n",
    "\n",
    "predictions_train = []\n",
    "predictions_test =  []\n",
    "with torch.no_grad():\n",
    "    predictions_train = model(X_train)\n",
    "    predictions_test = model(X_test)"
   ]
  },
  {
   "cell_type": "code",
   "execution_count": 17,
   "id": "eebdf7cb",
   "metadata": {
    "_cell_guid": "a1482815-9663-40a3-9862-74629256a354",
    "_uuid": "02d8e76a-b8a1-421c-a700-a37b7a39d6da",
    "execution": {
     "iopub.execute_input": "2021-07-20T18:25:15.565170Z",
     "iopub.status.busy": "2021-07-20T18:25:15.564553Z",
     "iopub.status.idle": "2021-07-20T18:25:15.566815Z",
     "shell.execute_reply": "2021-07-20T18:25:15.567288Z",
     "shell.execute_reply.started": "2021-07-20T18:22:52.691763Z"
    },
    "executionInfo": {
     "elapsed": 175,
     "status": "ok",
     "timestamp": 1698978922520,
     "user": {
      "displayName": "Carlos Bienvenido Ogando Montás (Carlitos5336)",
      "userId": "10505299496410393010"
     },
     "user_tz": 240
    },
    "id": "eebdf7cb",
    "jupyter": {
     "outputs_hidden": false
    },
    "papermill": {
     "duration": 0.041993,
     "end_time": "2021-07-20T18:25:15.567440",
     "exception": false,
     "start_time": "2021-07-20T18:25:15.525447",
     "status": "completed"
    },
    "tags": []
   },
   "outputs": [],
   "source": [
    "# Función de cálculo de precisión\n",
    "\n",
    "def get_accuracy_multiclass(pred_arr,original_arr):\n",
    "    if len(pred_arr)!=len(original_arr):\n",
    "        return False\n",
    "    pred_arr = pred_arr.numpy()\n",
    "    original_arr = original_arr.numpy()\n",
    "    final_pred= []\n",
    "\n",
    "    for i in range(len(pred_arr)):\n",
    "        final_pred.append(np.argmax(pred_arr[i]))\n",
    "    final_pred = np.array(final_pred)\n",
    "    count = 0\n",
    "\n",
    "    for i in range(len(original_arr)):\n",
    "        if final_pred[i] == original_arr[i]:\n",
    "            count+=1\n",
    "    return count/len(final_pred)"
   ]
  },
  {
   "cell_type": "code",
   "execution_count": 18,
   "id": "cd50d21c",
   "metadata": {
    "_cell_guid": "e0821662-7223-4473-9ab4-0baae47c57be",
    "_uuid": "29382db4-2926-4c29-8a21-02b3236904c2",
    "colab": {
     "base_uri": "https://localhost:8080/"
    },
    "execution": {
     "iopub.execute_input": "2021-07-20T18:25:15.635874Z",
     "iopub.status.busy": "2021-07-20T18:25:15.635313Z",
     "iopub.status.idle": "2021-07-20T18:25:15.639791Z",
     "shell.execute_reply": "2021-07-20T18:25:15.639320Z",
     "shell.execute_reply.started": "2021-07-20T18:22:52.705617Z"
    },
    "executionInfo": {
     "elapsed": 197,
     "status": "ok",
     "timestamp": 1698978947947,
     "user": {
      "displayName": "Carlos Bienvenido Ogando Montás (Carlitos5336)",
      "userId": "10505299496410393010"
     },
     "user_tz": 240
    },
    "id": "cd50d21c",
    "jupyter": {
     "outputs_hidden": false
    },
    "outputId": "58e0bd7d-f60d-480f-e818-970e0c471a77",
    "papermill": {
     "duration": 0.040692,
     "end_time": "2021-07-20T18:25:15.639926",
     "exception": false,
     "start_time": "2021-07-20T18:25:15.599234",
     "status": "completed"
    },
    "tags": []
   },
   "outputs": [
    {
     "name": "stdout",
     "output_type": "stream",
     "text": [
      "Training Accuracy: 99.048\n",
      "Test Accuracy: 100.0\n"
     ]
    }
   ],
   "source": [
    "# Cálculo de precisión de entrenamiento y testeo\n",
    "\n",
    "train_acc = get_accuracy_multiclass(predictions_train,y_train)\n",
    "test_acc  = get_accuracy_multiclass(predictions_test,y_test)\n",
    "\n",
    "print(f\"Training Accuracy: {round(train_acc*100,3)}\")\n",
    "print(f\"Test Accuracy: {round(test_acc*100,3)}\")"
   ]
  }
 ],
 "metadata": {
  "colab": {
   "provenance": []
  },
  "kernelspec": {
   "display_name": "sandbox",
   "language": "python",
   "name": "python3"
  },
  "language_info": {
   "codemirror_mode": {
    "name": "ipython",
    "version": 3
   },
   "file_extension": ".py",
   "mimetype": "text/x-python",
   "name": "python",
   "nbconvert_exporter": "python",
   "pygments_lexer": "ipython3",
   "version": "3.11.7"
  },
  "papermill": {
   "default_parameters": {},
   "duration": 15.730891,
   "end_time": "2021-07-20T18:25:17.340876",
   "environment_variables": {},
   "exception": null,
   "input_path": "__notebook__.ipynb",
   "output_path": "__notebook__.ipynb",
   "parameters": {},
   "start_time": "2021-07-20T18:25:01.609985",
   "version": "2.3.3"
  }
 },
 "nbformat": 4,
 "nbformat_minor": 5
}
