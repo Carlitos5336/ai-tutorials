{
 "cells": [
  {
   "cell_type": "code",
   "execution_count": 2,
   "id": "76123517",
   "metadata": {
    "_cell_guid": "8af8cfa0-0559-4d6b-bdcf-ab6b8b47a55a",
    "_uuid": "cde572a2-f445-4215-af1f-2538c6b5d0de",
    "execution": {
     "iopub.execute_input": "2021-07-20T18:25:09.333856Z",
     "iopub.status.busy": "2021-07-20T18:25:09.333105Z",
     "iopub.status.idle": "2021-07-20T18:25:10.411554Z",
     "shell.execute_reply": "2021-07-20T18:25:10.410949Z",
     "shell.execute_reply.started": "2021-07-20T18:22:50.453176Z"
    },
    "id": "76123517",
    "jupyter": {
     "outputs_hidden": false
    },
    "papermill": {
     "duration": 1.112622,
     "end_time": "2021-07-20T18:25:10.411683",
     "exception": false,
     "start_time": "2021-07-20T18:25:09.299061",
     "status": "completed"
    },
    "tags": []
   },
   "outputs": [],
   "source": [
    "import pandas as pd\n",
    "import numpy as np\n",
    "import torch\n",
    "import torch.nn as nn\n",
    "import matplotlib.pyplot as plt\n",
    "from sklearn import datasets"
   ]
  },
  {
   "cell_type": "code",
   "execution_count": 3,
   "id": "bedf087d",
   "metadata": {
    "_cell_guid": "079121a7-5693-454b-bfde-6177b579f2d0",
    "_uuid": "5afeabe9-2fe7-43ca-b5cb-7deb56a13737",
    "colab": {
     "base_uri": "https://localhost:8080/",
     "height": 346
    },
    "execution": {
     "iopub.execute_input": "2021-07-20T18:25:10.473951Z",
     "iopub.status.busy": "2021-07-20T18:25:10.473296Z",
     "iopub.status.idle": "2021-07-20T18:25:10.485873Z",
     "shell.execute_reply": "2021-07-20T18:25:10.485355Z",
     "shell.execute_reply.started": "2021-07-20T18:22:50.466538Z"
    },
    "executionInfo": {
     "elapsed": 10,
     "status": "error",
     "timestamp": 1698956939429,
     "user": {
      "displayName": "Carlos Bienvenido Ogando Montás (Carlitos5336)",
      "userId": "10505299496410393010"
     },
     "user_tz": 240
    },
    "id": "bedf087d",
    "jupyter": {
     "outputs_hidden": false
    },
    "outputId": "d7730e3a-bf40-4b42-d2f8-7d2bd463faf6",
    "papermill": {
     "duration": 0.04584,
     "end_time": "2021-07-20T18:25:10.486019",
     "exception": false,
     "start_time": "2021-07-20T18:25:10.440179",
     "status": "completed"
    },
    "tags": []
   },
   "outputs": [],
   "source": [
    "df = pd.read_csv(\"gender_classification.csv\")"
   ]
  },
  {
   "cell_type": "code",
   "execution_count": 4,
   "id": "463266e8",
   "metadata": {
    "_cell_guid": "d4e04c7a-7753-48e2-818a-6778e2aeeded",
    "_uuid": "f38a34e0-9f1c-410b-9001-dae6ac423287",
    "execution": {
     "iopub.execute_input": "2021-07-20T18:25:10.553522Z",
     "iopub.status.busy": "2021-07-20T18:25:10.552687Z",
     "iopub.status.idle": "2021-07-20T18:25:10.583146Z",
     "shell.execute_reply": "2021-07-20T18:25:10.583642Z",
     "shell.execute_reply.started": "2021-07-20T18:22:50.490322Z"
    },
    "id": "463266e8",
    "jupyter": {
     "outputs_hidden": false
    },
    "papermill": {
     "duration": 0.068823,
     "end_time": "2021-07-20T18:25:10.583803",
     "exception": false,
     "start_time": "2021-07-20T18:25:10.514980",
     "status": "completed"
    },
    "tags": []
   },
   "outputs": [
    {
     "data": {
      "text/html": [
       "<div>\n",
       "<style scoped>\n",
       "    .dataframe tbody tr th:only-of-type {\n",
       "        vertical-align: middle;\n",
       "    }\n",
       "\n",
       "    .dataframe tbody tr th {\n",
       "        vertical-align: top;\n",
       "    }\n",
       "\n",
       "    .dataframe thead th {\n",
       "        text-align: right;\n",
       "    }\n",
       "</style>\n",
       "<table border=\"1\" class=\"dataframe\">\n",
       "  <thead>\n",
       "    <tr style=\"text-align: right;\">\n",
       "      <th></th>\n",
       "      <th>long_hair</th>\n",
       "      <th>forehead_width_cm</th>\n",
       "      <th>forehead_height_cm</th>\n",
       "      <th>nose_wide</th>\n",
       "      <th>nose_long</th>\n",
       "      <th>lips_thin</th>\n",
       "      <th>distance_nose_to_lip_long</th>\n",
       "      <th>gender</th>\n",
       "    </tr>\n",
       "  </thead>\n",
       "  <tbody>\n",
       "    <tr>\n",
       "      <th>0</th>\n",
       "      <td>1</td>\n",
       "      <td>11.8</td>\n",
       "      <td>6.1</td>\n",
       "      <td>1</td>\n",
       "      <td>0</td>\n",
       "      <td>1</td>\n",
       "      <td>1</td>\n",
       "      <td>Male</td>\n",
       "    </tr>\n",
       "    <tr>\n",
       "      <th>1</th>\n",
       "      <td>0</td>\n",
       "      <td>14.0</td>\n",
       "      <td>5.4</td>\n",
       "      <td>0</td>\n",
       "      <td>0</td>\n",
       "      <td>1</td>\n",
       "      <td>0</td>\n",
       "      <td>Female</td>\n",
       "    </tr>\n",
       "    <tr>\n",
       "      <th>2</th>\n",
       "      <td>0</td>\n",
       "      <td>11.8</td>\n",
       "      <td>6.3</td>\n",
       "      <td>1</td>\n",
       "      <td>1</td>\n",
       "      <td>1</td>\n",
       "      <td>1</td>\n",
       "      <td>Male</td>\n",
       "    </tr>\n",
       "    <tr>\n",
       "      <th>3</th>\n",
       "      <td>0</td>\n",
       "      <td>14.4</td>\n",
       "      <td>6.1</td>\n",
       "      <td>0</td>\n",
       "      <td>1</td>\n",
       "      <td>1</td>\n",
       "      <td>1</td>\n",
       "      <td>Male</td>\n",
       "    </tr>\n",
       "    <tr>\n",
       "      <th>4</th>\n",
       "      <td>1</td>\n",
       "      <td>13.5</td>\n",
       "      <td>5.9</td>\n",
       "      <td>0</td>\n",
       "      <td>0</td>\n",
       "      <td>0</td>\n",
       "      <td>0</td>\n",
       "      <td>Female</td>\n",
       "    </tr>\n",
       "  </tbody>\n",
       "</table>\n",
       "</div>"
      ],
      "text/plain": [
       "   long_hair  forehead_width_cm  forehead_height_cm  nose_wide  nose_long  \\\n",
       "0          1               11.8                 6.1          1          0   \n",
       "1          0               14.0                 5.4          0          0   \n",
       "2          0               11.8                 6.3          1          1   \n",
       "3          0               14.4                 6.1          0          1   \n",
       "4          1               13.5                 5.9          0          0   \n",
       "\n",
       "   lips_thin  distance_nose_to_lip_long  gender  \n",
       "0          1                          1    Male  \n",
       "1          1                          0  Female  \n",
       "2          1                          1    Male  \n",
       "3          1                          1    Male  \n",
       "4          0                          0  Female  "
      ]
     },
     "execution_count": 4,
     "metadata": {},
     "output_type": "execute_result"
    }
   ],
   "source": [
    "df.head()"
   ]
  },
  {
   "cell_type": "code",
   "execution_count": 5,
   "id": "9daeed1b",
   "metadata": {
    "_cell_guid": "68331b2b-d42e-4b5b-ad34-99b0a173a37c",
    "_uuid": "9af04a79-fb61-4486-a35f-59d12fd6a213",
    "execution": {
     "iopub.execute_input": "2021-07-20T18:25:10.728113Z",
     "iopub.status.busy": "2021-07-20T18:25:10.727078Z",
     "iopub.status.idle": "2021-07-20T18:25:10.729740Z",
     "shell.execute_reply": "2021-07-20T18:25:10.730222Z",
     "shell.execute_reply.started": "2021-07-20T18:22:50.508459Z"
    },
    "id": "9daeed1b",
    "jupyter": {
     "outputs_hidden": false
    },
    "papermill": {
     "duration": 0.038504,
     "end_time": "2021-07-20T18:25:10.730384",
     "exception": false,
     "start_time": "2021-07-20T18:25:10.691880",
     "status": "completed"
    },
    "tags": []
   },
   "outputs": [],
   "source": [
    "def get_info_dataframe(dataframe):\n",
    "    print(f\"DATAFRAME GENERAL INFO - \\n\")\n",
    "    print(dataframe.info(),\"\\n\")\n",
    "    print(f\"DATAFRAME MISSING INFO - \\n\")\n",
    "    print(dataframe.isnull().sum(),\"\\n\")\n",
    "    print(f\"DATAFRAME SHAPE INFO - \\n\")\n",
    "    print(dataframe.shape)"
   ]
  },
  {
   "cell_type": "code",
   "execution_count": 6,
   "id": "6628d345",
   "metadata": {
    "_cell_guid": "63bccfc5-033f-493d-b8a3-246b80d75589",
    "_uuid": "bc90b287-6c3f-4146-9b86-433519f8e49e",
    "execution": {
     "iopub.execute_input": "2021-07-20T18:25:10.792523Z",
     "iopub.status.busy": "2021-07-20T18:25:10.791944Z",
     "iopub.status.idle": "2021-07-20T18:25:10.812836Z",
     "shell.execute_reply": "2021-07-20T18:25:10.813402Z",
     "shell.execute_reply.started": "2021-07-20T18:22:50.514876Z"
    },
    "id": "6628d345",
    "jupyter": {
     "outputs_hidden": false
    },
    "papermill": {
     "duration": 0.053433,
     "end_time": "2021-07-20T18:25:10.813558",
     "exception": false,
     "start_time": "2021-07-20T18:25:10.760125",
     "status": "completed"
    },
    "tags": []
   },
   "outputs": [
    {
     "name": "stdout",
     "output_type": "stream",
     "text": [
      "DATAFRAME GENERAL INFO - \n",
      "\n",
      "<class 'pandas.core.frame.DataFrame'>\n",
      "RangeIndex: 5001 entries, 0 to 5000\n",
      "Data columns (total 8 columns):\n",
      " #   Column                     Non-Null Count  Dtype  \n",
      "---  ------                     --------------  -----  \n",
      " 0   long_hair                  5001 non-null   int64  \n",
      " 1   forehead_width_cm          5001 non-null   float64\n",
      " 2   forehead_height_cm         5001 non-null   float64\n",
      " 3   nose_wide                  5001 non-null   int64  \n",
      " 4   nose_long                  5001 non-null   int64  \n",
      " 5   lips_thin                  5001 non-null   int64  \n",
      " 6   distance_nose_to_lip_long  5001 non-null   int64  \n",
      " 7   gender                     5001 non-null   object \n",
      "dtypes: float64(2), int64(5), object(1)\n",
      "memory usage: 312.7+ KB\n",
      "None \n",
      "\n",
      "DATAFRAME MISSING INFO - \n",
      "\n",
      "long_hair                    0\n",
      "forehead_width_cm            0\n",
      "forehead_height_cm           0\n",
      "nose_wide                    0\n",
      "nose_long                    0\n",
      "lips_thin                    0\n",
      "distance_nose_to_lip_long    0\n",
      "gender                       0\n",
      "dtype: int64 \n",
      "\n",
      "DATAFRAME SHAPE INFO - \n",
      "\n",
      "(5001, 8)\n"
     ]
    }
   ],
   "source": [
    "get_info_dataframe(df)"
   ]
  },
  {
   "cell_type": "code",
   "execution_count": 7,
   "id": "ac262563",
   "metadata": {
    "_cell_guid": "f4e2d8c8-ce22-4c0f-a6ad-c86ad8d31a48",
    "_uuid": "bd32fb86-b85b-4848-af08-56148f117ab2",
    "execution": {
     "iopub.execute_input": "2021-07-20T18:25:11.297375Z",
     "iopub.status.busy": "2021-07-20T18:25:11.296780Z",
     "iopub.status.idle": "2021-07-20T18:25:11.301546Z",
     "shell.execute_reply": "2021-07-20T18:25:11.302127Z",
     "shell.execute_reply.started": "2021-07-20T18:22:50.638693Z"
    },
    "id": "ac262563",
    "jupyter": {
     "outputs_hidden": false
    },
    "papermill": {
     "duration": 0.038931,
     "end_time": "2021-07-20T18:25:11.302296",
     "exception": false,
     "start_time": "2021-07-20T18:25:11.263365",
     "status": "completed"
    },
    "tags": []
   },
   "outputs": [],
   "source": [
    "X = df.drop([\"gender\"],axis=1).values\n",
    "y = df[\"gender\"].values"
   ]
  },
  {
   "cell_type": "code",
   "execution_count": 8,
   "id": "c71a38e7",
   "metadata": {
    "_cell_guid": "13611d31-f4ea-479e-b4e6-838717f7eec7",
    "_uuid": "15c548da-dec4-4dcf-8a41-71fbcfb5f380",
    "execution": {
     "iopub.execute_input": "2021-07-20T18:25:11.367565Z",
     "iopub.status.busy": "2021-07-20T18:25:11.366929Z",
     "iopub.status.idle": "2021-07-20T18:25:12.308090Z",
     "shell.execute_reply": "2021-07-20T18:25:12.307483Z",
     "shell.execute_reply.started": "2021-07-20T18:22:50.646220Z"
    },
    "id": "c71a38e7",
    "jupyter": {
     "outputs_hidden": false
    },
    "papermill": {
     "duration": 0.974827,
     "end_time": "2021-07-20T18:25:12.308235",
     "exception": false,
     "start_time": "2021-07-20T18:25:11.333408",
     "status": "completed"
    },
    "tags": []
   },
   "outputs": [],
   "source": [
    "from sklearn.preprocessing import StandardScaler, LabelEncoder\n",
    "from sklearn.model_selection import train_test_split"
   ]
  },
  {
   "cell_type": "code",
   "execution_count": 9,
   "id": "5ef4333a",
   "metadata": {
    "_cell_guid": "3bc6f2f9-9b29-465c-b51b-2ca5a0eb4616",
    "_uuid": "2c84bc78-06dc-46b8-984f-71232cc55578",
    "execution": {
     "iopub.execute_input": "2021-07-20T18:25:12.374521Z",
     "iopub.status.busy": "2021-07-20T18:25:12.373776Z",
     "iopub.status.idle": "2021-07-20T18:25:12.376769Z",
     "shell.execute_reply": "2021-07-20T18:25:12.376317Z",
     "shell.execute_reply.started": "2021-07-20T18:22:50.660819Z"
    },
    "id": "5ef4333a",
    "jupyter": {
     "outputs_hidden": false
    },
    "papermill": {
     "duration": 0.037499,
     "end_time": "2021-07-20T18:25:12.376900",
     "exception": false,
     "start_time": "2021-07-20T18:25:12.339401",
     "status": "completed"
    },
    "tags": []
   },
   "outputs": [],
   "source": [
    "scaler = StandardScaler()\n",
    "encoder = LabelEncoder()"
   ]
  },
  {
   "cell_type": "code",
   "execution_count": 10,
   "id": "254d5228",
   "metadata": {
    "_cell_guid": "b780843c-d4a8-4e45-b495-a9201f1a0ea7",
    "_uuid": "702cd513-366d-4724-ba6b-c97371bc8a4f",
    "execution": {
     "iopub.execute_input": "2021-07-20T18:25:12.504852Z",
     "iopub.status.busy": "2021-07-20T18:25:12.503949Z",
     "iopub.status.idle": "2021-07-20T18:25:12.508694Z",
     "shell.execute_reply": "2021-07-20T18:25:12.509247Z",
     "shell.execute_reply.started": "2021-07-20T18:22:50.672579Z"
    },
    "id": "254d5228",
    "jupyter": {
     "outputs_hidden": false
    },
    "papermill": {
     "duration": 0.038533,
     "end_time": "2021-07-20T18:25:12.509399",
     "exception": false,
     "start_time": "2021-07-20T18:25:12.470866",
     "status": "completed"
    },
    "tags": []
   },
   "outputs": [],
   "source": [
    "X_train, X_test, y_train, y_test = train_test_split(X, y, test_size=0.30, random_state=42)"
   ]
  },
  {
   "cell_type": "code",
   "execution_count": 11,
   "id": "4bd2ae1b",
   "metadata": {
    "_cell_guid": "e8f8d8a6-805a-48c1-9058-b34c45c400a5",
    "_uuid": "f610020b-b39f-47a6-a63f-87ea3b2d33f3",
    "execution": {
     "iopub.execute_input": "2021-07-20T18:25:12.573921Z",
     "iopub.status.busy": "2021-07-20T18:25:12.573359Z",
     "iopub.status.idle": "2021-07-20T18:25:12.578410Z",
     "shell.execute_reply": "2021-07-20T18:25:12.577839Z",
     "shell.execute_reply.started": "2021-07-20T18:22:50.687014Z"
    },
    "id": "4bd2ae1b",
    "jupyter": {
     "outputs_hidden": false
    },
    "papermill": {
     "duration": 0.038313,
     "end_time": "2021-07-20T18:25:12.578540",
     "exception": false,
     "start_time": "2021-07-20T18:25:12.540227",
     "status": "completed"
    },
    "tags": []
   },
   "outputs": [],
   "source": [
    "X_train = scaler.fit_transform(X_train)\n",
    "X_test = scaler.transform(X_test)\n",
    "y_train = encoder.fit_transform(y_train)\n",
    "y_test = encoder.transform(y_test)"
   ]
  },
  {
   "cell_type": "code",
   "execution_count": 12,
   "id": "00a84b22",
   "metadata": {
    "_cell_guid": "8e04a541-7524-43fe-9b46-38d2e28c53bf",
    "_uuid": "ad8c9423-839f-47c6-8c95-15a511d1099d",
    "execution": {
     "iopub.execute_input": "2021-07-20T18:25:12.711543Z",
     "iopub.status.busy": "2021-07-20T18:25:12.710870Z",
     "iopub.status.idle": "2021-07-20T18:25:12.727071Z",
     "shell.execute_reply": "2021-07-20T18:25:12.726473Z",
     "shell.execute_reply.started": "2021-07-20T18:22:50.699852Z"
    },
    "id": "00a84b22",
    "jupyter": {
     "outputs_hidden": false
    },
    "papermill": {
     "duration": 0.056827,
     "end_time": "2021-07-20T18:25:12.727196",
     "exception": false,
     "start_time": "2021-07-20T18:25:12.670369",
     "status": "completed"
    },
    "tags": []
   },
   "outputs": [],
   "source": [
    "X_train = torch.FloatTensor(X_train)\n",
    "X_test = torch.FloatTensor(X_test)\n",
    "y_train = torch.LongTensor(y_train)\n",
    "y_test = torch.LongTensor(y_test)"
   ]
  },
  {
   "cell_type": "code",
   "execution_count": 13,
   "id": "e11761e6",
   "metadata": {
    "_cell_guid": "0a4541eb-bde5-4fd7-8fbc-2d6ee529c2ba",
    "_uuid": "7be16122-048c-4dd4-8e72-bc066ac486fe",
    "execution": {
     "iopub.execute_input": "2021-07-20T18:25:12.853958Z",
     "iopub.status.busy": "2021-07-20T18:25:12.852800Z",
     "iopub.status.idle": "2021-07-20T18:25:12.855521Z",
     "shell.execute_reply": "2021-07-20T18:25:12.856013Z",
     "shell.execute_reply.started": "2021-07-20T18:22:50.711053Z"
    },
    "id": "e11761e6",
    "jupyter": {
     "outputs_hidden": false
    },
    "papermill": {
     "duration": 0.039635,
     "end_time": "2021-07-20T18:25:12.856166",
     "exception": false,
     "start_time": "2021-07-20T18:25:12.816531",
     "status": "completed"
    },
    "tags": []
   },
   "outputs": [],
   "source": [
    "class NeuralNetworkClassificationModel(nn.Module):\n",
    "    def __init__(self,input_dim,output_dim):\n",
    "        super(NeuralNetworkClassificationModel,self).__init__()\n",
    "        self.input_layer    = nn.Linear(input_dim,128)\n",
    "        self.hidden_layer1  = nn.Linear(128,64)\n",
    "        self.output_layer   = nn.Linear(64,output_dim)\n",
    "        self.relu = nn.ReLU()\n",
    "        self.softmax = nn.Softmax(dim=1)\n",
    "\n",
    "    def forward(self,x):\n",
    "        out =  self.relu(self.input_layer(x))\n",
    "        out =  self.relu(self.hidden_layer1(out))\n",
    "        out =  self.softmax(self.output_layer(out))\n",
    "        return out"
   ]
  },
  {
   "cell_type": "code",
   "execution_count": 14,
   "id": "WOS6w03_iin7",
   "metadata": {
    "id": "WOS6w03_iin7"
   },
   "outputs": [],
   "source": [
    "n_features = X.shape[1]\n",
    "n_classes = len(np.unique(y))"
   ]
  },
  {
   "cell_type": "code",
   "execution_count": 15,
   "id": "81dd1cd5",
   "metadata": {
    "_cell_guid": "7d5910e3-efe5-4b33-91f2-13cad14d65fa",
    "_uuid": "066d7bca-76ee-4223-b77d-1fa5076a818e",
    "execution": {
     "iopub.execute_input": "2021-07-20T18:25:12.923826Z",
     "iopub.status.busy": "2021-07-20T18:25:12.923247Z",
     "iopub.status.idle": "2021-07-20T18:25:12.930164Z",
     "shell.execute_reply": "2021-07-20T18:25:12.929702Z",
     "shell.execute_reply.started": "2021-07-20T18:22:50.725163Z"
    },
    "id": "81dd1cd5",
    "jupyter": {
     "outputs_hidden": false
    },
    "papermill": {
     "duration": 0.044541,
     "end_time": "2021-07-20T18:25:12.930315",
     "exception": false,
     "start_time": "2021-07-20T18:25:12.885774",
     "status": "completed"
    },
    "tags": []
   },
   "outputs": [],
   "source": [
    "# input_dim = 4 because we have 4 inputs namely sepal_length,sepal_width,petal_length,petal_width\n",
    "# output_dim = 3 because we have namely 3 categories setosa,versicolor and virginica\n",
    "input_dim  = n_features\n",
    "output_dim = n_classes\n",
    "model = NeuralNetworkClassificationModel(input_dim,output_dim)"
   ]
  },
  {
   "cell_type": "code",
   "execution_count": 16,
   "id": "f1ea0563",
   "metadata": {
    "_cell_guid": "516cd875-5679-4183-a316-402ffd58a688",
    "_uuid": "85f761ac-d238-4082-9817-f3f50f56bd3a",
    "execution": {
     "iopub.execute_input": "2021-07-20T18:25:12.995060Z",
     "iopub.status.busy": "2021-07-20T18:25:12.994399Z",
     "iopub.status.idle": "2021-07-20T18:25:12.996215Z",
     "shell.execute_reply": "2021-07-20T18:25:12.996661Z",
     "shell.execute_reply.started": "2021-07-20T18:22:50.735425Z"
    },
    "id": "f1ea0563",
    "jupyter": {
     "outputs_hidden": false
    },
    "papermill": {
     "duration": 0.036746,
     "end_time": "2021-07-20T18:25:12.996816",
     "exception": false,
     "start_time": "2021-07-20T18:25:12.960070",
     "status": "completed"
    },
    "tags": []
   },
   "outputs": [],
   "source": [
    "# creating our optimizer and loss function object\n",
    "learning_rate = 0.01\n",
    "criterion = nn.CrossEntropyLoss()\n",
    "optimizer = torch.optim.Adam(model.parameters(),lr=learning_rate)"
   ]
  },
  {
   "cell_type": "code",
   "execution_count": 17,
   "id": "30eb5237",
   "metadata": {
    "_cell_guid": "7e49f67e-a267-4b30-ae52-63bc81d3dcd5",
    "_uuid": "8c1d977d-fb09-4976-b45e-6eec4cdcf6a9",
    "execution": {
     "iopub.execute_input": "2021-07-20T18:25:13.062341Z",
     "iopub.status.busy": "2021-07-20T18:25:13.061686Z",
     "iopub.status.idle": "2021-07-20T18:25:13.068345Z",
     "shell.execute_reply": "2021-07-20T18:25:13.068779Z",
     "shell.execute_reply.started": "2021-07-20T18:22:50.746804Z"
    },
    "id": "30eb5237",
    "jupyter": {
     "outputs_hidden": false
    },
    "papermill": {
     "duration": 0.040932,
     "end_time": "2021-07-20T18:25:13.068956",
     "exception": false,
     "start_time": "2021-07-20T18:25:13.028024",
     "status": "completed"
    },
    "tags": []
   },
   "outputs": [],
   "source": [
    "def train_network(model,optimizer,criterion,X_train,y_train,X_test,y_test,num_epochs,train_losses,test_losses):\n",
    "    for epoch in range(num_epochs):\n",
    "        #clear out the gradients from the last step loss.backward()\n",
    "        optimizer.zero_grad()\n",
    "\n",
    "        #forward feed\n",
    "        output_train = model(X_train)\n",
    "\n",
    "        #calculate the loss\n",
    "        loss_train = criterion(output_train, y_train)\n",
    "\n",
    "\n",
    "\n",
    "        #backward propagation: calculate gradients\n",
    "        loss_train.backward()\n",
    "\n",
    "        #update the weights\n",
    "        optimizer.step()\n",
    "\n",
    "\n",
    "        output_test = model(X_test)\n",
    "        loss_test = criterion(output_test,y_test)\n",
    "\n",
    "        train_losses[epoch] = loss_train.item()\n",
    "        test_losses[epoch] = loss_test.item()\n",
    "\n",
    "        if (epoch + 1) % 50 == 0:\n",
    "            print(f\"Epoch {epoch+1}/{num_epochs}, Train Loss: {loss_train.item():.4f}, Test Loss: {loss_test.item():.4f}\")"
   ]
  },
  {
   "cell_type": "code",
   "execution_count": 18,
   "id": "ef78b5c4",
   "metadata": {
    "_cell_guid": "6b1fb37d-e685-41e9-ac5c-c4a7a9bf2805",
    "_uuid": "4a80c1af-a548-4830-8b68-f9ce77f863d4",
    "execution": {
     "iopub.execute_input": "2021-07-20T18:25:13.132097Z",
     "iopub.status.busy": "2021-07-20T18:25:13.131490Z",
     "iopub.status.idle": "2021-07-20T18:25:13.135305Z",
     "shell.execute_reply": "2021-07-20T18:25:13.135739Z",
     "shell.execute_reply.started": "2021-07-20T18:22:50.763020Z"
    },
    "id": "ef78b5c4",
    "jupyter": {
     "outputs_hidden": false
    },
    "papermill": {
     "duration": 0.036826,
     "end_time": "2021-07-20T18:25:13.135901",
     "exception": false,
     "start_time": "2021-07-20T18:25:13.099075",
     "status": "completed"
    },
    "tags": []
   },
   "outputs": [],
   "source": [
    "num_epochs = 1000\n",
    "train_losses = np.zeros(num_epochs)\n",
    "test_losses  = np.zeros(num_epochs)"
   ]
  },
  {
   "cell_type": "code",
   "execution_count": 19,
   "id": "8ab3042a",
   "metadata": {
    "_cell_guid": "67b5f88a-b8a6-4e2e-86ac-986cc952498e",
    "_uuid": "2dbb9a3c-3d13-49b2-b978-1bd3107d72cb",
    "execution": {
     "iopub.execute_input": "2021-07-20T18:25:13.202209Z",
     "iopub.status.busy": "2021-07-20T18:25:13.201550Z",
     "iopub.status.idle": "2021-07-20T18:25:14.981293Z",
     "shell.execute_reply": "2021-07-20T18:25:14.980769Z",
     "shell.execute_reply.started": "2021-07-20T18:22:50.774926Z"
    },
    "id": "8ab3042a",
    "jupyter": {
     "outputs_hidden": false
    },
    "papermill": {
     "duration": 1.814088,
     "end_time": "2021-07-20T18:25:14.981419",
     "exception": false,
     "start_time": "2021-07-20T18:25:13.167331",
     "status": "completed"
    },
    "tags": []
   },
   "outputs": [
    {
     "name": "stdout",
     "output_type": "stream",
     "text": [
      "Epoch 50/1000, Train Loss: 0.3331, Test Loss: 0.3442\n",
      "Epoch 100/1000, Train Loss: 0.3311, Test Loss: 0.3472\n",
      "Epoch 150/1000, Train Loss: 0.3305, Test Loss: 0.3472\n",
      "Epoch 200/1000, Train Loss: 0.3297, Test Loss: 0.3479\n",
      "Epoch 250/1000, Train Loss: 0.3288, Test Loss: 0.3474\n",
      "Epoch 300/1000, Train Loss: 0.3288, Test Loss: 0.3475\n",
      "Epoch 350/1000, Train Loss: 0.3287, Test Loss: 0.3476\n",
      "Epoch 400/1000, Train Loss: 0.3287, Test Loss: 0.3476\n",
      "Epoch 450/1000, Train Loss: 0.3287, Test Loss: 0.3478\n",
      "Epoch 500/1000, Train Loss: 0.3287, Test Loss: 0.3479\n",
      "Epoch 550/1000, Train Loss: 0.3287, Test Loss: 0.3480\n",
      "Epoch 600/1000, Train Loss: 0.3287, Test Loss: 0.3481\n",
      "Epoch 650/1000, Train Loss: 0.3287, Test Loss: 0.3482\n",
      "Epoch 700/1000, Train Loss: 0.3287, Test Loss: 0.3482\n",
      "Epoch 750/1000, Train Loss: 0.3287, Test Loss: 0.3483\n",
      "Epoch 800/1000, Train Loss: 0.3287, Test Loss: 0.3484\n",
      "Epoch 850/1000, Train Loss: 0.3287, Test Loss: 0.3484\n",
      "Epoch 900/1000, Train Loss: 0.3287, Test Loss: 0.3484\n",
      "Epoch 950/1000, Train Loss: 0.3287, Test Loss: 0.3484\n",
      "Epoch 1000/1000, Train Loss: 0.3287, Test Loss: 0.3484\n"
     ]
    }
   ],
   "source": [
    "train_network(model,optimizer,criterion,X_train,y_train,X_test,y_test,num_epochs,train_losses,test_losses)"
   ]
  },
  {
   "cell_type": "code",
   "execution_count": 20,
   "id": "a70f6038",
   "metadata": {
    "_cell_guid": "09514869-9b65-4631-9174-2222c3a5f460",
    "_uuid": "1e60e86d-ff1c-45d1-87e0-350260c6a601",
    "execution": {
     "iopub.execute_input": "2021-07-20T18:25:15.068405Z",
     "iopub.status.busy": "2021-07-20T18:25:15.067799Z",
     "iopub.status.idle": "2021-07-20T18:25:15.344872Z",
     "shell.execute_reply": "2021-07-20T18:25:15.344233Z",
     "shell.execute_reply.started": "2021-07-20T18:22:52.486679Z"
    },
    "id": "a70f6038",
    "jupyter": {
     "outputs_hidden": false
    },
    "papermill": {
     "duration": 0.331028,
     "end_time": "2021-07-20T18:25:15.345024",
     "exception": false,
     "start_time": "2021-07-20T18:25:15.013996",
     "status": "completed"
    },
    "tags": []
   },
   "outputs": [
    {
     "data": {
      "image/png": "[encoded data removed]",
      "text/plain": [
       "<Figure size 1000x1000 with 1 Axes>"
      ]
     },
     "metadata": {},
     "output_type": "display_data"
    }
   ],
   "source": [
    "plt.figure(figsize=(10,10))\n",
    "plt.plot(train_losses, label='train loss')\n",
    "plt.plot(test_losses, label='test loss')\n",
    "plt.legend()\n",
    "plt.show()"
   ]
  },
  {
   "cell_type": "code",
   "execution_count": 21,
   "id": "a8afbb75",
   "metadata": {
    "_cell_guid": "d5feec25-0c3a-48f5-9372-39d68c45710d",
    "_uuid": "d7687301-5807-48da-a5a0-1bb3d6a4d93d",
    "execution": {
     "iopub.execute_input": "2021-07-20T18:25:15.416083Z",
     "iopub.status.busy": "2021-07-20T18:25:15.415388Z",
     "iopub.status.idle": "2021-07-20T18:25:15.418074Z",
     "shell.execute_reply": "2021-07-20T18:25:15.417429Z",
     "shell.execute_reply.started": "2021-07-20T18:22:52.673155Z"
    },
    "id": "a8afbb75",
    "jupyter": {
     "outputs_hidden": false
    },
    "papermill": {
     "duration": 0.039797,
     "end_time": "2021-07-20T18:25:15.418212",
     "exception": false,
     "start_time": "2021-07-20T18:25:15.378415",
     "status": "completed"
    },
    "tags": []
   },
   "outputs": [],
   "source": [
    "predictions_train = []\n",
    "predictions_test =  []\n",
    "with torch.no_grad():\n",
    "    predictions_train = model(X_train)\n",
    "    predictions_test = model(X_test)"
   ]
  },
  {
   "cell_type": "code",
   "execution_count": 22,
   "id": "Tr22BQ6uf8SW",
   "metadata": {
    "id": "Tr22BQ6uf8SW"
   },
   "outputs": [
    {
     "data": {
      "text/plain": [
       "tensor([[5.6311e-24, 1.0000e+00],\n",
       "        [1.0000e+00, 6.1689e-35],\n",
       "        [1.0000e+00, 4.6921e-20],\n",
       "        ...,\n",
       "        [6.6141e-23, 1.0000e+00],\n",
       "        [3.1578e-25, 1.0000e+00],\n",
       "        [5.6032e-22, 1.0000e+00]])"
      ]
     },
     "execution_count": 22,
     "metadata": {},
     "output_type": "execute_result"
    }
   ],
   "source": [
    "predictions_test"
   ]
  },
  {
   "cell_type": "code",
   "execution_count": 23,
   "id": "eebdf7cb",
   "metadata": {
    "_cell_guid": "a1482815-9663-40a3-9862-74629256a354",
    "_uuid": "02d8e76a-b8a1-421c-a700-a37b7a39d6da",
    "execution": {
     "iopub.execute_input": "2021-07-20T18:25:15.565170Z",
     "iopub.status.busy": "2021-07-20T18:25:15.564553Z",
     "iopub.status.idle": "2021-07-20T18:25:15.566815Z",
     "shell.execute_reply": "2021-07-20T18:25:15.567288Z",
     "shell.execute_reply.started": "2021-07-20T18:22:52.691763Z"
    },
    "id": "eebdf7cb",
    "jupyter": {
     "outputs_hidden": false
    },
    "papermill": {
     "duration": 0.041993,
     "end_time": "2021-07-20T18:25:15.567440",
     "exception": false,
     "start_time": "2021-07-20T18:25:15.525447",
     "status": "completed"
    },
    "tags": []
   },
   "outputs": [],
   "source": [
    "def get_accuracy_multiclass(pred_arr,original_arr):\n",
    "    if len(pred_arr)!=len(original_arr):\n",
    "        return False\n",
    "    pred_arr = pred_arr.numpy()\n",
    "    original_arr = original_arr.numpy()\n",
    "    final_pred= []\n",
    "    # we will get something like this in the pred_arr [32.1680,12.9350,-58.4877]\n",
    "    # so will be taking the index of that argument which has the highest value here 32.1680 which corresponds to 0th index\n",
    "    for i in range(len(pred_arr)):\n",
    "        final_pred.append(np.argmax(pred_arr[i]))\n",
    "    final_pred = np.array(final_pred)\n",
    "    count = 0\n",
    "    #here we are doing a simple comparison between the predicted_arr and the original_arr to get the final accuracy\n",
    "    for i in range(len(original_arr)):\n",
    "        if final_pred[i] == original_arr[i]:\n",
    "            count+=1\n",
    "    return count/len(final_pred)"
   ]
  },
  {
   "cell_type": "code",
   "execution_count": 24,
   "id": "cd50d21c",
   "metadata": {
    "_cell_guid": "e0821662-7223-4473-9ab4-0baae47c57be",
    "_uuid": "29382db4-2926-4c29-8a21-02b3236904c2",
    "execution": {
     "iopub.execute_input": "2021-07-20T18:25:15.635874Z",
     "iopub.status.busy": "2021-07-20T18:25:15.635313Z",
     "iopub.status.idle": "2021-07-20T18:25:15.639791Z",
     "shell.execute_reply": "2021-07-20T18:25:15.639320Z",
     "shell.execute_reply.started": "2021-07-20T18:22:52.705617Z"
    },
    "id": "cd50d21c",
    "jupyter": {
     "outputs_hidden": false
    },
    "papermill": {
     "duration": 0.040692,
     "end_time": "2021-07-20T18:25:15.639926",
     "exception": false,
     "start_time": "2021-07-20T18:25:15.599234",
     "status": "completed"
    },
    "tags": []
   },
   "outputs": [],
   "source": [
    "train_acc = get_accuracy_multiclass(predictions_train,y_train)\n",
    "test_acc  = get_accuracy_multiclass(predictions_test,y_test)"
   ]
  },
  {
   "cell_type": "code",
   "execution_count": 25,
   "id": "3f91b89d",
   "metadata": {
    "_cell_guid": "19fc14c5-bb9c-4988-90f7-87c94f8d9694",
    "_uuid": "07c02b8a-5044-4f5e-b610-1524495974ca",
    "execution": {
     "iopub.execute_input": "2021-07-20T18:25:15.710460Z",
     "iopub.status.busy": "2021-07-20T18:25:15.709836Z",
     "iopub.status.idle": "2021-07-20T18:25:15.713992Z",
     "shell.execute_reply": "2021-07-20T18:25:15.714389Z",
     "shell.execute_reply.started": "2021-07-20T18:22:52.840032Z"
    },
    "id": "3f91b89d",
    "jupyter": {
     "outputs_hidden": false
    },
    "papermill": {
     "duration": 0.041462,
     "end_time": "2021-07-20T18:25:15.714529",
     "exception": false,
     "start_time": "2021-07-20T18:25:15.673067",
     "status": "completed"
    },
    "tags": []
   },
   "outputs": [
    {
     "name": "stdout",
     "output_type": "stream",
     "text": [
      "Training Accuracy: 98.457\n",
      "Test Accuracy: 96.336\n"
     ]
    }
   ],
   "source": [
    "print(f\"Training Accuracy: {round(train_acc*100,3)}\")\n",
    "print(f\"Test Accuracy: {round(test_acc*100,3)}\")"
   ]
  }
 ],
 "metadata": {
  "colab": {
   "provenance": [
    {
     "file_id": "1Gs-g4_8i3ZlDMVAJHdRYGb8Jup3RMmHe",
     "timestamp": 1698903066824
    }
   ]
  },
  "kernelspec": {
   "display_name": "sandbox",
   "language": "python",
   "name": "python3"
  },
  "language_info": {
   "codemirror_mode": {
    "name": "ipython",
    "version": 3
   },
   "file_extension": ".py",
   "mimetype": "text/x-python",
   "name": "python",
   "nbconvert_exporter": "python",
   "pygments_lexer": "ipython3",
   "version": "3.11.7"
  },
  "papermill": {
   "default_parameters": {},
   "duration": 15.730891,
   "end_time": "2021-07-20T18:25:17.340876",
   "environment_variables": {},
   "exception": null,
   "input_path": "__notebook__.ipynb",
   "output_path": "__notebook__.ipynb",
   "parameters": {},
   "start_time": "2021-07-20T18:25:01.609985",
   "version": "2.3.3"
  }
 },
 "nbformat": 4,
 "nbformat_minor": 5
}
