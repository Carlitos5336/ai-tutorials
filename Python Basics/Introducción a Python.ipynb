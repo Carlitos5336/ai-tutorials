{
 "cells": [
  {
   "cell_type": "markdown",
   "metadata": {
    "id": "GwbvwxexUjG3"
   },
   "source": [
    "# Variables y operadores"
   ]
  },
  {
   "cell_type": "markdown",
   "metadata": {
    "id": "4xgXcsj7DAfS"
   },
   "source": [
    "## **Aspectos básicos**"
   ]
  },
  {
   "cell_type": "code",
   "execution_count": 19,
   "metadata": {
    "colab": {
     "base_uri": "https://localhost:8080/"
    },
    "executionInfo": {
     "elapsed": 180,
     "status": "ok",
     "timestamp": 1736902037770,
     "user": {
      "displayName": "Carlos Bienvenido Ogando Montás",
      "userId": "10505299496410393010"
     },
     "user_tz": 240
    },
    "id": "DmHPVuK2DFLH",
    "outputId": "eb114cc6-fd82-4cf7-972d-166023069186"
   },
   "outputs": [
    {
     "name": "stdout",
     "output_type": "stream",
     "text": [
      "24, planeta, True\n"
     ]
    }
   ],
   "source": [
    "# Asignación individual\n",
    "\n",
    "numero = 24\n",
    "palabra = \"planeta\"\n",
    "condicion = True\n",
    "\n",
    "print(numero, palabra, condicion, sep=', ')"
   ]
  },
  {
   "cell_type": "code",
   "execution_count": 20,
   "metadata": {
    "colab": {
     "base_uri": "https://localhost:8080/"
    },
    "executionInfo": {
     "elapsed": 199,
     "status": "ok",
     "timestamp": 1736902038674,
     "user": {
      "displayName": "Carlos Bienvenido Ogando Montás",
      "userId": "10505299496410393010"
     },
     "user_tz": 240
    },
    "id": "nqF1E9xID6jh",
    "outputId": "ed7732fb-a707-4f96-cd3e-36eda7e658d1"
   },
   "outputs": [
    {
     "name": "stdout",
     "output_type": "stream",
     "text": [
      "20, país, False\n",
      "5, 5, 5\n"
     ]
    }
   ],
   "source": [
    "# Asignación múltiple\n",
    "\n",
    "valor_1 = valor_2 = valor_3 = 5                   # Mismo valor\n",
    "numero, palabra, condicion = 20, \"país\", False    # Diferentes valores\n",
    "\n",
    "print(numero, palabra, condicion, sep=', ')\n",
    "print(valor_1, valor_2, valor_3, sep=', ')"
   ]
  },
  {
   "cell_type": "code",
   "execution_count": 21,
   "metadata": {
    "colab": {
     "base_uri": "https://localhost:8080/"
    },
    "executionInfo": {
     "elapsed": 166,
     "status": "ok",
     "timestamp": 1623677381312,
     "user": {
      "displayName": "Carlos Bienvenido Ogando Montás",
      "photoUrl": "https://lh3.googleusercontent.com/a-/AOh14GijKyYoToykx6u4b8sedClwYYCHtapqy8B7uF0l=s64",
      "userId": "10505299496410393010"
     },
     "user_tz": 240
    },
    "id": "Bgi3YtFKEozb",
    "outputId": "6970fb36-6129-41df-862c-0d0d2011b0cb"
   },
   "outputs": [
    {
     "name": "stdout",
     "output_type": "stream",
     "text": [
      "<class 'int'> <class 'str'> <class 'bool'>\n"
     ]
    }
   ],
   "source": [
    "# Obtener tipo de variable\n",
    "\n",
    "print(type(numero), type(palabra), type(condicion))"
   ]
  },
  {
   "cell_type": "code",
   "execution_count": 22,
   "metadata": {
    "colab": {
     "base_uri": "https://localhost:8080/"
    },
    "executionInfo": {
     "elapsed": 172,
     "status": "ok",
     "timestamp": 1623677467934,
     "user": {
      "displayName": "Carlos Bienvenido Ogando Montás",
      "photoUrl": "https://lh3.googleusercontent.com/a-/AOh14GijKyYoToykx6u4b8sedClwYYCHtapqy8B7uF0l=s64",
      "userId": "10505299496410393010"
     },
     "user_tz": 240
    },
    "id": "wpGeJ-pktrdi",
    "outputId": "410742bd-d743-4223-c880-7ba914be0db8"
   },
   "outputs": [
    {
     "name": "stdout",
     "output_type": "stream",
     "text": [
      "['__abs__', '__add__', '__and__', '__bool__', '__ceil__', '__class__', '__delattr__', '__dir__', '__divmod__', '__doc__', '__eq__', '__float__', '__floor__', '__floordiv__', '__format__', '__ge__', '__getattribute__', '__getnewargs__', '__getstate__', '__gt__', '__hash__', '__index__', '__init__', '__init_subclass__', '__int__', '__invert__', '__le__', '__lshift__', '__lt__', '__mod__', '__mul__', '__ne__', '__neg__', '__new__', '__or__', '__pos__', '__pow__', '__radd__', '__rand__', '__rdivmod__', '__reduce__', '__reduce_ex__', '__repr__', '__rfloordiv__', '__rlshift__', '__rmod__', '__rmul__', '__ror__', '__round__', '__rpow__', '__rrshift__', '__rshift__', '__rsub__', '__rtruediv__', '__rxor__', '__setattr__', '__sizeof__', '__str__', '__sub__', '__subclasshook__', '__truediv__', '__trunc__', '__xor__', 'as_integer_ratio', 'bit_count', 'bit_length', 'conjugate', 'denominator', 'from_bytes', 'imag', 'numerator', 'real', 'to_bytes']\n"
     ]
    }
   ],
   "source": [
    "# Obtener atributos y métodos de la clase\n",
    "\n",
    "print(dir(numero))"
   ]
  },
  {
   "cell_type": "code",
   "execution_count": 23,
   "metadata": {
    "colab": {
     "base_uri": "https://localhost:8080/"
    },
    "executionInfo": {
     "elapsed": 3,
     "status": "ok",
     "timestamp": 1654609049002,
     "user": {
      "displayName": "Carlos Bienvenido Ogando Montás",
      "userId": "10505299496410393010"
     },
     "user_tz": 240
    },
    "id": "dvw3iwzCFluB",
    "outputId": "5875eaa8-4ad0-4fc8-b929-28e703d84b5c"
   },
   "outputs": [
    {
     "name": "stdout",
     "output_type": "stream",
     "text": [
      "0b111001000, 1, <class 'str'>, !\n"
     ]
    }
   ],
   "source": [
    "# Setear tipo de variable (Casteo)\n",
    "\n",
    "binario = bin(456)\n",
    "entero = int(True)\n",
    "palabra = str(120.0)\n",
    "caracter = chr(33)\n",
    "\n",
    "print(binario, entero, type(palabra), caracter, sep=', ')"
   ]
  },
  {
   "cell_type": "code",
   "execution_count": 24,
   "metadata": {
    "colab": {
     "base_uri": "https://localhost:8080/"
    },
    "executionInfo": {
     "elapsed": 190,
     "status": "ok",
     "timestamp": 1654609176902,
     "user": {
      "displayName": "Carlos Bienvenido Ogando Montás",
      "userId": "10505299496410393010"
     },
     "user_tz": 240
    },
    "id": "XKJ4ffzkLwHO",
    "outputId": "84062730-e26c-461a-894e-5269e86c329f"
   },
   "outputs": [
    {
     "name": "stdout",
     "output_type": "stream",
     "text": [
      "Original: 3099408189104\n",
      "Antes: 3099408189104\n",
      "0b10011\n",
      "0b111001000\n"
     ]
    }
   ],
   "source": [
    "# Obtener identificador en celda de memoria (identificador del puntero)\n",
    "\n",
    "print(\"Original:\", id(binario))\n",
    "binario_copia = binario\n",
    "print(\"Antes:\", id(binario_copia))\n",
    "binario = bin(19)\n",
    "\n",
    "print(binario)\n",
    "print(binario_copia)"
   ]
  },
  {
   "cell_type": "code",
   "execution_count": 25,
   "metadata": {
    "colab": {
     "base_uri": "https://localhost:8080/"
    },
    "executionInfo": {
     "elapsed": 222,
     "status": "ok",
     "timestamp": 1654609396479,
     "user": {
      "displayName": "Carlos Bienvenido Ogando Montás",
      "userId": "10505299496410393010"
     },
     "user_tz": 240
    },
    "id": "nem4R5quOvTj",
    "outputId": "001e97f5-6838-4b49-b729-47b6264fe5e8"
   },
   "outputs": [
    {
     "name": "stdout",
     "output_type": "stream",
     "text": [
      "True\n",
      "False\n"
     ]
    }
   ],
   "source": [
    "# Operadores de identidad\n",
    "\n",
    "binario = bin(456)\n",
    "binario_copia = binario\n",
    "\n",
    "print(binario is binario_copia)\n",
    "\n",
    "binario = bin(19)\n",
    "\n",
    "print(binario is binario_copia)"
   ]
  },
  {
   "cell_type": "code",
   "execution_count": 26,
   "metadata": {
    "colab": {
     "base_uri": "https://localhost:8080/"
    },
    "executionInfo": {
     "elapsed": 475,
     "status": "ok",
     "timestamp": 1613168837526,
     "user": {
      "displayName": "Carlos Bienvenido Ogando Montás",
      "photoUrl": "https://lh3.googleusercontent.com/a-/AOh14GijKyYoToykx6u4b8sedClwYYCHtapqy8B7uF0l=s64",
      "userId": "10505299496410393010"
     },
     "user_tz": 240
    },
    "id": "5nvN-4nHPvuC",
    "outputId": "76431b6e-f380-4c11-8af9-3f6e4fa4129e"
   },
   "outputs": [
    {
     "name": "stdout",
     "output_type": "stream",
     "text": [
      "45.2\n"
     ]
    }
   ],
   "source": [
    "# Eliminar una variable\n",
    "\n",
    "variable_defectuosa = 45.2\n",
    "print(variable_defectuosa)\n",
    "\n",
    "del variable_defectuosa"
   ]
  },
  {
   "cell_type": "code",
   "execution_count": 27,
   "metadata": {
    "colab": {
     "base_uri": "https://localhost:8080/"
    },
    "executionInfo": {
     "elapsed": 4803,
     "status": "ok",
     "timestamp": 1644329835679,
     "user": {
      "displayName": "Carlos Bienvenido Ogando Montás",
      "photoUrl": "https://lh3.googleusercontent.com/a-/AOh14GijKyYoToykx6u4b8sedClwYYCHtapqy8B7uF0l=s64",
      "userId": "10505299496410393010"
     },
     "user_tz": 240
    },
    "id": "xklzFEM-y1Br",
    "outputId": "abdb465a-106b-43ff-8bee-2bf4922b099e"
   },
   "outputs": [
    {
     "name": "stdout",
     "output_type": "stream",
     "text": [
      "Su numero incrementado en 3 es: 8\n"
     ]
    }
   ],
   "source": [
    "# Leer datos de entrada por la consola\n",
    "\n",
    "numero = int(input())\n",
    "print(\"Su numero incrementado en 3 es:\", numero + 3)"
   ]
  },
  {
   "cell_type": "markdown",
   "metadata": {
    "id": "Xe9S29icBiuC"
   },
   "source": [
    "##**Variables numéricas**"
   ]
  },
  {
   "cell_type": "code",
   "execution_count": 28,
   "metadata": {
    "colab": {
     "base_uri": "https://localhost:8080/"
    },
    "executionInfo": {
     "elapsed": 210,
     "status": "ok",
     "timestamp": 1623850091131,
     "user": {
      "displayName": "Carlos Bienvenido Ogando Montás",
      "photoUrl": "https://lh3.googleusercontent.com/a-/AOh14GijKyYoToykx6u4b8sedClwYYCHtapqy8B7uF0l=s64",
      "userId": "10505299496410393010"
     },
     "user_tz": 240
    },
    "id": "6UgR2PeFBjwp",
    "outputId": "a747d7ed-20f1-4740-df52-71b87c1da81b"
   },
   "outputs": [
    {
     "name": "stdout",
     "output_type": "stream",
     "text": [
      "Entero: 25\n",
      "Flotante: 10.0\n",
      "Largo: 10182362175371283\n",
      "Complejo: (45-5j)\n",
      "Binario: 0b1010\n",
      "Octal: 0o17\n",
      "Hexadecimal: 0x19f\n"
     ]
    }
   ],
   "source": [
    "# Clases de variables numéricas\n",
    "\n",
    "entero = 25\n",
    "flotante = 10.0\n",
    "largo = 10182362175371283\n",
    "complejo = 45 - 5j\n",
    "\n",
    "# Obtener conversiones\n",
    "\n",
    "binario = bin(10)\n",
    "octal = oct(15)\n",
    "hexadecimal = hex(415)\n",
    "\n",
    "print(\"Entero:\", entero)\n",
    "print(\"Flotante:\", flotante)\n",
    "print(\"Largo:\", largo)\n",
    "print(\"Complejo:\", complejo)\n",
    "print(\"Binario:\", binario)\n",
    "print(\"Octal:\", octal)\n",
    "print(\"Hexadecimal:\", hexadecimal)"
   ]
  },
  {
   "cell_type": "code",
   "execution_count": 29,
   "metadata": {
    "colab": {
     "base_uri": "https://localhost:8080/"
    },
    "executionInfo": {
     "elapsed": 477,
     "status": "ok",
     "timestamp": 1613169101752,
     "user": {
      "displayName": "Carlos Bienvenido Ogando Montás",
      "photoUrl": "https://lh3.googleusercontent.com/a-/AOh14GijKyYoToykx6u4b8sedClwYYCHtapqy8B7uF0l=s64",
      "userId": "10505299496410393010"
     },
     "user_tz": 240
    },
    "id": "FxP74Z2vIN-q",
    "outputId": "ce096140-eb56-41b1-ce39-b05cc91dbabe"
   },
   "outputs": [
    {
     "name": "stdout",
     "output_type": "stream",
     "text": [
      "Suma: 27\n",
      "Resta: 11\n",
      "Multiplicación: 152\n",
      "División: 2.375\n",
      "Divisón entera: 2\n",
      "Residuo o Módulo: 3\n",
      "Exponenciación: 16983563041\n"
     ]
    }
   ],
   "source": [
    "# Operadores aritméticos\n",
    "\n",
    "a = 19\n",
    "b = 8\n",
    "\n",
    "print(\"Suma:\", a + b)\n",
    "print(\"Resta:\", a - b)\n",
    "print(\"Multiplicación:\", a * b)\n",
    "print(\"División:\", a / b)\n",
    "print(\"Divisón entera:\", a // b)\n",
    "print(\"Residuo o Módulo:\", a % b)\n",
    "print(\"Exponenciación:\", a ** b)"
   ]
  },
  {
   "cell_type": "code",
   "execution_count": 30,
   "metadata": {
    "colab": {
     "base_uri": "https://localhost:8080/"
    },
    "executionInfo": {
     "elapsed": 483,
     "status": "ok",
     "timestamp": 1613169141637,
     "user": {
      "displayName": "Carlos Bienvenido Ogando Montás",
      "photoUrl": "https://lh3.googleusercontent.com/a-/AOh14GijKyYoToykx6u4b8sedClwYYCHtapqy8B7uF0l=s64",
      "userId": "10505299496410393010"
     },
     "user_tz": 240
    },
    "id": "qfjj6BReJvOx",
    "outputId": "d5979d63-6c49-453a-b66a-046a70ca6980"
   },
   "outputs": [
    {
     "name": "stdout",
     "output_type": "stream",
     "text": [
      "19 es mayor que 8 ?: True\n",
      "19 es menor que 8 ?: False\n",
      "19 es igual que 8 ?: False\n",
      "19 es mayor o igual que 8 ?: True\n",
      "19 es menor o igual que 8 ?: False\n",
      "19 no es igual que 8 ?: True\n"
     ]
    }
   ],
   "source": [
    "# Operadores de comparación\n",
    "\n",
    "print(a, \"es mayor que\", b, \"?:\", a > b)\n",
    "print(a, \"es menor que\", b, \"?:\", a < b)\n",
    "print(a, \"es igual que\", b, \"?:\", a == b)\n",
    "print(a, \"es mayor o igual que\", b, \"?:\", a >= b)\n",
    "print(a, \"es menor o igual que\", b, \"?:\", a <= b)\n",
    "print(a, \"no es igual que\", b, \"?:\", a != b)"
   ]
  },
  {
   "cell_type": "code",
   "execution_count": 31,
   "metadata": {
    "colab": {
     "base_uri": "https://localhost:8080/"
    },
    "executionInfo": {
     "elapsed": 495,
     "status": "ok",
     "timestamp": 1613169221042,
     "user": {
      "displayName": "Carlos Bienvenido Ogando Montás",
      "photoUrl": "https://lh3.googleusercontent.com/a-/AOh14GijKyYoToykx6u4b8sedClwYYCHtapqy8B7uF0l=s64",
      "userId": "10505299496410393010"
     },
     "user_tz": 240
    },
    "id": "ZCtDH78JKp0i",
    "outputId": "445b88fd-5914-42cb-efcb-1e60ba389f7d"
   },
   "outputs": [
    {
     "name": "stdout",
     "output_type": "stream",
     "text": [
      "22 -3\n",
      "44 -0.5\n",
      "14 0.25\n",
      "4\n"
     ]
    }
   ],
   "source": [
    "# Operadores de asignación\n",
    "\n",
    "a = 20\n",
    "b = 5\n",
    "\n",
    "a += 2 # a = a + 2\n",
    "b -= 8\n",
    "print(a, b)\n",
    "\n",
    "a *= 2\n",
    "b /= 6\n",
    "print(a, b)\n",
    "\n",
    "a //= 3\n",
    "b **= 2\n",
    "print(a, b)\n",
    "\n",
    "a %= 5\n",
    "print(a)"
   ]
  },
  {
   "cell_type": "code",
   "execution_count": 32,
   "metadata": {
    "colab": {
     "base_uri": "https://localhost:8080/"
    },
    "executionInfo": {
     "elapsed": 226,
     "status": "ok",
     "timestamp": 1623850478990,
     "user": {
      "displayName": "Carlos Bienvenido Ogando Montás",
      "photoUrl": "https://lh3.googleusercontent.com/a-/AOh14GijKyYoToykx6u4b8sedClwYYCHtapqy8B7uF0l=s64",
      "userId": "10505299496410393010"
     },
     "user_tz": 240
    },
    "id": "GHrJuySiLX1Q",
    "outputId": "98a0c2d1-af8b-4530-c54e-8fec40ebcff5"
   },
   "outputs": [
    {
     "name": "stdout",
     "output_type": "stream",
     "text": [
      "Valor de a en binario: 0b1010\n",
      "Valor de a en binario: 0b1100\n",
      "10 & 12 : 0b1000 ,\t 8\n",
      "10 | 12 : 0b1110 ,\t 14\n",
      "10 ^ 12 : 0b110 ,\t 6\n",
      "10 >> 2 : 0b10 ,\t 2\n",
      "10 << 2 : 0b101000 ,\t 40\n",
      "~ 10 : -0b1011 ,\t -11\n"
     ]
    }
   ],
   "source": [
    "# Operadores binarios\n",
    "\n",
    "a = 10\n",
    "b = 12\n",
    "c = 2\n",
    "\n",
    "print(\"Valor de a en binario:\", bin(a))\n",
    "print(\"Valor de a en binario:\", bin(b))\n",
    "print(a, \"&\", b, \":\", bin(a & b), \",\\t\", int(a & b))\n",
    "print(a, \"|\", b, \":\", bin(a | b), \",\\t\", int(a | b))\n",
    "print(a, \"^\", b, \":\", bin(a ^ b), \",\\t\", int(a ^ b))\n",
    "print(a, \">>\", c, \":\", bin(a >> c), \",\\t\", int(a >> c))\n",
    "print(a, \"<<\", c, \":\", bin(a << c), \",\\t\", int(a << c))\n",
    "print(\"~\", a, \":\", bin(~a), \",\\t\", int(~a))"
   ]
  },
  {
   "cell_type": "markdown",
   "metadata": {
    "id": "bQibRhilRo0J"
   },
   "source": [
    "## **Variables de texto (Strings)**"
   ]
  },
  {
   "cell_type": "code",
   "execution_count": 33,
   "metadata": {
    "colab": {
     "base_uri": "https://localhost:8080/"
    },
    "executionInfo": {
     "elapsed": 210,
     "status": "ok",
     "timestamp": 1644330340770,
     "user": {
      "displayName": "Carlos Bienvenido Ogando Montás",
      "photoUrl": "https://lh3.googleusercontent.com/a-/AOh14GijKyYoToykx6u4b8sedClwYYCHtapqy8B7uF0l=s64",
      "userId": "10505299496410393010"
     },
     "user_tz": 240
    },
    "id": "eTUFvNoKRsvl",
    "outputId": "0a585ad3-ca28-4fd7-d69f-2d09704811ff"
   },
   "outputs": [
    {
     "name": "stdout",
     "output_type": "stream",
     "text": [
      "e\n",
      "La mesa\n",
      "grande.\n",
      "mesa es\n",
      ".ednarg se asem aL\n"
     ]
    }
   ],
   "source": [
    "palabra = \"mesa\"\n",
    "oracion = \"La mesa es grande.\"\n",
    "\n",
    "# Obtener un caracter\n",
    "print(palabra[1])\n",
    "\n",
    "# Obtener rango de caracteres\n",
    "# Sintaxis ==> str[startindex : endindex : step]\n",
    "# Val. pred. > str[     0     : len(str) :  1  ]\n",
    "\n",
    "print(oracion[:7])\n",
    "print(oracion[11:])\n",
    "print(oracion[3:-8])\n",
    "print(oracion[::-1])"
   ]
  },
  {
   "cell_type": "code",
   "execution_count": 34,
   "metadata": {
    "colab": {
     "base_uri": "https://localhost:8080/"
    },
    "executionInfo": {
     "elapsed": 187,
     "status": "ok",
     "timestamp": 1644330370704,
     "user": {
      "displayName": "Carlos Bienvenido Ogando Montás",
      "photoUrl": "https://lh3.googleusercontent.com/a-/AOh14GijKyYoToykx6u4b8sedClwYYCHtapqy8B7uF0l=s64",
      "userId": "10505299496410393010"
     },
     "user_tz": 240
    },
    "id": "ef-Qza7EdIXO",
    "outputId": "edeaa2b2-1443-43a7-aaa6-431291561493"
   },
   "outputs": [
    {
     "name": "stdout",
     "output_type": "stream",
     "text": [
      "['agua', 'cerveza', 'vino', 'ron']\n"
     ]
    }
   ],
   "source": [
    "# Dividir en subcadenas\n",
    "\n",
    "separador = \"-\"\n",
    "texto = \"agua-cerveza-vino-ron\"\n",
    "\n",
    "print(texto.split(separador))"
   ]
  },
  {
   "cell_type": "code",
   "execution_count": 35,
   "metadata": {
    "colab": {
     "base_uri": "https://localhost:8080/"
    },
    "executionInfo": {
     "elapsed": 167,
     "status": "ok",
     "timestamp": 1644330383855,
     "user": {
      "displayName": "Carlos Bienvenido Ogando Montás",
      "photoUrl": "https://lh3.googleusercontent.com/a-/AOh14GijKyYoToykx6u4b8sedClwYYCHtapqy8B7uF0l=s64",
      "userId": "10505299496410393010"
     },
     "user_tz": 240
    },
    "id": "8_-ugKMkTv06",
    "outputId": "af1b7e08-3cbe-41aa-8e25-4492038436ed"
   },
   "outputs": [
    {
     "name": "stdout",
     "output_type": "stream",
     "text": [
      "La TV es muy costosa.\n",
      "La TV. Esa en específico es muy costosa.\n"
     ]
    }
   ],
   "source": [
    "# Concatenar\n",
    "\n",
    "sujeto = \"La TV\"\n",
    "predicado = \"es muy costosa.\"\n",
    "print(sujeto + \" \" + predicado)\n",
    "\n",
    "print(f\"{sujeto}. Esa en específico {predicado}\")"
   ]
  },
  {
   "cell_type": "code",
   "execution_count": 36,
   "metadata": {
    "colab": {
     "base_uri": "https://localhost:8080/"
    },
    "executionInfo": {
     "elapsed": 170,
     "status": "ok",
     "timestamp": 1623851052003,
     "user": {
      "displayName": "Carlos Bienvenido Ogando Montás",
      "photoUrl": "https://lh3.googleusercontent.com/a-/AOh14GijKyYoToykx6u4b8sedClwYYCHtapqy8B7uF0l=s64",
      "userId": "10505299496410393010"
     },
     "user_tz": 240
    },
    "id": "HxVpqRALUJln",
    "outputId": "b6a16df2-f382-4aae-bad9-3c001359fec3"
   },
   "outputs": [
    {
     "name": "stdout",
     "output_type": "stream",
     "text": [
      "blablablablabla\n"
     ]
    }
   ],
   "source": [
    "# Repetir\n",
    "\n",
    "redundar = \"bla\"\n",
    "\n",
    "print(redundar * 5)"
   ]
  },
  {
   "cell_type": "code",
   "execution_count": 37,
   "metadata": {
    "colab": {
     "base_uri": "https://localhost:8080/"
    },
    "executionInfo": {
     "elapsed": 192,
     "status": "ok",
     "timestamp": 1644330565787,
     "user": {
      "displayName": "Carlos Bienvenido Ogando Montás",
      "photoUrl": "https://lh3.googleusercontent.com/a-/AOh14GijKyYoToykx6u4b8sedClwYYCHtapqy8B7uF0l=s64",
      "userId": "10505299496410393010"
     },
     "user_tz": 240
    },
    "id": "_gds6_Ssp0w-",
    "outputId": "cf20e85a-3f9f-4657-c8d9-709b84e5fc13"
   },
   "outputs": [
    {
     "name": "stdout",
     "output_type": "stream",
     "text": [
      "La rata del rollo risa el riso.\n"
     ]
    }
   ],
   "source": [
    "# Reemplazar\n",
    "\n",
    "texto = \"La pata del pollo pisa el piso.\"\n",
    "\n",
    "print(texto.replace('p','r'))"
   ]
  },
  {
   "cell_type": "code",
   "execution_count": 38,
   "metadata": {
    "colab": {
     "base_uri": "https://localhost:8080/"
    },
    "executionInfo": {
     "elapsed": 197,
     "status": "ok",
     "timestamp": 1623679239261,
     "user": {
      "displayName": "Carlos Bienvenido Ogando Montás",
      "photoUrl": "https://lh3.googleusercontent.com/a-/AOh14GijKyYoToykx6u4b8sedClwYYCHtapqy8B7uF0l=s64",
      "userId": "10505299496410393010"
     },
     "user_tz": 240
    },
    "id": "87v_DLK0WJPq",
    "outputId": "0d81c157-894f-475c-ab52-a899b3438b61"
   },
   "outputs": [
    {
     "name": "stdout",
     "output_type": "stream",
     "text": [
      "Sara y Fernando se fueron sin avisar.\n",
      "True\n",
      "False\n",
      "False\n"
     ]
    }
   ],
   "source": [
    "# Consultar si una letra o subcadena es parte de la cadena\n",
    "\n",
    "cadena = \"Sara y Fernando se fueron sin avisar.\"\n",
    "\n",
    "print(cadena)\n",
    "\n",
    "print(\"Sara\" in cadena)\n",
    "print(\"Fernando\" not in cadena)\n",
    "print(\"z\" in cadena)"
   ]
  },
  {
   "cell_type": "markdown",
   "metadata": {
    "id": "hiBET3opVQlM"
   },
   "source": [
    "## **Variables booleanas**"
   ]
  },
  {
   "cell_type": "code",
   "execution_count": 39,
   "metadata": {
    "colab": {
     "base_uri": "https://localhost:8080/"
    },
    "executionInfo": {
     "elapsed": 163,
     "status": "ok",
     "timestamp": 1623679318212,
     "user": {
      "displayName": "Carlos Bienvenido Ogando Montás",
      "photoUrl": "https://lh3.googleusercontent.com/a-/AOh14GijKyYoToykx6u4b8sedClwYYCHtapqy8B7uF0l=s64",
      "userId": "10505299496410393010"
     },
     "user_tz": 240
    },
    "id": "AQ1KPJc_VUVO",
    "outputId": "79147cf7-9b10-4596-f96c-ed804cf28158"
   },
   "outputs": [
    {
     "name": "stdout",
     "output_type": "stream",
     "text": [
      "False\n",
      "True\n",
      "True\n"
     ]
    }
   ],
   "source": [
    "yaComio = True\n",
    "yaDurmio = False\n",
    "\n",
    "print(yaComio and yaDurmio)\n",
    "print(yaComio or yaDurmio)\n",
    "print(not yaDurmio)"
   ]
  },
  {
   "cell_type": "markdown",
   "metadata": {
    "id": "srkxYcqcXVoY"
   },
   "source": [
    "# Estructuras de datos"
   ]
  },
  {
   "cell_type": "markdown",
   "metadata": {
    "id": "BOSHfCM0XZ3d"
   },
   "source": [
    "##**Listas**"
   ]
  },
  {
   "cell_type": "code",
   "execution_count": 40,
   "metadata": {
    "colab": {
     "base_uri": "https://localhost:8080/"
    },
    "executionInfo": {
     "elapsed": 6,
     "status": "ok",
     "timestamp": 1685450539934,
     "user": {
      "displayName": "Carlos Bienvenido Ogando Montás (Carlitos5336)",
      "userId": "10505299496410393010"
     },
     "user_tz": 240
    },
    "id": "GClTKVYsXY3V",
    "outputId": "8cf2bc99-5002-44e1-fd75-4cd6f83cd4ed"
   },
   "outputs": [
    {
     "name": "stdout",
     "output_type": "stream",
     "text": [
      "[1, 2, 3, 4, 5]\n",
      "[15, True, False, 'Jamón', 45.15, 15]\n"
     ]
    }
   ],
   "source": [
    "# Creación\n",
    "\n",
    "lista_1 = [1, 2, 3, 4, 5]\n",
    "\n",
    "lista_x = [15, True, False, \"Jamón\", 45.15, 15]\n",
    "\n",
    "print(lista_1)\n",
    "print(lista_x)"
   ]
  },
  {
   "cell_type": "code",
   "execution_count": 41,
   "metadata": {
    "colab": {
     "base_uri": "https://localhost:8080/"
    },
    "executionInfo": {
     "elapsed": 3,
     "status": "ok",
     "timestamp": 1685450543590,
     "user": {
      "displayName": "Carlos Bienvenido Ogando Montás (Carlitos5336)",
      "userId": "10505299496410393010"
     },
     "user_tz": 240
    },
    "id": "Ln4mxBAnY1Ht",
    "outputId": "4a405c95-396b-4d54-9a30-122024b44062"
   },
   "outputs": [
    {
     "name": "stdout",
     "output_type": "stream",
     "text": [
      "5\n"
     ]
    }
   ],
   "source": [
    "# Obtener tamaño\n",
    "\n",
    "print(len(lista_1))"
   ]
  },
  {
   "cell_type": "code",
   "execution_count": 42,
   "metadata": {
    "colab": {
     "base_uri": "https://localhost:8080/"
    },
    "executionInfo": {
     "elapsed": 4,
     "status": "ok",
     "timestamp": 1685450545528,
     "user": {
      "displayName": "Carlos Bienvenido Ogando Montás (Carlitos5336)",
      "userId": "10505299496410393010"
     },
     "user_tz": 240
    },
    "id": "v1un4oriYR1k",
    "outputId": "a6a1111a-8550-4b60-ee1b-87ac936c31c5"
   },
   "outputs": [
    {
     "name": "stdout",
     "output_type": "stream",
     "text": [
      "Antes: [1, 2, 3, 4, 5]\n",
      "Después: [1, 2, 3, 4, 5, 18]\n"
     ]
    }
   ],
   "source": [
    "# Añadir datos\n",
    "\n",
    "print(\"Antes:\", lista_1)\n",
    "lista_1.append(18)\n",
    "print(\"Después:\", lista_1)"
   ]
  },
  {
   "cell_type": "code",
   "execution_count": 43,
   "metadata": {
    "colab": {
     "base_uri": "https://localhost:8080/",
     "height": 34
    },
    "executionInfo": {
     "elapsed": 878,
     "status": "ok",
     "timestamp": 1594831909673,
     "user": {
      "displayName": "Carlos Bienvenido Ogando Montás",
      "photoUrl": "https://lh3.googleusercontent.com/a-/AOh14GiBvHyi5qhJa5gIiMfL_Ie_pqFzn36n5ZyH2GW7=s64",
      "userId": "10505299496410393010"
     },
     "user_tz": 240
    },
    "id": "Wo3dNFVAYlFd",
    "outputId": "837428b8-d89a-4a8b-b609-f58c02b1fbcc"
   },
   "outputs": [
    {
     "name": "stdout",
     "output_type": "stream",
     "text": [
      "[1, 2, 3, 4, 5, 18, 15, True, False, 'Jamón', 45.15, 15]\n"
     ]
    }
   ],
   "source": [
    "# Concatenar\n",
    "\n",
    "print(lista_1 + lista_x)"
   ]
  },
  {
   "cell_type": "code",
   "execution_count": 44,
   "metadata": {
    "colab": {
     "base_uri": "https://localhost:8080/",
     "height": 34
    },
    "executionInfo": {
     "elapsed": 537,
     "status": "ok",
     "timestamp": 1594831910811,
     "user": {
      "displayName": "Carlos Bienvenido Ogando Montás",
      "photoUrl": "https://lh3.googleusercontent.com/a-/AOh14GiBvHyi5qhJa5gIiMfL_Ie_pqFzn36n5ZyH2GW7=s64",
      "userId": "10505299496410393010"
     },
     "user_tz": 240
    },
    "id": "Qqqng3NyYp2N",
    "outputId": "335b5081-5ab8-476c-de47-c499d05193e5"
   },
   "outputs": [
    {
     "name": "stdout",
     "output_type": "stream",
     "text": [
      "[1, 2, 3, 4, 5, 18, 1, 2, 3, 4, 5, 18, 1, 2, 3, 4, 5, 18]\n"
     ]
    }
   ],
   "source": [
    "# Repetir\n",
    "\n",
    "print(lista_1 * 3)"
   ]
  },
  {
   "cell_type": "code",
   "execution_count": 45,
   "metadata": {
    "colab": {
     "base_uri": "https://localhost:8080/"
    },
    "executionInfo": {
     "elapsed": 222,
     "status": "ok",
     "timestamp": 1644363993741,
     "user": {
      "displayName": "Carlos Bienvenido Ogando Montás",
      "photoUrl": "https://lh3.googleusercontent.com/a-/AOh14GijKyYoToykx6u4b8sedClwYYCHtapqy8B7uF0l=s64",
      "userId": "10505299496410393010"
     },
     "user_tz": 240
    },
    "id": "O5huGEW-Z1vt",
    "outputId": "b5be027d-2f2f-4efb-87e8-e21c009d1d0c"
   },
   "outputs": [
    {
     "name": "stdout",
     "output_type": "stream",
     "text": [
      "[1, 2, 3, 4, 5, 18]\n",
      "1\n",
      "[18, 4, 2]\n"
     ]
    }
   ],
   "source": [
    "# Acceder a datos\n",
    "\n",
    "print(lista_1)\n",
    "\n",
    "# Obtener un dato\n",
    "pos = 0\n",
    "print(lista_1[pos])\n",
    "\n",
    "# Obtener rango de datos\n",
    "# Sintaxis ==> list[startindex : endindex : step]\n",
    "# Val. pred. > list[     0     : len(list):  1  ]\n",
    "\n",
    "# endindex no es inclusivo\n",
    "\n",
    "#print(lista_1[:3])\n",
    "#print(lista_1[2:])\n",
    "#print(lista_1[1:4])\n",
    "print(lista_1[::-2])\n"
   ]
  },
  {
   "cell_type": "code",
   "execution_count": 46,
   "metadata": {
    "colab": {
     "base_uri": "https://localhost:8080/",
     "height": 51
    },
    "executionInfo": {
     "elapsed": 446,
     "status": "ok",
     "timestamp": 1594848810698,
     "user": {
      "displayName": "Carlos Bienvenido Ogando Montás",
      "photoUrl": "https://lh3.googleusercontent.com/a-/AOh14GiBvHyi5qhJa5gIiMfL_Ie_pqFzn36n5ZyH2GW7=s64",
      "userId": "10505299496410393010"
     },
     "user_tz": 240
    },
    "id": "B0aMfEuQZHFl",
    "outputId": "35b34530-2a51-4914-a292-baf365af8a34"
   },
   "outputs": [
    {
     "name": "stdout",
     "output_type": "stream",
     "text": [
      "True\n",
      "True\n"
     ]
    }
   ],
   "source": [
    "# Comprobar si un dato está en una lista\n",
    "\n",
    "print(1 in lista_1)\n",
    "print(1 in lista_1 and 2 in lista_1)"
   ]
  },
  {
   "cell_type": "code",
   "execution_count": 47,
   "metadata": {
    "colab": {
     "base_uri": "https://localhost:8080/"
    },
    "executionInfo": {
     "elapsed": 1284,
     "status": "ok",
     "timestamp": 1613170563805,
     "user": {
      "displayName": "Carlos Bienvenido Ogando Montás",
      "photoUrl": "https://lh3.googleusercontent.com/a-/AOh14GijKyYoToykx6u4b8sedClwYYCHtapqy8B7uF0l=s64",
      "userId": "10505299496410393010"
     },
     "user_tz": 240
    },
    "id": "tu0_doOXkJI2",
    "outputId": "622672d7-da63-40e4-cc08-ce1c619eae2d"
   },
   "outputs": [
    {
     "name": "stdout",
     "output_type": "stream",
     "text": [
      "[2, 4, 6, 8, 10]\n",
      "[2, 7, 6, 8, 10]\n",
      "[2, 1, 2, 3, 10]\n",
      "[2, 0, 0, 0, 10]\n"
     ]
    }
   ],
   "source": [
    "# Actualizar datos\n",
    "\n",
    "lista_1 = [2, 4, 6, 8, 10]\n",
    "\n",
    "print(lista_1)\n",
    "\n",
    "lista_1[1] = 7\n",
    "\n",
    "print(lista_1)\n",
    "\n",
    "lista_1[1:4] = [1,2,3]\n",
    "\n",
    "print(lista_1)\n",
    "\n",
    "lista_1[1:-1] = [0] * 3\n",
    "\n",
    "print(lista_1)"
   ]
  },
  {
   "cell_type": "code",
   "execution_count": 48,
   "metadata": {
    "colab": {
     "base_uri": "https://localhost:8080/"
    },
    "executionInfo": {
     "elapsed": 231,
     "status": "ok",
     "timestamp": 1644331421524,
     "user": {
      "displayName": "Carlos Bienvenido Ogando Montás",
      "photoUrl": "https://lh3.googleusercontent.com/a-/AOh14GijKyYoToykx6u4b8sedClwYYCHtapqy8B7uF0l=s64",
      "userId": "10505299496410393010"
     },
     "user_tz": 240
    },
    "id": "nNlPecrBY_0e",
    "outputId": "83555671-12cd-49c1-eee1-7ef375a04b6f"
   },
   "outputs": [
    {
     "name": "stdout",
     "output_type": "stream",
     "text": [
      "[1, 1, 3, 5, 1, 2, 4, 0, 9]\n",
      "LISTA 1:  [1, 1, 3, 1, 2, 4, 0, 9]\n",
      "BKP:  [1, 1, 3, 5, 1, 2, 4, 0, 9]\n",
      "LISTA 1:  [1, 9]\n",
      "BKP:  [1, 1, 3, 5, 1, 2, 4, 0, 9]\n",
      "LISTA 1:  [1, 3, 5, 1, 2, 4, 0, 9]\n",
      "BKP:  [1, 1, 3, 5, 1, 2, 4, 0, 9]\n"
     ]
    }
   ],
   "source": [
    "# Eliminar datos\n",
    "\n",
    "lista_1 = [1, 1, 3, 5, 1, 2, 4, 0, 9]\n",
    "lista_1_bkp = lista_1.copy()\n",
    "\n",
    "print(lista_1)\n",
    "\n",
    "del lista_1[3]\n",
    "print(\"LISTA 1: \", lista_1)\n",
    "print(\"BKP: \", lista_1_bkp)\n",
    "lista_1 = lista_1_bkp.copy()\n",
    "\n",
    "del lista_1[1:-1]\n",
    "print(\"LISTA 1: \", lista_1)\n",
    "print(\"BKP: \", lista_1_bkp)\n",
    "lista_1 = lista_1_bkp.copy()\n",
    "\n",
    "lista_1.remove(1)\n",
    "print(\"LISTA 1: \", lista_1)\n",
    "print(\"BKP: \", lista_1_bkp)"
   ]
  },
  {
   "cell_type": "code",
   "execution_count": 49,
   "metadata": {
    "colab": {
     "base_uri": "https://localhost:8080/"
    },
    "executionInfo": {
     "elapsed": 356,
     "status": "ok",
     "timestamp": 1613057985794,
     "user": {
      "displayName": "Carlos Bienvenido Ogando Montás",
      "photoUrl": "https://lh3.googleusercontent.com/a-/AOh14GijKyYoToykx6u4b8sedClwYYCHtapqy8B7uF0l=s64",
      "userId": "10505299496410393010"
     },
     "user_tz": 240
    },
    "id": "Q_7XKoKUZqHJ",
    "outputId": "1c61573f-d749-4ab9-d3f7-77e24822bdbd"
   },
   "outputs": [
    {
     "name": "stdout",
     "output_type": "stream",
     "text": [
      "8\n"
     ]
    }
   ],
   "source": [
    "# Listas multidimensionales\n",
    "\n",
    "lista_m = [[1, 2, 3], [4, 5, 6], [7, 8, 9]]\n",
    "\n",
    "print(lista_m[2][1])"
   ]
  },
  {
   "cell_type": "markdown",
   "metadata": {
    "id": "2jSKFVy2g-mM"
   },
   "source": [
    "## **Tuplas**"
   ]
  },
  {
   "cell_type": "code",
   "execution_count": 50,
   "metadata": {
    "colab": {
     "base_uri": "https://localhost:8080/"
    },
    "executionInfo": {
     "elapsed": 275,
     "status": "ok",
     "timestamp": 1644331610947,
     "user": {
      "displayName": "Carlos Bienvenido Ogando Montás",
      "photoUrl": "https://lh3.googleusercontent.com/a-/AOh14GijKyYoToykx6u4b8sedClwYYCHtapqy8B7uF0l=s64",
      "userId": "10505299496410393010"
     },
     "user_tz": 240
    },
    "id": "HlPU6lgAhItS",
    "outputId": "83e4343f-3354-4ca6-cd91-0a8602a6fc5d"
   },
   "outputs": [
    {
     "name": "stdout",
     "output_type": "stream",
     "text": [
      "(1, 2, 3, 'a')\n"
     ]
    }
   ],
   "source": [
    "# Creación\n",
    "\n",
    "tupla = (1, 2, 3, 'a', 'b', 'c')\n",
    "\n",
    "# No se pueden añadir datos\n",
    "# tupla.append(4)\n",
    "# No se pueden actualizar datos\n",
    "# tupla[0] = 5\n",
    "\n",
    "print(tupla[:4])"
   ]
  },
  {
   "cell_type": "code",
   "execution_count": 51,
   "metadata": {
    "colab": {
     "base_uri": "https://localhost:8080/"
    },
    "executionInfo": {
     "elapsed": 196,
     "status": "ok",
     "timestamp": 1644331722198,
     "user": {
      "displayName": "Carlos Bienvenido Ogando Montás",
      "photoUrl": "https://lh3.googleusercontent.com/a-/AOh14GijKyYoToykx6u4b8sedClwYYCHtapqy8B7uF0l=s64",
      "userId": "10505299496410393010"
     },
     "user_tz": 240
    },
    "id": "Fd5JFYOTiNxG",
    "outputId": "d4f412af-635a-4870-f04c-22628cc54c29"
   },
   "outputs": [
    {
     "name": "stdout",
     "output_type": "stream",
     "text": [
      "(11,)\n"
     ]
    }
   ],
   "source": [
    "# Creación de una tupla con un elemento\n",
    "\n",
    "tupla_s = (1 + 10,)\n",
    "\n",
    "print(tupla_s)"
   ]
  },
  {
   "cell_type": "code",
   "execution_count": 52,
   "metadata": {
    "colab": {
     "base_uri": "https://localhost:8080/"
    },
    "executionInfo": {
     "elapsed": 421,
     "status": "ok",
     "timestamp": 1613058165433,
     "user": {
      "displayName": "Carlos Bienvenido Ogando Montás",
      "photoUrl": "https://lh3.googleusercontent.com/a-/AOh14GijKyYoToykx6u4b8sedClwYYCHtapqy8B7uF0l=s64",
      "userId": "10505299496410393010"
     },
     "user_tz": 240
    },
    "id": "NoD3JNJKiBMu",
    "outputId": "8457a7c3-a79f-446c-be68-09f629e969c3"
   },
   "outputs": [
    {
     "name": "stdout",
     "output_type": "stream",
     "text": [
      "6\n",
      "(1, 2, 3, 'a', 'b', 'c', 'd', 'e')\n",
      "(1, 2, 3, 1, 2, 3)\n"
     ]
    }
   ],
   "source": [
    "# Obtener tamaño\n",
    "\n",
    "print(len(tupla))\n",
    "\n",
    "# Concatenar\n",
    "\n",
    "print(tupla + (\"d\", \"e\"))\n",
    "\n",
    "# Repetir\n",
    "\n",
    "print(tupla[:3] * 2)\n",
    "\n",
    "# Eliminar\n",
    "\n",
    "del tupla"
   ]
  },
  {
   "cell_type": "markdown",
   "metadata": {
    "id": "V4kvrvdVir_B"
   },
   "source": [
    "##**Diccionarios**"
   ]
  },
  {
   "cell_type": "code",
   "execution_count": 53,
   "metadata": {
    "colab": {
     "base_uri": "https://localhost:8080/"
    },
    "executionInfo": {
     "elapsed": 272,
     "status": "ok",
     "timestamp": 1644332707576,
     "user": {
      "displayName": "Carlos Bienvenido Ogando Montás",
      "photoUrl": "https://lh3.googleusercontent.com/a-/AOh14GijKyYoToykx6u4b8sedClwYYCHtapqy8B7uF0l=s64",
      "userId": "10505299496410393010"
     },
     "user_tz": 240
    },
    "id": "j_r38j_djKqa",
    "outputId": "1abce796-2d8f-498c-b552-93665a9823da"
   },
   "outputs": [
    {
     "name": "stdout",
     "output_type": "stream",
     "text": [
      "False\n"
     ]
    }
   ],
   "source": [
    "# Creación\n",
    "# Sintaxis ==> dict[llave1 : valor1, llave2 : valor2, ...]\n",
    "\n",
    "diccionario = {\"A\":1,\n",
    "               \"B\":5,\n",
    "               \"C\":8,\n",
    "               \"D\":False}\n",
    "\n",
    "print(diccionario[\"D\"])"
   ]
  },
  {
   "cell_type": "code",
   "execution_count": 54,
   "metadata": {
    "colab": {
     "base_uri": "https://localhost:8080/"
    },
    "executionInfo": {
     "elapsed": 188,
     "status": "ok",
     "timestamp": 1623680291819,
     "user": {
      "displayName": "Carlos Bienvenido Ogando Montás",
      "photoUrl": "https://lh3.googleusercontent.com/a-/AOh14GijKyYoToykx6u4b8sedClwYYCHtapqy8B7uF0l=s64",
      "userId": "10505299496410393010"
     },
     "user_tz": 240
    },
    "id": "bkeZcTUGlYxO",
    "outputId": "30463de1-e219-4cad-bb99-6e6515e4c052"
   },
   "outputs": [
    {
     "name": "stdout",
     "output_type": "stream",
     "text": [
      "2\n"
     ]
    }
   ],
   "source": [
    "# Actualizar datos\n",
    "\n",
    "diccionario[\"A\"] = 2\n",
    "\n",
    "print(diccionario[\"A\"])"
   ]
  },
  {
   "cell_type": "code",
   "execution_count": 55,
   "metadata": {
    "colab": {
     "base_uri": "https://localhost:8080/"
    },
    "executionInfo": {
     "elapsed": 339,
     "status": "ok",
     "timestamp": 1613058406247,
     "user": {
      "displayName": "Carlos Bienvenido Ogando Montás",
      "photoUrl": "https://lh3.googleusercontent.com/a-/AOh14GijKyYoToykx6u4b8sedClwYYCHtapqy8B7uF0l=s64",
      "userId": "10505299496410393010"
     },
     "user_tz": 240
    },
    "id": "Swv5tsJrl-qx",
    "outputId": "5b78fd9c-b77f-4cfd-dbfb-e7b1b89bfbaa"
   },
   "outputs": [
    {
     "name": "stdout",
     "output_type": "stream",
     "text": [
      "4\n"
     ]
    }
   ],
   "source": [
    "# Obtener el tamaño\n",
    "\n",
    "print(len(diccionario))"
   ]
  },
  {
   "cell_type": "code",
   "execution_count": 56,
   "metadata": {
    "id": "S4fMicxRmCQS"
   },
   "outputs": [],
   "source": [
    "# Eliminar datos\n",
    "\n",
    "del diccionario[\"A\"]  # Eliminar uno\n",
    "del diccionario       # Eliminar completo"
   ]
  },
  {
   "cell_type": "markdown",
   "metadata": {
    "id": "NpTZJHGZMij3"
   },
   "source": [
    "# Estructuras de control de flujo"
   ]
  },
  {
   "cell_type": "markdown",
   "metadata": {
    "id": "O21U8feFMm4P"
   },
   "source": [
    "##**Decisiones**"
   ]
  },
  {
   "cell_type": "code",
   "execution_count": 57,
   "metadata": {
    "id": "axJvc93yMvmf"
   },
   "outputs": [
    {
     "name": "stdout",
     "output_type": "stream",
     "text": [
      "A no es más alto que B\n"
     ]
    }
   ],
   "source": [
    "# Una sola condición\n",
    "\n",
    "altura_a = 4.5\n",
    "altura_b = 5.2\n",
    "\n",
    "if(altura_a > altura_b):\n",
    "  print(\"A es más alto que B\")\n",
    "else: # (no necesariamente debe haber else)\n",
    "  print(\"A no es más alto que B\")\n"
   ]
  },
  {
   "cell_type": "code",
   "execution_count": 58,
   "metadata": {
    "colab": {
     "base_uri": "https://localhost:8080/"
    },
    "executionInfo": {
     "elapsed": 167,
     "status": "ok",
     "timestamp": 1623853041591,
     "user": {
      "displayName": "Carlos Bienvenido Ogando Montás",
      "photoUrl": "https://lh3.googleusercontent.com/a-/AOh14GijKyYoToykx6u4b8sedClwYYCHtapqy8B7uF0l=s64",
      "userId": "10505299496410393010"
     },
     "user_tz": 240
    },
    "id": "e0Eb_Ht9R0pD",
    "outputId": "6f2eaece-998b-4d73-a1a3-351d57a1d25b"
   },
   "outputs": [
    {
     "name": "stdout",
     "output_type": "stream",
     "text": [
      "Es alto\n"
     ]
    }
   ],
   "source": [
    "# Condiciones múltiples\n",
    "\n",
    "altura = 7\n",
    "\n",
    "if(altura > 6):\n",
    "  print(\"Es alto\")\n",
    "elif(altura >= 5):\n",
    "  print(\"Es mediano\")\n",
    "else:\n",
    "  print(\"Es pequeño\")"
   ]
  },
  {
   "cell_type": "code",
   "execution_count": 59,
   "metadata": {
    "colab": {
     "base_uri": "https://localhost:8080/"
    },
    "executionInfo": {
     "elapsed": 164,
     "status": "ok",
     "timestamp": 1623853088159,
     "user": {
      "displayName": "Carlos Bienvenido Ogando Montás",
      "photoUrl": "https://lh3.googleusercontent.com/a-/AOh14GijKyYoToykx6u4b8sedClwYYCHtapqy8B7uF0l=s64",
      "userId": "10505299496410393010"
     },
     "user_tz": 240
    },
    "id": "j5QxpCbMQ2B0",
    "outputId": "419f10cf-bdb9-4b76-eb22-1ed30701d3ea"
   },
   "outputs": [
    {
     "name": "stdout",
     "output_type": "stream",
     "text": [
      "Este estudiante es brillante\n"
     ]
    }
   ],
   "source": [
    "# Condiciones en una sola línea\n",
    "\n",
    "indice = 4.0\n",
    "honores = 3.5\n",
    "beca = 3.0\n",
    "baja_academica = 2.0\n",
    "\n",
    "if(indice >= honores): print(\"Este estudiante es brillante\")\n",
    "elif(indice >= beca): print(\"Este estudiante mantiene su beca\")\n",
    "elif(indice >= baja_academica): print(\"Este estudiante debe mejorar o perderá la beca\")\n",
    "else: print(\"Este estudiante está en baja académica\")"
   ]
  },
  {
   "cell_type": "code",
   "execution_count": 60,
   "metadata": {
    "colab": {
     "base_uri": "https://localhost:8080/"
    },
    "executionInfo": {
     "elapsed": 168,
     "status": "ok",
     "timestamp": 1623680798453,
     "user": {
      "displayName": "Carlos Bienvenido Ogando Montás",
      "photoUrl": "https://lh3.googleusercontent.com/a-/AOh14GijKyYoToykx6u4b8sedClwYYCHtapqy8B7uF0l=s64",
      "userId": "10505299496410393010"
     },
     "user_tz": 240
    },
    "id": "isx9goJGS0ys",
    "outputId": "9b995ee1-4569-4d87-80e3-080ba2585ead"
   },
   "outputs": [
    {
     "name": "stdout",
     "output_type": "stream",
     "text": [
      "Esta pareja es de la misma especie, pero no pueden reproducirse\n"
     ]
    }
   ],
   "source": [
    "# Condiciones anidadas\n",
    "\n",
    "animal = [\"Gato\", \"Gato\"]\n",
    "sexo = [\"F\",\"F\"]\n",
    "\n",
    "if(animal[0] == animal[1]):\n",
    "  if(sexo[0] != sexo[1]):\n",
    "    print(\"Esta pareja puede reproducirse\")\n",
    "  else:\n",
    "    print(\"Esta pareja es de la misma especie, pero no pueden reproducirse\")\n",
    "else:\n",
    "  print(\"Estos animales son de especie distinta\")"
   ]
  },
  {
   "cell_type": "code",
   "execution_count": 61,
   "metadata": {
    "colab": {
     "base_uri": "https://localhost:8080/",
     "height": 34
    },
    "executionInfo": {
     "elapsed": 799,
     "status": "ok",
     "timestamp": 1594848670330,
     "user": {
      "displayName": "Carlos Bienvenido Ogando Montás",
      "photoUrl": "https://lh3.googleusercontent.com/a-/AOh14GiBvHyi5qhJa5gIiMfL_Ie_pqFzn36n5ZyH2GW7=s64",
      "userId": "10505299496410393010"
     },
     "user_tz": 240
    },
    "id": "Pk0aLAnGVqcg",
    "outputId": "7afcd58b-92a7-4b9c-f574-50829c59a0e0"
   },
   "outputs": [
    {
     "name": "stdout",
     "output_type": "stream",
     "text": [
      "Estos pareja no puede reproducirse\n"
     ]
    }
   ],
   "source": [
    "# Sentencia IF usando operadores booleanos\n",
    "\n",
    "animal = [\"Gato\", \"Gato\"]\n",
    "sexo = [\"F\",\"F\"]\n",
    "\n",
    "if(animal[0] == animal[1] and sexo[0] != sexo[1]):\n",
    "    print(\"Esta pareja puede reproducirse\")\n",
    "else:\n",
    "  print(\"Estos pareja no puede reproducirse\")"
   ]
  },
  {
   "cell_type": "code",
   "execution_count": 62,
   "metadata": {
    "colab": {
     "base_uri": "https://localhost:8080/"
    },
    "executionInfo": {
     "elapsed": 161,
     "status": "ok",
     "timestamp": 1623853383957,
     "user": {
      "displayName": "Carlos Bienvenido Ogando Montás",
      "photoUrl": "https://lh3.googleusercontent.com/a-/AOh14GijKyYoToykx6u4b8sedClwYYCHtapqy8B7uF0l=s64",
      "userId": "10505299496410393010"
     },
     "user_tz": 240
    },
    "id": "aYi6TmWzVaJx",
    "outputId": "3ef7b6cf-da5e-497a-8808-c071e1382507"
   },
   "outputs": [
    {
     "name": "stdout",
     "output_type": "stream",
     "text": [
      "Caso 1: Positivo\n",
      "Caso 2: Positivo\n",
      "Caso 3: Positivo\n",
      "Caso 4: Positivo\n"
     ]
    }
   ],
   "source": [
    "# Operadores ternarios\n",
    "\n",
    "numero = 42\n",
    "\n",
    "# Caso 1: Forma general\n",
    "# Sintaxis ==> valor_verdadero if condición else valor_falso\n",
    "\n",
    "resultado = \"Positivo\" if numero > 0 else \"Negativo\"\n",
    "print(\"Caso 1:\", resultado)\n",
    "\n",
    "# Caso 2: Usando tuplas\n",
    "# Sintaxis ==> (valor_falso, valor_verdadero) [condición]\n",
    "\n",
    "resultado = (\"Negativo\", \"Positivo\") [numero > 0] #True = 1, False = 0\n",
    "print(\"Caso 2:\", resultado)\n",
    "\n",
    "# Caso 3: Usando diccionarios\n",
    "# Sintaxis ==> {True:valor_verdadero, False:valor_falso} [condición]\n",
    "\n",
    "resultado = {True:\"Positivo\", False:\"Negativo\"} [numero > 0]\n",
    "print(\"Caso 3:\", resultado)\n",
    "\n",
    "# Caso 4: Usando funciones lambda\n",
    "# Sintaxis ==> (lambda:valor_falso, lambda:valor_verdadero)[condición]()\n",
    "\n",
    "resultado = (lambda:\"Negativo\", lambda:\"Positivo\")[numero > 0]()\n",
    "print(\"Caso 4:\", resultado)"
   ]
  },
  {
   "cell_type": "code",
   "execution_count": 63,
   "metadata": {
    "colab": {
     "base_uri": "https://localhost:8080/"
    },
    "executionInfo": {
     "elapsed": 168,
     "status": "ok",
     "timestamp": 1623853429203,
     "user": {
      "displayName": "Carlos Bienvenido Ogando Montás",
      "photoUrl": "https://lh3.googleusercontent.com/a-/AOh14GijKyYoToykx6u4b8sedClwYYCHtapqy8B7uF0l=s64",
      "userId": "10505299496410393010"
     },
     "user_tz": 240
    },
    "id": "kR0v0MLReGUQ",
    "outputId": "3c3d387b-4885-4a0d-ff7e-4053bb65ed5e"
   },
   "outputs": [
    {
     "name": "stdout",
     "output_type": "stream",
     "text": [
      "Menor\n"
     ]
    }
   ],
   "source": [
    "# Operadores ternarios anidados\n",
    "\n",
    "a, b = 2, 4\n",
    "resultado = \"Iguales\" if a == b else \"Mayor\" if a > b else \"Menor\"\n",
    "print(resultado)"
   ]
  },
  {
   "cell_type": "markdown",
   "metadata": {
    "id": "tVTfrjwGYiZh"
   },
   "source": [
    "##**Ciclos**"
   ]
  },
  {
   "cell_type": "code",
   "execution_count": 64,
   "metadata": {
    "colab": {
     "base_uri": "https://localhost:8080/"
    },
    "executionInfo": {
     "elapsed": 166,
     "status": "ok",
     "timestamp": 1623853485420,
     "user": {
      "displayName": "Carlos Bienvenido Ogando Montás",
      "photoUrl": "https://lh3.googleusercontent.com/a-/AOh14GijKyYoToykx6u4b8sedClwYYCHtapqy8B7uF0l=s64",
      "userId": "10505299496410393010"
     },
     "user_tz": 240
    },
    "id": "XVuPd0FTYp9o",
    "outputId": "d540ac8e-96b7-43c9-8b59-94b0c01e3bc7"
   },
   "outputs": [
    {
     "name": "stdout",
     "output_type": "stream",
     "text": [
      "[0, 1, 2, 3, 4, 5, 6, 7, 8, 9, 10]\n"
     ]
    }
   ],
   "source": [
    "# Ciclos mediante la sentencia while\n",
    "\n",
    "numero = 0\n",
    "lista_r = []\n",
    "\n",
    "while numero <= 10:\n",
    "  lista_r.append(numero)\n",
    "  numero += 1\n",
    "\n",
    "print(lista_r)"
   ]
  },
  {
   "cell_type": "code",
   "execution_count": 65,
   "metadata": {
    "colab": {
     "base_uri": "https://localhost:8080/"
    },
    "executionInfo": {
     "elapsed": 195,
     "status": "ok",
     "timestamp": 1663199273936,
     "user": {
      "displayName": "Carlos Bienvenido Ogando Montás (Carlitos5336)",
      "userId": "10505299496410393010"
     },
     "user_tz": 240
    },
    "id": "bq8bBYsUZwDL",
    "outputId": "eaba1c98-6a02-4d40-bc57-391be7e0556a"
   },
   "outputs": [
    {
     "name": "stdout",
     "output_type": "stream",
     "text": [
      "300\n",
      "295\n",
      "290\n",
      "285\n",
      "280\n",
      "275\n",
      "270\n",
      "265\n",
      "260\n",
      "255\n",
      "250\n",
      "245\n",
      "240\n",
      "235\n",
      "230\n",
      "225\n",
      "220\n",
      "215\n",
      "210\n",
      "205\n",
      "200\n",
      "195\n",
      "190\n",
      "185\n",
      "180\n",
      "175\n",
      "170\n",
      "165\n",
      "160\n",
      "155\n",
      "150\n",
      "145\n",
      "140\n",
      "135\n",
      "130\n",
      "125\n",
      "120\n",
      "115\n",
      "110\n",
      "105\n",
      "100\n",
      "95\n",
      "90\n",
      "85\n",
      "80\n",
      "75\n",
      "70\n",
      "65\n",
      "60\n",
      "55\n",
      "50\n",
      "45\n",
      "40\n",
      "35\n",
      "30\n",
      "25\n",
      "20\n",
      "15\n"
     ]
    }
   ],
   "source": [
    "# Ciclos mediante la función range()\n",
    "# Sintaxis ==> range(startindex, endindex, step)\n",
    "# Val. pred. > range(     0    ,   ****  ,  1  )\n",
    "\n",
    "for numero in range(300, 10, -5):\n",
    "  print(numero)"
   ]
  },
  {
   "cell_type": "code",
   "execution_count": 66,
   "metadata": {
    "colab": {
     "base_uri": "https://localhost:8080/"
    },
    "executionInfo": {
     "elapsed": 168,
     "status": "ok",
     "timestamp": 1623853698235,
     "user": {
      "displayName": "Carlos Bienvenido Ogando Montás",
      "photoUrl": "https://lh3.googleusercontent.com/a-/AOh14GijKyYoToykx6u4b8sedClwYYCHtapqy8B7uF0l=s64",
      "userId": "10505299496410393010"
     },
     "user_tz": 240
    },
    "id": "Osd0eqdIbDA1",
    "outputId": "de53f472-dc87-46c6-9483-9a073738a0b5"
   },
   "outputs": [
    {
     "name": "stdout",
     "output_type": "stream",
     "text": [
      "0\n",
      "1\n",
      "2\n",
      "3\n",
      "4\n",
      "5\n",
      "6\n",
      "7\n",
      "8\n",
      "9\n",
      "10\n"
     ]
    }
   ],
   "source": [
    "# Ciclos con ED\n",
    "\n",
    "lista_r = [0, 1, 2, 3, 4, 5, 6, 7, 8, 9, 10]\n",
    "\n",
    "for numero in lista_r:\n",
    "  print(numero)"
   ]
  },
  {
   "cell_type": "code",
   "execution_count": 67,
   "metadata": {
    "colab": {
     "base_uri": "https://localhost:8080/"
    },
    "executionInfo": {
     "elapsed": 165,
     "status": "ok",
     "timestamp": 1644333096666,
     "user": {
      "displayName": "Carlos Bienvenido Ogando Montás",
      "photoUrl": "https://lh3.googleusercontent.com/a-/AOh14GijKyYoToykx6u4b8sedClwYYCHtapqy8B7uF0l=s64",
      "userId": "10505299496410393010"
     },
     "user_tz": 240
    },
    "id": "mYmCKvTBhbgS",
    "outputId": "4368811d-1f95-4cd7-9b05-6de25c89e497"
   },
   "outputs": [
    {
     "name": "stdout",
     "output_type": "stream",
     "text": [
      "1\n"
     ]
    }
   ],
   "source": [
    "# Sentencia else usando for\n",
    "\n",
    "lista_vacia = [1, 2, 3]\n",
    "\n",
    "for l in lista_vacia:\n",
    "  print(l)\n",
    "  break\n",
    "else:\n",
    "  print(\"No encontré ningún dato\")"
   ]
  },
  {
   "cell_type": "code",
   "execution_count": 68,
   "metadata": {
    "colab": {
     "base_uri": "https://localhost:8080/"
    },
    "executionInfo": {
     "elapsed": 200,
     "status": "ok",
     "timestamp": 1644333104493,
     "user": {
      "displayName": "Carlos Bienvenido Ogando Montás",
      "photoUrl": "https://lh3.googleusercontent.com/a-/AOh14GijKyYoToykx6u4b8sedClwYYCHtapqy8B7uF0l=s64",
      "userId": "10505299496410393010"
     },
     "user_tz": 240
    },
    "id": "NosOei4-bazC",
    "outputId": "21f4a3ed-37ed-4685-ca05-08f4fd2f2ac1"
   },
   "outputs": [
    {
     "name": "stdout",
     "output_type": "stream",
     "text": [
      "aa\n",
      "ab\n",
      "ac\n",
      "ba\n",
      "bb\n",
      "bc\n",
      "ca\n",
      "cb\n",
      "cc\n"
     ]
    }
   ],
   "source": [
    "# Ciclos anidados\n",
    "\n",
    "lista_l = ['a', 'b', 'c']\n",
    "\n",
    "for i in lista_l:\n",
    "  for j in lista_l:\n",
    "    print(i + j)"
   ]
  },
  {
   "cell_type": "code",
   "execution_count": 69,
   "metadata": {
    "colab": {
     "base_uri": "https://localhost:8080/"
    },
    "executionInfo": {
     "elapsed": 497,
     "status": "ok",
     "timestamp": 1686834343425,
     "user": {
      "displayName": "Carlos Bienvenido Ogando Montás (Carlitos5336)",
      "userId": "10505299496410393010"
     },
     "user_tz": 240
    },
    "id": "Wsn_o21ecIaT",
    "outputId": "e481f8ff-3c82-482d-d007-66f5caf8cd41"
   },
   "outputs": [
    {
     "name": "stdout",
     "output_type": "stream",
     "text": [
      "0\n",
      "2\n",
      "4\n",
      "6\n",
      "8\n",
      "10\n",
      "12\n",
      "14\n",
      "16\n",
      "18\n",
      "20\n",
      "22\n",
      "24\n",
      "26\n",
      "28\n",
      "30\n",
      "32\n",
      "34\n",
      "36\n",
      "38\n",
      "40\n",
      "42\n",
      "44\n",
      "46\n",
      "48\n",
      "50\n"
     ]
    }
   ],
   "source": [
    "# Sentencia BREAK\n",
    "\n",
    "for i in range(100):\n",
    "  if(i%2 == 0): print(i)\n",
    "  if(i == 50): break"
   ]
  },
  {
   "cell_type": "code",
   "execution_count": 70,
   "metadata": {
    "colab": {
     "base_uri": "https://localhost:8080/"
    },
    "executionInfo": {
     "elapsed": 166,
     "status": "ok",
     "timestamp": 1644333233660,
     "user": {
      "displayName": "Carlos Bienvenido Ogando Montás",
      "photoUrl": "https://lh3.googleusercontent.com/a-/AOh14GijKyYoToykx6u4b8sedClwYYCHtapqy8B7uF0l=s64",
      "userId": "10505299496410393010"
     },
     "user_tz": 240
    },
    "id": "wUcwbWobce42",
    "outputId": "779c6386-7e70-440c-ba8c-0c32fee9ef50"
   },
   "outputs": [
    {
     "name": "stdout",
     "output_type": "stream",
     "text": [
      "\n",
      "Paso 1: 0\n",
      "Paso 2: 0\n",
      "Paso 3: 0\n",
      "\n",
      "Paso 1: 2\n",
      "Paso 2: 6\n",
      "Paso 3: 30\n",
      "\n",
      "Paso 1: 4\n",
      "Paso 2: 12\n",
      "Paso 3: 60\n",
      "\n",
      "Paso 1: 6\n",
      "Paso 2: 18\n",
      "Paso 3: 90\n",
      "\n",
      "Paso 1: 8\n",
      "Paso 2: 24\n",
      "Paso 3: 120\n",
      "\n",
      "Paso 1: 10\n",
      "Paso 2: 30\n",
      "Paso 3: 150\n",
      "\n",
      "Paso 1: 12\n",
      "Paso 2: 36\n",
      "\n",
      "Paso 1: 14\n",
      "Paso 2: 42\n",
      "\n",
      "Paso 1: 16\n",
      "Paso 2: 48\n",
      "\n",
      "Paso 1: 18\n",
      "Paso 2: 54\n"
     ]
    }
   ],
   "source": [
    "# Sentencia CONTINUE\n",
    "\n",
    "for i in range(10):\n",
    "  print()\n",
    "  i *= 2\n",
    "  print(\"Paso 1:\", i)\n",
    "  i *= 3\n",
    "  print(\"Paso 2:\", i)\n",
    "  if(i > 30): continue\n",
    "  i *= 5\n",
    "  print(\"Paso 3:\", i)"
   ]
  },
  {
   "cell_type": "code",
   "execution_count": 71,
   "metadata": {
    "colab": {
     "base_uri": "https://localhost:8080/"
    },
    "executionInfo": {
     "elapsed": 216,
     "status": "ok",
     "timestamp": 1644333322835,
     "user": {
      "displayName": "Carlos Bienvenido Ogando Montás",
      "photoUrl": "https://lh3.googleusercontent.com/a-/AOh14GijKyYoToykx6u4b8sedClwYYCHtapqy8B7uF0l=s64",
      "userId": "10505299496410393010"
     },
     "user_tz": 240
    },
    "id": "DHeNHaoixm7N",
    "outputId": "aa15f315-013b-499e-e459-c3a0fde98e29"
   },
   "outputs": [
    {
     "name": "stdout",
     "output_type": "stream",
     "text": [
      "Forma pythonesca:\n",
      "0 8 4\n",
      "9 5 3\n",
      "7 1 2\n",
      "Forma clásica:\n",
      "0\n",
      "8\n",
      "4\n",
      "9\n",
      "5\n",
      "3\n",
      "7\n",
      "1\n",
      "2\n"
     ]
    }
   ],
   "source": [
    "# Explorar listas multidimensionales\n",
    "# (for múltiple)\n",
    "\n",
    "matriz = [[0, 8, 4], [9, 5, 3], [7, 1, 2]]\n",
    "\n",
    "print(\"Forma pythonesca:\")\n",
    "for i, j, k in matriz:\n",
    "  print(i, j, k)\n",
    "\n",
    "print(\"Forma clásica:\")\n",
    "for i in range(3):\n",
    "  for j in range(3):\n",
    "    print(matriz[i][j])\n",
    "\n"
   ]
  },
  {
   "cell_type": "code",
   "execution_count": 72,
   "metadata": {
    "colab": {
     "base_uri": "https://localhost:8080/"
    },
    "executionInfo": {
     "elapsed": 206,
     "status": "ok",
     "timestamp": 1644333602529,
     "user": {
      "displayName": "Carlos Bienvenido Ogando Montás",
      "photoUrl": "https://lh3.googleusercontent.com/a-/AOh14GijKyYoToykx6u4b8sedClwYYCHtapqy8B7uF0l=s64",
      "userId": "10505299496410393010"
     },
     "user_tz": 240
    },
    "id": "uWcRRoE2yk3V",
    "outputId": "dd8c4ae4-a8ec-41fb-c7f9-38f7e07c8dc4"
   },
   "outputs": [
    {
     "name": "stdout",
     "output_type": "stream",
     "text": [
      "Forma 1\n",
      "U 1\n",
      "C 5\n",
      "D 10\n",
      "V 25\n",
      "Forma 2\n",
      "U 1\n",
      "C 5\n",
      "D 10\n",
      "V 25\n",
      "Forma 3\n",
      "dict_keys(['U', 'C', 'D', 'V'])\n",
      "dict_values([1, 5, 10, 25])\n"
     ]
    }
   ],
   "source": [
    "# Explorar diccionarios\n",
    "\n",
    "diccionario_f = {\"U\":1, \"C\":5, \"D\":10, \"V\":25}\n",
    "\n",
    "print(\"Forma 1\")\n",
    "for llave in diccionario_f:\n",
    "  print(str(llave), str(diccionario_f[llave]))\n",
    "\n",
    "print(\"Forma 2\")\n",
    "for llave, valor in diccionario_f.items():\n",
    "  print(str(llave), str(valor))\n",
    "\n",
    "print(\"Forma 3\")\n",
    "print(diccionario_f.keys())\n",
    "print(diccionario_f.values())"
   ]
  },
  {
   "cell_type": "markdown",
   "metadata": {
    "id": "hQo1j5icv2NK"
   },
   "source": [
    "##**Comprensión de arreglos**"
   ]
  },
  {
   "cell_type": "code",
   "execution_count": 73,
   "metadata": {
    "colab": {
     "base_uri": "https://localhost:8080/"
    },
    "executionInfo": {
     "elapsed": 173,
     "status": "ok",
     "timestamp": 1644333772857,
     "user": {
      "displayName": "Carlos Bienvenido Ogando Montás",
      "photoUrl": "https://lh3.googleusercontent.com/a-/AOh14GijKyYoToykx6u4b8sedClwYYCHtapqy8B7uF0l=s64",
      "userId": "10505299496410393010"
     },
     "user_tz": 240
    },
    "id": "d7xn8qMfwHuF",
    "outputId": "f37d4123-3ce7-467f-b2e5-57f28d972e13"
   },
   "outputs": [
    {
     "name": "stdout",
     "output_type": "stream",
     "text": [
      "[50, 55, 60, 65, 70, 75, 80, 85, 90, 95]\n",
      "(50, 45, 40, 35, 30, 25, 20, 15, 10, 5)\n"
     ]
    }
   ],
   "source": [
    "# Creación de arreglos usando range()\n",
    "# List comprehension\n",
    "\n",
    "lista_r = list(range(50, 100, 5))\n",
    "tupla_r = tuple(range(50, 0, -5))\n",
    "\n",
    "print(lista_r)\n",
    "print(tupla_r)"
   ]
  },
  {
   "cell_type": "code",
   "execution_count": 74,
   "metadata": {
    "colab": {
     "base_uri": "https://localhost:8080/"
    },
    "executionInfo": {
     "elapsed": 228,
     "status": "ok",
     "timestamp": 1644334035482,
     "user": {
      "displayName": "Carlos Bienvenido Ogando Montás",
      "photoUrl": "https://lh3.googleusercontent.com/a-/AOh14GijKyYoToykx6u4b8sedClwYYCHtapqy8B7uF0l=s64",
      "userId": "10505299496410393010"
     },
     "user_tz": 240
    },
    "id": "iOekIA7Wy7D6",
    "outputId": "a463d112-b2ae-45b9-d54a-50543fcf122d"
   },
   "outputs": [
    {
     "name": "stdout",
     "output_type": "stream",
     "text": [
      "[0, 5, 10, 15, 20, 25, 30, 35, 40, 45, 50, 55, 60, 65, 70, 75, 80, 85, 90, 95]\n",
      "(0, 1, 4, 9, 16, 25, 36, 49, 64, 81)\n",
      "{'<': 60, '=': 61, '>': 62, '?': 63, '@': 64, 'A': 65, 'B': 66, 'C': 67, 'D': 68, 'E': 69, 'F': 70, 'G': 71, 'H': 72, 'I': 73, 'J': 74, 'K': 75, 'L': 76, 'M': 77, 'N': 78, 'O': 79}\n"
     ]
    }
   ],
   "source": [
    "# Comprensión de listas, tuplas y diccionaros\n",
    "# Sintaxis ==> [out_exp' for out_exp in input_list]\n",
    "#              [out_exp' for out_exp in input_list if condition](la condicion es opcional)\n",
    "\n",
    "lista_c = [var for var in range(100) if var%5 == 0]\n",
    "tupla_c = tuple(var**2 for var in range(10))\n",
    "diccionario_c = {chr(var) : var for var in range(60,80)}\n",
    "\n",
    "print(lista_c)\n",
    "print(tupla_c)\n",
    "print(diccionario_c)"
   ]
  },
  {
   "cell_type": "code",
   "execution_count": 75,
   "metadata": {
    "colab": {
     "base_uri": "https://localhost:8080/"
    },
    "executionInfo": {
     "elapsed": 196,
     "status": "ok",
     "timestamp": 1644334171214,
     "user": {
      "displayName": "Carlos Bienvenido Ogando Montás",
      "photoUrl": "https://lh3.googleusercontent.com/a-/AOh14GijKyYoToykx6u4b8sedClwYYCHtapqy8B7uF0l=s64",
      "userId": "10505299496410393010"
     },
     "user_tz": 240
    },
    "id": "mq0bMMOXi6Sw",
    "outputId": "57246822-23ab-4fca-ade5-a6acebe5f8a9"
   },
   "outputs": [
    {
     "name": "stdout",
     "output_type": "stream",
     "text": [
      "['00', '01', '02', '03', '04', '05', '06', '07', '08', '09', '0A', '0B', '0C', '0D', '0E', '0F', '10', '11', '12', '13', '14', '15', '16', '17', '18', '19', '1A', '1B', '1C', '1D', '1E', '1F', '20', '21', '22', '23', '24', '25', '26', '27', '28', '29', '2A', '2B', '2C', '2D', '2E', '2F', '30', '31', '32', '33', '34', '35', '36', '37', '38', '39', '3A', '3B', '3C', '3D', '3E', '3F', '40', '41', '42', '43', '44', '45', '46', '47', '48', '49', '4A', '4B', '4C', '4D', '4E', '4F', '50', '51', '52', '53', '54', '55', '56', '57', '58', '59', '5A', '5B', '5C', '5D', '5E', '5F', '60', '61', '62', '63', '64', '65', '66', '67', '68', '69', '6A', '6B', '6C', '6D', '6E', '6F', '70', '71', '72', '73', '74', '75', '76', '77', '78', '79', '7A', '7B', '7C', '7D', '7E', '7F', '80', '81', '82', '83', '84', '85', '86', '87', '88', '89', '8A', '8B', '8C', '8D', '8E', '8F', '90', '91', '92', '93', '94', '95', '96', '97', '98', '99', '9A', '9B', '9C', '9D', '9E', '9F', 'A0', 'A1', 'A2', 'A3', 'A4', 'A5', 'A6', 'A7', 'A8', 'A9', 'AA', 'AB', 'AC', 'AD', 'AE', 'AF', 'B0', 'B1', 'B2', 'B3', 'B4', 'B5', 'B6', 'B7', 'B8', 'B9', 'BA', 'BB', 'BC', 'BD', 'BE', 'BF', 'C0', 'C1', 'C2', 'C3', 'C4', 'C5', 'C6', 'C7', 'C8', 'C9', 'CA', 'CB', 'CC', 'CD', 'CE', 'CF', 'D0', 'D1', 'D2', 'D3', 'D4', 'D5', 'D6', 'D7', 'D8', 'D9', 'DA', 'DB', 'DC', 'DD', 'DE', 'DF', 'E0', 'E1', 'E2', 'E3', 'E4', 'E5', 'E6', 'E7', 'E8', 'E9', 'EA', 'EB', 'EC', 'ED', 'EE', 'EF', 'F0', 'F1', 'F2', 'F3', 'F4', 'F5', 'F6', 'F7', 'F8', 'F9', 'FA', 'FB', 'FC', 'FD', 'FE', 'FF']\n"
     ]
    }
   ],
   "source": [
    "# Ejemplo de comprensión anidada\n",
    "# Obtener arreglo con las combinaciones de los digitos hexadecimales\n",
    "\n",
    "digitos_hex = ['0', '1', '2', '3', '4', '5', '6', '7', '8', '9', 'A', 'B', 'C', 'D', 'E', 'F']\n",
    "\n",
    "lista_c = [var1 + var2 for var1 in digitos_hex for var2 in digitos_hex]\n",
    "print(lista_c)"
   ]
  },
  {
   "cell_type": "code",
   "execution_count": 76,
   "metadata": {
    "colab": {
     "base_uri": "https://localhost:8080/"
    },
    "executionInfo": {
     "elapsed": 2,
     "status": "ok",
     "timestamp": 1644334247728,
     "user": {
      "displayName": "Carlos Bienvenido Ogando Montás",
      "photoUrl": "https://lh3.googleusercontent.com/a-/AOh14GijKyYoToykx6u4b8sedClwYYCHtapqy8B7uF0l=s64",
      "userId": "10505299496410393010"
     },
     "user_tz": 240
    },
    "id": "nKARoMDmwv-7",
    "outputId": "3ea91377-c397-45fb-fc54-335e93debe50"
   },
   "outputs": [
    {
     "name": "stdout",
     "output_type": "stream",
     "text": [
      "[(100, 'pizza'), (101, 'lasaña'), (102, 'empanada'), (103, 'palomitas de maíz'), (104, 'algodón de azúcar')]\n"
     ]
    }
   ],
   "source": [
    "# Enumeración de arreglos\n",
    "# Sintaxis ==> enumerate(dataset, startnumber)\n",
    "\n",
    "comida = ['pizza', 'lasaña', 'empanada', 'palomitas de maíz', 'algodón de azúcar']\n",
    "comida_en = list(enumerate(comida, 100))\n",
    "\n",
    "print(comida_en)"
   ]
  },
  {
   "cell_type": "markdown",
   "metadata": {
    "id": "5Ul_k2q7elxy"
   },
   "source": [
    "# Métodos y funciones"
   ]
  },
  {
   "cell_type": "markdown",
   "metadata": {
    "id": "rwO9j4zYfvOV"
   },
   "source": [
    "##**Funciones**"
   ]
  },
  {
   "cell_type": "code",
   "execution_count": 77,
   "metadata": {
    "colab": {
     "base_uri": "https://localhost:8080/"
    },
    "executionInfo": {
     "elapsed": 224,
     "status": "ok",
     "timestamp": 1671065820997,
     "user": {
      "displayName": "Carlos Bienvenido Ogando Montás (Carlitos5336)",
      "userId": "10505299496410393010"
     },
     "user_tz": 240
    },
    "id": "YZkRv0saUN2g",
    "outputId": "771361af-ccbd-4797-9cf8-b0d54db012fd"
   },
   "outputs": [
    {
     "name": "stdout",
     "output_type": "stream",
     "text": [
      "Buenos días!\n"
     ]
    }
   ],
   "source": [
    "# Definir una función simple\n",
    "\n",
    "def saludar():\n",
    "  print(\"Buenos días!\")\n",
    "  return #(no es obligatorio ponerlo)\n",
    "\n",
    "saludar()"
   ]
  },
  {
   "cell_type": "code",
   "execution_count": 78,
   "metadata": {
    "colab": {
     "base_uri": "https://localhost:8080/"
    },
    "executionInfo": {
     "elapsed": 226,
     "status": "ok",
     "timestamp": 1671065876981,
     "user": {
      "displayName": "Carlos Bienvenido Ogando Montás (Carlitos5336)",
      "userId": "10505299496410393010"
     },
     "user_tz": 240
    },
    "id": "GiZAfYgWftQ6",
    "outputId": "7e370305-fa38-46a1-87ac-bb12bf1b2e2d"
   },
   "outputs": [
    {
     "name": "stdout",
     "output_type": "stream",
     "text": [
      "Saludos Carlos!\n"
     ]
    }
   ],
   "source": [
    "# Definir una función que reciba parámetro(s)\n",
    "\n",
    "def saludar(nombre, edad):\n",
    "  if(edad >= 18): print(\"Saludos \" + nombre + \"!\")\n",
    "  else: print(\"Hola \" + nombre + \"!\")\n",
    "  return\n",
    "\n",
    "saludar(\"Carlos\", 22)"
   ]
  },
  {
   "cell_type": "code",
   "execution_count": 79,
   "metadata": {
    "colab": {
     "base_uri": "https://localhost:8080/"
    },
    "executionInfo": {
     "elapsed": 386,
     "status": "ok",
     "timestamp": 1623768300706,
     "user": {
      "displayName": "Carlos Bienvenido Ogando Montás",
      "photoUrl": "https://lh3.googleusercontent.com/a-/AOh14GijKyYoToykx6u4b8sedClwYYCHtapqy8B7uF0l=s64",
      "userId": "10505299496410393010"
     },
     "user_tz": 240
    },
    "id": "O5nLAB8Agayi",
    "outputId": "40ab9048-09ac-497d-9830-cefe80624608"
   },
   "outputs": [
    {
     "name": "stdout",
     "output_type": "stream",
     "text": [
      "¡Buenos días Carlos! ¿Cómo estás?\n"
     ]
    }
   ],
   "source": [
    "# Definir una función que devuelva un valor usando return\n",
    "\n",
    "def saludar(nombre):\n",
    "  return \"¡Buenos días \" + nombre + \"!\"\n",
    "\n",
    "saludo = saludar(\"Carlos\")\n",
    "saludo += \" ¿Cómo estás?\"\n",
    "print(saludo)"
   ]
  },
  {
   "cell_type": "code",
   "execution_count": 80,
   "metadata": {
    "colab": {
     "base_uri": "https://localhost:8080/"
    },
    "executionInfo": {
     "elapsed": 422,
     "status": "ok",
     "timestamp": 1623768361130,
     "user": {
      "displayName": "Carlos Bienvenido Ogando Montás",
      "photoUrl": "https://lh3.googleusercontent.com/a-/AOh14GijKyYoToykx6u4b8sedClwYYCHtapqy8B7uF0l=s64",
      "userId": "10505299496410393010"
     },
     "user_tz": 240
    },
    "id": "ufFdZw6kiMJW",
    "outputId": "89d1445e-5653-4f74-eed2-0b8055fdabfd"
   },
   "outputs": [
    {
     "name": "stdout",
     "output_type": "stream",
     "text": [
      "9\n"
     ]
    }
   ],
   "source": [
    "# Definir una función que devuelva varios valores usando return\n",
    "\n",
    "def operar(num, const):\n",
    "  return num + const, num - const, num * const, num / const\n",
    "\n",
    "print(operar(4, 5)[0])"
   ]
  },
  {
   "cell_type": "code",
   "execution_count": 81,
   "metadata": {
    "colab": {
     "base_uri": "https://localhost:8080/"
    },
    "executionInfo": {
     "elapsed": 294,
     "status": "ok",
     "timestamp": 1623768495006,
     "user": {
      "displayName": "Carlos Bienvenido Ogando Montás",
      "photoUrl": "https://lh3.googleusercontent.com/a-/AOh14GijKyYoToykx6u4b8sedClwYYCHtapqy8B7uF0l=s64",
      "userId": "10505299496410393010"
     },
     "user_tz": 240
    },
    "id": "a3wAkSGbixkj",
    "outputId": "45c81f69-8c38-40d5-982d-c0362f0853da"
   },
   "outputs": [
    {
     "name": "stdout",
     "output_type": "stream",
     "text": [
      "3.3333333333333335\n"
     ]
    }
   ],
   "source": [
    "# Definir una función que \"retorne\" valores usando la sentencia global\n",
    "# GLOBAL SCOPE\n",
    "\n",
    "def operar(num, const):\n",
    "  global suma, resta, mult, div\n",
    "  suma = num + const\n",
    "  resta = num - const\n",
    "  mult = num * const\n",
    "  div = num / const\n",
    "\n",
    "operar(10, 3)\n",
    "print(div)"
   ]
  },
  {
   "cell_type": "code",
   "execution_count": 82,
   "metadata": {
    "colab": {
     "base_uri": "https://localhost:8080/"
    },
    "executionInfo": {
     "elapsed": 193,
     "status": "ok",
     "timestamp": 1644334777554,
     "user": {
      "displayName": "Carlos Bienvenido Ogando Montás",
      "photoUrl": "https://lh3.googleusercontent.com/a-/AOh14GijKyYoToykx6u4b8sedClwYYCHtapqy8B7uF0l=s64",
      "userId": "10505299496410393010"
     },
     "user_tz": 240
    },
    "id": "8yKdYNw2j1Ac",
    "outputId": "9ece9482-131e-42c3-b307-cc3a02cec62f"
   },
   "outputs": [
    {
     "data": {
      "text/plain": [
       "55"
      ]
     },
     "execution_count": 82,
     "metadata": {},
     "output_type": "execute_result"
    }
   ],
   "source": [
    "# Definir una función con argumentos claves (key arguments)\n",
    "\n",
    "def sumar(lista, start=0, end=None, soloPares=False):\n",
    "  if end == None: end = len(lista)\n",
    "  suma = 0\n",
    "  for n in lista[start:end]:\n",
    "    if soloPares:\n",
    "      if n%2 == 0: suma += n\n",
    "    else: suma += n\n",
    "  return suma\n",
    "\n",
    "sumar([1, 2, 3, 4, 5, 6, 7, 8, 9, 10])"
   ]
  },
  {
   "cell_type": "code",
   "execution_count": 83,
   "metadata": {
    "colab": {
     "base_uri": "https://localhost:8080/"
    },
    "executionInfo": {
     "elapsed": 224,
     "status": "ok",
     "timestamp": 1644335358116,
     "user": {
      "displayName": "Carlos Bienvenido Ogando Montás",
      "photoUrl": "https://lh3.googleusercontent.com/a-/AOh14GijKyYoToykx6u4b8sedClwYYCHtapqy8B7uF0l=s64",
      "userId": "10505299496410393010"
     },
     "user_tz": 240
    },
    "id": "bYuo1nN6li5b",
    "outputId": "ef2c57dd-0aa7-4d86-deac-b760271940e3"
   },
   "outputs": [
    {
     "name": "stdout",
     "output_type": "stream",
     "text": [
      "Su nombre es Carlos. Tiene 18 años de edad.\n",
      "Sus frutas favoritas son: \n",
      "['Pera', 'Manzana', 'Ciruela', 'Mango', 'Fresa']\n",
      "Su cancion de preferencia es Get Lucky\n",
      "Su pizza de preferencia es Pepperoni\n"
     ]
    }
   ],
   "source": [
    "# Definir  una función con múltiples argumentos posicionales o argumentos claves\n",
    "# Sintaxis ==> def function(*args, **kwargs):\n",
    "\n",
    "def presentar(nombre, edad, *frutas, **otros):\n",
    "  texto = \"Su nombre es \" + nombre + \". Tiene \" + str(edad) + \" años de edad.\"\n",
    "  print(texto)\n",
    "  if frutas:\n",
    "    print(\"Sus frutas favoritas son: \")\n",
    "    print(list(frutas), sep=',')\n",
    "  for tipo, objeto in otros.items():\n",
    "    print(\"Su \" + tipo + \" de preferencia es \" + str(objeto))\n",
    "\n",
    "#presentar(\"Carlos\", 18)\n",
    "#presentar(\"Carlos\", 18, \"Pera\", \"Manzana\", \"Ciruela\", \"Mango\", \"Fresa\")\n",
    "presentar(\"Carlos\", 18, \"Pera\", \"Manzana\", \"Ciruela\", \"Mango\", \"Fresa\", cancion=\"Get Lucky\", pizza=\"Pepperoni\")\n"
   ]
  },
  {
   "cell_type": "markdown",
   "metadata": {
    "id": "5yG4xKLCsmc7"
   },
   "source": [
    "##**Funciones lambda**"
   ]
  },
  {
   "cell_type": "code",
   "execution_count": 84,
   "metadata": {
    "colab": {
     "base_uri": "https://localhost:8080/"
    },
    "executionInfo": {
     "elapsed": 179,
     "status": "ok",
     "timestamp": 1644335550965,
     "user": {
      "displayName": "Carlos Bienvenido Ogando Montás",
      "photoUrl": "https://lh3.googleusercontent.com/a-/AOh14GijKyYoToykx6u4b8sedClwYYCHtapqy8B7uF0l=s64",
      "userId": "10505299496410393010"
     },
     "user_tz": 240
    },
    "id": "MitbmJ5Wsw-E",
    "outputId": "86e93463-818a-4a01-a3d8-7467ea090ae9"
   },
   "outputs": [
    {
     "name": "stdout",
     "output_type": "stream",
     "text": [
      "5\n",
      "sodillepa\n"
     ]
    }
   ],
   "source": [
    "# Definición de una función lambda\n",
    "# Sintaxis ==> lambda 'parameters' : 'return_value'\n",
    "\n",
    "# ANTES\n",
    "#def suma(a, b):\n",
    "#    return a + b\n",
    "#def reverso(s):\n",
    "#   return s[::-1]\n",
    "\n",
    "# DESPUÉS\n",
    "\n",
    "suma = lambda x, y: x + y\n",
    "reverso = lambda s: s[::-1]\n",
    "\n",
    "print(suma(2, 3))\n",
    "print(reverso(\"apellidos\"))"
   ]
  },
  {
   "cell_type": "code",
   "execution_count": 85,
   "metadata": {
    "colab": {
     "base_uri": "https://localhost:8080/"
    },
    "executionInfo": {
     "elapsed": 263,
     "status": "ok",
     "timestamp": 1644335666178,
     "user": {
      "displayName": "Carlos Bienvenido Ogando Montás",
      "photoUrl": "https://lh3.googleusercontent.com/a-/AOh14GijKyYoToykx6u4b8sedClwYYCHtapqy8B7uF0l=s64",
      "userId": "10505299496410393010"
     },
     "user_tz": 240
    },
    "id": "TWtN52wG2oRt",
    "outputId": "681a6456-a4cb-47b8-f119-925ed1f98bb3"
   },
   "outputs": [
    {
     "name": "stdout",
     "output_type": "stream",
     "text": [
      "6 12 5.0\n"
     ]
    }
   ],
   "source": [
    "# Funciones simples con funciones lambda\n",
    "\n",
    "def multiplicar(n):\n",
    "  return lambda x: x * n\n",
    "\n",
    "duplicar = multiplicar(2)\n",
    "triplicar = multiplicar(3)\n",
    "mitad = multiplicar(0.5)\n",
    "\n",
    "print(duplicar(3), triplicar(4), mitad(10))"
   ]
  },
  {
   "cell_type": "code",
   "execution_count": 86,
   "metadata": {
    "colab": {
     "base_uri": "https://localhost:8080/"
    },
    "executionInfo": {
     "elapsed": 199,
     "status": "ok",
     "timestamp": 1644335826428,
     "user": {
      "displayName": "Carlos Bienvenido Ogando Montás",
      "photoUrl": "https://lh3.googleusercontent.com/a-/AOh14GijKyYoToykx6u4b8sedClwYYCHtapqy8B7uF0l=s64",
      "userId": "10505299496410393010"
     },
     "user_tz": 240
    },
    "id": "-3RpBlxh3QzD",
    "outputId": "052e49d8-4dc4-4ec6-ef08-5fc65af774c7"
   },
   "outputs": [
    {
     "name": "stdout",
     "output_type": "stream",
     "text": [
      "[0, 1, 2, 3, 4, 5, 6, 7, 8, 9, 10, 11, 12, 13, 14, 15, 16, 17, 18, 19]\n",
      "[15, 16, 17, 18, 19]\n",
      "['Katherine', 'Lisanny']\n"
     ]
    }
   ],
   "source": [
    "# Filtro de listas usando FILTER\n",
    "# Sintaxis ==> filter(filter_function, list) (la función de filtro debe ser de retorno booleano)\n",
    "\n",
    "lista_r = [i for i in range(20)]\n",
    "print(lista_r)\n",
    "\n",
    "lista_filtrada = list(filter(lambda x : x**(2) > 200, lista_r))\n",
    "print(lista_filtrada)\n",
    "\n",
    "estudiantes = [\"Alberto\", \"Yeury\", \"Katherine\", \"Onily\", \"Roberlyn\", \"Lisanny\"]\n",
    "print(list(filter(lambda s : \"a\" in s, estudiantes)))"
   ]
  },
  {
   "cell_type": "code",
   "execution_count": 87,
   "metadata": {
    "colab": {
     "base_uri": "https://localhost:8080/"
    },
    "executionInfo": {
     "elapsed": 206,
     "status": "ok",
     "timestamp": 1644336005634,
     "user": {
      "displayName": "Carlos Bienvenido Ogando Montás",
      "photoUrl": "https://lh3.googleusercontent.com/a-/AOh14GijKyYoToykx6u4b8sedClwYYCHtapqy8B7uF0l=s64",
      "userId": "10505299496410393010"
     },
     "user_tz": 240
    },
    "id": "iSShDqBy4-rt",
    "outputId": "f7407e78-876d-4979-8cf4-4f53d0ff1d23"
   },
   "outputs": [
    {
     "name": "stdout",
     "output_type": "stream",
     "text": [
      "[0, 0.5, 4, 1.5, 16, 2.5, 36, 3.5, 64, 4.5, 100, 5.5, 144, 6.5, 196, 7.5, 256, 8.5, 324, 9.5]\n"
     ]
    }
   ],
   "source": [
    "# Actualización de listas usando MAP\n",
    "# Sintaxis ==> map(mapping_function, list) (la función de mapeo debe ser de retorno obligatorio)\n",
    "\n",
    "#lista_mapeada = list(map(lambda x : 2*x, lista_r))\n",
    "lista_mapeada = list(map(lambda x : x**2 if x%2 == 0 else x/2, lista_r))\n",
    "print(lista_mapeada)"
   ]
  },
  {
   "cell_type": "markdown",
   "metadata": {
    "id": "UN8bdDTo_0hg"
   },
   "source": [
    "##**Generadores y corutinas**"
   ]
  },
  {
   "cell_type": "code",
   "execution_count": 88,
   "metadata": {
    "colab": {
     "base_uri": "https://localhost:8080/"
    },
    "executionInfo": {
     "elapsed": 310,
     "status": "ok",
     "timestamp": 1644336327565,
     "user": {
      "displayName": "Carlos Bienvenido Ogando Montás",
      "photoUrl": "https://lh3.googleusercontent.com/a-/AOh14GijKyYoToykx6u4b8sedClwYYCHtapqy8B7uF0l=s64",
      "userId": "10505299496410393010"
     },
     "user_tz": 240
    },
    "id": "1HR-o-xB_4a8",
    "outputId": "c16ae27c-a5d5-4b60-ac3c-bde6d328327e"
   },
   "outputs": [
    {
     "name": "stdout",
     "output_type": "stream",
     "text": [
      "Con iterables\n",
      "0 2 4 6 8 \n",
      "Con generadores\n",
      "0 2 4 6 8 "
     ]
    }
   ],
   "source": [
    "# Diferencia entre iterables y generadores\n",
    "\n",
    "# Con iterables\n",
    "\n",
    "print(\"Con iterables\")\n",
    "lista_r = [i for i in range(10) if i%2 == 0]\n",
    "\n",
    "for i in lista_r:\n",
    "  print(i, end = \" \")\n",
    "\n",
    "# Con generadores\n",
    "\n",
    "print(\"\\nCon generadores\")\n",
    "def generador():\n",
    "  for i in range(10):\n",
    "    if i%2 == 0:\n",
    "      yield i\n",
    "\n",
    "for i in generador():\n",
    "  print(i, end = \" \")"
   ]
  },
  {
   "cell_type": "code",
   "execution_count": 89,
   "metadata": {
    "colab": {
     "base_uri": "https://localhost:8080/"
    },
    "executionInfo": {
     "elapsed": 246,
     "status": "ok",
     "timestamp": 1644336586415,
     "user": {
      "displayName": "Carlos Bienvenido Ogando Montás",
      "photoUrl": "https://lh3.googleusercontent.com/a-/AOh14GijKyYoToykx6u4b8sedClwYYCHtapqy8B7uF0l=s64",
      "userId": "10505299496410393010"
     },
     "user_tz": 240
    },
    "id": "x34DY5dJSEr3",
    "outputId": "906d6a20-eda1-4d18-a723-b86b9860b305"
   },
   "outputs": [
    {
     "name": "stdout",
     "output_type": "stream",
     "text": [
      "Fib Generator\n",
      "1 1 2 3 5 8 13 21 34 55 89 144 233 377 610 \n",
      "Prod Generator\n",
      "1 2 6 24 "
     ]
    }
   ],
   "source": [
    "# Ejemplo usando generador\n",
    "\n",
    "def fib(n):\n",
    "  a = b = 1\n",
    "  for i in range(n):\n",
    "    yield a\n",
    "    a, b = b, a + b\n",
    "\n",
    "print(\"Fib Generator\")\n",
    "for i in fib(15):\n",
    "  print(i, end=' ')\n",
    "\n",
    "def fact(n):\n",
    "  p = 1\n",
    "  for i in range(1,n):\n",
    "    p *= i\n",
    "    yield p\n",
    "\n",
    "print(\"\\nProd Generator\")\n",
    "for i in fact(5):\n",
    "  print(i, end=' ')"
   ]
  },
  {
   "cell_type": "code",
   "execution_count": 90,
   "metadata": {
    "colab": {
     "base_uri": "https://localhost:8080/"
    },
    "executionInfo": {
     "elapsed": 252,
     "status": "ok",
     "timestamp": 1644336858947,
     "user": {
      "displayName": "Carlos Bienvenido Ogando Montás",
      "photoUrl": "https://lh3.googleusercontent.com/a-/AOh14GijKyYoToykx6u4b8sedClwYYCHtapqy8B7uF0l=s64",
      "userId": "10505299496410393010"
     },
     "user_tz": 240
    },
    "id": "fhdaAbKbW9-p",
    "outputId": "f7ebf266-6c25-4af7-f9c1-5b6dcbd9bf5d"
   },
   "outputs": [
    {
     "name": "stdout",
     "output_type": "stream",
     "text": [
      "0\n",
      "1\n",
      "4\n",
      "9\n"
     ]
    }
   ],
   "source": [
    "# Método next()\n",
    "\n",
    "def generar_cuadrados(n):\n",
    "  for i in range(n):\n",
    "    yield i**2\n",
    "\n",
    "cuadrados = generar_cuadrados(100000)\n",
    "\n",
    "print(next(cuadrados))\n",
    "print(next(cuadrados))\n",
    "print(next(cuadrados))\n",
    "print(next(cuadrados))"
   ]
  },
  {
   "cell_type": "code",
   "execution_count": 91,
   "metadata": {
    "colab": {
     "base_uri": "https://localhost:8080/"
    },
    "executionInfo": {
     "elapsed": 279,
     "status": "ok",
     "timestamp": 1644337018831,
     "user": {
      "displayName": "Carlos Bienvenido Ogando Montás",
      "photoUrl": "https://lh3.googleusercontent.com/a-/AOh14GijKyYoToykx6u4b8sedClwYYCHtapqy8B7uF0l=s64",
      "userId": "10505299496410393010"
     },
     "user_tz": 240
    },
    "id": "G7DqgQcRZqSe",
    "outputId": "5a4b563a-32a2-4424-8114-55f1b9b509d9"
   },
   "outputs": [
    {
     "name": "stdout",
     "output_type": "stream",
     "text": [
      "Esperando nombres...\n",
      "Bienvenido, Carlos!\n",
      "Bienvenido, Perla!\n"
     ]
    }
   ],
   "source": [
    "# Corutinas\n",
    "# (El generador produce y la corutina consume)\n",
    "# La corutina funciona dependiendo sus parámetros y se detiene en cada yield\n",
    "\n",
    "def dar_bienvenida(lista_usuarios):\n",
    "  print(\"Esperando nombres...\")\n",
    "  while True:\n",
    "    nombre = (yield)\n",
    "    if nombre in lista_usuarios:\n",
    "      print(\"Bienvenido, \" + nombre + \"!\")\n",
    "\n",
    "recibir = dar_bienvenida([\"Carlos\", \"María\", \"Perla\", \"Mario\"])\n",
    "next(recibir)\n",
    "recibir.send(\"Carlos\")\n",
    "recibir.send(\"Pedro\")\n",
    "recibir.send(\"Sara\")\n",
    "recibir.send(\"Perla\")\n",
    "recibir.close()"
   ]
  },
  {
   "cell_type": "code",
   "execution_count": 92,
   "metadata": {
    "colab": {
     "base_uri": "https://localhost:8080/"
    },
    "executionInfo": {
     "elapsed": 195,
     "status": "ok",
     "timestamp": 1644337554513,
     "user": {
      "displayName": "Carlos Bienvenido Ogando Montás",
      "photoUrl": "https://lh3.googleusercontent.com/a-/AOh14GijKyYoToykx6u4b8sedClwYYCHtapqy8B7uF0l=s64",
      "userId": "10505299496410393010"
     },
     "user_tz": 240
    },
    "id": "UkFgYZnsbEG_",
    "outputId": "4147668a-a767-4250-b95c-4850898099ed"
   },
   "outputs": [
    {
     "name": "stdout",
     "output_type": "stream",
     "text": [
      ">> Hiatos:\n",
      "gaseosa\n",
      "océanos\n",
      "subterráneos\n",
      ">> Diptongos:\n",
      "agua\n",
      "aqua\n",
      "sustancia\n",
      "compuesta\n",
      "agua\n",
      "refiere\n",
      "sustancia\n",
      "líquido\n",
      "aunque\n",
      "aunque\n",
      "puede\n",
      "hielo\n",
      "sustancia\n",
      "tierra\n",
      "encuentra\n",
      "hielo\n",
      "esencial\n",
      "supervivencia\n",
      "mayoría\n",
      "agua\n",
      "superficie\n",
      "agua\n",
      "glaciares\n",
      "casquetes\n",
      "mientras\n",
      "que\n",
      "acuíferos\n",
      "glaciares\n",
      "decreciente\n",
      "suelo\n",
      "ríos\n",
      "agua\n",
      "evaporación\n",
      "transpiración\n",
      "evapotranspiración\n",
      "precipitación\n",
      "desplazamiento\n",
      "hacia\n",
      "vientos\n",
      "agua\n",
      "agua\n",
      "que\n",
      "vierte\n",
      "ríos\n",
      "tierra\n",
      "evaporación\n",
      "transpiración\n",
      "anuales\n",
      "que\n",
      "precipitaciones\n"
     ]
    }
   ],
   "source": [
    "# Creación de cadenas de corutinas\n",
    "\n",
    "abiertas = ['a', 'e', 'o', 'á', 'é', 'ó']\n",
    "cerradas = ['i', 'u', 'í', 'ú']\n",
    "\n",
    "hiatos = [var1 + var2 for var1 in abiertas for var2 in abiertas]\n",
    "diptongos = [var1 + var2 for var1 in abiertas for var2 in cerradas]\n",
    "diptongos += [var1 + var2 for var1 in cerradas for var2 in abiertas]\n",
    "diptongos += [var1 + var2 for var1 in cerradas for var2 in cerradas]\n",
    "\n",
    "def analisis(corutina): #(productor)\n",
    "  while True:\n",
    "    texto = (yield)\n",
    "    oraciones = texto.split(\".\")\n",
    "    palabras = []\n",
    "    for oracion in oraciones:\n",
    "      palabras = oracion.split(\" \")\n",
    "      for palabra in palabras:\n",
    "        corutina.send(palabra)\n",
    "\n",
    "def clasificador(patrones, corutina): # (pipeline)\n",
    "  while True:\n",
    "    palabra = (yield)\n",
    "    for patron in patrones:\n",
    "      if patron in palabra:\n",
    "        corutina.send(palabra)\n",
    "\n",
    "def impresor(): # (sink)\n",
    "  while True:\n",
    "    dato = (yield)\n",
    "    dato = dato.replace(',', '')\n",
    "    dato = dato.replace(')','')\n",
    "    dato = dato.replace('(','')\n",
    "    print(dato)\n",
    "\n",
    "imp = impresor()\n",
    "next(imp)\n",
    "clf_h = clasificador(hiatos, imp)\n",
    "next(clf_h)\n",
    "buscar_hiatos = analisis(clf_h)\n",
    "next(buscar_hiatos)\n",
    "\n",
    "parrafo_1 = \"El agua (del latín aqua) es una sustancia cuya molécula está compuesta por dos átomos de hidrógeno y uno de oxígeno (H2O).2​ El término agua generalmente se refiere a la sustancia en su estado líquido, aunque la misma puede hallarse en su forma sólida, llamada hielo, y en su forma gaseosa, denominada vapor.2​ Es una sustancia bastante común en la tierra y el sistema solar, donde se encuentra principalmente en forma de vapor o de hielo. Es esencial e imprescindible para el origen y la supervivencia de la gran mayoría de todas las formas conocidas de vida.\"\n",
    "parrafo_2 = \"El agua recubre el 71 % de la superficie de la corteza terrestre.3​ Se localiza principalmente en los océanos, donde se concentra el 96,5 % del agua total. A los glaciares y casquetes polares les corresponde el 1,74 %, mientras que los depósitos subterráneos (acuíferos), los permafrost y los glaciares continentales concentran el 1,72 %. El restante 0,04 % se reparte en orden decreciente entre lagos, humedad del suelo, atmósfera, embalses, ríos y seres vivos.4​ El agua circula constantemente en un ciclo de evaporación o transpiración (evapotranspiración), precipitación y desplazamiento hacia el mar. Los vientos la transportan en las nubes, como vapor de agua, desde el mar, y en sentido inverso tanta agua como la que se vierte desde los ríos en los mares, en una cantidad aproximada de 45 000 km³ al año. En tierra firme, la evaporación y transpiración contribuyen con 74 000 km³ anuales, por lo que las precipitaciones totales son de 119 000 km³ cada año.\"\n",
    "\n",
    "print(\">> Hiatos:\")\n",
    "buscar_hiatos.send(parrafo_1)\n",
    "buscar_hiatos.send(parrafo_2)\n",
    "\n",
    "clf_d = clasificador(diptongos, imp)\n",
    "next(clf_d)\n",
    "buscar_diptongos = analisis(clf_d)\n",
    "next(buscar_diptongos)\n",
    "\n",
    "print(\">> Diptongos:\")\n",
    "buscar_diptongos.send(parrafo_1)\n",
    "buscar_diptongos.send(parrafo_2)\n"
   ]
  },
  {
   "cell_type": "markdown",
   "metadata": {
    "id": "iU2U3w8ksV48"
   },
   "source": [
    "##**Decoradores**"
   ]
  },
  {
   "cell_type": "code",
   "execution_count": 93,
   "metadata": {
    "colab": {
     "base_uri": "https://localhost:8080/"
    },
    "executionInfo": {
     "elapsed": 614,
     "status": "ok",
     "timestamp": 1614376922519,
     "user": {
      "displayName": "Carlos Bienvenido Ogando Montás",
      "photoUrl": "https://lh3.googleusercontent.com/a-/AOh14GijKyYoToykx6u4b8sedClwYYCHtapqy8B7uF0l=s64",
      "userId": "10505299496410393010"
     },
     "user_tz": 240
    },
    "id": "hE2O8VU_s_2o",
    "outputId": "4d6d1b8a-71cc-4ed5-eb48-730a6ac87d3b"
   },
   "outputs": [
    {
     "data": {
      "text/plain": [
       "720"
      ]
     },
     "execution_count": 93,
     "metadata": {},
     "output_type": "execute_result"
    }
   ],
   "source": [
    "# Funciones recursivas (funciones que se llaman a sí mismas)\n",
    "\n",
    "def factorial(n):\n",
    "  if n == 1: return 1\n",
    "  return n * factorial(n - 1)\n",
    "\n",
    "factorial(6)"
   ]
  },
  {
   "cell_type": "code",
   "execution_count": 94,
   "metadata": {
    "colab": {
     "base_uri": "https://localhost:8080/"
    },
    "executionInfo": {
     "elapsed": 319,
     "status": "ok",
     "timestamp": 1644338116846,
     "user": {
      "displayName": "Carlos Bienvenido Ogando Montás",
      "photoUrl": "https://lh3.googleusercontent.com/a-/AOh14GijKyYoToykx6u4b8sedClwYYCHtapqy8B7uF0l=s64",
      "userId": "10505299496410393010"
     },
     "user_tz": 240
    },
    "id": "5MXfnYQ5ZdVd",
    "outputId": "999efebb-9b50-491d-e9d5-d6b748a44917"
   },
   "outputs": [
    {
     "name": "stdout",
     "output_type": "stream",
     "text": [
      "¡Buenas noches Pedro!\n"
     ]
    }
   ],
   "source": [
    "# Funciones que tienen funciones dentro\n",
    "\n",
    "def saludar(nombre, hora):\n",
    "\n",
    "  # SALUDAR SCOPE\n",
    "  def dia(nombre):\n",
    "    print(\"¡Buenos días\", nombre + \"!\")\n",
    "  def noche(nombre):\n",
    "    print(\"¡Buenas noches\", nombre + \"!\")\n",
    "  def tarde(nombre):\n",
    "    print(\"¡Buenas tardes\", nombre + \"!\")\n",
    "  def manana(nombre):\n",
    "    print(\"¡Hola! ¿Cómo amaneciste\", nombre + \"?\")\n",
    "\n",
    "  if hora <= 11: manana(nombre)\n",
    "  elif hora <= 14: dia(nombre)\n",
    "  elif hora <= 19: tarde(nombre)\n",
    "  else: noche(nombre)\n",
    "\n",
    "saludar(\"Pedro\", 20)\n",
    "\n",
    "# dia(\"Pedro\") no funciona en el GLOBAL SCOPE porque no está en el mismo"
   ]
  },
  {
   "cell_type": "code",
   "execution_count": 95,
   "metadata": {
    "colab": {
     "base_uri": "https://localhost:8080/"
    },
    "executionInfo": {
     "elapsed": 251,
     "status": "ok",
     "timestamp": 1644338154532,
     "user": {
      "displayName": "Carlos Bienvenido Ogando Montás",
      "photoUrl": "https://lh3.googleusercontent.com/a-/AOh14GijKyYoToykx6u4b8sedClwYYCHtapqy8B7uF0l=s64",
      "userId": "10505299496410393010"
     },
     "user_tz": 240
    },
    "id": "MKt3I2i1PqT5",
    "outputId": "3deecd64-5be2-4040-a712-99fed7ac835c"
   },
   "outputs": [
    {
     "name": "stdout",
     "output_type": "stream",
     "text": [
      "True\n",
      "False\n"
     ]
    }
   ],
   "source": [
    "# Funciones que devuelven funciones\n",
    "\n",
    "def divisible(n):\n",
    "\n",
    "  def divisible_n(x):\n",
    "    return x%n == 0\n",
    "\n",
    "  return divisible_n\n",
    "\n",
    "esDivisiblePor2 = divisible(2)\n",
    "esDivisiblePor7 = divisible(7)\n",
    "\n",
    "print(esDivisiblePor2(6))\n",
    "print(esDivisiblePor7(22))"
   ]
  },
  {
   "cell_type": "code",
   "execution_count": 96,
   "metadata": {
    "colab": {
     "base_uri": "https://localhost:8080/"
    },
    "executionInfo": {
     "elapsed": 266,
     "status": "ok",
     "timestamp": 1644338197835,
     "user": {
      "displayName": "Carlos Bienvenido Ogando Montás",
      "photoUrl": "https://lh3.googleusercontent.com/a-/AOh14GijKyYoToykx6u4b8sedClwYYCHtapqy8B7uF0l=s64",
      "userId": "10505299496410393010"
     },
     "user_tz": 240
    },
    "id": "Md-_eYsiQkqe",
    "outputId": "7bf0fcc1-e321-4a7d-d1d6-409c308ec633"
   },
   "outputs": [
    {
     "name": "stdout",
     "output_type": "stream",
     "text": [
      "El nombre de esta función es: analisis\n",
      "Sus argumentos son: (corutina)\n"
     ]
    }
   ],
   "source": [
    "# Funciones que reciben funciones de parámetros\n",
    "\n",
    "from inspect import signature as ins\n",
    "\n",
    "def analizar_funcion(funcion):\n",
    "  print(\"El nombre de esta función es:\", funcion.__name__)\n",
    "  args = ins(funcion)\n",
    "  print(\"Sus argumentos son:\", args)\n",
    "\n",
    "analizar_funcion(analisis)"
   ]
  },
  {
   "cell_type": "code",
   "execution_count": 97,
   "metadata": {
    "colab": {
     "base_uri": "https://localhost:8080/"
    },
    "executionInfo": {
     "elapsed": 208,
     "status": "ok",
     "timestamp": 1644338416380,
     "user": {
      "displayName": "Carlos Bienvenido Ogando Montás",
      "photoUrl": "https://lh3.googleusercontent.com/a-/AOh14GijKyYoToykx6u4b8sedClwYYCHtapqy8B7uF0l=s64",
      "userId": "10505299496410393010"
     },
     "user_tz": 240
    },
    "id": "2FT7gYAZWSbG",
    "outputId": "88740b56-997d-46e5-f10a-3338100191c9"
   },
   "outputs": [
    {
     "name": "stdout",
     "output_type": "stream",
     "text": [
      "Empecé a hacer algo\n",
      "Muy bien!\n",
      "Terminé de hacer algo\n"
     ]
    }
   ],
   "source": [
    "# Creación de un decorador básico\n",
    "\n",
    "def decorador(funcion):\n",
    "\n",
    "  def empotrar_f(): # Transformamos la función a una versión decorada\n",
    "    print(\"Empecé a hacer algo\")\n",
    "    funcion()\n",
    "    print(\"Terminé de hacer algo\")\n",
    "\n",
    "  return empotrar_f # Devolvemos la función con una versión decorada\n",
    "\n",
    "def afirmar():\n",
    "  print(\"Muy bien!\")\n",
    "\n",
    "afirmar_decorado = decorador(afirmar)\n",
    "\n",
    "#afirmar()\n",
    "afirmar_decorado()"
   ]
  },
  {
   "cell_type": "code",
   "execution_count": 98,
   "metadata": {
    "colab": {
     "base_uri": "https://localhost:8080/"
    },
    "executionInfo": {
     "elapsed": 210,
     "status": "ok",
     "timestamp": 1644338575703,
     "user": {
      "displayName": "Carlos Bienvenido Ogando Montás",
      "photoUrl": "https://lh3.googleusercontent.com/a-/AOh14GijKyYoToykx6u4b8sedClwYYCHtapqy8B7uF0l=s64",
      "userId": "10505299496410393010"
     },
     "user_tz": 240
    },
    "id": "3WLGAJJuZWwi",
    "outputId": "b8bb7852-8aea-4022-9943-1a0d550a9e95"
   },
   "outputs": [
    {
     "name": "stdout",
     "output_type": "stream",
     "text": [
      "Empecé a hacer algo\n",
      "¡Buenos días Vivian!\n",
      "Terminé de hacer algo\n"
     ]
    }
   ],
   "source": [
    "# Creación de un decorador para funciones con cualquier tipo de parámetros\n",
    "\n",
    "def decorador(funcion):\n",
    "\n",
    "  def empotrar_f(*args, **kwargs): # Transformamos la función a una versión decorada\n",
    "    print(\"Empecé a hacer algo\")\n",
    "    funcion(*args, **kwargs)\n",
    "    print(\"Terminé de hacer algo\")\n",
    "\n",
    "  return empotrar_f # Devolvemos la función con una versión decorada\n",
    "\n",
    "saludar_decorado = decorador(saludar)\n",
    "\n",
    "saludar_decorado(\"Vivian\", 13)"
   ]
  },
  {
   "cell_type": "code",
   "execution_count": 99,
   "metadata": {
    "colab": {
     "base_uri": "https://localhost:8080/"
    },
    "executionInfo": {
     "elapsed": 1220,
     "status": "ok",
     "timestamp": 1623771742994,
     "user": {
      "displayName": "Carlos Bienvenido Ogando Montás",
      "photoUrl": "https://lh3.googleusercontent.com/a-/AOh14GijKyYoToykx6u4b8sedClwYYCHtapqy8B7uF0l=s64",
      "userId": "10505299496410393010"
     },
     "user_tz": 240
    },
    "id": "9w-GzvXfZ010",
    "outputId": "731217a2-e0ce-43c7-b94d-0c45a288286e"
   },
   "outputs": [
    {
     "name": "stdout",
     "output_type": "stream",
     "text": [
      "El nombre de esta función es: negar\n",
      "Es falso que las manzanas vuelan\n",
      "Esta función tardó en ejecutarse: 1.0003833770751953 segundos\n"
     ]
    }
   ],
   "source": [
    "# Uso de más de un decorador en una función\n",
    "# (Para esto usamos del decorador @wraps())\n",
    "\n",
    "from functools import wraps\n",
    "import time\n",
    "\n",
    "def nombre(funcion):\n",
    "\n",
    "  @wraps(funcion)\n",
    "  def empotrar_f(*args, **kwargs):\n",
    "    print(\"El nombre de esta función es:\", funcion.__name__)\n",
    "    funcion(*args, **kwargs)\n",
    "\n",
    "  return empotrar_f\n",
    "\n",
    "def tiempo(funcion):\n",
    "\n",
    "  @wraps(funcion)\n",
    "  def empotrar_f(*args, **kwargs):\n",
    "    t1 = time.time()\n",
    "    funcion(*args, **kwargs)\n",
    "    t2 = time.time()\n",
    "    return print(\"Esta función tardó en ejecutarse:\", t2 - t1, \"segundos\")\n",
    "\n",
    "  return empotrar_f\n",
    "\n",
    "@tiempo\n",
    "@nombre\n",
    "def negar(proposicion):\n",
    "  time.sleep(1)\n",
    "  print(\"Es falso que\", proposicion)\n",
    "\n",
    "negar(\"las manzanas vuelan\")"
   ]
  },
  {
   "cell_type": "markdown",
   "metadata": {
    "id": "nPR_0cgjekMl"
   },
   "source": [
    "# Clases"
   ]
  },
  {
   "cell_type": "code",
   "execution_count": 100,
   "metadata": {
    "colab": {
     "base_uri": "https://localhost:8080/"
    },
    "executionInfo": {
     "elapsed": 171,
     "status": "ok",
     "timestamp": 1623854765633,
     "user": {
      "displayName": "Carlos Bienvenido Ogando Montás",
      "photoUrl": "https://lh3.googleusercontent.com/a-/AOh14GijKyYoToykx6u4b8sedClwYYCHtapqy8B7uF0l=s64",
      "userId": "10505299496410393010"
     },
     "user_tz": 240
    },
    "id": "xbCX3h4verCX",
    "outputId": "b2407cb0-2b1e-4edd-96d4-cf0acb6098e2"
   },
   "outputs": [
    {
     "name": "stdout",
     "output_type": "stream",
     "text": [
      "Área: 113.04\n",
      "Circunferencia: 37.68\n",
      "3.14\n"
     ]
    }
   ],
   "source": [
    "# Creación de una clase\n",
    "\n",
    "class Circulo():\n",
    "\n",
    "  pi = 3.14\n",
    "\n",
    "  @staticmethod\n",
    "  def value_of_pi():\n",
    "    return Circulo.pi\n",
    "\n",
    "  def __init__(self, radio):\n",
    "    self.radio = radio\n",
    "\n",
    "  def area(self):\n",
    "    return pow(self.radio, 2) * self.pi\n",
    "\n",
    "  def circunferencia(self):\n",
    "    return 2 * self.pi * self.radio\n",
    "\n",
    "circ1 = Circulo(6)\n",
    "\n",
    "print(\"Área:\", circ1.area())\n",
    "print(\"Circunferencia:\", circ1.circunferencia())\n",
    "print(Circulo.value_of_pi())\n"
   ]
  },
  {
   "cell_type": "code",
   "execution_count": 101,
   "metadata": {
    "colab": {
     "base_uri": "https://localhost:8080/"
    },
    "executionInfo": {
     "elapsed": 206,
     "status": "ok",
     "timestamp": 1623688906790,
     "user": {
      "displayName": "Carlos Bienvenido Ogando Montás",
      "photoUrl": "https://lh3.googleusercontent.com/a-/AOh14GijKyYoToykx6u4b8sedClwYYCHtapqy8B7uF0l=s64",
      "userId": "10505299496410393010"
     },
     "user_tz": 240
    },
    "id": "gQkmsIzyhvAX",
    "outputId": "3c5d1921-fd2f-4b22-9f58-c4738b2a0391"
   },
   "outputs": [
    {
     "name": "stdout",
     "output_type": "stream",
     "text": [
      "Nombre completo: Laura Baez\n",
      "Edad: 5 años\n",
      "Ocupación: sin ocupación\n",
      "\n",
      "Nombre completo: Carlos Ogando\n",
      "Edad: 18 años\n",
      "Ocupación: estudiante\n",
      "Estado académico: Bueno\n",
      "\n",
      "Nombre completo: Juan Pérez\n",
      "Edad: 29 años\n",
      "Ocupación: empleado\n",
      "150000\n"
     ]
    }
   ],
   "source": [
    "# Herencia simple de clases\n",
    "\n",
    "class Persona():\n",
    "\n",
    "  def __init__(self, nombre, apellido, edad, ocupacion=\"sin ocupación\"):\n",
    "    self.nombre = nombre\n",
    "    self.apellido = apellido\n",
    "    self.edad = edad\n",
    "    self.ocupacion = ocupacion\n",
    "\n",
    "  def info(self):\n",
    "    print(\"Nombre completo:\", self.nombre, self.apellido)\n",
    "    print(\"Edad:\", self.edad, \"años\")\n",
    "    print(\"Ocupación:\", self.ocupacion)\n",
    "\n",
    "class Estudiante(Persona):\n",
    "\n",
    "  def __init__(self, nombre, apellido, edad, universidad, indice):\n",
    "    Persona.__init__(self, nombre, apellido, edad, ocupacion=\"estudiante\")\n",
    "    self.universidad = universidad\n",
    "    self.indice = indice\n",
    "\n",
    "  def estado_academico(self):\n",
    "    return \"Estado académico: \" + \"Bueno\" if self.indice >= 3.0 else \"Normal\"\n",
    "\n",
    "class Empleado(Persona):\n",
    "\n",
    "  def __init__(self, nombre, apellido, edad, salario):\n",
    "    Persona.__init__(self, nombre, apellido, edad, ocupacion=\"empleado\")\n",
    "    self.salario = salario\n",
    "\n",
    "  def doble_sueldo(self):\n",
    "    return self.salario * 2\n",
    "\n",
    "est1 = Estudiante(\"Carlos\", \"Ogando\", 18, \"UNIBE\", 3.0)\n",
    "emp1 = Empleado(\"Juan\", \"Pérez\", 29, 75000)\n",
    "per1 = Persona(\"Laura\", \"Baez\", 5)\n",
    "\n",
    "per1.info()\n",
    "print(\"\")\n",
    "est1.info()\n",
    "print(est1.estado_academico())\n",
    "print(\"\")\n",
    "emp1.info()\n",
    "print(emp1.doble_sueldo())"
   ]
  },
  {
   "cell_type": "code",
   "execution_count": 102,
   "metadata": {
    "colab": {
     "base_uri": "https://localhost:8080/"
    },
    "executionInfo": {
     "elapsed": 205,
     "status": "ok",
     "timestamp": 1623688986786,
     "user": {
      "displayName": "Carlos Bienvenido Ogando Montás",
      "photoUrl": "https://lh3.googleusercontent.com/a-/AOh14GijKyYoToykx6u4b8sedClwYYCHtapqy8B7uF0l=s64",
      "userId": "10505299496410393010"
     },
     "user_tz": 240
    },
    "id": "xqoN6mjYmCYE",
    "outputId": "2d8ffc53-d2bb-4923-c539-51f621a19d1a"
   },
   "outputs": [
    {
     "name": "stdout",
     "output_type": "stream",
     "text": [
      "Nombre completo: Laura Tavarez\n",
      "Edad: 24 años\n",
      "Ocupación: empleado\n",
      "24000\n",
      "Estado académico: Bueno\n",
      "100\n"
     ]
    }
   ],
   "source": [
    "# Herencia múltiple de clases\n",
    "\n",
    "class Pasante(Estudiante, Empleado):\n",
    "\n",
    "  def __init__(self, nombre, apellido, edad, salario, universidad, indice, horas_pasantia):\n",
    "    Estudiante.__init__(self, nombre, apellido, edad, universidad, indice)\n",
    "    Empleado.__init__(self, nombre, apellido, edad, salario)\n",
    "    self.horas_pasantia = horas_pasantia\n",
    "\n",
    "pas1 = Pasante(\"Laura\", \"Tavarez\", 24, 12000, \"UASD\", 3.4, 100)\n",
    "\n",
    "pas1.info()\n",
    "print(pas1.doble_sueldo())\n",
    "print(pas1.estado_academico())\n",
    "print(pas1.horas_pasantia)\n"
   ]
  },
  {
   "cell_type": "code",
   "execution_count": 103,
   "metadata": {
    "colab": {
     "base_uri": "https://localhost:8080/"
    },
    "executionInfo": {
     "elapsed": 179,
     "status": "ok",
     "timestamp": 1623855257112,
     "user": {
      "displayName": "Carlos Bienvenido Ogando Montás",
      "photoUrl": "https://lh3.googleusercontent.com/a-/AOh14GijKyYoToykx6u4b8sedClwYYCHtapqy8B7uF0l=s64",
      "userId": "10505299496410393010"
     },
     "user_tz": 240
    },
    "id": "geTGYp7llsr-",
    "outputId": "a29cc602-57ed-4658-e88a-299d0782ea88"
   },
   "outputs": [
    {
     "name": "stdout",
     "output_type": "stream",
     "text": [
      "TR: 13 8 14\n"
     ]
    }
   ],
   "source": [
    "# Dunders o métodos mágicos de clases en Python\n",
    "\n",
    "class Triangulo():\n",
    "\n",
    "  def __init__(self, lado1, lado2, lado3): # Constructor de la clase\n",
    "    self.lado1 = lado1\n",
    "    self.lado2 = lado2\n",
    "    self.lado3 = lado3\n",
    "\n",
    "  def __str__(self):                     # Representación de la variable\n",
    "    texto = \"TR: \" + str(self.lado1) + \" \" + str(self.lado2) + \" \" + str(self.lado3)\n",
    "    return texto\n",
    "\n",
    "  def __add__(self, other):             # Operador de suma\n",
    "    if type(other) == int:\n",
    "      self.lado1 += other\n",
    "      self.lado2 += other\n",
    "      self.lado3 += other\n",
    "    elif type(other) == Triangulo:\n",
    "      self.lado1 += other.lado1\n",
    "      self.lado2 += other.lado2\n",
    "      self.lado3 += other.lado3\n",
    "    else:\n",
    "      raise Exception(\"You must add only triangules and integers.\")\n",
    "    return self\n",
    "\n",
    "tr1 = Triangulo(9, 7, 6)\n",
    "tr2 = Triangulo(4, 1, 8)\n",
    "print(tr1 + tr2)\n"
   ]
  },
  {
   "cell_type": "markdown",
   "metadata": {
    "id": "TlJyl4mEt8jt"
   },
   "source": [
    "# Librerías"
   ]
  },
  {
   "cell_type": "code",
   "execution_count": 104,
   "metadata": {
    "id": "5rE9DLNluACq"
   },
   "outputs": [],
   "source": [
    "# Importar librerías\n",
    "\n",
    "import random\n",
    "\n",
    "# Importar un módulo/función/constante de una librería\n",
    "\n",
    "from math import sin\n",
    "\n",
    "# Importar con pseudónimo\n",
    "\n",
    "import datetime as dt\n",
    "\n",
    "# Algunas de las más usadas son random, math, functools, collections,\n",
    "# time, datetime..."
   ]
  },
  {
   "cell_type": "code",
   "execution_count": 105,
   "metadata": {
    "colab": {
     "base_uri": "https://localhost:8080/",
     "height": 68
    },
    "executionInfo": {
     "elapsed": 332,
     "status": "ok",
     "timestamp": 1594940024528,
     "user": {
      "displayName": "Carlos Bienvenido Ogando Montás",
      "photoUrl": "https://lh3.googleusercontent.com/a-/AOh14GiBvHyi5qhJa5gIiMfL_Ie_pqFzn36n5ZyH2GW7=s64",
      "userId": "10505299496410393010"
     },
     "user_tz": 240
    },
    "id": "JPmMH-lEuSni",
    "outputId": "c2a557dc-7ecf-4013-87a1-8357edf2cf82"
   },
   "outputs": [
    {
     "name": "stdout",
     "output_type": "stream",
     "text": [
      "B\n",
      "678\n",
      "0.04478614039906581\n"
     ]
    }
   ],
   "source": [
    "# La librería random\n",
    "\n",
    "import random as rnd\n",
    "\n",
    "print(rnd.choice([\"A\", \"B\", \"C\", \"D\", \"E\"]))\n",
    "print(rnd.randint(100, 1000))\n",
    "print(rnd.random())"
   ]
  },
  {
   "cell_type": "code",
   "execution_count": 106,
   "metadata": {
    "colab": {
     "base_uri": "https://localhost:8080/",
     "height": 88
    },
    "executionInfo": {
     "elapsed": 332,
     "status": "ok",
     "timestamp": 1594945375329,
     "user": {
      "displayName": "Carlos Bienvenido Ogando Montás",
      "photoUrl": "https://lh3.googleusercontent.com/a-/AOh14GiBvHyi5qhJa5gIiMfL_Ie_pqFzn36n5ZyH2GW7=s64",
      "userId": "10505299496410393010"
     },
     "user_tz": 240
    },
    "id": "q4z7zW0A1YM9",
    "outputId": "ad9b4409-2e64-46d8-d030-e4c0d2fa31b1"
   },
   "outputs": [
    {
     "name": "stdout",
     "output_type": "stream",
     "text": [
      "defaultdict(<class 'list'>, {'Ruth': ['Verde', 'Azul'], 'Carmen': ['Rojo'], 'Pablo': ['Blanco', 'Amarillo']})\n",
      "Counter({'Ruth': 2, 'Pablo': 2, 'Carmen': 1})\n",
      "2\n"
     ]
    }
   ],
   "source": [
    "# Las librería collections\n",
    "\n",
    "from collections import defaultdict, Counter, namedtuple\n",
    "\n",
    "# Default Dict\n",
    "\n",
    "colores = ((\"Ruth\", \"Verde\"),(\"Carmen\", \"Rojo\"),(\"Pablo\", \"Blanco\"), (\"Ruth\", \"Azul\"), (\"Pablo\", \"Amarillo\"))\n",
    "colores_favoritos = defaultdict(list)\n",
    "\n",
    "for persona, color in colores:\n",
    "  colores_favoritos[persona].append(color)\n",
    "\n",
    "print(colores_favoritos)\n",
    "\n",
    "# Counter\n",
    "\n",
    "print(Counter(nombre for nombre, color in colores))\n",
    "\n",
    "# Named Tuple\n",
    "\n",
    "Animal = namedtuple('Animal', 'nombre edad tipo')\n",
    "ali = Animal(nombre=\"Ali\", edad=15, tipo=\"gato\")\n",
    "capitan = Animal(nombre=\"Capitán\", edad=2, tipo=\"cachorro\")\n",
    "trampolin = Animal(nombre=\"Trampolín\", edad=3, tipo=\"pichón\")\n",
    "cereza = Animal(nombre=\"Cereza\", edad=10, tipo=\"paloma\")\n",
    "ruford = Animal(nombre=\"Ruford\", edad=11, tipo=\"perro\")\n",
    "\n",
    "print(capitan.edad)\n"
   ]
  }
 ],
 "metadata": {
  "colab": {
   "authorship_tag": "ABX9TyMiNGtbN6ebuW0soPktC+FH",
   "collapsed_sections": [
    "hiBET3opVQlM",
    "2jSKFVy2g-mM",
    "V4kvrvdVir_B",
    "hQo1j5icv2NK",
    "5yG4xKLCsmc7",
    "UN8bdDTo_0hg",
    "nPR_0cgjekMl",
    "TlJyl4mEt8jt"
   ],
   "provenance": [],
   "toc_visible": true
  },
  "kernelspec": {
   "display_name": "sandbox",
   "language": "python",
   "name": "python3"
  },
  "language_info": {
   "codemirror_mode": {
    "name": "ipython",
    "version": 3
   },
   "file_extension": ".py",
   "mimetype": "text/x-python",
   "name": "python",
   "nbconvert_exporter": "python",
   "pygments_lexer": "ipython3",
   "version": "3.11.7"
  }
 },
 "nbformat": 4,
 "nbformat_minor": 0
}
