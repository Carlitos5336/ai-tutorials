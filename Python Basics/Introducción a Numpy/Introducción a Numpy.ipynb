{
 "cells": [
  {
   "cell_type": "markdown",
   "metadata": {
    "colab_type": "text",
    "id": "563HM-22gb9l"
   },
   "source": [
    "**Pasos iniciales**"
   ]
  },
  {
   "cell_type": "code",
   "execution_count": 1,
   "metadata": {
    "colab": {},
    "colab_type": "code",
    "id": "xFk_FixBdkM3"
   },
   "outputs": [],
   "source": [
    "# pip install numpy\n",
    "import numpy as np"
   ]
  },
  {
   "cell_type": "markdown",
   "metadata": {
    "colab_type": "text",
    "id": "LiZ9kEdbgmru"
   },
   "source": [
    "**Aspectos básicos**"
   ]
  },
  {
   "cell_type": "code",
   "execution_count": 2,
   "metadata": {
    "colab": {
     "base_uri": "https://localhost:8080/",
     "height": 171
    },
    "colab_type": "code",
    "executionInfo": {
     "elapsed": 532,
     "status": "ok",
     "timestamp": 1594498787125,
     "user": {
      "displayName": "Carlos Bienvenido Ogando Montás",
      "photoUrl": "https://lh3.googleusercontent.com/a-/AOh14GiBvHyi5qhJa5gIiMfL_Ie_pqFzn36n5ZyH2GW7=s64",
      "userId": "10505299496410393010"
     },
     "user_tz": 240
    },
    "id": "m0KO8xPAgvIT",
    "outputId": "33cd8e6b-9401-44c8-8438-d207c563bd36"
   },
   "outputs": [
    {
     "name": "stdout",
     "output_type": "stream",
     "text": [
      "[[2 6 1]\n",
      " [7 7 7]\n",
      " [8 4 5]]\n",
      "La dimensión es: 2\n",
      "El orden o forma es: (3, 3)\n",
      "El tipo de dato es: int32\n",
      "La cantidad de datos es: 9\n",
      "El número de bytes por celda es: 4\n",
      "El número total de bytes es: 36\n"
     ]
    }
   ],
   "source": [
    "# Creación de arrays\n",
    "a = np.array([[2, 6, 1],[7, 7, 7],[8, 4, 5]], dtype='int32') # Cada byte tiene 8 bits\n",
    "print(a)\n",
    "\n",
    "# Obtener número de dimensiones\n",
    "print(\"La dimensión es:\", a.ndim)\n",
    "\n",
    "# Obtener el orden\n",
    "print(\"El orden o forma es:\", a.shape)\n",
    "\n",
    "# Obtener tipo de dato\n",
    "print(\"El tipo de dato es:\", a.dtype)\n",
    "\n",
    "# Obtener la cantidad de datos\n",
    "print(\"La cantidad de datos es:\", a.size)\n",
    "\n",
    "# Obtener tamaño en bytes\n",
    "print(\"El número de bytes por celda es:\", a.itemsize)\n",
    "print(\"El número total de bytes es:\", a.nbytes)\n"
   ]
  },
  {
   "cell_type": "markdown",
   "metadata": {
    "colab_type": "text",
    "id": "yWH1gDB3iQ_0"
   },
   "source": [
    "**Lectura/escritura de elementos, filas o columnas**"
   ]
  },
  {
   "cell_type": "code",
   "execution_count": 3,
   "metadata": {
    "colab": {
     "base_uri": "https://localhost:8080/",
     "height": 274
    },
    "colab_type": "code",
    "executionInfo": {
     "elapsed": 422,
     "status": "ok",
     "timestamp": 1594499348774,
     "user": {
      "displayName": "Carlos Bienvenido Ogando Montás",
      "photoUrl": "https://lh3.googleusercontent.com/a-/AOh14GiBvHyi5qhJa5gIiMfL_Ie_pqFzn36n5ZyH2GW7=s64",
      "userId": "10505299496410393010"
     },
     "user_tz": 240
    },
    "id": "1c-JxBYtiV6H",
    "outputId": "d1083fe5-497d-4da3-e1cf-f7f7d087d439"
   },
   "outputs": [
    {
     "name": "stdout",
     "output_type": "stream",
     "text": [
      "[[2 5 3 9 8]\n",
      " [7 3 4 2 8]\n",
      " [1 3 1 0 6]]\n",
      "4\n",
      "[8 8 6]\n",
      "[3 4 1]\n",
      "[2 5 3 9 8]\n",
      "[1 3 1 0 6]\n",
      "[[2 5 3 9]\n",
      " [7 3 4 2]]\n",
      "[[4 2 8]\n",
      " [1 0 6]]\n",
      "[[0 0 0 0 0]\n",
      " [7 3 4 2 0]\n",
      " [1 3 1 0 0]]\n"
     ]
    }
   ],
   "source": [
    "b = np.array([[2, 5, 3, 9, 8],[7, 3, 4, 2, 8],[1, 3, 1, 0, 6]])\n",
    "print(b)\n",
    "\n",
    "# Lectura de elemento\n",
    "print(b[1,2])\n",
    "\n",
    "# Lectura de una columna\n",
    "# Sintaxis de indexado ==> arreglo[fila,columna] ==> [fila or columna](startindex:endindex)\n",
    "print(b[:,-1])\n",
    "print(b[:,2])\n",
    "\n",
    "# Lectura de una fila\n",
    "print(b[0,:])\n",
    "print(b[-1,:])\n",
    "\n",
    "# Lectura más específica\n",
    "print(b[0:2,:-1])\n",
    "print(b[1:,2:])\n",
    "\n",
    "# Reemplazar datos\n",
    "b[0,:] = 0\n",
    "b[:,-1] = 0\n",
    "print(b)"
   ]
  },
  {
   "cell_type": "markdown",
   "metadata": {
    "colab_type": "text",
    "id": "F8YvMOYzkZp2"
   },
   "source": [
    "**Arrays predeterminados de NumPy**"
   ]
  },
  {
   "cell_type": "code",
   "execution_count": 4,
   "metadata": {
    "colab": {
     "base_uri": "https://localhost:8080/",
     "height": 103
    },
    "colab_type": "code",
    "executionInfo": {
     "elapsed": 332,
     "status": "ok",
     "timestamp": 1594499434492,
     "user": {
      "displayName": "Carlos Bienvenido Ogando Montás",
      "photoUrl": "https://lh3.googleusercontent.com/a-/AOh14GiBvHyi5qhJa5gIiMfL_Ie_pqFzn36n5ZyH2GW7=s64",
      "userId": "10505299496410393010"
     },
     "user_tz": 240
    },
    "id": "-CLMlAVmkdzF",
    "outputId": "a20cea7e-4bae-4f56-888b-d385d0e0b93b"
   },
   "outputs": [
    {
     "name": "stdout",
     "output_type": "stream",
     "text": [
      "[[0 0 0 0 0]\n",
      " [0 0 0 0 0]\n",
      " [0 0 0 0 0]\n",
      " [0 0 0 0 0]\n",
      " [0 0 0 0 0]]\n"
     ]
    }
   ],
   "source": [
    "# Array lleno de ceros\n",
    "ceros = np.zeros((5,5), dtype='int32')\n",
    "print(ceros)"
   ]
  },
  {
   "cell_type": "code",
   "execution_count": 5,
   "metadata": {
    "colab": {
     "base_uri": "https://localhost:8080/",
     "height": 86
    },
    "colab_type": "code",
    "executionInfo": {
     "elapsed": 536,
     "status": "ok",
     "timestamp": 1594499465444,
     "user": {
      "displayName": "Carlos Bienvenido Ogando Montás",
      "photoUrl": "https://lh3.googleusercontent.com/a-/AOh14GiBvHyi5qhJa5gIiMfL_Ie_pqFzn36n5ZyH2GW7=s64",
      "userId": "10505299496410393010"
     },
     "user_tz": 240
    },
    "id": "J-WBoI38kpVj",
    "outputId": "e857a140-7f28-4cfe-9823-92588f99d567"
   },
   "outputs": [
    {
     "name": "stdout",
     "output_type": "stream",
     "text": [
      "[[1 1 1 1 1 1]\n",
      " [1 1 1 1 1 1]\n",
      " [1 1 1 1 1 1]\n",
      " [1 1 1 1 1 1]]\n"
     ]
    }
   ],
   "source": [
    "# Array lleno de unos\n",
    "unos = np.ones((4, 6), dtype='int32')\n",
    "print(unos)"
   ]
  },
  {
   "cell_type": "code",
   "execution_count": 6,
   "metadata": {
    "colab": {
     "base_uri": "https://localhost:8080/",
     "height": 68
    },
    "colab_type": "code",
    "executionInfo": {
     "elapsed": 366,
     "status": "ok",
     "timestamp": 1594499508188,
     "user": {
      "displayName": "Carlos Bienvenido Ogando Montás",
      "photoUrl": "https://lh3.googleusercontent.com/a-/AOh14GiBvHyi5qhJa5gIiMfL_Ie_pqFzn36n5ZyH2GW7=s64",
      "userId": "10505299496410393010"
     },
     "user_tz": 240
    },
    "id": "QXTThlVQkxh2",
    "outputId": "b2c313b3-9a85-4dc6-8f7f-2008906943e0"
   },
   "outputs": [
    {
     "name": "stdout",
     "output_type": "stream",
     "text": [
      "[[10 10 10 10 10 10 10]\n",
      " [10 10 10 10 10 10 10]\n",
      " [10 10 10 10 10 10 10]]\n"
     ]
    }
   ],
   "source": [
    "# Array lleno de cualquier número\n",
    "lleno = np.full((3, 7), 10)\n",
    "print(lleno)"
   ]
  },
  {
   "cell_type": "code",
   "execution_count": 7,
   "metadata": {
    "colab": {
     "base_uri": "https://localhost:8080/",
     "height": 86
    },
    "colab_type": "code",
    "executionInfo": {
     "elapsed": 395,
     "status": "ok",
     "timestamp": 1594499565391,
     "user": {
      "displayName": "Carlos Bienvenido Ogando Montás",
      "photoUrl": "https://lh3.googleusercontent.com/a-/AOh14GiBvHyi5qhJa5gIiMfL_Ie_pqFzn36n5ZyH2GW7=s64",
      "userId": "10505299496410393010"
     },
     "user_tz": 240
    },
    "id": "z8c5iNH_k7hj",
    "outputId": "ae4de963-56a8-4755-af33-2542b2429cac"
   },
   "outputs": [
    {
     "name": "stdout",
     "output_type": "stream",
     "text": [
      "[[9 9 9 9 9 9]\n",
      " [9 9 9 9 9 9]\n",
      " [9 9 9 9 9 9]\n",
      " [9 9 9 9 9 9]]\n"
     ]
    }
   ],
   "source": [
    "# Arreglo lleno importando shape\n",
    "lleno_copia = np.full_like(unos, 9)\n",
    "print(lleno_copia)"
   ]
  },
  {
   "cell_type": "code",
   "execution_count": 8,
   "metadata": {
    "colab": {
     "base_uri": "https://localhost:8080/",
     "height": 103
    },
    "colab_type": "code",
    "executionInfo": {
     "elapsed": 384,
     "status": "ok",
     "timestamp": 1594499634076,
     "user": {
      "displayName": "Carlos Bienvenido Ogando Montás",
      "photoUrl": "https://lh3.googleusercontent.com/a-/AOh14GiBvHyi5qhJa5gIiMfL_Ie_pqFzn36n5ZyH2GW7=s64",
      "userId": "10505299496410393010"
     },
     "user_tz": 240
    },
    "id": "S6_af_Q_lMHr",
    "outputId": "b07ac9c1-a19c-417b-dbcc-74c3d960cda6"
   },
   "outputs": [
    {
     "name": "stdout",
     "output_type": "stream",
     "text": [
      "[[0.55611551 0.15416821 0.20713992 0.65344614 0.51795809]\n",
      " [0.98528674 0.70255034 0.3144559  0.53503181 0.06490406]\n",
      " [0.68655126 0.75790453 0.56465809 0.32865016 0.560621  ]\n",
      " [0.30179929 0.08568776 0.17002527 0.4922074  0.65106409]\n",
      " [0.70067635 0.78094953 0.51270873 0.37136396 0.26935532]]\n"
     ]
    }
   ],
   "source": [
    "# Arreglo lleno de números random entre cero y uno\n",
    "aleatorio = np.random.rand(5, 5)\n",
    "print(aleatorio)"
   ]
  },
  {
   "cell_type": "code",
   "execution_count": 9,
   "metadata": {
    "colab": {
     "base_uri": "https://localhost:8080/",
     "height": 68
    },
    "colab_type": "code",
    "executionInfo": {
     "elapsed": 382,
     "status": "ok",
     "timestamp": 1594499922194,
     "user": {
      "displayName": "Carlos Bienvenido Ogando Montás",
      "photoUrl": "https://lh3.googleusercontent.com/a-/AOh14GiBvHyi5qhJa5gIiMfL_Ie_pqFzn36n5ZyH2GW7=s64",
      "userId": "10505299496410393010"
     },
     "user_tz": 240
    },
    "id": "dVSsnIvclbm3",
    "outputId": "5b99ea3e-86d8-467c-ed75-af52aa36534e"
   },
   "outputs": [
    {
     "name": "stdout",
     "output_type": "stream",
     "text": [
      "[[77 87 89]\n",
      " [91 70 94]\n",
      " [83 80 57]]\n"
     ]
    }
   ],
   "source": [
    "# Arreglo lleno de números random entre un rango\n",
    "aleatorio_rango = np.random.randint(50, 100, size=(3, 3))\n",
    "print(aleatorio_rango)"
   ]
  },
  {
   "cell_type": "code",
   "execution_count": 10,
   "metadata": {
    "colab": {
     "base_uri": "https://localhost:8080/",
     "height": 103
    },
    "colab_type": "code",
    "executionInfo": {
     "elapsed": 399,
     "status": "ok",
     "timestamp": 1594499753977,
     "user": {
      "displayName": "Carlos Bienvenido Ogando Montás",
      "photoUrl": "https://lh3.googleusercontent.com/a-/AOh14GiBvHyi5qhJa5gIiMfL_Ie_pqFzn36n5ZyH2GW7=s64",
      "userId": "10505299496410393010"
     },
     "user_tz": 240
    },
    "id": "ZiqrsmSlltBj",
    "outputId": "a508f439-e7fe-4ec9-c70c-2ced72e78539"
   },
   "outputs": [
    {
     "name": "stdout",
     "output_type": "stream",
     "text": [
      "[[1 0 0 0 0]\n",
      " [0 1 0 0 0]\n",
      " [0 0 1 0 0]\n",
      " [0 0 0 1 0]\n",
      " [0 0 0 0 1]]\n"
     ]
    }
   ],
   "source": [
    "# Arreglo identidad\n",
    "identidad = np.identity(5, dtype='int32')\n",
    "print(identidad)"
   ]
  },
  {
   "cell_type": "code",
   "execution_count": 11,
   "metadata": {
    "colab": {
     "base_uri": "https://localhost:8080/",
     "height": 103
    },
    "colab_type": "code",
    "executionInfo": {
     "elapsed": 370,
     "status": "ok",
     "timestamp": 1594499887413,
     "user": {
      "displayName": "Carlos Bienvenido Ogando Montás",
      "photoUrl": "https://lh3.googleusercontent.com/a-/AOh14GiBvHyi5qhJa5gIiMfL_Ie_pqFzn36n5ZyH2GW7=s64",
      "userId": "10505299496410393010"
     },
     "user_tz": 240
    },
    "id": "s2EecEOfl30C",
    "outputId": "ec3b3477-badc-4f95-849b-bff89381e5e3"
   },
   "outputs": [
    {
     "name": "stdout",
     "output_type": "stream",
     "text": [
      "[[0 0 0 0 0 0 0 0 0 0]\n",
      " [1 0 0 0 0 0 0 0 0 0]\n",
      " [0 1 0 0 0 0 0 0 0 0]\n",
      " [0 0 1 0 0 0 0 0 0 0]\n",
      " [0 0 0 1 0 0 0 0 0 0]]\n"
     ]
    }
   ],
   "source": [
    "# Arreglo ojo\n",
    "ojo = np.eye(5, 10, -1, dtype='int32')\n",
    "print(ojo)"
   ]
  },
  {
   "cell_type": "code",
   "execution_count": 12,
   "metadata": {
    "colab": {
     "base_uri": "https://localhost:8080/",
     "height": 68
    },
    "colab_type": "code",
    "executionInfo": {
     "elapsed": 528,
     "status": "ok",
     "timestamp": 1594499952006,
     "user": {
      "displayName": "Carlos Bienvenido Ogando Montás",
      "photoUrl": "https://lh3.googleusercontent.com/a-/AOh14GiBvHyi5qhJa5gIiMfL_Ie_pqFzn36n5ZyH2GW7=s64",
      "userId": "10505299496410393010"
     },
     "user_tz": 240
    },
    "id": "sTgIt2SemNew",
    "outputId": "dc73d6ab-c52c-4948-e4b4-40940c0921da"
   },
   "outputs": [
    {
     "name": "stdout",
     "output_type": "stream",
     "text": [
      "[[77 77 77 87 87 87 89 89 89]\n",
      " [91 91 91 70 70 70 94 94 94]\n",
      " [83 83 83 80 80 80 57 57 57]]\n"
     ]
    }
   ],
   "source": [
    "# Arreglos repetidos\n",
    "repetido = np.repeat(aleatorio_rango, 3, axis=1)\n",
    "print(repetido)"
   ]
  },
  {
   "cell_type": "code",
   "execution_count": 13,
   "metadata": {
    "colab": {
     "base_uri": "https://localhost:8080/",
     "height": 291
    },
    "colab_type": "code",
    "executionInfo": {
     "elapsed": 794,
     "status": "ok",
     "timestamp": 1594500547671,
     "user": {
      "displayName": "Carlos Bienvenido Ogando Montás",
      "photoUrl": "https://lh3.googleusercontent.com/a-/AOh14GiBvHyi5qhJa5gIiMfL_Ie_pqFzn36n5ZyH2GW7=s64",
      "userId": "10505299496410393010"
     },
     "user_tz": 240
    },
    "id": "g_gW7hWsmoAC",
    "outputId": "1d1b0828-6ef9-4a5e-b5b2-892cef1eb7e6"
   },
   "outputs": [
    {
     "name": "stdout",
     "output_type": "stream",
     "text": [
      "[[2 2 2 8 8 8]\n",
      " [2 2 2 8 8 8]\n",
      " [8 8 8 8 8 8]\n",
      " [8 8 8 8 8 8]\n",
      " [8 8 8 4 4 4]\n",
      " [8 8 8 4 4 4]]\n",
      "[[0. 0. 0. 1. 1. 1.]\n",
      " [0. 2. 0. 1. 5. 1.]\n",
      " [0. 2. 0. 1. 5. 1.]\n",
      " [0. 0. 0. 1. 1. 1.]]\n",
      "[[3. 3. 1. 0. 0. 0.]\n",
      " [3. 3. 0. 1. 0. 0.]\n",
      " [3. 3. 0. 0. 1. 0.]\n",
      " [3. 3. 0. 0. 0. 1.]\n",
      " [3. 3. 7. 7. 7. 7.]\n",
      " [3. 3. 7. 7. 7. 7.]]\n"
     ]
    }
   ],
   "source": [
    "# EJEMPLO DE ESTE TEMA\n",
    "# Ejemplo 1\n",
    "matriz_1 = np.full((6,6), 8)\n",
    "matriz_1[0:2,0:3] = 2\n",
    "matriz_1[-2:,-3:] = 4\n",
    "\n",
    "print(matriz_1)\n",
    "\n",
    "#----------------------------\n",
    "# Ejemplo 2\n",
    "matriz_2a = np.zeros((4,3)) \n",
    "matriz_2a[1:3,1] = 2\n",
    "matriz_2b = np.ones((4,3))\n",
    "matriz_2b[1:3,1] = 5\n",
    "\n",
    "matriz_2 = np.hstack((matriz_2a, matriz_2b))\n",
    "\n",
    "print(matriz_2)\n",
    "\n",
    "#----------------------------\n",
    "# Ejemplo 3\n",
    "matriz_3a = np.full((6,2),3)\n",
    "matriz_3b = np.full((2,4),7)\n",
    "matriz_3c = np.identity(4)\n",
    "\n",
    "matriz_3 = np.hstack((matriz_3a, np.vstack((matriz_3c,matriz_3b))))\n",
    "\n",
    "print(matriz_3)\n"
   ]
  },
  {
   "cell_type": "markdown",
   "metadata": {
    "colab_type": "text",
    "id": "Ku-jQta5pDYK"
   },
   "source": [
    "**Operaciones aritméticas básicas**"
   ]
  },
  {
   "cell_type": "code",
   "execution_count": 14,
   "metadata": {
    "colab": {
     "base_uri": "https://localhost:8080/",
     "height": 428
    },
    "colab_type": "code",
    "executionInfo": {
     "elapsed": 533,
     "status": "ok",
     "timestamp": 1594500752942,
     "user": {
      "displayName": "Carlos Bienvenido Ogando Montás",
      "photoUrl": "https://lh3.googleusercontent.com/a-/AOh14GiBvHyi5qhJa5gIiMfL_Ie_pqFzn36n5ZyH2GW7=s64",
      "userId": "10505299496410393010"
     },
     "user_tz": 240
    },
    "id": "BibomEcKpIBN",
    "outputId": "a47a3f1c-f0d1-4c59-c866-f857ade44012"
   },
   "outputs": [
    {
     "name": "stdout",
     "output_type": "stream",
     "text": [
      "[[0 1 3]\n",
      " [5 2 6]\n",
      " [9 4 7]]\n",
      "[[ 2  3  5]\n",
      " [ 7  4  8]\n",
      " [11  6  9]]\n",
      "[[-2 -1  1]\n",
      " [ 3  0  4]\n",
      " [ 7  2  5]]\n",
      "[[ 0  2  6]\n",
      " [10  4 12]\n",
      " [18  8 14]]\n",
      "[[0.  0.5 1.5]\n",
      " [2.5 1.  3. ]\n",
      " [4.5 2.  3.5]]\n",
      "[[ 0  1  9]\n",
      " [25  4 36]\n",
      " [81 16 49]]\n",
      "[[0.         1.         1.73205081]\n",
      " [2.23606798 1.41421356 2.44948974]\n",
      " [3.         2.         2.64575131]]\n",
      "[[ 0.          0.84147098  0.14112001]\n",
      " [-0.95892427  0.90929743 -0.2794155 ]\n",
      " [ 0.41211849 -0.7568025   0.6569866 ]]\n"
     ]
    }
   ],
   "source": [
    "operacion = np.array([[0, 1, 3],[5, 2, 6],[9, 4, 7]])\n",
    "print(operacion)\n",
    "\n",
    "# Suma\n",
    "print(operacion + 2)\n",
    "# Resta\n",
    "print(operacion - 2)\n",
    "# Multiplicar\n",
    "print(operacion * 2)\n",
    "# Dividir\n",
    "print(operacion / 2)\n",
    "# Potencia\n",
    "print(pow(operacion, 2))\n",
    "# Raiz\n",
    "print(np.sqrt(operacion))\n",
    "# Seno\n",
    "print(np.sin(operacion))\n"
   ]
  },
  {
   "cell_type": "markdown",
   "metadata": {
    "colab_type": "text",
    "id": "Mm_-1wB5pv4p"
   },
   "source": [
    "**Operaciones de Álgebra Lineal**"
   ]
  },
  {
   "cell_type": "code",
   "execution_count": 15,
   "metadata": {
    "colab": {
     "base_uri": "https://localhost:8080/",
     "height": 240
    },
    "colab_type": "code",
    "executionInfo": {
     "elapsed": 422,
     "status": "ok",
     "timestamp": 1594501148123,
     "user": {
      "displayName": "Carlos Bienvenido Ogando Montás",
      "photoUrl": "https://lh3.googleusercontent.com/a-/AOh14GiBvHyi5qhJa5gIiMfL_Ie_pqFzn36n5ZyH2GW7=s64",
      "userId": "10505299496410393010"
     },
     "user_tz": 240
    },
    "id": "Iz6SbC5op27U",
    "outputId": "c42bf817-dc60-4a1e-ead8-f795f5f507b8"
   },
   "outputs": [
    {
     "name": "stdout",
     "output_type": "stream",
     "text": [
      "[[1 2]\n",
      " [5 0]\n",
      " [9 8]] (3, 2)\n",
      "[[32 24]\n",
      " [69 58]\n",
      " [92 74]]\n",
      "25.000000000000007\n",
      "[[-0.4   0.2   0.  ]\n",
      " [ 0.76 -1.08  0.6 ]\n",
      " [ 0.08  0.36 -0.2 ]]\n",
      "[12.5154557  -2.80275276 -0.71270294]\n",
      "29\n",
      "[21  3 -9]\n"
     ]
    }
   ],
   "source": [
    "algebra = np.array([[1, 2],[5, 0],[9, 8]])\n",
    "print(algebra, algebra.shape)\n",
    "\n",
    "vector_1 = np.array([1, 2, 3])\n",
    "vector_2 = np.array([4, -1, 9])\n",
    "\n",
    "# Multiplicación de matrices\n",
    "print(np.matmul(operacion, algebra))\n",
    "# Hallar determinante\n",
    "print(np.linalg.det(operacion))\n",
    "# Hallar inversa\n",
    "print(np.linalg.inv(operacion))\n",
    "# Hallar eigenvalores\n",
    "print(np.linalg.eigvals(operacion)) \n",
    "# Hallar el producto punto o producto cruz de vectores\n",
    "print(np.dot(vector_1, vector_2))\n",
    "print(np.cross(vector_1, vector_2))"
   ]
  },
  {
   "cell_type": "markdown",
   "metadata": {
    "colab_type": "text",
    "id": "qj6DWfT1rPch"
   },
   "source": [
    "**Operaciones básicas de estadística**"
   ]
  },
  {
   "cell_type": "code",
   "execution_count": 16,
   "metadata": {
    "colab": {
     "base_uri": "https://localhost:8080/",
     "height": 223
    },
    "colab_type": "code",
    "executionInfo": {
     "elapsed": 421,
     "status": "ok",
     "timestamp": 1594501513261,
     "user": {
      "displayName": "Carlos Bienvenido Ogando Montás",
      "photoUrl": "https://lh3.googleusercontent.com/a-/AOh14GiBvHyi5qhJa5gIiMfL_Ie_pqFzn36n5ZyH2GW7=s64",
      "userId": "10505299496410393010"
     },
     "user_tz": 240
    },
    "id": "u7tFd8y_rO4G",
    "outputId": "f77c8174-3280-4514-f473-e8bf280e03e0"
   },
   "outputs": [
    {
     "name": "stdout",
     "output_type": "stream",
     "text": [
      "[[ 1  2  8 10  3  6  2]\n",
      " [11 14  7 12 11 10  9]\n",
      " [ 0 -1  5  7  2  1 -1]]\n",
      "-1\n",
      "14\n",
      "[ 1  7 -1]\n",
      "[11 14  8 12 11 10  9]\n",
      "[ 4.57142857 10.57142857  1.85714286]\n",
      "[12 15 20 29 16 17 10]\n",
      "[    5760 12806640        0]\n",
      "6.0\n",
      "4.560005569475853\n"
     ]
    }
   ],
   "source": [
    "estadistica = np.array([[1, 2, 8, 10, 3, 6, 2],[11, 14, 7, 12, 11, 10, 9],[0, -1, 5, 7, 2, 1, -1]])\n",
    "print(estadistica)\n",
    "\n",
    "# Hallar máximos y mínimos en general\n",
    "print(np.min(estadistica))\n",
    "print(np.max(estadistica))\n",
    "\n",
    "# Hallar máximos y mínimos por columna, fila,...\n",
    "print(np.min(estadistica, axis=1))\n",
    "print(np.max(estadistica, axis=0))\n",
    "\n",
    "# Hallar promedios\n",
    "print(np.average(estadistica, axis=1))\n",
    "\n",
    "# Hallar suma\n",
    "print(np.sum(estadistica, axis=0))\n",
    "\n",
    "# Hallar el producto\n",
    "print(np.prod(estadistica, axis=1))\n",
    "\n",
    "# Hallar el mediana \n",
    "print(np.median(estadistica))\n",
    "\n",
    "# Hallar la desviación estándar\n",
    "print(np.std(estadistica))\n"
   ]
  },
  {
   "cell_type": "markdown",
   "metadata": {
    "colab_type": "text",
    "id": "3wR8mesYsucm"
   },
   "source": [
    "**Reorganizar arrays**"
   ]
  },
  {
   "cell_type": "code",
   "execution_count": 17,
   "metadata": {
    "colab": {
     "base_uri": "https://localhost:8080/",
     "height": 137
    },
    "colab_type": "code",
    "executionInfo": {
     "elapsed": 369,
     "status": "ok",
     "timestamp": 1594501784743,
     "user": {
      "displayName": "Carlos Bienvenido Ogando Montás",
      "photoUrl": "https://lh3.googleusercontent.com/a-/AOh14GiBvHyi5qhJa5gIiMfL_Ie_pqFzn36n5ZyH2GW7=s64",
      "userId": "10505299496410393010"
     },
     "user_tz": 240
    },
    "id": "6EuJoZkdsxBB",
    "outputId": "0e0c4909-2feb-4a95-d363-553b5bc4abd3"
   },
   "outputs": [
    {
     "name": "stdout",
     "output_type": "stream",
     "text": [
      "[[6 5 4 3 2 1]\n",
      " [1 2 3 4 5 6]\n",
      " [7 8 9 0 1 2]\n",
      " [6 7 8 9 3 4]] 24\n",
      "[[6 5 4 3 2 1 1 2]\n",
      " [3 4 5 6 7 8 9 0]\n",
      " [1 2 6 7 8 9 3 4]]\n"
     ]
    }
   ],
   "source": [
    "# PARA VER HSTACK Y VSTACK VER EJEMPLO DEL TEMA DE ARRAYS PREDETERMINADOS\n",
    "\n",
    "# Reshape\n",
    "\n",
    "reforma = np.array([[6, 5, 4, 3, 2, 1],[1, 2, 3, 4, 5, 6],[7, 8, 9, 0, 1, 2],[6, 7, 8, 9, 3, 4]])\n",
    "print(reforma, reforma.size)\n",
    "\n",
    "print(np.reshape(reforma, (3, 8)))"
   ]
  },
  {
   "cell_type": "markdown",
   "metadata": {
    "colab_type": "text",
    "id": "ewoNW714tqcD"
   },
   "source": [
    "**Leer datos externos**"
   ]
  },
  {
   "cell_type": "code",
   "execution_count": 18,
   "metadata": {
    "colab": {
     "base_uri": "https://localhost:8080/",
     "height": 103
    },
    "colab_type": "code",
    "executionInfo": {
     "elapsed": 423,
     "status": "ok",
     "timestamp": 1594501909380,
     "user": {
      "displayName": "Carlos Bienvenido Ogando Montás",
      "photoUrl": "https://lh3.googleusercontent.com/a-/AOh14GiBvHyi5qhJa5gIiMfL_Ie_pqFzn36n5ZyH2GW7=s64",
      "userId": "10505299496410393010"
     },
     "user_tz": 240
    },
    "id": "8nzIeZOPttLB",
    "outputId": "6145c836-250b-49c9-b57d-b186e947326c"
   },
   "outputs": [
    {
     "name": "stdout",
     "output_type": "stream",
     "text": [
      "[12 35 75 66 18 19 44 29 20]\n",
      "35.333333333333336\n"
     ]
    }
   ],
   "source": [
    "edades = np.genfromtxt('edades.txt', delimiter=',', dtype='int32')\n",
    "print(edades)\n",
    "\n",
    "print(np.average(edades))"
   ]
  },
  {
   "cell_type": "markdown",
   "metadata": {
    "colab_type": "text",
    "id": "UgttD-hTuNKK"
   },
   "source": [
    "**Indexado avanzado y máscaras booleanas**"
   ]
  },
  {
   "cell_type": "code",
   "execution_count": 20,
   "metadata": {
    "colab": {
     "base_uri": "https://localhost:8080/",
     "height": 154
    },
    "colab_type": "code",
    "executionInfo": {
     "elapsed": 685,
     "status": "ok",
     "timestamp": 1594502654329,
     "user": {
      "displayName": "Carlos Bienvenido Ogando Montás",
      "photoUrl": "https://lh3.googleusercontent.com/a-/AOh14GiBvHyi5qhJa5gIiMfL_Ie_pqFzn36n5ZyH2GW7=s64",
      "userId": "10505299496410393010"
     },
     "user_tz": 240
    },
    "id": "gq2EXHTOuSZ9",
    "outputId": "372c2b42-abd8-4c71-bb62-c6d6e6a3f014"
   },
   "outputs": [
    {
     "name": "stdout",
     "output_type": "stream",
     "text": [
      "Promedio: 35.333333333333336\n",
      "[12 18 19 29 20]\n",
      "True\n",
      "[]\n",
      "[12 35 75]\n"
     ]
    }
   ],
   "source": [
    "# Matrices y máscaras booleanas\n",
    "promedio = np.average(edades)\n",
    "edad_joven = 30\n",
    "edad_adultez = 18\n",
    "print(\"Promedio:\", promedio)\n",
    "mascara_1 = edades > promedio\n",
    "mascara_2 = edades <= edad_joven\n",
    "\n",
    "print(edades[mascara_2])\n",
    "\n",
    "# Any == OR\n",
    "print(np.any(edades <= edad_adultez, axis=0))\n",
    "\n",
    "# All = AND\n",
    "mascara_3 = np.all(edades >= edad_joven, axis=0)\n",
    "print(edades[:,mascara_3])\n",
    "\n",
    "# Indexado con listas\n",
    "print(edades[[0,1,2]])"
   ]
  },
  {
   "cell_type": "code",
   "execution_count": 21,
   "metadata": {
    "colab": {
     "base_uri": "https://localhost:8080/",
     "height": 360
    },
    "colab_type": "code",
    "executionInfo": {
     "elapsed": 407,
     "status": "ok",
     "timestamp": 1594503877243,
     "user": {
      "displayName": "Carlos Bienvenido Ogando Montás",
      "photoUrl": "https://lh3.googleusercontent.com/a-/AOh14GiBvHyi5qhJa5gIiMfL_Ie_pqFzn36n5ZyH2GW7=s64",
      "userId": "10505299496410393010"
     },
     "user_tz": 240
    },
    "id": "nljc2J8AxUyh",
    "outputId": "1a440819-0baa-4a1e-9943-98079493a2a2"
   },
   "outputs": [
    {
     "name": "stdout",
     "output_type": "stream",
     "text": [
      "[[1 2 2 1 2 2]\n",
      " [2 1 2 2 1 2]\n",
      " [2 2 1 2 2 1]\n",
      " [1 2 2 1 2 2]\n",
      " [2 1 2 2 1 2]\n",
      " [2 2 1 2 2 1]]\n",
      "[[9. 4. 4. 4. 1. 1.]\n",
      " [4. 9. 4. 4. 1. 1.]\n",
      " [4. 4. 9. 4. 1. 1.]\n",
      " [4. 4. 4. 9. 1. 1.]]\n",
      "[[0. 2. 4. 5. 6. 9.]\n",
      " [1. 0. 2. 4. 5. 6.]\n",
      " [3. 1. 0. 2. 4. 5.]\n",
      " [5. 3. 1. 0. 2. 4.]\n",
      " [9. 5. 3. 1. 0. 2.]\n",
      " [8. 9. 5. 3. 1. 0.]]\n",
      "[[2. 5. 6.]\n",
      " [0. 4. 5.]\n",
      " [9. 3. 1.]\n",
      " [5. 1. 0.]]\n"
     ]
    }
   ],
   "source": [
    "# EJEMPLOS DEL TEMA 9\n",
    "\n",
    "#Ejemplo 1\n",
    "c = np.full((6,6), 2)\n",
    "d = np.eye(6, 6, dtype='bool')\n",
    "e = np.eye(6, 6, 3, dtype='bool')\n",
    "f = np.eye(6, 6, -3, dtype='bool')\n",
    "\n",
    "c[d | e | f] = 1\n",
    "\n",
    "print(c)\n",
    "\n",
    "#Ejemplo 2\n",
    "c = np.full((4,4), 4)\n",
    "d = np.eye(4, 4, dtype='bool')\n",
    "\n",
    "c[d] = 9\n",
    "\n",
    "print(np.hstack((c, np.ones((4,2)))))\n",
    "\n",
    "#Ejemplo 3\n",
    "c = np.zeros((6,6))\n",
    "\n",
    "lista_ref = [8, 9, 5, 3, 1, 0, 2, 4, 5, 6, 9]\n",
    "#            0, 1, 2, 3, 4, 5, 6, 7, 8, 9, 10\n",
    "#            -5, -4, -3, -2, -1, 0, 1, 2, 3, 4, 5\n",
    "\n",
    "for i in range(-5, 6):\n",
    "  mascara = np.eye(6, 6, i, dtype='bool')\n",
    "  c[mascara] = lista_ref[i + 5]\n",
    "\n",
    "print(c)\n",
    "\n",
    "# Ejemplo 4\n",
    "res = (c[:,[1,3,4]])[[0,1,-1,-2],:]\n",
    "print(res)\n"
   ]
  },
  {
   "cell_type": "markdown",
   "metadata": {
    "colab_type": "text",
    "id": "ReadzcK-Be8R"
   },
   "source": [
    "**Misceláneo**"
   ]
  },
  {
   "cell_type": "code",
   "execution_count": 22,
   "metadata": {
    "colab": {
     "base_uri": "https://localhost:8080/",
     "height": 199
    },
    "colab_type": "code",
    "executionInfo": {
     "elapsed": 706,
     "status": "error",
     "timestamp": 1594658019160,
     "user": {
      "displayName": "Carlos Bienvenido Ogando Montás",
      "photoUrl": "https://lh3.googleusercontent.com/a-/AOh14GiBvHyi5qhJa5gIiMfL_Ie_pqFzn36n5ZyH2GW7=s64",
      "userId": "10505299496410393010"
     },
     "user_tz": 240
    },
    "id": "g7I3MARlBjyu",
    "outputId": "b7b84198-e241-4086-9db2-a76b43653309"
   },
   "outputs": [],
   "source": [
    "# OJO al copiar arrays, se debe usar \".copy()\"\n",
    "m_a = np.array([[1, 2, 3],[4, 5, 6]])\n",
    "m_b = m_a.copy()"
   ]
  }
 ],
 "metadata": {
  "colab": {
   "authorship_tag": "ABX9TyNMz4uIeC25NdAamNVgyeRw",
   "name": "NumPy (Tarde)",
   "provenance": []
  },
  "kernelspec": {
   "display_name": "sandbox",
   "language": "python",
   "name": "python3"
  },
  "language_info": {
   "codemirror_mode": {
    "name": "ipython",
    "version": 3
   },
   "file_extension": ".py",
   "mimetype": "text/x-python",
   "name": "python",
   "nbconvert_exporter": "python",
   "pygments_lexer": "ipython3",
   "version": "3.11.7"
  }
 },
 "nbformat": 4,
 "nbformat_minor": 0
}
