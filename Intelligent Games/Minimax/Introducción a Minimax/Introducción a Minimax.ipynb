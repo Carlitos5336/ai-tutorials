{
 "cells": [
  {
   "cell_type": "code",
   "execution_count": 6,
   "metadata": {
    "id": "URVhLabqCGeL"
   },
   "outputs": [],
   "source": [
    "class Node:\n",
    "\n",
    "  def __init__(self, name, value=None):\n",
    "    self.name = name\n",
    "    self.value = value\n",
    "\n",
    "  def is_terminal(self):\n",
    "    pass\n",
    "\n",
    "  def evaluate(self):\n",
    "    pass\n",
    "\n",
    "  def children(self):\n",
    "    pass"
   ]
  },
  {
   "cell_type": "code",
   "execution_count": 7,
   "metadata": {
    "id": "SHI_zC81BqxE"
   },
   "outputs": [],
   "source": [
    "class Graph:\n",
    "\n",
    "  def __init__(self):\n",
    "    self.adjacency_list = {}\n",
    "    self.nodes = {}\n",
    "\n",
    "  def add_node(self, node: Node):\n",
    "    self.nodes[node.name] = node\n",
    "    self.adjacency_list[node.name] = []\n",
    "\n",
    "  def set_value_of_node(self, node: str, value: int):\n",
    "    self.nodes[node].value = value\n",
    "\n",
    "  def add_edge(self, node_a: str, node_b: str, directed=False):\n",
    "    if node_a not in self.nodes: self.add_node(Node(node_a))\n",
    "    if node_b not in self.nodes: self.add_node(Node(node_b))\n",
    "    self.adjacency_list[node_a].append(node_b)\n",
    "    if not directed: self.adjacency_list[node_b].append(node_a)\n",
    "\n",
    "  def get_neighbors(self, node: str, as_instance=False):\n",
    "    if as_instance:\n",
    "      return [self.nodes[node_name] for node_name in self.adjacency_list[node]]\n",
    "    else:\n",
    "      return self.adjacency_list[node]\n",
    "\n",
    "  def is_terminal(self, node: str):\n",
    "    return len(self.adjacency_list[node]) == 0\n",
    "\n",
    "  def evaluate(self, node: str):\n",
    "    return self.nodes[node].value\n",
    "\n",
    "  @staticmethod\n",
    "  def from_txt(path, directed=False):\n",
    "    g = Graph()\n",
    "    with open(path, \"r\") as f:\n",
    "      for line in f.readlines():\n",
    "        node_a, node_b = line.split()\n",
    "        if node_b.lstrip('-').isnumeric(): g.set_value_of_node(node_a, int(node_b))\n",
    "        else: g.add_edge(node_a, node_b, directed=directed)\n",
    "    return g\n"
   ]
  },
  {
   "cell_type": "code",
   "execution_count": 8,
   "metadata": {
    "id": "NB-Je0mbEYYS"
   },
   "outputs": [],
   "source": [
    "import math\n",
    "\n",
    "class MinimaxSolver():\n",
    "\n",
    "  def __init__(self, g):\n",
    "    self.g = g\n",
    "\n",
    "  def solve(self, state: str) -> str:\n",
    "\n",
    "    child, minimax_value = self.maximize(state, -math.inf, math.inf)\n",
    "\n",
    "    return child, minimax_value\n",
    "\n",
    "  def maximize(self, state: str, alpha: float, beta: float) -> tuple:\n",
    "\n",
    "    if self.g.is_terminal(state):\n",
    "      return (None, self.g.evaluate(state))\n",
    "\n",
    "    max_child, max_utility = None, -math.inf\n",
    "\n",
    "    for children in self.g.get_neighbors(state):\n",
    "\n",
    "      __, utility = self.minimize(children, alpha, beta)\n",
    "\n",
    "      if utility > max_utility:\n",
    "        max_child, max_utility = children, utility\n",
    "\n",
    "      print(children, utility)\n",
    "\n",
    "      if max_utility >= beta:\n",
    "        print(\"PODADO!\")\n",
    "        break\n",
    "\n",
    "      alpha = max(alpha, max_utility)\n",
    "\n",
    "      print(state, \"alpha:\", alpha)\n",
    "\n",
    "    return (max_child, max_utility)\n",
    "\n",
    "  def minimize(self, state: str, alpha: float, beta: float) -> tuple:\n",
    "\n",
    "    if self.g.is_terminal(state):\n",
    "      return (None, self.g.evaluate(state))\n",
    "\n",
    "    min_child, min_utility = None, math.inf\n",
    "\n",
    "    for children in self.g.get_neighbors(state):\n",
    "\n",
    "      __, utility = self.maximize(children, alpha, beta)\n",
    "\n",
    "      if utility < min_utility:\n",
    "        min_child, min_utility = children, utility\n",
    "\n",
    "      print(children, utility)\n",
    "\n",
    "      if min_utility <= alpha:\n",
    "        print(\"PODADO!\")\n",
    "        break\n",
    "\n",
    "      beta = min(beta, min_utility)\n",
    "\n",
    "      print(state, \"beta:\", beta)\n",
    "\n",
    "    return (min_child, min_utility)"
   ]
  },
  {
   "cell_type": "code",
   "execution_count": 9,
   "metadata": {
    "colab": {
     "base_uri": "https://localhost:8080/"
    },
    "executionInfo": {
     "elapsed": 3,
     "status": "ok",
     "timestamp": 1695864267304,
     "user": {
      "displayName": "Carlos Bienvenido Ogando Montás (Carlitos5336)",
      "userId": "10505299496410393010"
     },
     "user_tz": 240
    },
    "id": "Dd7bvgUeCxc_",
    "outputId": "ae403d12-a572-4086-f557-89462d7d1387"
   },
   "outputs": [
    {
     "data": {
      "text/plain": [
       "{'A': ['B', 'C', 'D'],\n",
       " 'B': ['E', 'F', 'G'],\n",
       " 'C': ['H', 'I', 'J'],\n",
       " 'D': ['K', 'L', 'M'],\n",
       " 'E': ['N', 'Ñ'],\n",
       " 'F': ['O', 'P'],\n",
       " 'G': ['Q', 'R'],\n",
       " 'H': ['S'],\n",
       " 'I': ['T', 'U'],\n",
       " 'J': ['V'],\n",
       " 'K': ['W', 'X'],\n",
       " 'L': ['Y', 'Z'],\n",
       " 'M': ['AA', 'BB'],\n",
       " 'N': [],\n",
       " 'Ñ': [],\n",
       " 'O': [],\n",
       " 'P': [],\n",
       " 'Q': [],\n",
       " 'R': [],\n",
       " 'S': [],\n",
       " 'T': [],\n",
       " 'U': [],\n",
       " 'V': [],\n",
       " 'W': [],\n",
       " 'X': [],\n",
       " 'Y': [],\n",
       " 'Z': [],\n",
       " 'AA': [],\n",
       " 'BB': [],\n",
       " 'AB': ['BA'],\n",
       " 'BA': []}"
      ]
     },
     "execution_count": 9,
     "metadata": {},
     "output_type": "execute_result"
    }
   ],
   "source": [
    "g = Graph.from_txt(\"graph1.txt\", directed=True)\n",
    "g.adjacency_list"
   ]
  },
  {
   "cell_type": "code",
   "execution_count": 10,
   "metadata": {
    "colab": {
     "base_uri": "https://localhost:8080/"
    },
    "executionInfo": {
     "elapsed": 3,
     "status": "ok",
     "timestamp": 1695864267305,
     "user": {
      "displayName": "Carlos Bienvenido Ogando Montás (Carlitos5336)",
      "userId": "10505299496410393010"
     },
     "user_tz": 240
    },
    "id": "AgGFbadLRcOc",
    "outputId": "36ed73ee-70b0-4324-fc82-7d556b9a5151"
   },
   "outputs": [
    {
     "name": "stdout",
     "output_type": "stream",
     "text": [
      "N 31\n",
      "E alpha: 31\n",
      "Ñ -6\n",
      "E alpha: 31\n",
      "E 31\n",
      "B beta: 31\n",
      "O 23\n",
      "F alpha: 23\n",
      "P -11\n",
      "F alpha: 23\n",
      "F 23\n",
      "B beta: 23\n",
      "Q 9\n",
      "G alpha: 9\n",
      "R -25\n",
      "G alpha: 9\n",
      "G 9\n",
      "B beta: 9\n",
      "B 9\n",
      "A alpha: 9\n",
      "S 2\n",
      "H alpha: 9\n",
      "H 2\n",
      "PODADO!\n",
      "C 2\n",
      "A alpha: 9\n",
      "W 28\n",
      "K alpha: 28\n",
      "X -1\n",
      "K alpha: 28\n",
      "K 28\n",
      "D beta: 28\n",
      "Y 13\n",
      "L alpha: 13\n",
      "Z -19\n",
      "L alpha: 13\n",
      "L 13\n",
      "D beta: 13\n",
      "AA 7\n",
      "M alpha: 9\n",
      "BB -4\n",
      "M alpha: 9\n",
      "M 7\n",
      "PODADO!\n",
      "D 7\n",
      "A alpha: 9\n"
     ]
    },
    {
     "data": {
      "text/plain": [
       "('B', 9)"
      ]
     },
     "execution_count": 10,
     "metadata": {},
     "output_type": "execute_result"
    }
   ],
   "source": [
    "solver = MinimaxSolver(g)\n",
    "solver.solve(\"A\")"
   ]
  }
 ],
 "metadata": {
  "colab": {
   "authorship_tag": "ABX9TyNhARtV59xI+lYU8cOO9fB0",
   "provenance": []
  },
  "kernelspec": {
   "display_name": "sandbox",
   "language": "python",
   "name": "python3"
  },
  "language_info": {
   "codemirror_mode": {
    "name": "ipython",
    "version": 3
   },
   "file_extension": ".py",
   "mimetype": "text/x-python",
   "name": "python",
   "nbconvert_exporter": "python",
   "pygments_lexer": "ipython3",
   "version": "3.11.7"
  }
 },
 "nbformat": 4,
 "nbformat_minor": 0
}
